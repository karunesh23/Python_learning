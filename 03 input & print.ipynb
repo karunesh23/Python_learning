{
 "cells": [
  {
   "cell_type": "code",
   "execution_count": 1,
   "id": "06153c78-f9f2-4d43-a1c2-026d2347fd2a",
   "metadata": {},
   "outputs": [
    {
     "data": {
      "text/plain": [
       "4"
      ]
     },
     "execution_count": 1,
     "metadata": {},
     "output_type": "execute_result"
    }
   ],
   "source": [
    "len(\"kanu\")"
   ]
  },
  {
   "cell_type": "code",
   "execution_count": 2,
   "id": "3fcfc3cb-58b9-4ddf-a896-ac92fa832f0e",
   "metadata": {},
   "outputs": [
    {
     "name": "stdout",
     "output_type": "stream",
     "text": [
      "5\n"
     ]
    }
   ],
   "source": [
    "print(5)"
   ]
  },
  {
   "cell_type": "raw",
   "id": "c212e8a8-1ec1-45af-9014-4c040b1aac49",
   "metadata": {},
   "source": [
    "print(\"kanu\")"
   ]
  },
  {
   "cell_type": "code",
   "execution_count": 4,
   "id": "aeda3af3-8dd7-4351-95d4-6c40482aeecd",
   "metadata": {},
   "outputs": [
    {
     "data": {
      "text/plain": [
       "'kanu'"
      ]
     },
     "execution_count": 4,
     "metadata": {},
     "output_type": "execute_result"
    }
   ],
   "source": [
    "\"kanu\""
   ]
  },
  {
   "cell_type": "code",
   "execution_count": 5,
   "id": "91152387-ac8b-44c0-9461-ccd64c3998f0",
   "metadata": {},
   "outputs": [],
   "source": [
    "a = 5\n",
    "b= 6\n"
   ]
  },
  {
   "cell_type": "code",
   "execution_count": 6,
   "id": "e9d1b566-9b6f-4499-bc80-b7e767356c91",
   "metadata": {},
   "outputs": [
    {
     "data": {
      "text/plain": [
       "5"
      ]
     },
     "execution_count": 6,
     "metadata": {},
     "output_type": "execute_result"
    }
   ],
   "source": [
    "a"
   ]
  },
  {
   "cell_type": "code",
   "execution_count": 7,
   "id": "9e66f2ff-1e59-4524-9572-629fc4c379d2",
   "metadata": {},
   "outputs": [
    {
     "data": {
      "text/plain": [
       "6"
      ]
     },
     "execution_count": 7,
     "metadata": {},
     "output_type": "execute_result"
    }
   ],
   "source": [
    "b"
   ]
  },
  {
   "cell_type": "code",
   "execution_count": 8,
   "id": "50d6bae7-4b81-4c05-9a42-1c51efbfd1de",
   "metadata": {},
   "outputs": [
    {
     "data": {
      "text/plain": [
       "6"
      ]
     },
     "execution_count": 8,
     "metadata": {},
     "output_type": "execute_result"
    }
   ],
   "source": [
    "a\n",
    "b"
   ]
  },
  {
   "cell_type": "code",
   "execution_count": 9,
   "id": "0733b48d-0208-4872-b564-8efd9618e4d5",
   "metadata": {},
   "outputs": [
    {
     "name": "stdout",
     "output_type": "stream",
     "text": [
      "5\n",
      "6\n"
     ]
    }
   ],
   "source": [
    "print(a)\n",
    "print(b)"
   ]
  },
  {
   "cell_type": "code",
   "execution_count": 10,
   "id": "74b465e6-acc6-4c35-819e-9a6cc869e98b",
   "metadata": {},
   "outputs": [
    {
     "name": "stdout",
     "output_type": "stream",
     "text": [
      "5\n"
     ]
    }
   ],
   "source": [
    "a = print(5)"
   ]
  },
  {
   "cell_type": "code",
   "execution_count": 11,
   "id": "24004c66-19dd-4a67-853a-34c9094ee07b",
   "metadata": {},
   "outputs": [],
   "source": [
    "a"
   ]
  },
  {
   "cell_type": "code",
   "execution_count": 12,
   "id": "027a6efb-048c-40df-8239-6a9d63b6bd2d",
   "metadata": {},
   "outputs": [
    {
     "name": "stdout",
     "output_type": "stream",
     "text": [
      "None\n"
     ]
    }
   ],
   "source": [
    "print(a)"
   ]
  },
  {
   "cell_type": "code",
   "execution_count": 13,
   "id": "b923d022-e1b9-4b39-b56a-b13f64e4a52b",
   "metadata": {},
   "outputs": [
    {
     "data": {
      "text/plain": [
       "NoneType"
      ]
     },
     "execution_count": 13,
     "metadata": {},
     "output_type": "execute_result"
    }
   ],
   "source": [
    "type(a)"
   ]
  },
  {
   "cell_type": "code",
   "execution_count": 14,
   "id": "37876d1a-67d9-4843-b805-ba3b87d6cb99",
   "metadata": {},
   "outputs": [
    {
     "name": "stdout",
     "output_type": "stream",
     "text": [
      "5\n"
     ]
    }
   ],
   "source": [
    "print(5)"
   ]
  },
  {
   "cell_type": "code",
   "execution_count": 15,
   "id": "7f0e3197-1b06-45db-8661-311d3aece8f6",
   "metadata": {},
   "outputs": [
    {
     "data": {
      "text/plain": [
       "int"
      ]
     },
     "execution_count": 15,
     "metadata": {},
     "output_type": "execute_result"
    }
   ],
   "source": [
    "type(5)"
   ]
  },
  {
   "cell_type": "code",
   "execution_count": 16,
   "id": "62e159ee-b4df-4b95-81db-9a23fe45533c",
   "metadata": {},
   "outputs": [
    {
     "data": {
      "text/plain": [
       "4"
      ]
     },
     "execution_count": 16,
     "metadata": {},
     "output_type": "execute_result"
    }
   ],
   "source": [
    "len(\"kanu\")"
   ]
  },
  {
   "cell_type": "markdown",
   "id": "499bb7b6-6877-412d-a718-27f109f10eda",
   "metadata": {},
   "source": [
    "# INPUT\n",
    "\n"
   ]
  },
  {
   "cell_type": "code",
   "execution_count": 19,
   "id": "ee18b467-7cc9-4798-b531-bffaa5e52752",
   "metadata": {},
   "outputs": [
    {
     "data": {
      "text/plain": [
       "'kanu'"
      ]
     },
     "execution_count": 19,
     "metadata": {},
     "output_type": "execute_result"
    }
   ],
   "source": [
    "name"
   ]
  },
  {
   "cell_type": "code",
   "execution_count": 20,
   "id": "1a08373a-7fe7-4e11-9285-31621b14ee6f",
   "metadata": {},
   "outputs": [
    {
     "name": "stdin",
     "output_type": "stream",
     "text": [
      "enter your name kanu\n"
     ]
    }
   ],
   "source": [
    "name = input(\"enter your name\")\n"
   ]
  },
  {
   "cell_type": "code",
   "execution_count": 21,
   "id": "723e09a0-32f0-47f6-bc80-c542ad111b30",
   "metadata": {},
   "outputs": [
    {
     "data": {
      "text/plain": [
       "'kanu'"
      ]
     },
     "execution_count": 21,
     "metadata": {},
     "output_type": "execute_result"
    }
   ],
   "source": [
    "name"
   ]
  },
  {
   "cell_type": "code",
   "execution_count": 22,
   "id": "dfb0e144-6173-48ab-931e-694a56486181",
   "metadata": {},
   "outputs": [
    {
     "name": "stdin",
     "output_type": "stream",
     "text": [
      "enter your age 15\n"
     ]
    }
   ],
   "source": [
    "age = input(\"enter your age\")"
   ]
  },
  {
   "cell_type": "code",
   "execution_count": 23,
   "id": "8e634ee7-d19e-431b-8977-b4f90966ada7",
   "metadata": {},
   "outputs": [
    {
     "data": {
      "text/plain": [
       "'15'"
      ]
     },
     "execution_count": 23,
     "metadata": {},
     "output_type": "execute_result"
    }
   ],
   "source": [
    "age"
   ]
  },
  {
   "cell_type": "code",
   "execution_count": 24,
   "id": "34a10a31-b04d-4959-8d89-c8a4fc81d3bd",
   "metadata": {},
   "outputs": [
    {
     "data": {
      "text/plain": [
       "str"
      ]
     },
     "execution_count": 24,
     "metadata": {},
     "output_type": "execute_result"
    }
   ],
   "source": [
    "type(age)"
   ]
  },
  {
   "cell_type": "code",
   "execution_count": 25,
   "id": "19fe9a48-2957-4e1f-9b48-6a410bb840cb",
   "metadata": {},
   "outputs": [
    {
     "data": {
      "text/plain": [
       "15"
      ]
     },
     "execution_count": 25,
     "metadata": {},
     "output_type": "execute_result"
    }
   ],
   "source": [
    "#type casting\n",
    "int(age)"
   ]
  },
  {
   "cell_type": "code",
   "execution_count": 26,
   "id": "6883204e-ce53-4bab-919a-46f7e49e91bb",
   "metadata": {},
   "outputs": [
    {
     "data": {
      "text/plain": [
       "'15'"
      ]
     },
     "execution_count": 26,
     "metadata": {},
     "output_type": "execute_result"
    }
   ],
   "source": [
    "age"
   ]
  },
  {
   "cell_type": "code",
   "execution_count": 28,
   "id": "da708694-4b2d-4739-bdec-aa7a93ebcd96",
   "metadata": {},
   "outputs": [],
   "source": [
    "age = int(age)"
   ]
  },
  {
   "cell_type": "code",
   "execution_count": 29,
   "id": "a91a8bb0-ba62-4f24-a8d5-c51c7f7285e0",
   "metadata": {},
   "outputs": [
    {
     "data": {
      "text/plain": [
       "15"
      ]
     },
     "execution_count": 29,
     "metadata": {},
     "output_type": "execute_result"
    }
   ],
   "source": [
    "age"
   ]
  },
  {
   "cell_type": "code",
   "execution_count": 31,
   "id": "2f0d4521-bb1d-40cf-adef-d522561af6d0",
   "metadata": {},
   "outputs": [
    {
     "ename": "SyntaxError",
     "evalue": "invalid syntax (2810290159.py, line 1)",
     "output_type": "error",
     "traceback": [
      "\u001b[1;36m  Cell \u001b[1;32mIn[31], line 1\u001b[1;36m\u001b[0m\n\u001b[1;33m    int age= input(\"enter your age\")\u001b[0m\n\u001b[1;37m        ^\u001b[0m\n\u001b[1;31mSyntaxError\u001b[0m\u001b[1;31m:\u001b[0m invalid syntax\n"
     ]
    }
   ],
   "source": [
    "int age= input(\"enter your age\")"
   ]
  },
  {
   "cell_type": "code",
   "execution_count": 32,
   "id": "86617ca1-14ca-4b44-b9a9-783c35396f41",
   "metadata": {},
   "outputs": [
    {
     "name": "stdin",
     "output_type": "stream",
     "text": [
      " kanu\n"
     ]
    },
    {
     "ename": "ValueError",
     "evalue": "invalid literal for int() with base 10: 'kanu'",
     "output_type": "error",
     "traceback": [
      "\u001b[1;31m---------------------------------------------------------------------------\u001b[0m",
      "\u001b[1;31mValueError\u001b[0m                                Traceback (most recent call last)",
      "Cell \u001b[1;32mIn[32], line 2\u001b[0m\n\u001b[0;32m      1\u001b[0m age \u001b[38;5;241m=\u001b[39m \u001b[38;5;28minput\u001b[39m()\n\u001b[1;32m----> 2\u001b[0m age \u001b[38;5;241m=\u001b[39m \u001b[38;5;28mint\u001b[39m(age)\n\u001b[0;32m      3\u001b[0m age\n",
      "\u001b[1;31mValueError\u001b[0m: invalid literal for int() with base 10: 'kanu'"
     ]
    }
   ],
   "source": [
    "age = input()\n",
    "age = int(age)\n",
    "age"
   ]
  },
  {
   "cell_type": "code",
   "execution_count": 33,
   "id": "12116e2e-5cbe-4db7-bc91-cda12de9e14a",
   "metadata": {},
   "outputs": [
    {
     "name": "stdin",
     "output_type": "stream",
     "text": [
      " 15\n"
     ]
    },
    {
     "data": {
      "text/plain": [
       "15"
      ]
     },
     "execution_count": 33,
     "metadata": {},
     "output_type": "execute_result"
    }
   ],
   "source": [
    "age = input()\n",
    "age = int(age)\n",
    "age"
   ]
  },
  {
   "cell_type": "code",
   "execution_count": 34,
   "id": "7c117037-cbe9-4974-b90a-c735147e9dd6",
   "metadata": {},
   "outputs": [
    {
     "name": "stdin",
     "output_type": "stream",
     "text": [
      " hello nice to meet you\n"
     ]
    }
   ],
   "source": [
    "name = input()\n",
    "l = len(name)//2\n",
    "new = name[:l] + name[l:][::-1]"
   ]
  },
  {
   "cell_type": "code",
   "execution_count": 35,
   "id": "cd541ea0-8c7d-4ea5-b296-74d59e36a372",
   "metadata": {},
   "outputs": [
    {
     "data": {
      "text/plain": [
       "'hello nice uoy teem ot'"
      ]
     },
     "execution_count": 35,
     "metadata": {},
     "output_type": "execute_result"
    }
   ],
   "source": [
    "new"
   ]
  },
  {
   "cell_type": "markdown",
   "id": "8787b679-2072-4376-839f-3219ee4f65b8",
   "metadata": {},
   "source": [
    "# type casting\n"
   ]
  },
  {
   "cell_type": "code",
   "execution_count": 1,
   "id": "f860f8f5-eab9-4617-9315-58a39afb980b",
   "metadata": {},
   "outputs": [
    {
     "data": {
      "text/plain": [
       "'50.6'"
      ]
     },
     "execution_count": 1,
     "metadata": {},
     "output_type": "execute_result"
    }
   ],
   "source": [
    "str(50.6)"
   ]
  },
  {
   "cell_type": "code",
   "execution_count": 2,
   "id": "502adf0d-e86e-476d-9606-358ad913acbe",
   "metadata": {},
   "outputs": [
    {
     "data": {
      "text/plain": [
       "50"
      ]
     },
     "execution_count": 2,
     "metadata": {},
     "output_type": "execute_result"
    }
   ],
   "source": [
    "int(50.6)"
   ]
  },
  {
   "cell_type": "code",
   "execution_count": 3,
   "id": "9c2efdef-db4c-4c3b-8065-48f259bc00a5",
   "metadata": {},
   "outputs": [
    {
     "ename": "ValueError",
     "evalue": "invalid literal for int() with base 10: '50.6'",
     "output_type": "error",
     "traceback": [
      "\u001b[1;31m---------------------------------------------------------------------------\u001b[0m",
      "\u001b[1;31mValueError\u001b[0m                                Traceback (most recent call last)",
      "Cell \u001b[1;32mIn[3], line 1\u001b[0m\n\u001b[1;32m----> 1\u001b[0m \u001b[38;5;28mint\u001b[39m(\u001b[38;5;124m\"\u001b[39m\u001b[38;5;124m50.6\u001b[39m\u001b[38;5;124m\"\u001b[39m)\n",
      "\u001b[1;31mValueError\u001b[0m: invalid literal for int() with base 10: '50.6'"
     ]
    }
   ],
   "source": [
    "int(\"50.6\")"
   ]
  },
  {
   "cell_type": "code",
   "execution_count": 4,
   "id": "f36656f8-1da6-48f3-a648-a856fd44d4fb",
   "metadata": {},
   "outputs": [
    {
     "data": {
      "text/plain": [
       "50"
      ]
     },
     "execution_count": 4,
     "metadata": {},
     "output_type": "execute_result"
    }
   ],
   "source": [
    "int(float(\"50.6\"))"
   ]
  },
  {
   "cell_type": "markdown",
   "id": "8028dc4d-3577-4241-9b44-5cad0a175f51",
   "metadata": {},
   "source": [
    "# PRINT"
   ]
  },
  {
   "cell_type": "code",
   "execution_count": 5,
   "id": "c8ee650d-5974-48fc-a2b1-6b74a9a8a951",
   "metadata": {},
   "outputs": [
    {
     "name": "stdout",
     "output_type": "stream",
     "text": [
      "5\n"
     ]
    }
   ],
   "source": [
    "print(5)"
   ]
  },
  {
   "cell_type": "code",
   "execution_count": 6,
   "id": "5ed6bdd2-e95a-4ef5-83f3-0616c26ff342",
   "metadata": {},
   "outputs": [
    {
     "name": "stdout",
     "output_type": "stream",
     "text": [
      "5\n"
     ]
    }
   ],
   "source": [
    "# no return\n",
    "a = print(5)"
   ]
  },
  {
   "cell_type": "code",
   "execution_count": 7,
   "id": "1c7de088-d542-4fae-8886-c0bec49d796a",
   "metadata": {},
   "outputs": [],
   "source": [
    "#value not store\n",
    "a"
   ]
  },
  {
   "cell_type": "code",
   "execution_count": 8,
   "id": "f05e02b6-8374-4b47-84ed-bd70b66250a0",
   "metadata": {},
   "outputs": [
    {
     "data": {
      "text/plain": [
       "NoneType"
      ]
     },
     "execution_count": 8,
     "metadata": {},
     "output_type": "execute_result"
    }
   ],
   "source": [
    "type(a)"
   ]
  },
  {
   "cell_type": "code",
   "execution_count": 9,
   "id": "a127cb5a-da22-41ce-b40c-cceb663368e0",
   "metadata": {},
   "outputs": [
    {
     "name": "stdout",
     "output_type": "stream",
     "text": [
      "None\n"
     ]
    }
   ],
   "source": [
    "#none ki koi return statement nhi hoti\n",
    "print(a)"
   ]
  },
  {
   "cell_type": "code",
   "execution_count": 10,
   "id": "fade9f7e-659a-43b4-8cba-3ea5437ecee2",
   "metadata": {},
   "outputs": [
    {
     "ename": "NameError",
     "evalue": "name 'none' is not defined",
     "output_type": "error",
     "traceback": [
      "\u001b[1;31m---------------------------------------------------------------------------\u001b[0m",
      "\u001b[1;31mNameError\u001b[0m                                 Traceback (most recent call last)",
      "Cell \u001b[1;32mIn[10], line 1\u001b[0m\n\u001b[1;32m----> 1\u001b[0m none\n",
      "\u001b[1;31mNameError\u001b[0m: name 'none' is not defined"
     ]
    }
   ],
   "source": []
  },
  {
   "cell_type": "code",
   "execution_count": 12,
   "id": "098d3d66-6472-4ea0-995a-eca40cf8bd22",
   "metadata": {},
   "outputs": [],
   "source": [
    "a = None"
   ]
  },
  {
   "cell_type": "code",
   "execution_count": 13,
   "id": "58fd74dc-491e-4598-9ece-772274eae50b",
   "metadata": {},
   "outputs": [],
   "source": [
    "a"
   ]
  },
  {
   "cell_type": "code",
   "execution_count": 16,
   "id": "a4791f26-0bad-4b47-945b-f5d5c1396f1b",
   "metadata": {},
   "outputs": [
    {
     "name": "stdout",
     "output_type": "stream",
     "text": [
      "5 3 KANU bansal\n"
     ]
    }
   ],
   "source": [
    "#by default sep\n",
    "print(5,3, \"KANU\", \"bansal\")"
   ]
  },
  {
   "cell_type": "code",
   "execution_count": 17,
   "id": "dc1f0fa2-fa2e-4f28-9e34-dbdacc8256bc",
   "metadata": {},
   "outputs": [
    {
     "name": "stdout",
     "output_type": "stream",
     "text": [
      "5 3 KANU bansal\n"
     ]
    }
   ],
   "source": [
    "print(5,3, \"KANU\", \"bansal\", sep=\" \")"
   ]
  },
  {
   "cell_type": "code",
   "execution_count": 21,
   "id": "a81e308c-3c18-476f-abcb-eb98234df07f",
   "metadata": {},
   "outputs": [
    {
     "name": "stdout",
     "output_type": "stream",
     "text": [
      "5 * 3 * KANU * bansal\n"
     ]
    }
   ],
   "source": [
    "#seperator\n",
    "print(5,3, \"KANU\", \"bansal\", sep=\" * \")"
   ]
  },
  {
   "cell_type": "code",
   "execution_count": 24,
   "id": "1a613b90-01a1-40ac-838c-361c5ba95680",
   "metadata": {},
   "outputs": [
    {
     "name": "stdout",
     "output_type": "stream",
     "text": [
      "50 50 60 * 30 - 40\n"
     ]
    }
   ],
   "source": [
    "#default enter statement used\n",
    "print(50,50,60, end=\" * \")\n",
    "print(30, end =\" - \")\n",
    "print(40)"
   ]
  },
  {
   "cell_type": "code",
   "execution_count": 25,
   "id": "465315f5-7723-4a9c-abf9-169ca39d95f6",
   "metadata": {},
   "outputs": [
    {
     "data": {
      "text/plain": [
       "'hii\\nhelo'"
      ]
     },
     "execution_count": 25,
     "metadata": {},
     "output_type": "execute_result"
    }
   ],
   "source": [
    "\"\"\"hii\n",
    "helo\"\"\""
   ]
  },
  {
   "cell_type": "code",
   "execution_count": 26,
   "id": "8ac8a352-ffd7-4e54-b546-fff65e65c1d7",
   "metadata": {},
   "outputs": [
    {
     "name": "stdout",
     "output_type": "stream",
     "text": [
      "kkk 5000\n"
     ]
    }
   ],
   "source": [
    "print(\"kkk\",5000)"
   ]
  },
  {
   "cell_type": "code",
   "execution_count": 27,
   "id": "3959168b-c32f-412b-8a54-e7d8dcf258f9",
   "metadata": {},
   "outputs": [],
   "source": [
    "name = \"tttt\""
   ]
  },
  {
   "cell_type": "code",
   "execution_count": 28,
   "id": "8a1cfa81-47a2-4bb7-9b44-05670d602784",
   "metadata": {},
   "outputs": [],
   "source": [
    "age = 50"
   ]
  },
  {
   "cell_type": "code",
   "execution_count": 29,
   "id": "8b258f09-62f9-4917-9280-b38fab16cca5",
   "metadata": {},
   "outputs": [
    {
     "data": {
      "text/plain": [
       "'tttt 50'"
      ]
     },
     "execution_count": 29,
     "metadata": {},
     "output_type": "execute_result"
    }
   ],
   "source": [
    "f'{name} {age}'"
   ]
  },
  {
   "cell_type": "code",
   "execution_count": 35,
   "id": "58082048-0adb-4b19-b542-33616290c995",
   "metadata": {},
   "outputs": [
    {
     "name": "stdout",
     "output_type": "stream",
     "text": [
      "tttt      50\n"
     ]
    }
   ],
   "source": [
    "print(f'{name}      {age}')"
   ]
  },
  {
   "cell_type": "code",
   "execution_count": 31,
   "id": "097196ce-a7b4-4dfe-957d-3aca7be80c8f",
   "metadata": {},
   "outputs": [],
   "source": [
    "#if we want to given space between"
   ]
  },
  {
   "cell_type": "code",
   "execution_count": 33,
   "id": "28df12c8-21c5-43f4-9a00-e11e6c4d0023",
   "metadata": {},
   "outputs": [
    {
     "name": "stdout",
     "output_type": "stream",
     "text": [
      "tttt     50\n"
     ]
    }
   ],
   "source": [
    "print(name, age, sep = \"     \")"
   ]
  },
  {
   "cell_type": "code",
   "execution_count": 34,
   "id": "e53f0d0b-891c-4e37-bc4f-87c56e1ed5b7",
   "metadata": {},
   "outputs": [
    {
     "data": {
      "text/plain": [
       "'zzzzzzzzzz'"
      ]
     },
     "execution_count": 34,
     "metadata": {},
     "output_type": "execute_result"
    }
   ],
   "source": [
    "\"z\"*10"
   ]
  },
  {
   "cell_type": "code",
   "execution_count": 36,
   "id": "5c5ec06b-8a4a-46f0-9cc9-00f480bf25a7",
   "metadata": {},
   "outputs": [
    {
     "data": {
      "text/plain": [
       "'aknu'"
      ]
     },
     "execution_count": 36,
     "metadata": {},
     "output_type": "execute_result"
    }
   ],
   "source": [
    "'aknu'"
   ]
  },
  {
   "cell_type": "code",
   "execution_count": 37,
   "id": "32686869-88b3-4303-b858-7cadd4f233a9",
   "metadata": {},
   "outputs": [
    {
     "data": {
      "text/plain": [
       "'kanu'"
      ]
     },
     "execution_count": 37,
     "metadata": {},
     "output_type": "execute_result"
    }
   ],
   "source": [
    "\"kanu\""
   ]
  },
  {
   "cell_type": "code",
   "execution_count": 38,
   "id": "a302dcc8-62f5-451d-8db1-f28332b2a40d",
   "metadata": {},
   "outputs": [
    {
     "data": {
      "text/plain": [
       "'hiii \\nhello '"
      ]
     },
     "execution_count": 38,
     "metadata": {},
     "output_type": "execute_result"
    }
   ],
   "source": [
    "#only this allow to enter data\n",
    "\"\"\"hiii \n",
    "hello \"\"\""
   ]
  },
  {
   "cell_type": "code",
   "execution_count": 39,
   "id": "ed23df8a-de15-40b5-bf8a-40f07347be9f",
   "metadata": {},
   "outputs": [],
   "source": [
    "#escape character\n",
    "a= \"hello kakkk\\nll\""
   ]
  },
  {
   "cell_type": "code",
   "execution_count": 42,
   "id": "1bfb9606-e105-4e8d-bb74-b5ecc1b26505",
   "metadata": {},
   "outputs": [
    {
     "name": "stdout",
     "output_type": "stream",
     "text": [
      "hello kakkk\n",
      "ll\n"
     ]
    }
   ],
   "source": [
    "print(a)"
   ]
  },
  {
   "cell_type": "code",
   "execution_count": 43,
   "id": "e3a15e2a-2915-497e-8fc8-5a459f934e7e",
   "metadata": {},
   "outputs": [],
   "source": [
    "#escape character\n",
    "a= \"hello kakkk\\tll\""
   ]
  },
  {
   "cell_type": "code",
   "execution_count": 45,
   "id": "0c268fd3-6618-4dc9-a1cd-b0f6214b1e65",
   "metadata": {},
   "outputs": [
    {
     "name": "stdout",
     "output_type": "stream",
     "text": [
      "hello kakkk\tll\n"
     ]
    }
   ],
   "source": [
    "print(a)"
   ]
  },
  {
   "cell_type": "code",
   "execution_count": 46,
   "id": "512f6df1-7814-4654-a181-599f9f02b5b6",
   "metadata": {},
   "outputs": [
    {
     "name": "stdout",
     "output_type": "stream",
     "text": [
      "a\n",
      "\n"
     ]
    }
   ],
   "source": [
    "print('a\\n')"
   ]
  },
  {
   "cell_type": "code",
   "execution_count": 47,
   "id": "2ff6522c-bc7f-45a0-a3b3-fd86d6acdcda",
   "metadata": {},
   "outputs": [
    {
     "name": "stdout",
     "output_type": "stream",
     "text": [
      "a\t\n"
     ]
    }
   ],
   "source": [
    "print('a\\t')"
   ]
  },
  {
   "cell_type": "code",
   "execution_count": 48,
   "id": "46135d0c-df75-4daa-977e-bda374c64f37",
   "metadata": {},
   "outputs": [
    {
     "name": "stdout",
     "output_type": "stream",
     "text": [
      "a\\n\n"
     ]
    }
   ],
   "source": [
    "print('a\\\\n')"
   ]
  },
  {
   "cell_type": "code",
   "execution_count": 50,
   "id": "8875a9ef-1450-44b6-b1f0-0ac180c6a98b",
   "metadata": {},
   "outputs": [
    {
     "name": "stdout",
     "output_type": "stream",
     "text": [
      "a\\t b\n"
     ]
    }
   ],
   "source": [
    "print('a\\\\t b')"
   ]
  },
  {
   "cell_type": "raw",
   "id": "c40007de-80f6-49d8-a4b5-67e49c44e32e",
   "metadata": {},
   "source": [
    "print(\"hello \\r karunesh\")"
   ]
  },
  {
   "cell_type": "code",
   "execution_count": 52,
   "id": "c4979431-14b2-439e-b55c-e1d6e31b4ba0",
   "metadata": {},
   "outputs": [
    {
     "name": "stdout",
     "output_type": "stream",
     "text": [
      "c:\\progaram files\n"
     ]
    }
   ],
   "source": [
    "print(\"c:\\\\progaram files\")"
   ]
  },
  {
   "cell_type": "markdown",
   "id": "e71751d9-9129-40e5-a54c-3631b6069d15",
   "metadata": {},
   "source": [
    "EMOJI UNICODE CHARACTERS"
   ]
  },
  {
   "cell_type": "code",
   "execution_count": 55,
   "id": "a477cfed-2686-4555-a627-da793c7fe0dc",
   "metadata": {},
   "outputs": [
    {
     "ename": "SyntaxError",
     "evalue": "(unicode error) 'unicodeescape' codec can't decode bytes in position 0-1: truncated \\UXXXXXXXX escape (1764164625.py, line 1)",
     "output_type": "error",
     "traceback": [
      "\u001b[1;36m  Cell \u001b[1;32mIn[55], line 1\u001b[1;36m\u001b[0m\n\u001b[1;33m    print(\"\\U+263A\")\u001b[0m\n\u001b[1;37m          ^\u001b[0m\n\u001b[1;31mSyntaxError\u001b[0m\u001b[1;31m:\u001b[0m (unicode error) 'unicodeescape' codec can't decode bytes in position 0-1: truncated \\UXXXXXXXX escape\n"
     ]
    }
   ],
   "source": [
    "print(\"\\U+263A\")"
   ]
  },
  {
   "cell_type": "code",
   "execution_count": 56,
   "id": "700fa4e5-cfb9-4b7e-9860-106bbb998414",
   "metadata": {},
   "outputs": [
    {
     "name": "stdout",
     "output_type": "stream",
     "text": [
      "😀\n"
     ]
    }
   ],
   "source": [
    "print(\"\\U0001F600\")"
   ]
  },
  {
   "cell_type": "code",
   "execution_count": 57,
   "id": "4b2de714-bf19-4c33-87c4-741bf50a491f",
   "metadata": {},
   "outputs": [
    {
     "data": {
      "text/plain": [
       "0"
      ]
     },
     "execution_count": 57,
     "metadata": {},
     "output_type": "execute_result"
    }
   ],
   "source": [
    "# 1 bit\n",
    "0"
   ]
  },
  {
   "cell_type": "code",
   "execution_count": 58,
   "id": "62f9f574-fc17-4306-8850-23d0b77ce39c",
   "metadata": {},
   "outputs": [
    {
     "data": {
      "text/plain": [
       "100010010"
      ]
     },
     "execution_count": 58,
     "metadata": {},
     "output_type": "execute_result"
    }
   ],
   "source": [
    "#byte - 8bit\n",
    "100010010\n"
   ]
  },
  {
   "cell_type": "code",
   "execution_count": 59,
   "id": "57c0e2c2-3120-4b52-8334-ed0175329814",
   "metadata": {},
   "outputs": [
    {
     "ename": "SyntaxError",
     "evalue": "invalid syntax (2991713520.py, line 2)",
     "output_type": "error",
     "traceback": [
      "\u001b[1;36m  Cell \u001b[1;32mIn[59], line 2\u001b[1;36m\u001b[0m\n\u001b[1;33m    1 kb = 1024 bytes\u001b[0m\n\u001b[1;37m      ^\u001b[0m\n\u001b[1;31mSyntaxError\u001b[0m\u001b[1;31m:\u001b[0m invalid syntax\n"
     ]
    }
   ],
   "source": [
    "#kb - killo byte\n",
    "1 kb = 1024 bytes"
   ]
  },
  {
   "cell_type": "code",
   "execution_count": 60,
   "id": "6212823b-a725-4e43-8189-6823fbdaf32a",
   "metadata": {},
   "outputs": [
    {
     "name": "stdout",
     "output_type": "stream",
     "text": [
      "Help on class bytes in module builtins:\n",
      "\n",
      "class bytes(object)\n",
      " |  bytes(iterable_of_ints) -> bytes\n",
      " |  bytes(string, encoding[, errors]) -> bytes\n",
      " |  bytes(bytes_or_buffer) -> immutable copy of bytes_or_buffer\n",
      " |  bytes(int) -> bytes object of size given by the parameter initialized with null bytes\n",
      " |  bytes() -> empty bytes object\n",
      " |\n",
      " |  Construct an immutable array of bytes from:\n",
      " |    - an iterable yielding integers in range(256)\n",
      " |    - a text string encoded using the specified encoding\n",
      " |    - any object implementing the buffer API.\n",
      " |    - an integer\n",
      " |\n",
      " |  Methods defined here:\n",
      " |\n",
      " |  __add__(self, value, /)\n",
      " |      Return self+value.\n",
      " |\n",
      " |  __buffer__(self, flags, /)\n",
      " |      Return a buffer object that exposes the underlying memory of the object.\n",
      " |\n",
      " |  __bytes__(self, /)\n",
      " |      Convert this value to exact type bytes.\n",
      " |\n",
      " |  __contains__(self, key, /)\n",
      " |      Return bool(key in self).\n",
      " |\n",
      " |  __eq__(self, value, /)\n",
      " |      Return self==value.\n",
      " |\n",
      " |  __ge__(self, value, /)\n",
      " |      Return self>=value.\n",
      " |\n",
      " |  __getattribute__(self, name, /)\n",
      " |      Return getattr(self, name).\n",
      " |\n",
      " |  __getitem__(self, key, /)\n",
      " |      Return self[key].\n",
      " |\n",
      " |  __getnewargs__(self, /)\n",
      " |\n",
      " |  __gt__(self, value, /)\n",
      " |      Return self>value.\n",
      " |\n",
      " |  __hash__(self, /)\n",
      " |      Return hash(self).\n",
      " |\n",
      " |  __iter__(self, /)\n",
      " |      Implement iter(self).\n",
      " |\n",
      " |  __le__(self, value, /)\n",
      " |      Return self<=value.\n",
      " |\n",
      " |  __len__(self, /)\n",
      " |      Return len(self).\n",
      " |\n",
      " |  __lt__(self, value, /)\n",
      " |      Return self<value.\n",
      " |\n",
      " |  __mod__(self, value, /)\n",
      " |      Return self%value.\n",
      " |\n",
      " |  __mul__(self, value, /)\n",
      " |      Return self*value.\n",
      " |\n",
      " |  __ne__(self, value, /)\n",
      " |      Return self!=value.\n",
      " |\n",
      " |  __repr__(self, /)\n",
      " |      Return repr(self).\n",
      " |\n",
      " |  __rmod__(self, value, /)\n",
      " |      Return value%self.\n",
      " |\n",
      " |  __rmul__(self, value, /)\n",
      " |      Return value*self.\n",
      " |\n",
      " |  __str__(self, /)\n",
      " |      Return str(self).\n",
      " |\n",
      " |  capitalize(self, /)\n",
      " |      B.capitalize() -> copy of B\n",
      " |\n",
      " |      Return a copy of B with only its first character capitalized (ASCII)\n",
      " |      and the rest lower-cased.\n",
      " |\n",
      " |  center(self, width, fillchar=b' ', /)\n",
      " |      Return a centered string of length width.\n",
      " |\n",
      " |      Padding is done using the specified fill character.\n",
      " |\n",
      " |  count(self, sub[, start[, end]], /)\n",
      " |      Return the number of non-overlapping occurrences of subsection 'sub' in bytes B[start:end].\n",
      " |\n",
      " |      start\n",
      " |        Optional start position. Default: start of the bytes.\n",
      " |      end\n",
      " |        Optional stop position. Default: end of the bytes.\n",
      " |\n",
      " |  decode(self, /, encoding='utf-8', errors='strict')\n",
      " |      Decode the bytes using the codec registered for encoding.\n",
      " |\n",
      " |      encoding\n",
      " |        The encoding with which to decode the bytes.\n",
      " |      errors\n",
      " |        The error handling scheme to use for the handling of decoding errors.\n",
      " |        The default is 'strict' meaning that decoding errors raise a\n",
      " |        UnicodeDecodeError. Other possible values are 'ignore' and 'replace'\n",
      " |        as well as any other name registered with codecs.register_error that\n",
      " |        can handle UnicodeDecodeErrors.\n",
      " |\n",
      " |  endswith(self, suffix[, start[, end]], /)\n",
      " |      Return True if the bytes ends with the specified suffix, False otherwise.\n",
      " |\n",
      " |      suffix\n",
      " |        A bytes or a tuple of bytes to try.\n",
      " |      start\n",
      " |        Optional start position. Default: start of the bytes.\n",
      " |      end\n",
      " |        Optional stop position. Default: end of the bytes.\n",
      " |\n",
      " |  expandtabs(self, /, tabsize=8)\n",
      " |      Return a copy where all tab characters are expanded using spaces.\n",
      " |\n",
      " |      If tabsize is not given, a tab size of 8 characters is assumed.\n",
      " |\n",
      " |  find(self, sub[, start[, end]], /)\n",
      " |      Return the lowest index in B where subsection 'sub' is found, such that 'sub' is contained within B[start,end].\n",
      " |\n",
      " |        start\n",
      " |          Optional start position. Default: start of the bytes.\n",
      " |        end\n",
      " |          Optional stop position. Default: end of the bytes.\n",
      " |\n",
      " |      Return -1 on failure.\n",
      " |\n",
      " |  hex(self, /, sep=<unrepresentable>, bytes_per_sep=1)\n",
      " |      Create a string of hexadecimal numbers from a bytes object.\n",
      " |\n",
      " |        sep\n",
      " |          An optional single character or byte to separate hex bytes.\n",
      " |        bytes_per_sep\n",
      " |          How many bytes between separators.  Positive values count from the\n",
      " |          right, negative values count from the left.\n",
      " |\n",
      " |      Example:\n",
      " |      >>> value = b'\\xb9\\x01\\xef'\n",
      " |      >>> value.hex()\n",
      " |      'b901ef'\n",
      " |      >>> value.hex(':')\n",
      " |      'b9:01:ef'\n",
      " |      >>> value.hex(':', 2)\n",
      " |      'b9:01ef'\n",
      " |      >>> value.hex(':', -2)\n",
      " |      'b901:ef'\n",
      " |\n",
      " |  index(self, sub[, start[, end]], /)\n",
      " |      Return the lowest index in B where subsection 'sub' is found, such that 'sub' is contained within B[start,end].\n",
      " |\n",
      " |        start\n",
      " |          Optional start position. Default: start of the bytes.\n",
      " |        end\n",
      " |          Optional stop position. Default: end of the bytes.\n",
      " |\n",
      " |      Raise ValueError if the subsection is not found.\n",
      " |\n",
      " |  isalnum(self, /)\n",
      " |      B.isalnum() -> bool\n",
      " |\n",
      " |      Return True if all characters in B are alphanumeric\n",
      " |      and there is at least one character in B, False otherwise.\n",
      " |\n",
      " |  isalpha(self, /)\n",
      " |      B.isalpha() -> bool\n",
      " |\n",
      " |      Return True if all characters in B are alphabetic\n",
      " |      and there is at least one character in B, False otherwise.\n",
      " |\n",
      " |  isascii(self, /)\n",
      " |      B.isascii() -> bool\n",
      " |\n",
      " |      Return True if B is empty or all characters in B are ASCII,\n",
      " |      False otherwise.\n",
      " |\n",
      " |  isdigit(self, /)\n",
      " |      B.isdigit() -> bool\n",
      " |\n",
      " |      Return True if all characters in B are digits\n",
      " |      and there is at least one character in B, False otherwise.\n",
      " |\n",
      " |  islower(self, /)\n",
      " |      B.islower() -> bool\n",
      " |\n",
      " |      Return True if all cased characters in B are lowercase and there is\n",
      " |      at least one cased character in B, False otherwise.\n",
      " |\n",
      " |  isspace(self, /)\n",
      " |      B.isspace() -> bool\n",
      " |\n",
      " |      Return True if all characters in B are whitespace\n",
      " |      and there is at least one character in B, False otherwise.\n",
      " |\n",
      " |  istitle(self, /)\n",
      " |      B.istitle() -> bool\n",
      " |\n",
      " |      Return True if B is a titlecased string and there is at least one\n",
      " |      character in B, i.e. uppercase characters may only follow uncased\n",
      " |      characters and lowercase characters only cased ones. Return False\n",
      " |      otherwise.\n",
      " |\n",
      " |  isupper(self, /)\n",
      " |      B.isupper() -> bool\n",
      " |\n",
      " |      Return True if all cased characters in B are uppercase and there is\n",
      " |      at least one cased character in B, False otherwise.\n",
      " |\n",
      " |  join(self, iterable_of_bytes, /)\n",
      " |      Concatenate any number of bytes objects.\n",
      " |\n",
      " |      The bytes whose method is called is inserted in between each pair.\n",
      " |\n",
      " |      The result is returned as a new bytes object.\n",
      " |\n",
      " |      Example: b'.'.join([b'ab', b'pq', b'rs']) -> b'ab.pq.rs'.\n",
      " |\n",
      " |  ljust(self, width, fillchar=b' ', /)\n",
      " |      Return a left-justified string of length width.\n",
      " |\n",
      " |      Padding is done using the specified fill character.\n",
      " |\n",
      " |  lower(self, /)\n",
      " |      B.lower() -> copy of B\n",
      " |\n",
      " |      Return a copy of B with all ASCII characters converted to lowercase.\n",
      " |\n",
      " |  lstrip(self, bytes=None, /)\n",
      " |      Strip leading bytes contained in the argument.\n",
      " |\n",
      " |      If the argument is omitted or None, strip leading  ASCII whitespace.\n",
      " |\n",
      " |  partition(self, sep, /)\n",
      " |      Partition the bytes into three parts using the given separator.\n",
      " |\n",
      " |      This will search for the separator sep in the bytes. If the separator is found,\n",
      " |      returns a 3-tuple containing the part before the separator, the separator\n",
      " |      itself, and the part after it.\n",
      " |\n",
      " |      If the separator is not found, returns a 3-tuple containing the original bytes\n",
      " |      object and two empty bytes objects.\n",
      " |\n",
      " |  removeprefix(self, prefix, /)\n",
      " |      Return a bytes object with the given prefix string removed if present.\n",
      " |\n",
      " |      If the bytes starts with the prefix string, return bytes[len(prefix):].\n",
      " |      Otherwise, return a copy of the original bytes.\n",
      " |\n",
      " |  removesuffix(self, suffix, /)\n",
      " |      Return a bytes object with the given suffix string removed if present.\n",
      " |\n",
      " |      If the bytes ends with the suffix string and that suffix is not empty,\n",
      " |      return bytes[:-len(prefix)].  Otherwise, return a copy of the original\n",
      " |      bytes.\n",
      " |\n",
      " |  replace(self, old, new, count=-1, /)\n",
      " |      Return a copy with all occurrences of substring old replaced by new.\n",
      " |\n",
      " |        count\n",
      " |          Maximum number of occurrences to replace.\n",
      " |          -1 (the default value) means replace all occurrences.\n",
      " |\n",
      " |      If the optional argument count is given, only the first count occurrences are\n",
      " |      replaced.\n",
      " |\n",
      " |  rfind(self, sub[, start[, end]], /)\n",
      " |      Return the highest index in B where subsection 'sub' is found, such that 'sub' is contained within B[start,end].\n",
      " |\n",
      " |        start\n",
      " |          Optional start position. Default: start of the bytes.\n",
      " |        end\n",
      " |          Optional stop position. Default: end of the bytes.\n",
      " |\n",
      " |      Return -1 on failure.\n",
      " |\n",
      " |  rindex(self, sub[, start[, end]], /)\n",
      " |      Return the highest index in B where subsection 'sub' is found, such that 'sub' is contained within B[start,end].\n",
      " |\n",
      " |        start\n",
      " |          Optional start position. Default: start of the bytes.\n",
      " |        end\n",
      " |          Optional stop position. Default: end of the bytes.\n",
      " |\n",
      " |      Raise ValueError if the subsection is not found.\n",
      " |\n",
      " |  rjust(self, width, fillchar=b' ', /)\n",
      " |      Return a right-justified string of length width.\n",
      " |\n",
      " |      Padding is done using the specified fill character.\n",
      " |\n",
      " |  rpartition(self, sep, /)\n",
      " |      Partition the bytes into three parts using the given separator.\n",
      " |\n",
      " |      This will search for the separator sep in the bytes, starting at the end. If\n",
      " |      the separator is found, returns a 3-tuple containing the part before the\n",
      " |      separator, the separator itself, and the part after it.\n",
      " |\n",
      " |      If the separator is not found, returns a 3-tuple containing two empty bytes\n",
      " |      objects and the original bytes object.\n",
      " |\n",
      " |  rsplit(self, /, sep=None, maxsplit=-1)\n",
      " |      Return a list of the sections in the bytes, using sep as the delimiter.\n",
      " |\n",
      " |        sep\n",
      " |          The delimiter according which to split the bytes.\n",
      " |          None (the default value) means split on ASCII whitespace characters\n",
      " |          (space, tab, return, newline, formfeed, vertical tab).\n",
      " |        maxsplit\n",
      " |          Maximum number of splits to do.\n",
      " |          -1 (the default value) means no limit.\n",
      " |\n",
      " |      Splitting is done starting at the end of the bytes and working to the front.\n",
      " |\n",
      " |  rstrip(self, bytes=None, /)\n",
      " |      Strip trailing bytes contained in the argument.\n",
      " |\n",
      " |      If the argument is omitted or None, strip trailing ASCII whitespace.\n",
      " |\n",
      " |  split(self, /, sep=None, maxsplit=-1)\n",
      " |      Return a list of the sections in the bytes, using sep as the delimiter.\n",
      " |\n",
      " |      sep\n",
      " |        The delimiter according which to split the bytes.\n",
      " |        None (the default value) means split on ASCII whitespace characters\n",
      " |        (space, tab, return, newline, formfeed, vertical tab).\n",
      " |      maxsplit\n",
      " |        Maximum number of splits to do.\n",
      " |        -1 (the default value) means no limit.\n",
      " |\n",
      " |  splitlines(self, /, keepends=False)\n",
      " |      Return a list of the lines in the bytes, breaking at line boundaries.\n",
      " |\n",
      " |      Line breaks are not included in the resulting list unless keepends is given and\n",
      " |      true.\n",
      " |\n",
      " |  startswith(self, prefix[, start[, end]], /)\n",
      " |      Return True if the bytes starts with the specified prefix, False otherwise.\n",
      " |\n",
      " |      prefix\n",
      " |        A bytes or a tuple of bytes to try.\n",
      " |      start\n",
      " |        Optional start position. Default: start of the bytes.\n",
      " |      end\n",
      " |        Optional stop position. Default: end of the bytes.\n",
      " |\n",
      " |  strip(self, bytes=None, /)\n",
      " |      Strip leading and trailing bytes contained in the argument.\n",
      " |\n",
      " |      If the argument is omitted or None, strip leading and trailing ASCII whitespace.\n",
      " |\n",
      " |  swapcase(self, /)\n",
      " |      B.swapcase() -> copy of B\n",
      " |\n",
      " |      Return a copy of B with uppercase ASCII characters converted\n",
      " |      to lowercase ASCII and vice versa.\n",
      " |\n",
      " |  title(self, /)\n",
      " |      B.title() -> copy of B\n",
      " |\n",
      " |      Return a titlecased version of B, i.e. ASCII words start with uppercase\n",
      " |      characters, all remaining cased characters have lowercase.\n",
      " |\n",
      " |  translate(self, table, /, delete=b'')\n",
      " |      Return a copy with each character mapped by the given translation table.\n",
      " |\n",
      " |        table\n",
      " |          Translation table, which must be a bytes object of length 256.\n",
      " |\n",
      " |      All characters occurring in the optional argument delete are removed.\n",
      " |      The remaining characters are mapped through the given translation table.\n",
      " |\n",
      " |  upper(self, /)\n",
      " |      B.upper() -> copy of B\n",
      " |\n",
      " |      Return a copy of B with all ASCII characters converted to uppercase.\n",
      " |\n",
      " |  zfill(self, width, /)\n",
      " |      Pad a numeric string with zeros on the left, to fill a field of the given width.\n",
      " |\n",
      " |      The original string is never truncated.\n",
      " |\n",
      " |  ----------------------------------------------------------------------\n",
      " |  Class methods defined here:\n",
      " |\n",
      " |  fromhex(string, /)\n",
      " |      Create a bytes object from a string of hexadecimal numbers.\n",
      " |\n",
      " |      Spaces between two numbers are accepted.\n",
      " |      Example: bytes.fromhex('B9 01EF') -> b'\\\\xb9\\\\x01\\\\xef'.\n",
      " |\n",
      " |  ----------------------------------------------------------------------\n",
      " |  Static methods defined here:\n",
      " |\n",
      " |  __new__(*args, **kwargs)\n",
      " |      Create and return a new object.  See help(type) for accurate signature.\n",
      " |\n",
      " |  maketrans(frm, to, /)\n",
      " |      Return a translation table usable for the bytes or bytearray translate method.\n",
      " |\n",
      " |      The returned table will be one where each byte in frm is mapped to the byte at\n",
      " |      the same position in to.\n",
      " |\n",
      " |      The bytes objects frm and to must be of the same length.\n",
      "\n"
     ]
    }
   ],
   "source": [
    "help(bytes)"
   ]
  },
  {
   "cell_type": "code",
   "execution_count": 62,
   "id": "c1870fd2-71e9-4bbd-ae6a-2ab7450089c6",
   "metadata": {},
   "outputs": [
    {
     "data": {
      "text/plain": [
       "b'\\x00\\x00\\x00\\x00\\x00\\x00\\x00\\x00\\x00\\x00'"
      ]
     },
     "execution_count": 62,
     "metadata": {},
     "output_type": "execute_result"
    }
   ],
   "source": [
    "bytes(10)"
   ]
  },
  {
   "cell_type": "code",
   "execution_count": 63,
   "id": "de29713d-2273-4618-8ec3-d0f56ab07e24",
   "metadata": {},
   "outputs": [],
   "source": [
    "#1 Mb = 1024 KB"
   ]
  },
  {
   "cell_type": "markdown",
   "id": "646ea4af-30cd-4f7a-9207-9b57d9ae0582",
   "metadata": {},
   "source": [
    "# 0 OR 1 BIT\n",
    "# 8 bit = 1 byte\n",
    "# 1024 byte = 1kilobyte\n",
    "# 1024 kb = 1Megabyte\n",
    "# 1024 Mb = 1 Gegabyte\n",
    "# 1024 GB = 1TeraByte\n",
    "# 1024 TB = 1 PetaByte"
   ]
  },
  {
   "cell_type": "code",
   "execution_count": 64,
   "id": "ccae95a9-5250-401b-8325-2948275b23dc",
   "metadata": {},
   "outputs": [
    {
     "data": {
      "text/plain": [
       "'\\x01'"
      ]
     },
     "execution_count": 64,
     "metadata": {},
     "output_type": "execute_result"
    }
   ],
   "source": [
    "chr(1)"
   ]
  },
  {
   "cell_type": "code",
   "execution_count": 65,
   "id": "faab9b48-574b-4d83-ab63-6f95750b82c1",
   "metadata": {},
   "outputs": [],
   "source": [
    "#ord is used to find unicode of emoji exa- ord('')"
   ]
  },
  {
   "cell_type": "code",
   "execution_count": 66,
   "id": "30405a75-5722-4a4a-b389-b8acd3dba0e7",
   "metadata": {},
   "outputs": [],
   "source": [
    "# id is used fro memory location id('')"
   ]
  },
  {
   "cell_type": "code",
   "execution_count": 67,
   "id": "86a37d8e-3b40-4e55-8457-a0ff73d70bce",
   "metadata": {},
   "outputs": [
    {
     "data": {
      "text/plain": [
       "50"
      ]
     },
     "execution_count": 67,
     "metadata": {},
     "output_type": "execute_result"
    }
   ],
   "source": [
    "ord('2')"
   ]
  },
  {
   "cell_type": "code",
   "execution_count": 68,
   "id": "5f40e71b-ada7-4d3e-b0b2-73da03fa9cc8",
   "metadata": {},
   "outputs": [
    {
     "data": {
      "text/plain": [
       "97"
      ]
     },
     "execution_count": 68,
     "metadata": {},
     "output_type": "execute_result"
    }
   ],
   "source": [
    "ord('a')"
   ]
  },
  {
   "cell_type": "code",
   "execution_count": 69,
   "id": "41615a0f-7a6f-4fd4-a2d2-0b570d58d6f0",
   "metadata": {},
   "outputs": [
    {
     "data": {
      "text/plain": [
       "65"
      ]
     },
     "execution_count": 69,
     "metadata": {},
     "output_type": "execute_result"
    }
   ],
   "source": [
    "ord('A')"
   ]
  },
  {
   "cell_type": "code",
   "execution_count": 70,
   "id": "88988d72-25bb-4ae2-9679-40c9aa8054c1",
   "metadata": {},
   "outputs": [
    {
     "name": "stdout",
     "output_type": "stream",
     "text": [
      "😀\n"
     ]
    }
   ],
   "source": [
    "print(\"\\U0001f600\")\n"
   ]
  },
  {
   "cell_type": "code",
   "execution_count": 71,
   "id": "13d8024d-5e63-45a1-94ea-dceb10091fc6",
   "metadata": {},
   "outputs": [
    {
     "data": {
      "text/plain": [
       "128512"
      ]
     },
     "execution_count": 71,
     "metadata": {},
     "output_type": "execute_result"
    }
   ],
   "source": [
    "ord('😀')"
   ]
  },
  {
   "cell_type": "code",
   "execution_count": 72,
   "id": "49a4ce62-eab7-4edd-baf0-4e476ce2a1a6",
   "metadata": {},
   "outputs": [
    {
     "data": {
      "text/plain": [
       "2107010996528"
      ]
     },
     "execution_count": 72,
     "metadata": {},
     "output_type": "execute_result"
    }
   ],
   "source": [
    "id(\"😀\")"
   ]
  },
  {
   "cell_type": "code",
   "execution_count": 2,
   "id": "364be827-b3e6-48b9-9600-6c0662b8731a",
   "metadata": {},
   "outputs": [
    {
     "name": "stdout",
     "output_type": "stream",
     "text": [
      "😀\n"
     ]
    }
   ],
   "source": [
    "print(\"\\U0001f600\")"
   ]
  },
  {
   "cell_type": "code",
   "execution_count": 3,
   "id": "98d14ff7-f6cf-45a0-9ecc-df0a6da031de",
   "metadata": {},
   "outputs": [
    {
     "name": "stdout",
     "output_type": "stream",
     "text": [
      "🤣\n"
     ]
    }
   ],
   "source": [
    "print(\"\\U0001F923\")"
   ]
  },
  {
   "cell_type": "code",
   "execution_count": 4,
   "id": "8303e6fe-b108-445f-a636-e8662fc048c0",
   "metadata": {},
   "outputs": [
    {
     "name": "stdout",
     "output_type": "stream",
     "text": [
      "🤣\n"
     ]
    }
   ],
   "source": [
    "print(\"\\U0001F923\")"
   ]
  },
  {
   "cell_type": "code",
   "execution_count": 5,
   "id": "5aa749d6-da3d-420f-ae21-78b43de327c9",
   "metadata": {},
   "outputs": [
    {
     "name": "stdout",
     "output_type": "stream",
     "text": [
      "🤢\n"
     ]
    }
   ],
   "source": [
    "print(\"\\U0001F922\")"
   ]
  },
  {
   "cell_type": "code",
   "execution_count": 6,
   "id": "010fdbc9-9e7b-4e53-bdda-8863f0dbf019",
   "metadata": {},
   "outputs": [
    {
     "name": "stdout",
     "output_type": "stream",
     "text": [
      "😴\n"
     ]
    }
   ],
   "source": [
    "print(\"\\U0001F634\")"
   ]
  },
  {
   "cell_type": "code",
   "execution_count": null,
   "id": "d87ba833-22ae-434c-b8b0-ffc3529ebb13",
   "metadata": {},
   "outputs": [],
   "source": []
  }
 ],
 "metadata": {
  "kernelspec": {
   "display_name": "Python [conda env:base] *",
   "language": "python",
   "name": "conda-base-py"
  },
  "language_info": {
   "codemirror_mode": {
    "name": "ipython",
    "version": 3
   },
   "file_extension": ".py",
   "mimetype": "text/x-python",
   "name": "python",
   "nbconvert_exporter": "python",
   "pygments_lexer": "ipython3",
   "version": "3.13.5"
  }
 },
 "nbformat": 4,
 "nbformat_minor": 5
}
