{
 "cells": [
  {
   "cell_type": "code",
   "execution_count": 1,
   "id": "58d59d17-4a3d-4c2c-a725-69188b95e2e1",
   "metadata": {},
   "outputs": [
    {
     "name": "stdout",
     "output_type": "stream",
     "text": [
      "5\n",
      "4\n",
      "3\n",
      "2\n",
      "1\n"
     ]
    }
   ],
   "source": [
    "# opposite way to print i\n",
    "i=5\n",
    "n =0\n",
    "while i>n:\n",
    "    print(i)\n",
    "    i-=1"
   ]
  },
  {
   "cell_type": "code",
   "execution_count": 3,
   "id": "fc651848-0bc2-4f5d-a4d2-1b5a247a1710",
   "metadata": {},
   "outputs": [
    {
     "name": "stdout",
     "output_type": "stream",
     "text": [
      "5\n",
      "4\n",
      "3\n",
      "2\n",
      "1\n"
     ]
    }
   ],
   "source": [
    "# another way without n\n",
    "i=5\n",
    "while i:\n",
    "    print(i)\n",
    "    i-=1"
   ]
  },
  {
   "cell_type": "code",
   "execution_count": 4,
   "id": "31ef7597-b31e-4bde-ac46-60cf12959473",
   "metadata": {},
   "outputs": [
    {
     "name": "stdout",
     "output_type": "stream",
     "text": [
      "5\n",
      "4\n",
      "3\n",
      "2\n",
      "1\n"
     ]
    }
   ],
   "source": [
    "i=0\n",
    "n=5\n",
    "while i<n:\n",
    "    print(n-i)\n",
    "    i+=1"
   ]
  },
  {
   "cell_type": "code",
   "execution_count": 5,
   "id": "f72083e2-939d-4cb5-aeaa-40eff1034641",
   "metadata": {},
   "outputs": [],
   "source": [
    "name = \"karunesh\"\n"
   ]
  },
  {
   "cell_type": "code",
   "execution_count": 6,
   "id": "20e6fe50-7666-4c6a-a095-c78f206e2420",
   "metadata": {},
   "outputs": [
    {
     "name": "stdout",
     "output_type": "stream",
     "text": [
      "bye\n",
      "bye\n",
      "bye\n",
      "bye\n",
      "bye\n",
      "bye\n",
      "bye\n",
      "bye\n"
     ]
    }
   ],
   "source": [
    "for alphabet in name:\n",
    "    print(\"bye\")"
   ]
  },
  {
   "cell_type": "code",
   "execution_count": 7,
   "id": "dab12cb8-9850-4d79-8375-074ee7d22249",
   "metadata": {},
   "outputs": [
    {
     "name": "stdout",
     "output_type": "stream",
     "text": [
      "k\n",
      "a\n",
      "r\n",
      "u\n",
      "n\n",
      "e\n",
      "s\n",
      "h\n"
     ]
    }
   ],
   "source": [
    "for alphabet in name:\n",
    "    print(alphabet)"
   ]
  },
  {
   "cell_type": "code",
   "execution_count": 8,
   "id": "1b209ac5-2a2e-4527-a24e-1a70358dcd0d",
   "metadata": {},
   "outputs": [
    {
     "name": "stdout",
     "output_type": "stream",
     "text": [
      "karunesh\n",
      "karunesh\n",
      "karunesh\n",
      "karunesh\n",
      "karunesh\n",
      "karunesh\n",
      "karunesh\n",
      "karunesh\n"
     ]
    }
   ],
   "source": [
    "for alphabet in name:\n",
    "    print(name)"
   ]
  },
  {
   "cell_type": "code",
   "execution_count": 10,
   "id": "82fea461-5fcd-45ef-8096-7b3f88bc2e15",
   "metadata": {},
   "outputs": [
    {
     "name": "stdout",
     "output_type": "stream",
     "text": [
      "aaloo\n",
      "tamatar\n",
      "bhindi\n",
      "banana\n"
     ]
    }
   ],
   "source": [
    "parchi = ['aaloo', 'tamatar', 'bhindi', 'banana']\n",
    "for sabzi in parchi:\n",
    "    print(sabzi)"
   ]
  },
  {
   "cell_type": "code",
   "execution_count": 14,
   "id": "2995a4e1-7dd9-4a72-9821-5f6b4b94e542",
   "metadata": {},
   "outputs": [
    {
     "name": "stdout",
     "output_type": "stream",
     "text": [
      "hello kanu\n",
      "hello bansal\n",
      "hello gupta\n"
     ]
    }
   ],
   "source": [
    "name =(\"kanu\",\"bansal\",\"gupta\")\n",
    "for item in name:\n",
    "    print(\"hello\",item)"
   ]
  },
  {
   "cell_type": "code",
   "execution_count": 15,
   "id": "ef310124-7e24-4224-8117-22497e5c1314",
   "metadata": {},
   "outputs": [
    {
     "name": "stdout",
     "output_type": "stream",
     "text": [
      "8\n",
      "9\n",
      "6\n",
      "7\n"
     ]
    }
   ],
   "source": [
    "# set meine se item \n",
    "s = {6,7,8,9}\n",
    "for i in s:\n",
    "    print(i)"
   ]
  },
  {
   "cell_type": "code",
   "execution_count": 17,
   "id": "9c3f8cbc-b1c2-4d29-b738-4e6b2d119abb",
   "metadata": {},
   "outputs": [
    {
     "name": "stdout",
     "output_type": "stream",
     "text": [
      "0\n",
      "1\n",
      "2\n",
      "3\n",
      "4\n"
     ]
    }
   ],
   "source": [
    "i =0\n",
    "n=5\n",
    "while i<n:\n",
    "    print(i)\n",
    "    i+=1"
   ]
  },
  {
   "cell_type": "code",
   "execution_count": 16,
   "id": "0035ce91-63f8-4fb7-a631-80e0faa0aa92",
   "metadata": {},
   "outputs": [
    {
     "name": "stdout",
     "output_type": "stream",
     "text": [
      "0\n",
      "1\n",
      "2\n",
      "3\n",
      "4\n"
     ]
    }
   ],
   "source": [
    "for i in range(5): # ending index\n",
    "    print(i)"
   ]
  },
  {
   "cell_type": "code",
   "execution_count": 20,
   "id": "b61d6c38-02c9-431a-8e02-d4d1808175b2",
   "metadata": {},
   "outputs": [
    {
     "name": "stdout",
     "output_type": "stream",
     "text": [
      "5\n",
      "7\n",
      "9\n",
      "11\n",
      "13\n"
     ]
    }
   ],
   "source": [
    "for i in range(5,15,2): #start index and ending index and stepsize\n",
    "    print(i)"
   ]
  },
  {
   "cell_type": "code",
   "execution_count": 21,
   "id": "c785ec23-5c08-48a7-ba35-2b2d641690e2",
   "metadata": {},
   "outputs": [
    {
     "name": "stdout",
     "output_type": "stream",
     "text": [
      "k\n",
      "a\n",
      "r\n",
      "u\n",
      "n\n",
      "e\n",
      "s\n",
      "h\n"
     ]
    }
   ],
   "source": [
    "name = \"karunesh\"\n",
    "for i in range(len(name)): \n",
    "    print(name[i])"
   ]
  },
  {
   "cell_type": "code",
   "execution_count": 11,
   "id": "3f2f192b-124b-46c7-a3f0-d310262d9b5f",
   "metadata": {},
   "outputs": [
    {
     "name": "stdout",
     "output_type": "stream",
     "text": [
      "4\n"
     ]
    }
   ],
   "source": [
    "a = [10, 89, 9, 56, 4, 80, 8,90]\n",
    "min_element = a[0]\n",
    "\n",
    "for i in range(len(a)):\n",
    "  if a[i] < a[0]:\n",
    "     a[0] = a[i]\n",
    "\n",
    "print (a[0])"
   ]
  },
  {
   "cell_type": "code",
   "execution_count": 23,
   "id": "8833a9c6-bec4-443f-8deb-07e5c1d7ec50",
   "metadata": {},
   "outputs": [
    {
     "name": "stdout",
     "output_type": "stream",
     "text": [
      "9\n",
      "1\n"
     ]
    }
   ],
   "source": [
    "a =[4,3,2,7,9,1]\n",
    "max_element = a[0]\n",
    "min_element = a[1]\n",
    "for i in range(len(a)):\n",
    "    if a[i] > a[0]:\n",
    "        a[0] = a[i]\n",
    "\n",
    "    if a[i] < a[1]:\n",
    "        a[1] = a[i]\n",
    "print(a[0])         \n",
    "print(a[1])\n",
    "\n",
    "    \n"
   ]
  },
  {
   "cell_type": "code",
   "execution_count": 19,
   "id": "0cf9c22e-c509-48c6-8f40-00b2882231b4",
   "metadata": {},
   "outputs": [
    {
     "name": "stdout",
     "output_type": "stream",
     "text": [
      "4\n",
      "89\n"
     ]
    }
   ],
   "source": [
    "arr = [10, 89, 9, 56, 4, 80, 8]\n",
    "mini = arr[0]\n",
    "maxi = arr[0]\n",
    "\n",
    "for i in range(len(arr)):\n",
    "  if arr[i] < mini: \n",
    "    mini = arr[i] \n",
    "  \n",
    "  if arr[i] > maxi: \n",
    "    maxi = arr[i]\n",
    "\n",
    "print (mini)\n",
    "print (maxi)"
   ]
  },
  {
   "cell_type": "code",
   "execution_count": 1,
   "id": "8f3b8752-8ef3-4b07-8513-ede891d889a1",
   "metadata": {},
   "outputs": [
    {
     "name": "stdout",
     "output_type": "stream",
     "text": [
      "karunesh\n",
      "akansha\n"
     ]
    }
   ],
   "source": [
    "names = [\"karunesh\", \"akansha\"]\n",
    "for name in names:\n",
    "    print(name)"
   ]
  },
  {
   "cell_type": "code",
   "execution_count": 2,
   "id": "bcdb8303-bdb8-475e-9281-04c08a44cf30",
   "metadata": {},
   "outputs": [
    {
     "name": "stdout",
     "output_type": "stream",
     "text": [
      "karunesh\n",
      "akansha\n"
     ]
    }
   ],
   "source": [
    "names = [\"karunesh\", \"akansha\"]\n",
    "for i in names:\n",
    "    print(i)"
   ]
  },
  {
   "cell_type": "code",
   "execution_count": 3,
   "id": "083da019-e9fc-4665-b111-129359b2a486",
   "metadata": {},
   "outputs": [],
   "source": [
    "# environment variable"
   ]
  },
  {
   "cell_type": "code",
   "execution_count": 4,
   "id": "344459a1-8297-4cd5-9a15-33b659879200",
   "metadata": {},
   "outputs": [],
   "source": [
    "#if you dn't have file then install pip install filename"
   ]
  },
  {
   "cell_type": "code",
   "execution_count": 5,
   "id": "22c20938-588c-4302-a1ee-abe7f73d84d4",
   "metadata": {},
   "outputs": [
    {
     "name": "stdout",
     "output_type": "stream",
     "text": [
      "Requirement already satisfied: pandas in c:\\users\\diksha\\anaconda3\\lib\\site-packages (2.2.3)\n",
      "Requirement already satisfied: numpy>=1.26.0 in c:\\users\\diksha\\anaconda3\\lib\\site-packages (from pandas) (2.1.3)\n",
      "Requirement already satisfied: python-dateutil>=2.8.2 in c:\\users\\diksha\\anaconda3\\lib\\site-packages (from pandas) (2.9.0.post0)\n",
      "Requirement already satisfied: pytz>=2020.1 in c:\\users\\diksha\\anaconda3\\lib\\site-packages (from pandas) (2024.1)\n",
      "Requirement already satisfied: tzdata>=2022.7 in c:\\users\\diksha\\anaconda3\\lib\\site-packages (from pandas) (2025.2)\n",
      "Requirement already satisfied: six>=1.5 in c:\\users\\diksha\\anaconda3\\lib\\site-packages (from python-dateutil>=2.8.2->pandas) (1.17.0)\n",
      "Note: you may need to restart the kernel to use updated packages.\n"
     ]
    }
   ],
   "source": [
    "pip install pandas"
   ]
  },
  {
   "cell_type": "code",
   "execution_count": 6,
   "id": "c8b084d1-6ad9-4d00-8e24-61796d4a9715",
   "metadata": {},
   "outputs": [],
   "source": [
    "import numpy"
   ]
  },
  {
   "cell_type": "code",
   "execution_count": 7,
   "id": "95f25d78-dce7-4ae6-a3fc-a42a566cdcc4",
   "metadata": {},
   "outputs": [],
   "source": [
    "import random"
   ]
  },
  {
   "cell_type": "code",
   "execution_count": 8,
   "id": "5d6260f1-d87c-4004-b594-a93b45eec678",
   "metadata": {},
   "outputs": [
    {
     "data": {
      "text/plain": [
       "'random.py'"
      ]
     },
     "execution_count": 8,
     "metadata": {},
     "output_type": "execute_result"
    }
   ],
   "source": [
    "\"random.py\""
   ]
  },
  {
   "cell_type": "code",
   "execution_count": 9,
   "id": "5a0be4a4-a333-4366-a485-3585a8100740",
   "metadata": {},
   "outputs": [],
   "source": [
    "# randmos se three chize assign kr skte hai variable, classes "
   ]
  },
  {
   "cell_type": "code",
   "execution_count": 11,
   "id": "2aa31992-2d13-4624-8a60-754ef07faa58",
   "metadata": {},
   "outputs": [
    {
     "data": {
      "text/plain": [
       "10"
      ]
     },
     "execution_count": 11,
     "metadata": {},
     "output_type": "execute_result"
    }
   ],
   "source": [
    "random.randint(1,10)  # it has many algorithms and it will choose one graph"
   ]
  },
  {
   "cell_type": "code",
   "execution_count": 13,
   "id": "0776c3ee-73ae-4b70-82da-9243483178fb",
   "metadata": {},
   "outputs": [
    {
     "name": "stdout",
     "output_type": "stream",
     "text": [
      "10 8 5 4 7 9 5 4 6 10 2 6 10 7 10 "
     ]
    },
    {
     "data": {
      "text/plain": [
       "[10, 8, 5, 4, 7, 9, 5, 4, 6, 10, 2, 6, 10, 7, 10]"
      ]
     },
     "execution_count": 13,
     "metadata": {},
     "output_type": "execute_result"
    }
   ],
   "source": [
    "li = []\n",
    "for i in range(15):\n",
    "    num = random.randint(1,10)\n",
    "    print(num, end=\" \")\n",
    "    li.append(num)\n",
    "li    "
   ]
  },
  {
   "cell_type": "code",
   "execution_count": 14,
   "id": "44f7218c-b27b-464b-9a76-0904fe5ec988",
   "metadata": {},
   "outputs": [
    {
     "name": "stdout",
     "output_type": "stream",
     "text": [
      "[2, 3, 4, 5]\n",
      "[4, 9, 16, 25]\n"
     ]
    }
   ],
   "source": [
    "li =[2,3,4,5]\n",
    "a = []\n",
    "for i in li:\n",
    "    s = i **2\n",
    "    a.append(s)\n",
    "print(li)\n",
    "print(a)"
   ]
  },
  {
   "cell_type": "code",
   "execution_count": 15,
   "id": "41acc9e3-82e9-473f-8738-333c6bac9978",
   "metadata": {},
   "outputs": [
    {
     "data": {
      "text/plain": [
       "[1, 8, 5, 1, 6]"
      ]
     },
     "execution_count": 15,
     "metadata": {},
     "output_type": "execute_result"
    }
   ],
   "source": [
    "a =[]\n",
    "for i in range(5):\n",
    "    a.append(random.randint(1,10))\n",
    "a    "
   ]
  },
  {
   "cell_type": "code",
   "execution_count": 18,
   "id": "4776b4df-a7d3-42e0-92ae-0a9c17fcbb3e",
   "metadata": {},
   "outputs": [
    {
     "data": {
      "text/plain": [
       "[7, 9, 1, 2, 2]"
      ]
     },
     "execution_count": 18,
     "metadata": {},
     "output_type": "execute_result"
    }
   ],
   "source": [
    "# list comprehension same code but different and easy way under this append value first writter\n",
    "a =[random.randint(1,10) for i in range(5)]\n",
    "a"
   ]
  },
  {
   "cell_type": "code",
   "execution_count": 19,
   "id": "ef3bf1f9-e692-466a-a742-f051c7f1873b",
   "metadata": {},
   "outputs": [
    {
     "name": "stdout",
     "output_type": "stream",
     "text": [
      "[7, 9, 1, 2, 2]\n",
      "[49, 81, 1, 4, 4]\n"
     ]
    }
   ],
   "source": [
    "l = [i**2 for i in a]  # list comprehension\n",
    "print(a)\n",
    "print(l)"
   ]
  },
  {
   "cell_type": "code",
   "execution_count": 21,
   "id": "22e5a7fd-31cd-425d-8a55-c507e82bb2e9",
   "metadata": {},
   "outputs": [
    {
     "name": "stdout",
     "output_type": "stream",
     "text": [
      "[7, 9, 1, 2, 2]\n",
      "[49, 81, 1, 4, 4]\n"
     ]
    }
   ],
   "source": [
    "l = [a[i]**2 for i in range(len(a))]  # item get a[i]\n",
    "print(a)\n",
    "print(l)"
   ]
  },
  {
   "cell_type": "code",
   "execution_count": 23,
   "id": "f66c20aa-3754-4538-a26b-ae31a8c700d8",
   "metadata": {},
   "outputs": [
    {
     "name": "stdout",
     "output_type": "stream",
     "text": [
      "[7, 9, 1, 2, 2]\n",
      "[49, 81, 1, 4, 4]\n"
     ]
    }
   ],
   "source": [
    "print(a)   # second way to square of items\n",
    "l =[]\n",
    "for i in range(len(a)):\n",
    "    l.append(a[i]**2)\n",
    "print(l)    "
   ]
  },
  {
   "cell_type": "code",
   "execution_count": 24,
   "id": "b2898f57-529c-4ebd-81da-5ea8912294e5",
   "metadata": {},
   "outputs": [],
   "source": [
    "#zip items ko sath meine le ata hai and used in dic comprehensive\n"
   ]
  },
  {
   "cell_type": "code",
   "execution_count": 25,
   "id": "d4e05eec-c75e-4d4b-bdc1-55afde108595",
   "metadata": {},
   "outputs": [],
   "source": [
    "name =[\"karunesh\", \"kanu\",\"bansal\"]\n",
    "age = [20,14,15]"
   ]
  },
  {
   "cell_type": "code",
   "execution_count": 26,
   "id": "557fa29b-d4f4-452a-893a-d6e7abd2b004",
   "metadata": {},
   "outputs": [
    {
     "name": "stdout",
     "output_type": "stream",
     "text": [
      "karunesh 20\n",
      "kanu 14\n",
      "bansal 15\n"
     ]
    }
   ],
   "source": [
    "li =[]\n",
    "for i,j in zip(name,age):\n",
    "    print(i,j)"
   ]
  },
  {
   "cell_type": "code",
   "execution_count": 28,
   "id": "ee97f63b-24f4-4d1b-8c8b-38869165bf72",
   "metadata": {},
   "outputs": [],
   "source": [
    "d ={}\n",
    "for i,j in zip(name,age):\n",
    "    d[i] = j"
   ]
  },
  {
   "cell_type": "code",
   "execution_count": 29,
   "id": "be76783e-586e-464f-a674-1defd2810b81",
   "metadata": {},
   "outputs": [
    {
     "data": {
      "text/plain": [
       "{'karunesh': 20, 'kanu': 14, 'bansal': 15}"
      ]
     },
     "execution_count": 29,
     "metadata": {},
     "output_type": "execute_result"
    }
   ],
   "source": [
    "d"
   ]
  },
  {
   "cell_type": "code",
   "execution_count": 30,
   "id": "d626e174-ef6f-4eb9-8e01-763a4c9bd45f",
   "metadata": {},
   "outputs": [
    {
     "data": {
      "text/plain": [
       "{'karunesh': 20, 'kanu': 14, 'bansal': 15}"
      ]
     },
     "execution_count": 30,
     "metadata": {},
     "output_type": "execute_result"
    }
   ],
   "source": [
    "# another way # dic comprehensive\n",
    "{i:j for i,j in zip(name,age)}"
   ]
  },
  {
   "cell_type": "code",
   "execution_count": 31,
   "id": "7a122bf8-9047-462a-b2a7-e1c1995e3463",
   "metadata": {},
   "outputs": [],
   "source": [
    "# map function"
   ]
  },
  {
   "cell_type": "code",
   "execution_count": null,
   "id": "2dcd906a-6d9c-4f48-a29a-dbe3bc3e9b08",
   "metadata": {},
   "outputs": [],
   "source": []
  }
 ],
 "metadata": {
  "kernelspec": {
   "display_name": "Python [conda env:base] *",
   "language": "python",
   "name": "conda-base-py"
  },
  "language_info": {
   "codemirror_mode": {
    "name": "ipython",
    "version": 3
   },
   "file_extension": ".py",
   "mimetype": "text/x-python",
   "name": "python",
   "nbconvert_exporter": "python",
   "pygments_lexer": "ipython3",
   "version": "3.13.5"
  }
 },
 "nbformat": 4,
 "nbformat_minor": 5
}
