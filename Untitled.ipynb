{
 "cells": [
  {
   "cell_type": "code",
   "execution_count": 8,
   "id": "e21bbb3b-8172-4f22-8e56-87d3b5201d2c",
   "metadata": {},
   "outputs": [
    {
     "name": "stdout",
     "output_type": "stream",
     "text": [
      "bye\n"
     ]
    }
   ],
   "source": [
    "n = 40\n",
    "if n % 2== 0:\n",
    "    if n % 3 == 0:\n",
    "        print(\"hello\")\n",
    "    else:\n",
    "        print(\"bye\")\n",
    "elif n % 4==0:\n",
    "    print(\"hii\")\n",
    "else:\n",
    "    print(\"by\")"
   ]
  },
  {
   "cell_type": "code",
   "execution_count": 11,
   "id": "8252e4b7-4801-43b6-bfaf-878c2293d94d",
   "metadata": {},
   "outputs": [
    {
     "name": "stdout",
     "output_type": "stream",
     "text": [
      "jj\n"
     ]
    }
   ],
   "source": [
    "n = 25\n",
    "if n % 2 ==0:\n",
    "    if n % 3 ==0:\n",
    "        if n % 5 ==0:\n",
    "            print(\"hii\")\n",
    "        else:    \n",
    "            print(\"hello\")\n",
    "    elif n % 5 ==0:    \n",
    "        print(\"bye\")\n",
    "    else:\n",
    "     print(\" kk\")\n",
    "elif n % 3 ==0:\n",
    "    if n % 5 ==0:\n",
    "        print(\"tt\")\n",
    "    else:\n",
    "        print(\"pp\")\n",
    "elif n % 5 == 0:\n",
    "    print(\"jj\")\n",
    "else:\n",
    "    print(\"hh\")\n"
   ]
  },
  {
   "cell_type": "code",
   "execution_count": null,
   "id": "ef197394-bf90-4e43-b3c4-ca1badcd707c",
   "metadata": {},
   "outputs": [],
   "source": []
  },
  {
   "cell_type": "code",
   "execution_count": null,
   "id": "d7f30b15-6163-425d-ac6f-eb54d69bac0f",
   "metadata": {},
   "outputs": [],
   "source": []
  },
  {
   "cell_type": "code",
   "execution_count": null,
   "id": "264b20a6-452f-4006-ba3a-9ae8dbf5fecd",
   "metadata": {},
   "outputs": [],
   "source": []
  },
  {
   "cell_type": "code",
   "execution_count": null,
   "id": "d27d7bcb-3eb5-4085-9399-e460963729d9",
   "metadata": {},
   "outputs": [],
   "source": []
  },
  {
   "cell_type": "code",
   "execution_count": null,
   "id": "7872fca5-c23c-40c8-a1e7-e46a078c41d9",
   "metadata": {},
   "outputs": [],
   "source": []
  },
  {
   "cell_type": "code",
   "execution_count": null,
   "id": "ce1b3c04-36e0-423e-ae3d-2593bca1c976",
   "metadata": {},
   "outputs": [],
   "source": []
  },
  {
   "cell_type": "code",
   "execution_count": null,
   "id": "2c9e464e-a479-4fb6-9e3b-b215a4ffc0b4",
   "metadata": {},
   "outputs": [],
   "source": []
  },
  {
   "cell_type": "code",
   "execution_count": null,
   "id": "19cc5049-5fa5-4787-b83c-e0fc8d88f20f",
   "metadata": {},
   "outputs": [],
   "source": []
  },
  {
   "cell_type": "code",
   "execution_count": null,
   "id": "dd54e3b2-c6a9-446a-80ec-2bcfd7485afc",
   "metadata": {},
   "outputs": [],
   "source": []
  },
  {
   "cell_type": "code",
   "execution_count": null,
   "id": "9bccadd8-a403-403a-8d03-f77c652e964e",
   "metadata": {},
   "outputs": [],
   "source": []
  },
  {
   "cell_type": "code",
   "execution_count": null,
   "id": "eb8dba72-ec9e-4691-bb61-a90eaef4ee4e",
   "metadata": {},
   "outputs": [],
   "source": []
  },
  {
   "cell_type": "code",
   "execution_count": null,
   "id": "76230aa4-6d62-4023-9716-ef959326e20f",
   "metadata": {},
   "outputs": [],
   "source": []
  },
  {
   "cell_type": "code",
   "execution_count": null,
   "id": "5f5bcec1-c1cd-4fcd-8756-f8d54a37e7c0",
   "metadata": {},
   "outputs": [],
   "source": []
  },
  {
   "cell_type": "code",
   "execution_count": null,
   "id": "89c0c492-f8cf-4677-bbe5-7dfa856c586b",
   "metadata": {},
   "outputs": [],
   "source": []
  },
  {
   "cell_type": "code",
   "execution_count": null,
   "id": "cf0f38b3-2cd3-4381-96cb-f54b28729c77",
   "metadata": {},
   "outputs": [],
   "source": []
  }
 ],
 "metadata": {
  "kernelspec": {
   "display_name": "Python [conda env:base] *",
   "language": "python",
   "name": "conda-base-py"
  },
  "language_info": {
   "codemirror_mode": {
    "name": "ipython",
    "version": 3
   },
   "file_extension": ".py",
   "mimetype": "text/x-python",
   "name": "python",
   "nbconvert_exporter": "python",
   "pygments_lexer": "ipython3",
   "version": "3.13.5"
  }
 },
 "nbformat": 4,
 "nbformat_minor": 5
}
