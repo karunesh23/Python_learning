{
 "cells": [
  {
   "cell_type": "markdown",
   "id": "fa4f1afb-ab68-43b3-aa39-8047667e4c2f",
   "metadata": {},
   "source": [
    "# BOOLEAN"
   ]
  },
  {
   "cell_type": "code",
   "execution_count": 1,
   "id": "d844ec19-010c-4aec-966c-8b2afa5ca6c2",
   "metadata": {},
   "outputs": [
    {
     "ename": "NameError",
     "evalue": "name 'o' is not defined",
     "output_type": "error",
     "traceback": [
      "\u001b[1;31m---------------------------------------------------------------------------\u001b[0m",
      "\u001b[1;31mNameError\u001b[0m                                 Traceback (most recent call last)",
      "Cell \u001b[1;32mIn[1], line 1\u001b[0m\n\u001b[1;32m----> 1\u001b[0m o \u001b[38;5;129;01mor\u001b[39;00m \u001b[38;5;241m1\u001b[39m\n",
      "\u001b[1;31mNameError\u001b[0m: name 'o' is not defined"
     ]
    }
   ],
   "source": [
    "o or 1"
   ]
  },
  {
   "cell_type": "code",
   "execution_count": 1,
   "id": "7ef35681-bfde-4979-89f2-a5764b967425",
   "metadata": {},
   "outputs": [
    {
     "data": {
      "text/plain": [
       "1"
      ]
     },
     "execution_count": 1,
     "metadata": {},
     "output_type": "execute_result"
    }
   ],
   "source": [
    "0 or 1"
   ]
  },
  {
   "cell_type": "code",
   "execution_count": 3,
   "id": "1de9d3df-8aeb-45f3-8d75-1692eb941176",
   "metadata": {},
   "outputs": [
    {
     "ename": "NameError",
     "evalue": "name 'true' is not defined",
     "output_type": "error",
     "traceback": [
      "\u001b[1;31m---------------------------------------------------------------------------\u001b[0m",
      "\u001b[1;31mNameError\u001b[0m                                 Traceback (most recent call last)",
      "Cell \u001b[1;32mIn[3], line 1\u001b[0m\n\u001b[1;32m----> 1\u001b[0m \u001b[38;5;28mint\u001b[39m(true)\n",
      "\u001b[1;31mNameError\u001b[0m: name 'true' is not defined"
     ]
    }
   ],
   "source": [
    "int(true)"
   ]
  },
  {
   "cell_type": "code",
   "execution_count": 4,
   "id": "977ba87c-3299-47a7-8a24-6341009ebbb1",
   "metadata": {},
   "outputs": [
    {
     "data": {
      "text/plain": [
       "1"
      ]
     },
     "execution_count": 4,
     "metadata": {},
     "output_type": "execute_result"
    }
   ],
   "source": [
    "int(True)"
   ]
  },
  {
   "cell_type": "code",
   "execution_count": 5,
   "id": "ca710e3d-0170-44e1-830b-9c1363467e20",
   "metadata": {},
   "outputs": [
    {
     "data": {
      "text/plain": [
       "0"
      ]
     },
     "execution_count": 5,
     "metadata": {},
     "output_type": "execute_result"
    }
   ],
   "source": [
    "int(False)"
   ]
  },
  {
   "cell_type": "code",
   "execution_count": 6,
   "id": "4cc1fa49-309d-4edc-89f5-52403072a0ba",
   "metadata": {},
   "outputs": [
    {
     "data": {
      "text/plain": [
       "True"
      ]
     },
     "execution_count": 6,
     "metadata": {},
     "output_type": "execute_result"
    }
   ],
   "source": [
    "bool(5)"
   ]
  },
  {
   "cell_type": "code",
   "execution_count": 7,
   "id": "b5895bf9-2188-462e-b4d4-596279c4deae",
   "metadata": {},
   "outputs": [
    {
     "data": {
      "text/plain": [
       "True"
      ]
     },
     "execution_count": 7,
     "metadata": {},
     "output_type": "execute_result"
    }
   ],
   "source": [
    "bool(-5)"
   ]
  },
  {
   "cell_type": "code",
   "execution_count": 8,
   "id": "e275ae35-d1c6-4d98-b245-e0b5be908992",
   "metadata": {},
   "outputs": [
    {
     "data": {
      "text/plain": [
       "False"
      ]
     },
     "execution_count": 8,
     "metadata": {},
     "output_type": "execute_result"
    }
   ],
   "source": [
    "bool(0)"
   ]
  },
  {
   "cell_type": "code",
   "execution_count": 9,
   "id": "5efe24db-8ffc-4615-85e9-c7817eece918",
   "metadata": {},
   "outputs": [],
   "source": [
    "#blank text also false "
   ]
  },
  {
   "cell_type": "code",
   "execution_count": 11,
   "id": "70ee0498-f4b5-4c46-a4c5-e33f7df4af0b",
   "metadata": {},
   "outputs": [
    {
     "data": {
      "text/plain": [
       "False"
      ]
     },
     "execution_count": 11,
     "metadata": {},
     "output_type": "execute_result"
    }
   ],
   "source": [
    "bool(None)"
   ]
  },
  {
   "cell_type": "code",
   "execution_count": 12,
   "id": "51301298-9f90-49be-aae1-0f6ed778d5ff",
   "metadata": {},
   "outputs": [
    {
     "ename": "NameError",
     "evalue": "name 'true' is not defined",
     "output_type": "error",
     "traceback": [
      "\u001b[1;31m---------------------------------------------------------------------------\u001b[0m",
      "\u001b[1;31mNameError\u001b[0m                                 Traceback (most recent call last)",
      "Cell \u001b[1;32mIn[12], line 1\u001b[0m\n\u001b[1;32m----> 1\u001b[0m \u001b[38;5;28mtype\u001b[39m(true)\n",
      "\u001b[1;31mNameError\u001b[0m: name 'true' is not defined"
     ]
    }
   ],
   "source": [
    "type(true)"
   ]
  },
  {
   "cell_type": "code",
   "execution_count": 13,
   "id": "77e30201-6277-42c4-a09d-f5219596a985",
   "metadata": {},
   "outputs": [
    {
     "data": {
      "text/plain": [
       "bool"
      ]
     },
     "execution_count": 13,
     "metadata": {},
     "output_type": "execute_result"
    }
   ],
   "source": [
    "type(True)"
   ]
  },
  {
   "cell_type": "code",
   "execution_count": 14,
   "id": "ebb0a734-e965-4da7-a871-f323c8b25e55",
   "metadata": {},
   "outputs": [
    {
     "data": {
      "text/plain": [
       "False"
      ]
     },
     "execution_count": 14,
     "metadata": {},
     "output_type": "execute_result"
    }
   ],
   "source": [
    "bool(\"\")"
   ]
  },
  {
   "cell_type": "code",
   "execution_count": 15,
   "id": "47d358eb-dc51-4f1f-ba41-23d2c4fd1dfd",
   "metadata": {},
   "outputs": [
    {
     "data": {
      "text/plain": [
       "True"
      ]
     },
     "execution_count": 15,
     "metadata": {},
     "output_type": "execute_result"
    }
   ],
   "source": [
    "bool(\" kkk\")"
   ]
  },
  {
   "cell_type": "code",
   "execution_count": 17,
   "id": "ad8e2217-4d86-48c6-b148-bfaafa6e73c2",
   "metadata": {},
   "outputs": [
    {
     "data": {
      "text/plain": [
       "False"
      ]
     },
     "execution_count": 17,
     "metadata": {},
     "output_type": "execute_result"
    }
   ],
   "source": [
    "#dictionary\n",
    "bool([])"
   ]
  },
  {
   "cell_type": "code",
   "execution_count": 18,
   "id": "cc646279-2178-428e-ad96-fa16ceeac730",
   "metadata": {},
   "outputs": [
    {
     "data": {
      "text/plain": [
       "True"
      ]
     },
     "execution_count": 18,
     "metadata": {},
     "output_type": "execute_result"
    }
   ],
   "source": [
    "bool([5])"
   ]
  },
  {
   "cell_type": "code",
   "execution_count": 19,
   "id": "9b549f36-c6b5-418e-b46a-fcae5f875a45",
   "metadata": {},
   "outputs": [
    {
     "data": {
      "text/plain": [
       "False"
      ]
     },
     "execution_count": 19,
     "metadata": {},
     "output_type": "execute_result"
    }
   ],
   "source": [
    "#tupple\n",
    "bool(())"
   ]
  },
  {
   "cell_type": "code",
   "execution_count": 20,
   "id": "c595ddf6-8599-49ce-8d13-f8e866c5ad53",
   "metadata": {},
   "outputs": [
    {
     "data": {
      "text/plain": [
       "True"
      ]
     },
     "execution_count": 20,
     "metadata": {},
     "output_type": "execute_result"
    }
   ],
   "source": [
    "bool((5))"
   ]
  },
  {
   "cell_type": "code",
   "execution_count": 21,
   "id": "988eddee-b056-4b10-aed8-2e4564fb2321",
   "metadata": {},
   "outputs": [
    {
     "data": {
      "text/plain": [
       "False"
      ]
     },
     "execution_count": 21,
     "metadata": {},
     "output_type": "execute_result"
    }
   ],
   "source": [
    "#list\n",
    "bool({})"
   ]
  },
  {
   "cell_type": "markdown",
   "id": "34bcebd1-cf26-4f20-af0a-f10f1f9761a8",
   "metadata": {},
   "source": [
    "# IF ELIF ELSE"
   ]
  },
  {
   "cell_type": "code",
   "execution_count": 22,
   "id": "4a5f2da7-df2b-4b55-a83c-a9edc81a5b9b",
   "metadata": {},
   "outputs": [],
   "source": [
    "age = 20"
   ]
  },
  {
   "cell_type": "code",
   "execution_count": 23,
   "id": "3487d578-7043-4514-b484-b1b0d36c156b",
   "metadata": {},
   "outputs": [
    {
     "name": "stdout",
     "output_type": "stream",
     "text": [
      "welcome\n"
     ]
    }
   ],
   "source": [
    "if age > 18:\n",
    "    print(\"welcome\")"
   ]
  },
  {
   "cell_type": "code",
   "execution_count": 24,
   "id": "5187362a-38af-40f0-b9b6-99a8dcdaafca",
   "metadata": {},
   "outputs": [],
   "source": [
    "if age < 18:\n",
    "    print(\"welcome\")"
   ]
  },
  {
   "cell_type": "markdown",
   "id": "d82bd550-d038-44b0-9924-618f8910e19f",
   "metadata": {},
   "source": [
    "# comparison operators"
   ]
  },
  {
   "cell_type": "code",
   "execution_count": 25,
   "id": "afcb49f1-a250-4016-a181-281f5d829b52",
   "metadata": {},
   "outputs": [
    {
     "data": {
      "text/plain": [
       "False"
      ]
     },
     "execution_count": 25,
     "metadata": {},
     "output_type": "execute_result"
    }
   ],
   "source": [
    "5 >10"
   ]
  },
  {
   "cell_type": "code",
   "execution_count": 26,
   "id": "ba10ca0e-5176-48e5-b6e4-56ab417deccc",
   "metadata": {},
   "outputs": [
    {
     "data": {
      "text/plain": [
       "True"
      ]
     },
     "execution_count": 26,
     "metadata": {},
     "output_type": "execute_result"
    }
   ],
   "source": [
    "10>5"
   ]
  },
  {
   "cell_type": "code",
   "execution_count": 27,
   "id": "fb106ea3-98b4-4b7f-a1af-980aaeaafc00",
   "metadata": {},
   "outputs": [
    {
     "data": {
      "text/plain": [
       "False"
      ]
     },
     "execution_count": 27,
     "metadata": {},
     "output_type": "execute_result"
    }
   ],
   "source": [
    "5 > 5"
   ]
  },
  {
   "cell_type": "code",
   "execution_count": 31,
   "id": "151d20b0-c13b-443b-bdda-a845ffe209bf",
   "metadata": {},
   "outputs": [],
   "source": [
    "age = 10"
   ]
  },
  {
   "cell_type": "code",
   "execution_count": 32,
   "id": "48eea173-fdfd-4581-866d-29748c1c1c13",
   "metadata": {},
   "outputs": [
    {
     "data": {
      "text/plain": [
       "False"
      ]
     },
     "execution_count": 32,
     "metadata": {},
     "output_type": "execute_result"
    }
   ],
   "source": [
    "age == 1"
   ]
  },
  {
   "cell_type": "code",
   "execution_count": 33,
   "id": "771fcfdd-415f-48af-af17-beb72eb78221",
   "metadata": {},
   "outputs": [
    {
     "data": {
      "text/plain": [
       "True"
      ]
     },
     "execution_count": 33,
     "metadata": {},
     "output_type": "execute_result"
    }
   ],
   "source": [
    "5 == 5"
   ]
  },
  {
   "cell_type": "code",
   "execution_count": 36,
   "id": "ddb1c659-8804-4908-bb2c-d54e03c08857",
   "metadata": {},
   "outputs": [
    {
     "data": {
      "text/plain": [
       "True"
      ]
     },
     "execution_count": 36,
     "metadata": {},
     "output_type": "execute_result"
    }
   ],
   "source": [
    "age <= 15"
   ]
  },
  {
   "cell_type": "code",
   "execution_count": 37,
   "id": "f9e1722c-278d-40a5-ac54-20589415d364",
   "metadata": {},
   "outputs": [
    {
     "data": {
      "text/plain": [
       "10"
      ]
     },
     "execution_count": 37,
     "metadata": {},
     "output_type": "execute_result"
    }
   ],
   "source": [
    "age "
   ]
  },
  {
   "cell_type": "code",
   "execution_count": 38,
   "id": "d093cf43-8e62-4785-a810-4ba281e9f8de",
   "metadata": {},
   "outputs": [
    {
     "data": {
      "text/plain": [
       "True"
      ]
     },
     "execution_count": 38,
     "metadata": {},
     "output_type": "execute_result"
    }
   ],
   "source": [
    "age != 11"
   ]
  },
  {
   "cell_type": "code",
   "execution_count": 39,
   "id": "3d2fd911-d246-4e50-a9be-adf6e4203cd1",
   "metadata": {},
   "outputs": [
    {
     "data": {
      "text/plain": [
       "True"
      ]
     },
     "execution_count": 39,
     "metadata": {},
     "output_type": "execute_result"
    }
   ],
   "source": [
    "age != 18"
   ]
  },
  {
   "cell_type": "code",
   "execution_count": 46,
   "id": "f7cdafab-38d0-433a-b09a-85c3cf17c7a9",
   "metadata": {},
   "outputs": [
    {
     "data": {
      "text/plain": [
       "False"
      ]
     },
     "execution_count": 46,
     "metadata": {},
     "output_type": "execute_result"
    }
   ],
   "source": [
    "age > 18"
   ]
  },
  {
   "cell_type": "code",
   "execution_count": 47,
   "id": "4934139f-7b0a-4e61-aca5-b23d9404956f",
   "metadata": {},
   "outputs": [
    {
     "name": "stdout",
     "output_type": "stream",
     "text": [
      "welcome\n"
     ]
    }
   ],
   "source": [
    "if age < 18:\n",
    "    print(\"welcome\")"
   ]
  },
  {
   "cell_type": "code",
   "execution_count": 51,
   "id": "56f04466-db05-4383-8af9-d746f2d2bb82",
   "metadata": {},
   "outputs": [
    {
     "name": "stdout",
     "output_type": "stream",
     "text": [
      "welcome\n"
     ]
    }
   ],
   "source": [
    "if True:\n",
    "    print(\"welcome\")"
   ]
  },
  {
   "cell_type": "code",
   "execution_count": 52,
   "id": "49cb98e1-85b0-47f6-a258-1fee5ffa690f",
   "metadata": {},
   "outputs": [],
   "source": [
    "marks = 40"
   ]
  },
  {
   "cell_type": "code",
   "execution_count": 55,
   "id": "c07eff7a-1677-445b-86ad-e4d57c74cfa7",
   "metadata": {},
   "outputs": [
    {
     "name": "stdout",
     "output_type": "stream",
     "text": [
      "E\n"
     ]
    }
   ],
   "source": [
    "if marks >= 90:\n",
    "    print(\"A\")\n",
    "elif marks >= 75:\n",
    "    print(\"B\")\n",
    "elif marks >= 60:\n",
    "    print(\"c\")\n",
    "elif marks >= 48:\n",
    "    print(\"D\")\n",
    "else:\n",
    "    print(\"E\")"
   ]
  },
  {
   "cell_type": "code",
   "execution_count": 8,
   "id": "f0aa5038-29af-41f1-9f4a-a48d1985e82a",
   "metadata": {},
   "outputs": [],
   "source": [
    "marks = 80"
   ]
  },
  {
   "cell_type": "code",
   "execution_count": 9,
   "id": "8f8c32b4-8788-4f03-abbe-d3b13dd2a997",
   "metadata": {
    "scrolled": true
   },
   "outputs": [
    {
     "name": "stdout",
     "output_type": "stream",
     "text": [
      "b\n"
     ]
    }
   ],
   "source": [
    "if marks >= 85:\n",
    "    print(\"a\")\n",
    "elif marks >= 75:\n",
    "    print(\"b\")\n",
    "elif marks >= 60:\n",
    "    print(\"c\")\n",
    "elif marks >= 40:\n",
    "    print(\"d\")\n",
    "else:\n",
    "    print(\"e\")"
   ]
  },
  {
   "cell_type": "code",
   "execution_count": 1,
   "id": "4868d4b9-de6c-4ca9-9cbc-7a25af5b22a3",
   "metadata": {},
   "outputs": [],
   "source": [
    "# 2,3 ,5"
   ]
  },
  {
   "cell_type": "markdown",
   "id": "94e9b586-1ee2-42c3-9629-abe1977f5d47",
   "metadata": {},
   "source": [
    "# NESTED IF ELSE"
   ]
  },
  {
   "cell_type": "code",
   "execution_count": null,
   "id": "95e9c810-4ba7-4b92-b90a-25154e13a876",
   "metadata": {},
   "outputs": [],
   "source": [
    "# positive num or negative number"
   ]
  },
  {
   "cell_type": "code",
   "execution_count": 5,
   "id": "d7f4c557-3185-413b-abba-554510b72a95",
   "metadata": {},
   "outputs": [
    {
     "name": "stdout",
     "output_type": "stream",
     "text": [
      "zero\n"
     ]
    }
   ],
   "source": [
    "n = 0\n",
    "if n > 0:\n",
    "    print(\"positive\")\n",
    "elif n <0:\n",
    "    print(\"negative\")\n",
    "else:\n",
    "    print(\"zero\")"
   ]
  },
  {
   "cell_type": "code",
   "execution_count": 7,
   "id": "28a6ed15-0b9b-4855-bf06-39810ea2ed15",
   "metadata": {},
   "outputs": [
    {
     "name": "stdout",
     "output_type": "stream",
     "text": [
      "hello\n",
      "hii\n"
     ]
    }
   ],
   "source": [
    "n =10\n",
    "m = 15\n",
    "\n",
    "if m > n:\n",
    "    print(\"hello\")\n",
    "    print(\"hii\")"
   ]
  },
  {
   "cell_type": "code",
   "execution_count": 8,
   "id": "533bc41d-2d68-4809-a60c-d02a4bbbea9f",
   "metadata": {},
   "outputs": [
    {
     "name": "stdout",
     "output_type": "stream",
     "text": [
      "hii\n"
     ]
    }
   ],
   "source": [
    "# if statement false then without identiation part will run\n",
    "n =10\n",
    "m = 5\n",
    "\n",
    "if m > n:\n",
    "    print(\"hello\")\n",
    "print(\"hii\")"
   ]
  },
  {
   "cell_type": "code",
   "execution_count": 9,
   "id": "bfef9453-7ae0-4209-a32e-e5171261bdb1",
   "metadata": {},
   "outputs": [
    {
     "name": "stdout",
     "output_type": "stream",
     "text": [
      "bye\n",
      "hii\n"
     ]
    }
   ],
   "source": [
    "n =10\n",
    "m = 5\n",
    "\n",
    "if m > n:\n",
    "    print(\"hello\")\n",
    "else :\n",
    "    print(\"bye\")\n",
    "print(\"hii\")"
   ]
  },
  {
   "cell_type": "code",
   "execution_count": 1,
   "id": "bd7bd2c9-4b87-4b49-9ea1-196239e978d7",
   "metadata": {},
   "outputs": [
    {
     "ename": "SyntaxError",
     "evalue": "invalid syntax (117726704.py, line 7)",
     "output_type": "error",
     "traceback": [
      "\u001b[1;36m  Cell \u001b[1;32mIn[1], line 7\u001b[1;36m\u001b[0m\n\u001b[1;33m    else:\u001b[0m\n\u001b[1;37m    ^\u001b[0m\n\u001b[1;31mSyntaxError\u001b[0m\u001b[1;31m:\u001b[0m invalid syntax\n"
     ]
    }
   ],
   "source": [
    "n =10\n",
    "m = 5\n",
    "\n",
    "if m > n:\n",
    "    print(\"hello\")\n",
    "print(\"hii\")\n",
    "else:\n",
    "    print(\"bye\")\n"
   ]
  },
  {
   "cell_type": "code",
   "execution_count": 12,
   "id": "35978997-cbcf-4f9a-94f3-d7181339db64",
   "metadata": {},
   "outputs": [
    {
     "name": "stdout",
     "output_type": "stream",
     "text": [
      "hi\n"
     ]
    }
   ],
   "source": [
    "m = 10\n",
    "n = 20\n",
    "o = 30\n",
    "\n",
    "if o > n :\n",
    "    print(\"hi\")\n",
    "elif o > m:\n",
    "    print(\"hello\")\n",
    "else:    \n",
    "    print(\"bye\")    "
   ]
  },
  {
   "cell_type": "code",
   "execution_count": 13,
   "id": "a0949dba-0ec4-4a94-adb5-54ace73cb6ef",
   "metadata": {},
   "outputs": [
    {
     "name": "stdout",
     "output_type": "stream",
     "text": [
      "hello\n"
     ]
    }
   ],
   "source": [
    "m = 10\n",
    "n = 20\n",
    "o = 15\n",
    "\n",
    "if o > n :\n",
    "    print(\"hi\")\n",
    "if o > m:\n",
    "    print(\"hello\")\n",
    "   "
   ]
  },
  {
   "cell_type": "code",
   "execution_count": 2,
   "id": "cda01300-f20c-431e-aff2-4b76bdb8fdc0",
   "metadata": {},
   "outputs": [
    {
     "name": "stdout",
     "output_type": "stream",
     "text": [
      "hi\n",
      "hello\n"
     ]
    }
   ],
   "source": [
    "#independent if\n",
    "m = 10\n",
    "n = 20\n",
    "o = 30\n",
    "\n",
    "if o > n :\n",
    "    print(\"hi\")\n",
    "if o > m:\n",
    "    print(\"hello\")\n",
    "   "
   ]
  },
  {
   "cell_type": "code",
   "execution_count": 18,
   "id": "d03daf05-d0a5-4719-88a5-016542a745bf",
   "metadata": {},
   "outputs": [
    {
     "data": {
      "text/plain": [
       "4.2"
      ]
     },
     "execution_count": 18,
     "metadata": {},
     "output_type": "execute_result"
    }
   ],
   "source": [
    "21/5"
   ]
  },
  {
   "cell_type": "code",
   "execution_count": 19,
   "id": "23f49d2d-4c06-4e53-a5a2-f3b8958cb0d9",
   "metadata": {},
   "outputs": [
    {
     "name": "stdout",
     "output_type": "stream",
     "text": [
      "division\n"
     ]
    }
   ],
   "source": [
    "if 28 % 7 == 0:\n",
    "    print(\"division\")"
   ]
  },
  {
   "cell_type": "code",
   "execution_count": 20,
   "id": "0046d632-d6ce-49e5-9aa9-1295678e5968",
   "metadata": {},
   "outputs": [
    {
     "data": {
      "text/plain": [
       "True"
      ]
     },
     "execution_count": 20,
     "metadata": {},
     "output_type": "execute_result"
    }
   ],
   "source": [
    "22 % 2 == 0"
   ]
  },
  {
   "cell_type": "code",
   "execution_count": 35,
   "id": "8b9280d0-af16-472e-8bf5-c0ac3740efa2",
   "metadata": {},
   "outputs": [
    {
     "name": "stdout",
     "output_type": "stream",
     "text": [
      "even\n"
     ]
    }
   ],
   "source": [
    "n = 20\n",
    "if n % 2 ==0:\n",
    "    print(\"even\")\n",
    "else:\n",
    "    print(\"odd\")"
   ]
  },
  {
   "cell_type": "code",
   "execution_count": 4,
   "id": "a39ffe80-6d1e-49cb-98d2-2e1438fa1f67",
   "metadata": {},
   "outputs": [
    {
     "name": "stdin",
     "output_type": "stream",
     "text": [
      " 7\n"
     ]
    },
    {
     "name": "stdout",
     "output_type": "stream",
     "text": [
      "even\n"
     ]
    }
   ],
   "source": [
    "n = int(input())\n",
    "if n % 2 ==1:\n",
    "    print(\"even\")\n",
    "else:\n",
    "    print(\"odd\")"
   ]
  },
  {
   "cell_type": "code",
   "execution_count": 31,
   "id": "7444f9ee-8608-46b1-9e5e-66137578e6ee",
   "metadata": {},
   "outputs": [],
   "source": [
    "n = 19\n",
    "m =20\n",
    "o = 21"
   ]
  },
  {
   "cell_type": "code",
   "execution_count": 32,
   "id": "c22c41c3-7a86-4717-b846-b7b7d158b6ef",
   "metadata": {},
   "outputs": [
    {
     "data": {
      "text/plain": [
       "1"
      ]
     },
     "execution_count": 32,
     "metadata": {},
     "output_type": "execute_result"
    }
   ],
   "source": [
    "n % 3"
   ]
  },
  {
   "cell_type": "code",
   "execution_count": 29,
   "id": "094243ee-4114-43dc-bada-567b7c089e4b",
   "metadata": {},
   "outputs": [
    {
     "data": {
      "text/plain": [
       "0"
      ]
     },
     "execution_count": 29,
     "metadata": {},
     "output_type": "execute_result"
    }
   ],
   "source": [
    "m % 3"
   ]
  },
  {
   "cell_type": "code",
   "execution_count": 30,
   "id": "a03bf9f5-db28-4fd9-ac21-81167670f6bb",
   "metadata": {},
   "outputs": [
    {
     "data": {
      "text/plain": [
       "1"
      ]
     },
     "execution_count": 30,
     "metadata": {},
     "output_type": "execute_result"
    }
   ],
   "source": [
    "o % 3"
   ]
  },
  {
   "cell_type": "code",
   "execution_count": 44,
   "id": "12b72967-9b8c-45d8-97c1-9a033aa23713",
   "metadata": {},
   "outputs": [],
   "source": []
  },
  {
   "cell_type": "code",
   "execution_count": 7,
   "id": "1d360fb0-830b-4521-a2ea-daa3053888bd",
   "metadata": {},
   "outputs": [
    {
     "name": "stdout",
     "output_type": "stream",
     "text": [
      "not divisible by 2 but by 3\n"
     ]
    }
   ],
   "source": [
    "# nested if else\n",
    "n = 9\n",
    "if n % 2 ==0:\n",
    "    # divisible by 2\n",
    "    if n % 3 ==0:\n",
    "        # divisible by 3\n",
    "        print(\"divisible by 2 and 3\")\n",
    "    else:      \n",
    "        print(\"divisible by 2 not 3\")\n",
    "elif n % 3 == 0:\n",
    "    print(\"not divisible by 2 but by 3\")\n",
    "else:\n",
    "    print(\"not divisible by 2 and 3\")"
   ]
  },
  {
   "cell_type": "code",
   "execution_count": 23,
   "id": "33fa12d0-f009-45b6-9f18-fdb40e27a85a",
   "metadata": {},
   "outputs": [
    {
     "name": "stdout",
     "output_type": "stream",
     "text": [
      "divisible by 5\n"
     ]
    }
   ],
   "source": [
    "n = 2\n",
    "if n % 2 ==0:\n",
    "    if n % 3 ==0:\n",
    "        if n % 5 ==0:\n",
    "            print(\"divisible by 2, 3,5\")\n",
    "        else:    \n",
    "            print(\"divisible by 2 and 3 not 5\")\n",
    "    elif n % 2 ==0:    \n",
    "        print(\"divisible by 2 and 5\")\n",
    "    else:\n",
    "     print(\" divisible by 2 not 3 not 5\")\n",
    "elif n % 3 ==0:\n",
    "    if n % 5 ==0:\n",
    "        print(\"divisible by 3 and 5\")\n",
    "    else:\n",
    "        print(\"divisible by 3\")\n",
    "elif n % 5 == 0:\n",
    "    print(\"divisible by 5\")\n",
    "else:\n",
    "    print(\"not divisible by 2 or 3 or 5\")\n",
    "\n",
    "\n",
    "    "
   ]
  },
  {
   "cell_type": "markdown",
   "id": "a3d4a18f-fef0-4f63-a823-4b600bf49b13",
   "metadata": {},
   "source": [
    "# logical operators"
   ]
  },
  {
   "cell_type": "markdown",
   "id": "aede3d5a-ecaf-4756-ad73-bc71dbd03363",
   "metadata": {},
   "source": [
    "## not"
   ]
  },
  {
   "cell_type": "code",
   "execution_count": 1,
   "id": "d7df280d-87fa-45d8-ade8-b0e17fd480a6",
   "metadata": {},
   "outputs": [
    {
     "data": {
      "text/plain": [
       "False"
      ]
     },
     "execution_count": 1,
     "metadata": {},
     "output_type": "execute_result"
    }
   ],
   "source": [
    "not True"
   ]
  },
  {
   "cell_type": "code",
   "execution_count": 2,
   "id": "c19ac9c6-5af6-462e-b8d4-2b48b066ab80",
   "metadata": {},
   "outputs": [
    {
     "data": {
      "text/plain": [
       "True"
      ]
     },
     "execution_count": 2,
     "metadata": {},
     "output_type": "execute_result"
    }
   ],
   "source": [
    "not False"
   ]
  },
  {
   "cell_type": "code",
   "execution_count": 3,
   "id": "eb5e519d-c929-43ce-8b94-d1946d1ce65c",
   "metadata": {},
   "outputs": [],
   "source": [
    "if not True:\n",
    "    print(\"hello\")"
   ]
  },
  {
   "cell_type": "code",
   "execution_count": 4,
   "id": "f00c7a91-5e79-4b1e-8177-ed296a6b5141",
   "metadata": {},
   "outputs": [
    {
     "name": "stdout",
     "output_type": "stream",
     "text": [
      "hii\n"
     ]
    }
   ],
   "source": [
    "if not False:\n",
    "    print(\"hii\")"
   ]
  },
  {
   "cell_type": "code",
   "execution_count": 5,
   "id": "10a1b4f8-115f-4041-8ec6-0c77d8034bfe",
   "metadata": {},
   "outputs": [
    {
     "name": "stdout",
     "output_type": "stream",
     "text": [
      "hii kanu\n"
     ]
    }
   ],
   "source": [
    "# if name is blank then print value also blank\n",
    "name = \"kanu\"\n",
    "if name:\n",
    "    print(\"hii\", name)"
   ]
  },
  {
   "cell_type": "code",
   "execution_count": 6,
   "id": "f4061be0-c2e4-406d-b10b-05fc86822f6c",
   "metadata": {},
   "outputs": [
    {
     "data": {
      "text/plain": [
       "True"
      ]
     },
     "execution_count": 6,
     "metadata": {},
     "output_type": "execute_result"
    }
   ],
   "source": [
    "bool(name)"
   ]
  },
  {
   "cell_type": "code",
   "execution_count": 7,
   "id": "487847d0-df30-48d3-97fd-238c7e3789e1",
   "metadata": {},
   "outputs": [],
   "source": [
    "name = \"\"\n",
    "if name:\n",
    "    print(\"hii\", name)"
   ]
  },
  {
   "cell_type": "code",
   "execution_count": 29,
   "id": "94bd018e-98d4-4e33-9730-7a4727420c8a",
   "metadata": {},
   "outputs": [],
   "source": [
    "first = True"
   ]
  },
  {
   "cell_type": "code",
   "execution_count": 31,
   "id": "7226bb2b-f7ca-40da-b375-a0078bac0aec",
   "metadata": {},
   "outputs": [
    {
     "name": "stdout",
     "output_type": "stream",
     "text": [
      "hii kk\n"
     ]
    }
   ],
   "source": [
    "if first:\n",
    "    print(\"hii user nice to meet you\")\n",
    "    name = input(\"enter your name\")\n",
    "    first = False\n",
    "else:\n",
    "    print(\"hii\", name)"
   ]
  },
  {
   "cell_type": "code",
   "execution_count": 14,
   "id": "6b64ae61-dbf7-408c-8ed3-762af95a720e",
   "metadata": {},
   "outputs": [
    {
     "name": "stdout",
     "output_type": "stream",
     "text": [
      "you are out of game\n"
     ]
    }
   ],
   "source": [
    "count = 0\n",
    "if not count:\n",
    "    print(\"you are out of game\")"
   ]
  },
  {
   "cell_type": "markdown",
   "id": "458556a7-2c0c-4c33-8245-d1d989c9e0f0",
   "metadata": {},
   "source": [
    "# AND"
   ]
  },
  {
   "cell_type": "code",
   "execution_count": 24,
   "id": "b6b0bed3-d20d-473b-ad1d-05ae1f7f296d",
   "metadata": {},
   "outputs": [],
   "source": [
    "attendence = 80"
   ]
  },
  {
   "cell_type": "code",
   "execution_count": 25,
   "id": "4da4ea46-ded1-43a3-b4ee-53b03552be7a",
   "metadata": {},
   "outputs": [],
   "source": [
    "marks = 50"
   ]
  },
  {
   "cell_type": "code",
   "execution_count": 27,
   "id": "47a1691b-4a5b-443e-bb5e-8693a4be1612",
   "metadata": {},
   "outputs": [],
   "source": [
    "if attendence < 75:\n",
    "    print (\"fail\")"
   ]
  },
  {
   "cell_type": "code",
   "execution_count": 28,
   "id": "7e5511f0-b829-449d-98f2-6f276cf10b9d",
   "metadata": {},
   "outputs": [],
   "source": [
    "if marks < 35:\n",
    "    print(\"fail\")"
   ]
  },
  {
   "cell_type": "code",
   "execution_count": 23,
   "id": "84b345bb-911f-4268-814b-e07c24441373",
   "metadata": {},
   "outputs": [
    {
     "name": "stdout",
     "output_type": "stream",
     "text": [
      "pass\n"
     ]
    }
   ],
   "source": [
    "if (attendence > 75) and (marks > 35):\n",
    "    print(\"pass\")\n",
    "else:\n",
    "    print(\"fail\")\n"
   ]
  },
  {
   "cell_type": "code",
   "execution_count": 38,
   "id": "003435a4-98cc-456d-9147-e9e184b09710",
   "metadata": {},
   "outputs": [],
   "source": [
    "ticket = True\n",
    "age = 18"
   ]
  },
  {
   "cell_type": "code",
   "execution_count": 39,
   "id": "f5926ea0-bbe4-45ee-aaa6-25c993297a5a",
   "metadata": {},
   "outputs": [
    {
     "name": "stdout",
     "output_type": "stream",
     "text": [
      "welcome\n"
     ]
    }
   ],
   "source": [
    "if age >=18 and ticket:\n",
    "    print(\"welcome\")\n",
    "else:\n",
    "    print(\"bye\")"
   ]
  },
  {
   "cell_type": "code",
   "execution_count": 41,
   "id": "09034b75-58fb-47ea-96a6-992ebb4982f6",
   "metadata": {},
   "outputs": [],
   "source": [
    "ticket = False\n",
    "age = 18"
   ]
  },
  {
   "cell_type": "markdown",
   "id": "8e47d36e-3f54-48aa-90fa-61daf8389006",
   "metadata": {},
   "source": [
    "if (age >=18) and (not ticket):\n",
    "    print(\"welcome\")\n",
    "else:\n",
    "    print(\"bye\")"
   ]
  },
  {
   "cell_type": "code",
   "execution_count": 43,
   "id": "8dce42b6-3737-4c37-b6ce-a5e5ff196e0d",
   "metadata": {},
   "outputs": [
    {
     "data": {
      "text/plain": [
       "True"
      ]
     },
     "execution_count": 43,
     "metadata": {},
     "output_type": "execute_result"
    }
   ],
   "source": [
    "True and True"
   ]
  },
  {
   "cell_type": "code",
   "execution_count": 44,
   "id": "82d70fa5-7e84-45e4-b8e8-69ecf6111034",
   "metadata": {},
   "outputs": [
    {
     "data": {
      "text/plain": [
       "False"
      ]
     },
     "execution_count": 44,
     "metadata": {},
     "output_type": "execute_result"
    }
   ],
   "source": [
    "False and True"
   ]
  },
  {
   "cell_type": "code",
   "execution_count": 45,
   "id": "1c048d9a-9b25-4e9e-81a8-bd571f3fab2d",
   "metadata": {},
   "outputs": [
    {
     "data": {
      "text/plain": [
       "False"
      ]
     },
     "execution_count": 45,
     "metadata": {},
     "output_type": "execute_result"
    }
   ],
   "source": [
    "False and False"
   ]
  },
  {
   "cell_type": "markdown",
   "id": "b2bff6a7-d292-4e6b-8395-f5b259e13b37",
   "metadata": {},
   "source": [
    "## OR\n"
   ]
  },
  {
   "cell_type": "code",
   "execution_count": 46,
   "id": "a8cb71dc-45b8-425f-826d-2d931092d28a",
   "metadata": {},
   "outputs": [
    {
     "data": {
      "text/plain": [
       "True"
      ]
     },
     "execution_count": 46,
     "metadata": {},
     "output_type": "execute_result"
    }
   ],
   "source": [
    "True or True"
   ]
  },
  {
   "cell_type": "code",
   "execution_count": 47,
   "id": "226c160f-4b54-4ab4-9aac-60f29e1b2c64",
   "metadata": {},
   "outputs": [
    {
     "data": {
      "text/plain": [
       "True"
      ]
     },
     "execution_count": 47,
     "metadata": {},
     "output_type": "execute_result"
    }
   ],
   "source": [
    "True or False\n"
   ]
  },
  {
   "cell_type": "code",
   "execution_count": 53,
   "id": "f804d7d9-76c9-4af6-a48a-9683a1d046bf",
   "metadata": {},
   "outputs": [
    {
     "name": "stdout",
     "output_type": "stream",
     "text": [
      "bhar ho jao\n"
     ]
    }
   ],
   "source": [
    "# one condion true\n",
    "marks = 80\n",
    "donation = 40000\n",
    "if marks > 80 or donation > 80000:\n",
    "    print(\"welcome to our schl\")\n",
    "else:\n",
    "    print(\"bhar ho jao\")"
   ]
  },
  {
   "cell_type": "code",
   "execution_count": 54,
   "id": "78a133a4-0e64-4dc8-9347-bd9f30945631",
   "metadata": {},
   "outputs": [
    {
     "name": "stdout",
     "output_type": "stream",
     "text": [
      "welcome user\n"
     ]
    }
   ],
   "source": [
    "email = True\n",
    "number = True\n",
    "if email or number:\n",
    "    print (\"welcome user\")\n",
    "else:\n",
    "    print(\"login krke aao\")"
   ]
  },
  {
   "cell_type": "code",
   "execution_count": 55,
   "id": "d58994a0-cf49-4428-99ab-c743f750d7e3",
   "metadata": {},
   "outputs": [
    {
     "name": "stdout",
     "output_type": "stream",
     "text": [
      "bye\n"
     ]
    }
   ],
   "source": [
    "email = False\n",
    "number = False\n",
    "password = True\n",
    "if (email or number) and password:\n",
    "    print(\"welcome\")\n",
    "else:\n",
    "    print(\"bye\")"
   ]
  },
  {
   "cell_type": "code",
   "execution_count": 61,
   "id": "cfe007f2-143d-4e41-9b84-1447a39837ea",
   "metadata": {},
   "outputs": [],
   "source": [
    "# next question\n",
    "hindi = 80\n",
    "english = 65\n",
    "math = 80\n",
    "science = 80\n"
   ]
  },
  {
   "cell_type": "code",
   "execution_count": 62,
   "id": "88f31494-ad4d-4ce2-9edf-7c4cb76d40dc",
   "metadata": {},
   "outputs": [],
   "source": [
    "average = (hindi + english + math + science) //4"
   ]
  },
  {
   "cell_type": "code",
   "execution_count": 63,
   "id": "94f74987-bb68-4369-901a-5257d5eac16f",
   "metadata": {},
   "outputs": [
    {
     "data": {
      "text/plain": [
       "76"
      ]
     },
     "execution_count": 63,
     "metadata": {},
     "output_type": "execute_result"
    }
   ],
   "source": [
    "average"
   ]
  },
  {
   "cell_type": "code",
   "execution_count": 73,
   "id": "19226542-c8ca-4cae-80d7-6cab9297abc1",
   "metadata": {},
   "outputs": [
    {
     "name": "stdout",
     "output_type": "stream",
     "text": [
      "pass\n",
      "distinction\n"
     ]
    }
   ],
   "source": [
    "if (hindi > 35) and (english > 35) and (math > 35) and (science > 35):\n",
    "    print(\"pass\")\n",
    "    \n",
    "    if (average >= 75) and (hindi > 40) and (english > 40) and (math > 40) and (science > 40):\n",
    "        print(\"distinction\")\n",
    "    else:\n",
    "        print(\"vishesh\")\n",
    "    if (hindi > 90) and (english > 90) and (math > 90) and (science > 90):   \n",
    "         print(\"topper\")\n",
    "else:\n",
    "    print(\"fail\")"
   ]
  },
  {
   "cell_type": "code",
   "execution_count": 75,
   "id": "757b7e50-be28-4afb-b24f-daa32bc9180a",
   "metadata": {},
   "outputs": [
    {
     "name": "stdout",
     "output_type": "stream",
     "text": [
      "login\n"
     ]
    }
   ],
   "source": [
    "# next question\n",
    "username = \"karunesh\"\n",
    "password = 12345\n",
    "\n",
    "if username and password:\n",
    "    if not username == \"karunesh\" or not password == 12345:\n",
    "        print(\"incorrect input\")\n",
    "    else:\n",
    "        print(\"login\")\n",
    "else:\n",
    "    print(\"incomplete input\")"
   ]
  },
  {
   "cell_type": "code",
   "execution_count": 77,
   "id": "4d2021ea-6ec7-4163-8dc8-4de4a4d54461",
   "metadata": {},
   "outputs": [
    {
     "data": {
      "text/plain": [
       "True"
      ]
     },
     "execution_count": 77,
     "metadata": {},
     "output_type": "execute_result"
    }
   ],
   "source": [
    "'r' in \"karunesh\""
   ]
  },
  {
   "cell_type": "code",
   "execution_count": 78,
   "id": "b27a5885-7cd5-44ee-9f83-23b9dbee15ed",
   "metadata": {},
   "outputs": [
    {
     "data": {
      "text/plain": [
       "False"
      ]
     },
     "execution_count": 78,
     "metadata": {},
     "output_type": "execute_result"
    }
   ],
   "source": [
    "'R' in \"karunesh\""
   ]
  },
  {
   "cell_type": "code",
   "execution_count": 79,
   "id": "e4b9f38f-ebbe-4fd8-9d66-a9372d77bc1e",
   "metadata": {
    "scrolled": true
   },
   "outputs": [
    {
     "data": {
      "text/plain": [
       "False"
      ]
     },
     "execution_count": 79,
     "metadata": {},
     "output_type": "execute_result"
    }
   ],
   "source": [
    "'r ' in \"karunesh\""
   ]
  },
  {
   "cell_type": "code",
   "execution_count": 2,
   "id": "e0d072a4-36b2-4fe6-9085-73c769901841",
   "metadata": {},
   "outputs": [],
   "source": [
    "# next question\n",
    "age = 20\n",
    "income = 50000\n",
    "credit_score =450 \n",
    "debts = 1700\n",
    "Employment = \"full-time\""
   ]
  },
  {
   "cell_type": "code",
   "execution_count": 5,
   "id": "07aa02b4-b09f-4b33-aef6-d919a7ea8eca",
   "metadata": {},
   "outputs": [
    {
     "name": "stdout",
     "output_type": "stream",
     "text": [
      "Loan approved\n",
      "Loan {loan}\n",
      "intrest 30000.0\n"
     ]
    }
   ],
   "source": [
    "\n",
    "if age >=18 and not Employment == \"unemployed\":\n",
    "    if credit_score > 400 and debts <= income * 0.3:\n",
    "        loan = income*12 * 0.5\n",
    "        intrest = loan * 0.1\n",
    "        \n",
    "        print(\"Loan approved\")\n",
    "        print(f\"Loan {loan}\")\n",
    "        print(f\"intrest {intrest}\")\n",
    "\n",
    "    elif credit_score > 400 and debts >= income * 0.3:\n",
    "        loan = income * 12 * 0.3\n",
    "        intrest = loan*0.1\n",
    "        print(\"Loan approved\")\n",
    "        print(f\"Loan {loan}\")\n",
    "        print(f\"interest {interest}\")\n",
    "\n",
    "    elif credit_score <= 400 and debts < income*0.3:\n",
    "        loan = income *12 * 0.5\n",
    "        interest = loan * 0.12\n",
    "        \n",
    "        print(\"Loan approved\")\n",
    "        print(f\"Loan {loan}\")\n",
    "        print(f\"interest {interest}\")\n",
    "\n",
    "    else:\n",
    "        print(\"loan rejected\")\n",
    "        \n",
    "else:\n",
    "    print(\"loan rejected\")"
   ]
  },
  {
   "cell_type": "code",
   "execution_count": null,
   "id": "4804fc24-5747-43bf-a6ec-5fc46f379f27",
   "metadata": {},
   "outputs": [],
   "source": []
  }
 ],
 "metadata": {
  "kernelspec": {
   "display_name": "Python [conda env:base] *",
   "language": "python",
   "name": "conda-base-py"
  },
  "language_info": {
   "codemirror_mode": {
    "name": "ipython",
    "version": 3
   },
   "file_extension": ".py",
   "mimetype": "text/x-python",
   "name": "python",
   "nbconvert_exporter": "python",
   "pygments_lexer": "ipython3",
   "version": "3.13.5"
  }
 },
 "nbformat": 4,
 "nbformat_minor": 5
}
