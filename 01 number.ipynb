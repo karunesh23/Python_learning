{
 "cells": [
  {
   "cell_type": "markdown",
   "id": "15bbf471-75be-4d9b-9ac5-abe700384514",
   "metadata": {},
   "source": [
    "amount = 6"
   ]
  },
  {
   "cell_type": "markdown",
   "id": "e3053da8-d1f5-47d0-9f66-15b117f0baa7",
   "metadata": {},
   "source": [
    "amount +2"
   ]
  },
  {
   "cell_type": "markdown",
   "id": "032ad897-ef15-469c-a663-b39d99ca3d58",
   "metadata": {},
   "source": [
    "amount * 3"
   ]
  },
  {
   "cell_type": "markdown",
   "id": "bc3b5121-d06b-46b1-bfc9-e6a8d1afcc01",
   "metadata": {},
   "source": [
    "amount"
   ]
  },
  {
   "cell_type": "markdown",
   "id": "bfa03e97-2b26-4614-8cc4-d65ed64425f6",
   "metadata": {},
   "source": [
    "amount = 10"
   ]
  },
  {
   "cell_type": "markdown",
   "id": "13fd3ebb-5020-4f56-b60f-eb7bdcb40dec",
   "metadata": {},
   "source": [
    "amount"
   ]
  },
  {
   "cell_type": "markdown",
   "id": "813f0772-a4e7-4b33-8504-83083911a40f",
   "metadata": {},
   "source": [
    " amount = amount + 5"
   ]
  },
  {
   "cell_type": "markdown",
   "id": "b7ba646f-e420-44f2-86f6-92cd633dca4e",
   "metadata": {},
   "source": [
    "amount"
   ]
  },
  {
   "cell_type": "markdown",
   "id": "ef6fbebf-4458-4f63-97f0-f7c88a3d6764",
   "metadata": {},
   "source": [
    "## assignment operators\n"
   ]
  },
  {
   "cell_type": "code",
   "execution_count": 13,
   "id": "401c167b-de12-4d47-8ad4-e22fe0ab622c",
   "metadata": {},
   "outputs": [],
   "source": [
    "a = 10"
   ]
  },
  {
   "cell_type": "code",
   "execution_count": 16,
   "id": "55755311-fd00-43e4-aef9-60495eb7367a",
   "metadata": {},
   "outputs": [],
   "source": [
    "a = a+1"
   ]
  },
  {
   "cell_type": "code",
   "execution_count": 17,
   "id": "fdc78d67-daa7-403e-ac81-bab50ae2d696",
   "metadata": {},
   "outputs": [
    {
     "data": {
      "text/plain": [
       "12"
      ]
     },
     "execution_count": 17,
     "metadata": {},
     "output_type": "execute_result"
    }
   ],
   "source": [
    "a"
   ]
  },
  {
   "cell_type": "code",
   "execution_count": 18,
   "id": "619b104a-2f5c-4104-b494-eed19717cb7d",
   "metadata": {},
   "outputs": [],
   "source": [
    "a += 1"
   ]
  },
  {
   "cell_type": "code",
   "execution_count": 19,
   "id": "47e75f07-4c12-47f7-96bb-02c7cd637e93",
   "metadata": {},
   "outputs": [
    {
     "data": {
      "text/plain": [
       "13"
      ]
     },
     "execution_count": 19,
     "metadata": {},
     "output_type": "execute_result"
    }
   ],
   "source": [
    "a"
   ]
  },
  {
   "cell_type": "code",
   "execution_count": 20,
   "id": "00547bc4-00a6-42a7-bc38-22988f67ce87",
   "metadata": {},
   "outputs": [],
   "source": [
    "a -= 1"
   ]
  },
  {
   "cell_type": "code",
   "execution_count": 21,
   "id": "3d5f82d2-360f-4f8b-a990-1dc1cedbe781",
   "metadata": {},
   "outputs": [
    {
     "data": {
      "text/plain": [
       "12"
      ]
     },
     "execution_count": 21,
     "metadata": {},
     "output_type": "execute_result"
    }
   ],
   "source": [
    "a"
   ]
  },
  {
   "cell_type": "code",
   "execution_count": 22,
   "id": "05a66c6e-08d6-4b7a-80eb-cfa26c8358bf",
   "metadata": {},
   "outputs": [],
   "source": [
    "a *= 2"
   ]
  },
  {
   "cell_type": "code",
   "execution_count": 23,
   "id": "2dec32b7-97d5-4645-9150-7848eee46679",
   "metadata": {},
   "outputs": [
    {
     "data": {
      "text/plain": [
       "24"
      ]
     },
     "execution_count": 23,
     "metadata": {},
     "output_type": "execute_result"
    }
   ],
   "source": [
    "a"
   ]
  },
  {
   "cell_type": "code",
   "execution_count": 24,
   "id": "c862e1b2-3e4d-40f8-8f30-eaefcd6c7eff",
   "metadata": {},
   "outputs": [],
   "source": [
    "a /= 2"
   ]
  },
  {
   "cell_type": "code",
   "execution_count": 25,
   "id": "2619b4f9-3379-4ace-b6b0-825246e630c1",
   "metadata": {},
   "outputs": [
    {
     "data": {
      "text/plain": [
       "12.0"
      ]
     },
     "execution_count": 25,
     "metadata": {},
     "output_type": "execute_result"
    }
   ],
   "source": [
    "a"
   ]
  },
  {
   "cell_type": "code",
   "execution_count": 26,
   "id": "3bddc5b5-e757-46c9-b733-48cf2bdff384",
   "metadata": {},
   "outputs": [],
   "source": [
    "a %= 2"
   ]
  },
  {
   "cell_type": "code",
   "execution_count": 27,
   "id": "c591b8e2-d2cf-4914-afdc-ca77a55a3386",
   "metadata": {},
   "outputs": [
    {
     "data": {
      "text/plain": [
       "0.0"
      ]
     },
     "execution_count": 27,
     "metadata": {},
     "output_type": "execute_result"
    }
   ],
   "source": [
    "a"
   ]
  },
  {
   "cell_type": "code",
   "execution_count": 28,
   "id": "3859d331-187d-43b1-b31e-d93da99e45e2",
   "metadata": {},
   "outputs": [],
   "source": [
    "a = 12"
   ]
  },
  {
   "cell_type": "code",
   "execution_count": 29,
   "id": "934d59c4-6af9-472e-90bd-db6d104ab990",
   "metadata": {},
   "outputs": [
    {
     "data": {
      "text/plain": [
       "12"
      ]
     },
     "execution_count": 29,
     "metadata": {},
     "output_type": "execute_result"
    }
   ],
   "source": [
    "a"
   ]
  },
  {
   "cell_type": "code",
   "execution_count": 30,
   "id": "5efc460f-128c-4378-ba0d-58674c49dde0",
   "metadata": {},
   "outputs": [],
   "source": [
    "a *= 4"
   ]
  },
  {
   "cell_type": "code",
   "execution_count": 31,
   "id": "26a0d8b9-cb2e-47ad-bfd0-bd52c5592ed9",
   "metadata": {},
   "outputs": [
    {
     "data": {
      "text/plain": [
       "48"
      ]
     },
     "execution_count": 31,
     "metadata": {},
     "output_type": "execute_result"
    }
   ],
   "source": [
    "a"
   ]
  },
  {
   "cell_type": "code",
   "execution_count": 1,
   "id": "dcc921e0-d43b-45f6-9e0f-0188ab2f11bc",
   "metadata": {},
   "outputs": [],
   "source": [
    "# ipynb"
   ]
  },
  {
   "cell_type": "markdown",
   "id": "deafd419-1086-4ec7-adb6-b2172e0f603f",
   "metadata": {},
   "source": [
    "# Working with numbers"
   ]
  },
  {
   "cell_type": "code",
   "execution_count": 2,
   "id": "d23db96e-dd0e-4bb5-8773-a248200657e3",
   "metadata": {},
   "outputs": [
    {
     "data": {
      "text/plain": [
       "3.0"
      ]
     },
     "execution_count": 2,
     "metadata": {},
     "output_type": "execute_result"
    }
   ],
   "source": [
    "27**(1/3)"
   ]
  },
  {
   "cell_type": "code",
   "execution_count": 3,
   "id": "cc3ff8b0-86e9-41fd-8bdc-c50e2ad1b51f",
   "metadata": {},
   "outputs": [
    {
     "data": {
      "text/plain": [
       "5"
      ]
     },
     "execution_count": 3,
     "metadata": {},
     "output_type": "execute_result"
    }
   ],
   "source": [
    "8-3"
   ]
  },
  {
   "cell_type": "code",
   "execution_count": 4,
   "id": "e8dffb75-a3b0-450e-ae10-e22511b09df9",
   "metadata": {},
   "outputs": [
    {
     "data": {
      "text/plain": [
       "3.142857142857143"
      ]
     },
     "execution_count": 4,
     "metadata": {},
     "output_type": "execute_result"
    }
   ],
   "source": [
    "22/7"
   ]
  },
  {
   "cell_type": "code",
   "execution_count": 5,
   "id": "6a420524-dca2-405d-9deb-648d58f43f3d",
   "metadata": {},
   "outputs": [
    {
     "data": {
      "text/plain": [
       "3"
      ]
     },
     "execution_count": 5,
     "metadata": {},
     "output_type": "execute_result"
    }
   ],
   "source": [
    "22//7"
   ]
  },
  {
   "cell_type": "code",
   "execution_count": 6,
   "id": "6d758315-4cf5-4d32-a823-31b794b9a6b7",
   "metadata": {},
   "outputs": [
    {
     "data": {
      "text/plain": [
       "1"
      ]
     },
     "execution_count": 6,
     "metadata": {},
     "output_type": "execute_result"
    }
   ],
   "source": [
    "22%7"
   ]
  },
  {
   "cell_type": "markdown",
   "id": "0c559e4b-c09d-4f1f-bbab-42f79487a04b",
   "metadata": {},
   "source": [
    "# WORKING WITH VARIABLES"
   ]
  },
  {
   "cell_type": "code",
   "execution_count": 7,
   "id": "09aa05b2-cd09-44f4-938a-22ba75631028",
   "metadata": {},
   "outputs": [],
   "source": [
    "a=5"
   ]
  },
  {
   "cell_type": "code",
   "execution_count": 8,
   "id": "8be94397-1eb9-41ea-8b8e-ebad291c700a",
   "metadata": {},
   "outputs": [
    {
     "data": {
      "text/plain": [
       "5"
      ]
     },
     "execution_count": 8,
     "metadata": {},
     "output_type": "execute_result"
    }
   ],
   "source": [
    "a"
   ]
  },
  {
   "cell_type": "code",
   "execution_count": 9,
   "id": "68a5de09-36cd-4586-aed0-ebdd3304f0c5",
   "metadata": {},
   "outputs": [],
   "source": [
    "a= 50.6"
   ]
  },
  {
   "cell_type": "code",
   "execution_count": 10,
   "id": "22624ea3-158a-403c-addc-8e173197f7a9",
   "metadata": {},
   "outputs": [
    {
     "data": {
      "text/plain": [
       "50.6"
      ]
     },
     "execution_count": 10,
     "metadata": {},
     "output_type": "execute_result"
    }
   ],
   "source": [
    "a"
   ]
  },
  {
   "cell_type": "code",
   "execution_count": 11,
   "id": "ac3a51b9-d87b-428f-adad-4f1cd1a4a81b",
   "metadata": {},
   "outputs": [],
   "source": [
    "#snake casing\n",
    "roll_no = 24"
   ]
  },
  {
   "cell_type": "code",
   "execution_count": 12,
   "id": "978c30a2-19b0-4ba8-a088-770d77f07025",
   "metadata": {},
   "outputs": [],
   "source": [
    "password_of_wifi_of_it_department = 12345678"
   ]
  },
  {
   "cell_type": "code",
   "execution_count": 13,
   "id": "96691171-e26f-4299-b637-0f3a44ec52ec",
   "metadata": {},
   "outputs": [],
   "source": [
    "# camel casing\n",
    "passwordofwifiofitDepartment = 86754321"
   ]
  },
  {
   "cell_type": "code",
   "execution_count": 14,
   "id": "9c8983dc-3e27-4986-a8fd-2d32b4db2579",
   "metadata": {},
   "outputs": [],
   "source": [
    "#be specific with your naming\n",
    "d=4\n",
    "dogs=4"
   ]
  },
  {
   "cell_type": "code",
   "execution_count": 15,
   "id": "7de6a669-da14-4e36-9e33-3602ac2f3fd1",
   "metadata": {},
   "outputs": [],
   "source": [
    "#python is a case sensitive language\n",
    "name = 'priya'"
   ]
  },
  {
   "cell_type": "code",
   "execution_count": 16,
   "id": "79ee3b84-90b5-49b6-a5e8-a8291e617fb2",
   "metadata": {},
   "outputs": [],
   "source": [
    "Name = \"Riya\""
   ]
  },
  {
   "cell_type": "code",
   "execution_count": 17,
   "id": "411148b9-b984-4a16-9e8a-cbe8c3b4d140",
   "metadata": {},
   "outputs": [
    {
     "data": {
      "text/plain": [
       "'priya'"
      ]
     },
     "execution_count": 17,
     "metadata": {},
     "output_type": "execute_result"
    }
   ],
   "source": [
    "name"
   ]
  },
  {
   "cell_type": "code",
   "execution_count": 18,
   "id": "91e965ed-d42a-42c3-b488-e2105d4053fc",
   "metadata": {},
   "outputs": [
    {
     "data": {
      "text/plain": [
       "'Riya'"
      ]
     },
     "execution_count": 18,
     "metadata": {},
     "output_type": "execute_result"
    }
   ],
   "source": [
    "Name"
   ]
  },
  {
   "cell_type": "code",
   "execution_count": 19,
   "id": "5a2230ec-393e-4b63-808e-c88c468a5661",
   "metadata": {},
   "outputs": [],
   "source": [
    "#if variable doesn\"t exist then we get a name error"
   ]
  },
  {
   "cell_type": "code",
   "execution_count": 20,
   "id": "fd0047c0-e37f-429d-8ff5-661de39379c5",
   "metadata": {},
   "outputs": [],
   "source": [
    "amount = 6"
   ]
  },
  {
   "cell_type": "code",
   "execution_count": null,
   "id": "52e08937-2ff4-4951-a35b-e475c231eee2",
   "metadata": {},
   "outputs": [],
   "source": []
  }
 ],
 "metadata": {
  "kernelspec": {
   "display_name": "Python [conda env:base] *",
   "language": "python",
   "name": "conda-base-py"
  },
  "language_info": {
   "codemirror_mode": {
    "name": "ipython",
    "version": 3
   },
   "file_extension": ".py",
   "mimetype": "text/x-python",
   "name": "python",
   "nbconvert_exporter": "python",
   "pygments_lexer": "ipython3",
   "version": "3.13.5"
  }
 },
 "nbformat": 4,
 "nbformat_minor": 5
}
