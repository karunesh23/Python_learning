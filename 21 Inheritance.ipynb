{
 "cells": [
  {
   "cell_type": "code",
   "execution_count": 96,
   "id": "c3c988b6-ab98-4bb7-a504-ff15d5ee4ef3",
   "metadata": {},
   "outputs": [],
   "source": [
    "class Car():\n",
    "    tyre = 5\n",
    "\n",
    "    def __init__(self,company):\n",
    "        self.company = company\n",
    "        print(\"car was made\")\n",
    "\n",
    "    def __del__(self):\n",
    "        print(\"car was scraped\")\n",
    "\n",
    "    def __str__(self):\n",
    "        return(\"this is a car\")\n",
    "\n",
    "    def move(self):\n",
    "        print(\"moving forward\")\n",
    "\n",
    "    def fuelup(self):\n",
    "        print(\"fuel up\")"
   ]
  },
  {
   "cell_type": "code",
   "execution_count": 97,
   "id": "cb152b3d-d87b-436c-bbc4-6706a41962f9",
   "metadata": {},
   "outputs": [
    {
     "name": "stdout",
     "output_type": "stream",
     "text": [
      "car was made\n",
      "car was scraped\n"
     ]
    }
   ],
   "source": [
    "gadi = Car(\"tata\")"
   ]
  },
  {
   "cell_type": "code",
   "execution_count": 98,
   "id": "94252566-f1ed-4026-83e1-9c06aeed7424",
   "metadata": {},
   "outputs": [
    {
     "name": "stdout",
     "output_type": "stream",
     "text": [
      "fuel up\n"
     ]
    }
   ],
   "source": [
    "gadi.fuelup()"
   ]
  },
  {
   "cell_type": "code",
   "execution_count": 99,
   "id": "8a7bf7e5-2645-4492-9a64-dad7ce70fde2",
   "metadata": {},
   "outputs": [],
   "source": [
    "class CngCar(Car):\n",
    "    fuel = \"CNG\"\n",
    "\n",
    "    # function overloading = rewritiing a function\n",
    "    def __init__(self,model):\n",
    "        self.model = model\n",
    "\n",
    "    def intro(self):   # function overloading\n",
    "        print(\"this is a cng car\")\n",
    "\n",
    "    # super means parent class\n",
    "    def description(self):\n",
    "        print(\"this is a cng car\")\n",
    "        super().fuelup()"
   ]
  },
  {
   "cell_type": "code",
   "execution_count": 100,
   "id": "225e2d2d-abfb-41f2-aa9b-b771ff43df18",
   "metadata": {},
   "outputs": [
    {
     "name": "stdout",
     "output_type": "stream",
     "text": [
      "car was scraped\n"
     ]
    }
   ],
   "source": [
    "gadi = CngCar(\"tata\")"
   ]
  },
  {
   "cell_type": "code",
   "execution_count": 128,
   "id": "5cc35a9f-27e0-471e-b184-6830920cac45",
   "metadata": {},
   "outputs": [
    {
     "data": {
      "text/plain": [
       "'model'"
      ]
     },
     "execution_count": 128,
     "metadata": {},
     "output_type": "execute_result"
    }
   ],
   "source": [
    "gadi.model"
   ]
  },
  {
   "cell_type": "code",
   "execution_count": 104,
   "id": "acd130a6-82c0-4956-860a-c5fb0632dfed",
   "metadata": {},
   "outputs": [
    {
     "name": "stdout",
     "output_type": "stream",
     "text": [
      "this is a cng car\n",
      "fuel up\n"
     ]
    }
   ],
   "source": [
    "gadi.description()"
   ]
  },
  {
   "cell_type": "code",
   "execution_count": 105,
   "id": "dc787ac2-997d-4035-bbd7-216a4f043861",
   "metadata": {},
   "outputs": [
    {
     "name": "stdout",
     "output_type": "stream",
     "text": [
      "fuel up\n"
     ]
    }
   ],
   "source": [
    "gadi.fuelup()"
   ]
  },
  {
   "cell_type": "code",
   "execution_count": 106,
   "id": "4df02e05-c7a8-45d4-b2bc-2d12501c790f",
   "metadata": {},
   "outputs": [
    {
     "name": "stdout",
     "output_type": "stream",
     "text": [
      "this is a cng car\n"
     ]
    }
   ],
   "source": [
    "gadi.intro()"
   ]
  },
  {
   "cell_type": "code",
   "execution_count": 107,
   "id": "95bc79c3-086f-4d43-8e94-e86e3e8d95d8",
   "metadata": {},
   "outputs": [
    {
     "data": {
      "text/plain": [
       "'tata'"
      ]
     },
     "execution_count": 107,
     "metadata": {},
     "output_type": "execute_result"
    }
   ],
   "source": [
    "gadi.model"
   ]
  },
  {
   "cell_type": "code",
   "execution_count": 134,
   "id": "2801a09b-f0c2-4a78-9ae6-098810252b22",
   "metadata": {},
   "outputs": [],
   "source": [
    "class PetrolCar(Car):\n",
    "    fuel = \"Petrol\"\n",
    "\n",
    "    def __init__(self,company,model):\n",
    "        super().__init__(company)\n",
    "        self.model = model \n",
    "    \n",
    "    def fuelup(self): # function overloading\n",
    "        print(\"filling up with petrol\")\n",
    "    \n",
    "    def description(self):\n",
    "        print(\"this is a petrol car\")\n",
    "        super().fuelup() # super function\n",
    "        self.fuelup()"
   ]
  },
  {
   "cell_type": "code",
   "execution_count": 135,
   "id": "0d9f10c6-daf6-4828-9218-63df8e64ad83",
   "metadata": {},
   "outputs": [
    {
     "data": {
      "text/plain": [
       "5"
      ]
     },
     "execution_count": 135,
     "metadata": {},
     "output_type": "execute_result"
    }
   ],
   "source": [
    "gadi.tyre"
   ]
  },
  {
   "cell_type": "code",
   "execution_count": 136,
   "id": "00c6638e-6555-4c1b-b892-2531b55f0dd6",
   "metadata": {},
   "outputs": [
    {
     "name": "stdout",
     "output_type": "stream",
     "text": [
      "car was made\n",
      "car was scraped\n"
     ]
    }
   ],
   "source": [
    "gadi = PetrolCar(\"company\",\"model\")"
   ]
  },
  {
   "cell_type": "code",
   "execution_count": 137,
   "id": "cf3ded78-3e24-4fc3-bb02-b941b7005d2b",
   "metadata": {},
   "outputs": [
    {
     "data": {
      "text/plain": [
       "'Petrol'"
      ]
     },
     "execution_count": 137,
     "metadata": {},
     "output_type": "execute_result"
    }
   ],
   "source": [
    "gadi.fuel"
   ]
  },
  {
   "cell_type": "code",
   "execution_count": 138,
   "id": "2ccdd69f-520c-4d37-bbb6-75e8ef03fca7",
   "metadata": {},
   "outputs": [
    {
     "name": "stdout",
     "output_type": "stream",
     "text": [
      "this is a petrol car\n",
      "fuel up\n",
      "filling up with petrol\n"
     ]
    }
   ],
   "source": [
    "gadi.description()"
   ]
  },
  {
   "cell_type": "markdown",
   "id": "d7ea3847-3b13-4788-9d9d-f53f51a08278",
   "metadata": {},
   "source": [
    "### 4 pillers of OOPS 1. encapsulation 2. inheritance 3. polymorphism 4. abstraction "
   ]
  },
  {
   "cell_type": "code",
   "execution_count": 139,
   "id": "df1832b0-bb7d-4616-b3c4-7954a9ae6145",
   "metadata": {},
   "outputs": [
    {
     "name": "stdout",
     "output_type": "stream",
     "text": [
      "filling up with petrol\n"
     ]
    }
   ],
   "source": [
    "gadi.fuelup()"
   ]
  },
  {
   "cell_type": "code",
   "execution_count": 140,
   "id": "ebd1440a-2d5a-42aa-b874-0a2afc1f7097",
   "metadata": {},
   "outputs": [
    {
     "data": {
      "text/plain": [
       "'model'"
      ]
     },
     "execution_count": 140,
     "metadata": {},
     "output_type": "execute_result"
    }
   ],
   "source": [
    "gadi.model"
   ]
  },
  {
   "cell_type": "code",
   "execution_count": 141,
   "id": "adc52b13-7028-4eaa-8d1b-842ff75f769c",
   "metadata": {},
   "outputs": [
    {
     "data": {
      "text/plain": [
       "'company'"
      ]
     },
     "execution_count": 141,
     "metadata": {},
     "output_type": "execute_result"
    }
   ],
   "source": [
    "gadi.company"
   ]
  },
  {
   "cell_type": "code",
   "execution_count": 143,
   "id": "b043736a-b64c-4096-9c40-c869e617f2a2",
   "metadata": {},
   "outputs": [
    {
     "name": "stdout",
     "output_type": "stream",
     "text": [
      "car was scraped\n"
     ]
    },
    {
     "ename": "TypeError",
     "evalue": "CngCar.__init__() takes 2 positional arguments but 3 were given",
     "output_type": "error",
     "traceback": [
      "\u001b[1;31m---------------------------------------------------------------------------\u001b[0m",
      "\u001b[1;31mTypeError\u001b[0m                                 Traceback (most recent call last)",
      "Cell \u001b[1;32mIn[143], line 1\u001b[0m\n\u001b[1;32m----> 1\u001b[0m cngGadi \u001b[38;5;241m=\u001b[39m CngCar(\u001b[38;5;124m\"\u001b[39m\u001b[38;5;124mtata\u001b[39m\u001b[38;5;124m\"\u001b[39m, \u001b[38;5;124m\"\u001b[39m\u001b[38;5;124mnano\u001b[39m\u001b[38;5;124m\"\u001b[39m)\n",
      "\u001b[1;31mTypeError\u001b[0m: CngCar.__init__() takes 2 positional arguments but 3 were given"
     ]
    }
   ],
   "source": [
    "cngGadi = CngCar(\"tata\", \"nano\")"
   ]
  },
  {
   "cell_type": "code",
   "execution_count": 144,
   "id": "8c34f283-846c-4d6f-9195-932cce4c6c19",
   "metadata": {},
   "outputs": [
    {
     "name": "stdout",
     "output_type": "stream",
     "text": [
      "car was made\n",
      "car was scraped\n"
     ]
    }
   ],
   "source": [
    "petGadi = PetrolCar(\"maruti\", \"swift\")"
   ]
  },
  {
   "cell_type": "code",
   "execution_count": 145,
   "id": "c3e001ec-38e7-46c7-bd90-0e7fa177131b",
   "metadata": {},
   "outputs": [
    {
     "name": "stdout",
     "output_type": "stream",
     "text": [
      "this is a cng car\n"
     ]
    }
   ],
   "source": [
    "cngGadi.intro()"
   ]
  },
  {
   "cell_type": "code",
   "execution_count": 146,
   "id": "8879ed2f-ea3b-4c58-8805-8bed911a8957",
   "metadata": {},
   "outputs": [
    {
     "ename": "AttributeError",
     "evalue": "'PetrolCar' object has no attribute 'intro'",
     "output_type": "error",
     "traceback": [
      "\u001b[1;31m---------------------------------------------------------------------------\u001b[0m",
      "\u001b[1;31mAttributeError\u001b[0m                            Traceback (most recent call last)",
      "Cell \u001b[1;32mIn[146], line 1\u001b[0m\n\u001b[1;32m----> 1\u001b[0m petGadi\u001b[38;5;241m.\u001b[39mintro()\n",
      "\u001b[1;31mAttributeError\u001b[0m: 'PetrolCar' object has no attribute 'intro'"
     ]
    }
   ],
   "source": [
    "petGadi.intro()"
   ]
  },
  {
   "cell_type": "markdown",
   "id": "7c43a137-5c3c-4876-9e40-5ce9c80cd085",
   "metadata": {},
   "source": [
    "### Polymorphism"
   ]
  },
  {
   "cell_type": "code",
   "execution_count": 120,
   "id": "9e5162c8-bc0a-4dbb-b4b6-1110ad483477",
   "metadata": {},
   "outputs": [],
   "source": [
    "import numpy "
   ]
  },
  {
   "cell_type": "code",
   "execution_count": 121,
   "id": "211d1618-deca-4823-9a6a-8946bf2c6c64",
   "metadata": {},
   "outputs": [],
   "source": [
    "import random"
   ]
  },
  {
   "cell_type": "code",
   "execution_count": 123,
   "id": "46a9daaa-c698-4bcf-afa8-104b3bca005a",
   "metadata": {},
   "outputs": [
    {
     "data": {
      "text/plain": [
       "7"
      ]
     },
     "execution_count": 123,
     "metadata": {},
     "output_type": "execute_result"
    }
   ],
   "source": [
    "random.randint(5,10)"
   ]
  },
  {
   "cell_type": "code",
   "execution_count": 127,
   "id": "6b5ec9cf-103a-43c9-827f-9449f194b706",
   "metadata": {},
   "outputs": [
    {
     "data": {
      "text/plain": [
       "array([4, 3, 4, 4, 4, 3, 4, 3, 2, 3], dtype=int32)"
      ]
     },
     "execution_count": 127,
     "metadata": {},
     "output_type": "execute_result"
    }
   ],
   "source": [
    "numpy.random.randint(1,5,10)  #name same but different functionality"
   ]
  },
  {
   "cell_type": "code",
   "execution_count": null,
   "id": "a61a5236-ba0b-4691-b3b5-ae1929f643fe",
   "metadata": {},
   "outputs": [],
   "source": []
  }
 ],
 "metadata": {
  "kernelspec": {
   "display_name": "Python [conda env:base] *",
   "language": "python",
   "name": "conda-base-py"
  },
  "language_info": {
   "codemirror_mode": {
    "name": "ipython",
    "version": 3
   },
   "file_extension": ".py",
   "mimetype": "text/x-python",
   "name": "python",
   "nbconvert_exporter": "python",
   "pygments_lexer": "ipython3",
   "version": "3.13.5"
  }
 },
 "nbformat": 4,
 "nbformat_minor": 5
}
