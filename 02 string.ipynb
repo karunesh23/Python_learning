{
 "cells": [
  {
   "cell_type": "code",
   "execution_count": 1,
   "id": "74250cc7-4dac-4b28-87bb-d68a5f14949e",
   "metadata": {},
   "outputs": [
    {
     "data": {
      "text/plain": [
       "'karunesh'"
      ]
     },
     "execution_count": 1,
     "metadata": {},
     "output_type": "execute_result"
    }
   ],
   "source": [
    "\"karunesh\""
   ]
  },
  {
   "cell_type": "code",
   "execution_count": 2,
   "id": "cc9d68a6-ac49-4d37-8be5-828fb8ebb9f1",
   "metadata": {},
   "outputs": [
    {
     "data": {
      "text/plain": [
       "'kanu'"
      ]
     },
     "execution_count": 2,
     "metadata": {},
     "output_type": "execute_result"
    }
   ],
   "source": [
    "'kanu'"
   ]
  },
  {
   "cell_type": "code",
   "execution_count": 3,
   "id": "477b8dc2-a524-4eb3-9ad8-469d54a5fc7e",
   "metadata": {},
   "outputs": [
    {
     "data": {
      "text/plain": [
       "'kanu'"
      ]
     },
     "execution_count": 3,
     "metadata": {},
     "output_type": "execute_result"
    }
   ],
   "source": [
    "\"\"\"kanu\"\"\""
   ]
  },
  {
   "cell_type": "code",
   "execution_count": 4,
   "id": "3ad57deb-7206-4be2-9bf0-2481027917d1",
   "metadata": {},
   "outputs": [
    {
     "ename": "SyntaxError",
     "evalue": "unterminated string literal (detected at line 1) (1455737388.py, line 1)",
     "output_type": "error",
     "traceback": [
      "\u001b[1;36m  Cell \u001b[1;32mIn[4], line 1\u001b[1;36m\u001b[0m\n\u001b[1;33m    'thst's, mine'\u001b[0m\n\u001b[1;37m                 ^\u001b[0m\n\u001b[1;31mSyntaxError\u001b[0m\u001b[1;31m:\u001b[0m unterminated string literal (detected at line 1)\n"
     ]
    }
   ],
   "source": [
    "'thst's, mine'"
   ]
  },
  {
   "cell_type": "code",
   "execution_count": 5,
   "id": "655f9a4c-cbe4-47fa-b444-a3611c969b14",
   "metadata": {},
   "outputs": [
    {
     "data": {
      "text/plain": [
       "\"that's mine\""
      ]
     },
     "execution_count": 5,
     "metadata": {},
     "output_type": "execute_result"
    }
   ],
   "source": [
    "\"that's mine\""
   ]
  },
  {
   "cell_type": "code",
   "execution_count": 6,
   "id": "5dfe9e8c-54d0-4d3d-b67c-d2a3a434641c",
   "metadata": {},
   "outputs": [
    {
     "ename": "SyntaxError",
     "evalue": "unterminated string literal (detected at line 1) (2618307142.py, line 1)",
     "output_type": "error",
     "traceback": [
      "\u001b[1;36m  Cell \u001b[1;32mIn[6], line 1\u001b[1;36m\u001b[0m\n\u001b[1;33m    \"hii nice to meet you\u001b[0m\n\u001b[1;37m    ^\u001b[0m\n\u001b[1;31mSyntaxError\u001b[0m\u001b[1;31m:\u001b[0m unterminated string literal (detected at line 1)\n"
     ]
    }
   ],
   "source": [
    "\"hii nice to meet you\n",
    "my name is kanu\""
   ]
  },
  {
   "cell_type": "code",
   "execution_count": 7,
   "id": "ca83391b-e519-4ab0-bbc7-2218ccc8b989",
   "metadata": {},
   "outputs": [
    {
     "data": {
      "text/plain": [
       "'\\nhii nice to meet you \\nmy name is kanu\\n'"
      ]
     },
     "execution_count": 7,
     "metadata": {},
     "output_type": "execute_result"
    }
   ],
   "source": [
    "\"\"\"\n",
    "hii nice to meet you \n",
    "my name is kanu\n",
    "\"\"\""
   ]
  },
  {
   "cell_type": "code",
   "execution_count": 8,
   "id": "3b18cdbb-39f8-4b7b-8e31-e3ef258a38b6",
   "metadata": {},
   "outputs": [
    {
     "name": "stdout",
     "output_type": "stream",
     "text": [
      "\n",
      "hii nice to meet you \n",
      "my name is kanu\n",
      "\n"
     ]
    }
   ],
   "source": [
    " print(\"\"\"\n",
    "hii nice to meet you \n",
    "my name is kanu\n",
    "\"\"\")"
   ]
  },
  {
   "cell_type": "code",
   "execution_count": 9,
   "id": "61136719-4cf3-4dc9-a4f7-e3a7968ff767",
   "metadata": {},
   "outputs": [
    {
     "data": {
      "text/plain": [
       "str"
      ]
     },
     "execution_count": 9,
     "metadata": {},
     "output_type": "execute_result"
    }
   ],
   "source": [
    "type(\"kanu\")"
   ]
  },
  {
   "cell_type": "code",
   "execution_count": 10,
   "id": "f07b57ec-aa6a-4077-91c7-e1ded78d61ce",
   "metadata": {
    "scrolled": true
   },
   "outputs": [
    {
     "ename": "SyntaxError",
     "evalue": "invalid syntax (1653677921.py, line 1)",
     "output_type": "error",
     "traceback": [
      "\u001b[1;36m  Cell \u001b[1;32mIn[10], line 1\u001b[1;36m\u001b[0m\n\u001b[1;33m    \"kanu\".(capitalize)\u001b[0m\n\u001b[1;37m           ^\u001b[0m\n\u001b[1;31mSyntaxError\u001b[0m\u001b[1;31m:\u001b[0m invalid syntax\n"
     ]
    }
   ],
   "source": [
    "\"kanu\".(capitalize)"
   ]
  },
  {
   "cell_type": "code",
   "execution_count": 11,
   "id": "7a31f040-ad0e-434a-841e-d070a9b85453",
   "metadata": {},
   "outputs": [
    {
     "data": {
      "text/plain": [
       "'Kanu'"
      ]
     },
     "execution_count": 11,
     "metadata": {},
     "output_type": "execute_result"
    }
   ],
   "source": [
    "\"kanu\".capitalize()"
   ]
  },
  {
   "cell_type": "code",
   "execution_count": 12,
   "id": "789d2ef2-8be0-4e81-9839-874c68c8cd27",
   "metadata": {},
   "outputs": [
    {
     "data": {
      "text/plain": [
       "'KANU'"
      ]
     },
     "execution_count": 12,
     "metadata": {},
     "output_type": "execute_result"
    }
   ],
   "source": [
    "\"kanu\".upper()"
   ]
  },
  {
   "cell_type": "code",
   "execution_count": 13,
   "id": "e339fb08-bbcd-479a-86c1-f66ac7d6306a",
   "metadata": {},
   "outputs": [
    {
     "data": {
      "text/plain": [
       "'kanu'"
      ]
     },
     "execution_count": 13,
     "metadata": {},
     "output_type": "execute_result"
    }
   ],
   "source": [
    "\"kanu\".lower()"
   ]
  },
  {
   "cell_type": "code",
   "execution_count": 14,
   "id": "501969b8-ed05-4d78-a7c7-c858fb72e9d0",
   "metadata": {},
   "outputs": [
    {
     "data": {
      "text/plain": [
       "1"
      ]
     },
     "execution_count": 14,
     "metadata": {},
     "output_type": "execute_result"
    }
   ],
   "source": [
    "\"kanu\".count('n')"
   ]
  },
  {
   "cell_type": "code",
   "execution_count": 15,
   "id": "8cd83efe-d76a-4d5f-b72f-24defbb4a059",
   "metadata": {},
   "outputs": [
    {
     "data": {
      "text/plain": [
       "1"
      ]
     },
     "execution_count": 15,
     "metadata": {},
     "output_type": "execute_result"
    }
   ],
   "source": [
    "\"karunesh\".count('e')"
   ]
  },
  {
   "cell_type": "code",
   "execution_count": 16,
   "id": "cc6873af-f92d-4aea-a0d0-daf4864b6e89",
   "metadata": {},
   "outputs": [
    {
     "data": {
      "text/plain": [
       "3"
      ]
     },
     "execution_count": 16,
     "metadata": {},
     "output_type": "execute_result"
    }
   ],
   "source": [
    "\"kanu bansal\".count('a')"
   ]
  },
  {
   "cell_type": "code",
   "execution_count": 17,
   "id": "e64f1d23-438a-4812-812b-3e60ad7961e1",
   "metadata": {},
   "outputs": [],
   "source": [
    "name = \"karunesh Bansal\""
   ]
  },
  {
   "cell_type": "code",
   "execution_count": 18,
   "id": "6ba4f163-f90b-4b73-b2ff-a337569f4eeb",
   "metadata": {},
   "outputs": [
    {
     "data": {
      "text/plain": [
       "'karunesh Bansal'"
      ]
     },
     "execution_count": 18,
     "metadata": {},
     "output_type": "execute_result"
    }
   ],
   "source": [
    "name"
   ]
  },
  {
   "cell_type": "code",
   "execution_count": 19,
   "id": "fa48e99a-b28c-4a06-be7e-9afb94314888",
   "metadata": {},
   "outputs": [
    {
     "data": {
      "text/plain": [
       "-1"
      ]
     },
     "execution_count": 19,
     "metadata": {},
     "output_type": "execute_result"
    }
   ],
   "source": [
    "name.find('b')"
   ]
  },
  {
   "cell_type": "code",
   "execution_count": 20,
   "id": "1d646f5f-3c1a-4888-91a0-05e11fac5ad3",
   "metadata": {},
   "outputs": [
    {
     "data": {
      "text/plain": [
       "9"
      ]
     },
     "execution_count": 20,
     "metadata": {},
     "output_type": "execute_result"
    }
   ],
   "source": [
    "name.find('B')"
   ]
  },
  {
   "cell_type": "code",
   "execution_count": 21,
   "id": "7027e135-ba15-4b91-b634-7d6fc558c034",
   "metadata": {},
   "outputs": [
    {
     "data": {
      "text/plain": [
       "1"
      ]
     },
     "execution_count": 21,
     "metadata": {},
     "output_type": "execute_result"
    }
   ],
   "source": [
    "name.find('a')"
   ]
  },
  {
   "cell_type": "code",
   "execution_count": 22,
   "id": "5841617f-3946-4e08-a385-52cefea980da",
   "metadata": {},
   "outputs": [
    {
     "data": {
      "text/plain": [
       "2"
      ]
     },
     "execution_count": 22,
     "metadata": {},
     "output_type": "execute_result"
    }
   ],
   "source": [
    "name.find('r')"
   ]
  },
  {
   "cell_type": "code",
   "execution_count": 23,
   "id": "b0cfafa4-350c-4d3b-a998-669ab8ff65fc",
   "metadata": {},
   "outputs": [
    {
     "data": {
      "text/plain": [
       "15"
      ]
     },
     "execution_count": 23,
     "metadata": {},
     "output_type": "execute_result"
    }
   ],
   "source": [
    "len(name)"
   ]
  },
  {
   "cell_type": "code",
   "execution_count": 24,
   "id": "73124c5e-698d-4bbf-8493-e67e08dcc0b3",
   "metadata": {},
   "outputs": [],
   "source": [
    "first_name = \"kanu\""
   ]
  },
  {
   "cell_type": "code",
   "execution_count": 25,
   "id": "8b11fadd-4f13-456c-9e96-742ef0b99161",
   "metadata": {},
   "outputs": [],
   "source": [
    "last_name = \"bansal\""
   ]
  },
  {
   "cell_type": "code",
   "execution_count": 26,
   "id": "5698d38e-0ac6-43e5-b0b5-13bc017dfab5",
   "metadata": {},
   "outputs": [
    {
     "data": {
      "text/plain": [
       "'kanubansal'"
      ]
     },
     "execution_count": 26,
     "metadata": {},
     "output_type": "execute_result"
    }
   ],
   "source": [
    "first_name + last_name"
   ]
  },
  {
   "cell_type": "code",
   "execution_count": 27,
   "id": "0f947a60-f7f1-461b-bf3b-bc25f0e3996a",
   "metadata": {},
   "outputs": [
    {
     "data": {
      "text/plain": [
       "'kanu bansal'"
      ]
     },
     "execution_count": 27,
     "metadata": {},
     "output_type": "execute_result"
    }
   ],
   "source": [
    "first_name + \" \"+ last_name"
   ]
  },
  {
   "cell_type": "code",
   "execution_count": 28,
   "id": "8e6e3322-7473-4896-ae03-f116e0d04bee",
   "metadata": {},
   "outputs": [
    {
     "data": {
      "text/plain": [
       "10"
      ]
     },
     "execution_count": 28,
     "metadata": {},
     "output_type": "execute_result"
    }
   ],
   "source": [
    "5+5"
   ]
  },
  {
   "cell_type": "code",
   "execution_count": 29,
   "id": "9e26a2ab-443c-4968-948d-c8636d65248a",
   "metadata": {},
   "outputs": [
    {
     "data": {
      "text/plain": [
       "'55'"
      ]
     },
     "execution_count": 29,
     "metadata": {},
     "output_type": "execute_result"
    }
   ],
   "source": [
    "\"5\" + \"5\""
   ]
  },
  {
   "cell_type": "code",
   "execution_count": 30,
   "id": "bd0cf6cc-ac0c-410c-98df-3805de8f394f",
   "metadata": {},
   "outputs": [
    {
     "name": "stdout",
     "output_type": "stream",
     "text": [
      "55\n",
      "55\n"
     ]
    }
   ],
   "source": [
    "print(\"55\")\n",
    "print(55)"
   ]
  },
  {
   "cell_type": "code",
   "execution_count": 31,
   "id": "75057e75-0924-4107-bd8d-f598c178ad56",
   "metadata": {},
   "outputs": [
    {
     "data": {
      "text/plain": [
       "str"
      ]
     },
     "execution_count": 31,
     "metadata": {},
     "output_type": "execute_result"
    }
   ],
   "source": [
    "type(\"55\")"
   ]
  },
  {
   "cell_type": "code",
   "execution_count": 32,
   "id": "bd7008cc-7d9b-4e17-bdd9-e1d9787ab7f4",
   "metadata": {},
   "outputs": [
    {
     "data": {
      "text/plain": [
       "int"
      ]
     },
     "execution_count": 32,
     "metadata": {},
     "output_type": "execute_result"
    }
   ],
   "source": [
    "type(55)"
   ]
  },
  {
   "cell_type": "code",
   "execution_count": 33,
   "id": "9b898b8e-6501-4ef9-a96c-3b616950f386",
   "metadata": {},
   "outputs": [
    {
     "ename": "TypeError",
     "evalue": "unsupported operand type(s) for +: 'int' and 'str'",
     "output_type": "error",
     "traceback": [
      "\u001b[1;31m---------------------------------------------------------------------------\u001b[0m",
      "\u001b[1;31mTypeError\u001b[0m                                 Traceback (most recent call last)",
      "Cell \u001b[1;32mIn[33], line 1\u001b[0m\n\u001b[1;32m----> 1\u001b[0m \u001b[38;5;241m5\u001b[39m \u001b[38;5;241m+\u001b[39m \u001b[38;5;124m\"\u001b[39m\u001b[38;5;124m5\u001b[39m\u001b[38;5;124m\"\u001b[39m\n",
      "\u001b[1;31mTypeError\u001b[0m: unsupported operand type(s) for +: 'int' and 'str'"
     ]
    }
   ],
   "source": [
    "5 + \"5\""
   ]
  },
  {
   "cell_type": "code",
   "execution_count": 34,
   "id": "c9fd442c-a5b2-4c28-8645-82d399b96e9d",
   "metadata": {},
   "outputs": [
    {
     "ename": "TypeError",
     "evalue": "can only concatenate str (not \"int\") to str",
     "output_type": "error",
     "traceback": [
      "\u001b[1;31m---------------------------------------------------------------------------\u001b[0m",
      "\u001b[1;31mTypeError\u001b[0m                                 Traceback (most recent call last)",
      "Cell \u001b[1;32mIn[34], line 1\u001b[0m\n\u001b[1;32m----> 1\u001b[0m \u001b[38;5;124m\"\u001b[39m\u001b[38;5;124m5\u001b[39m\u001b[38;5;124m\"\u001b[39m \u001b[38;5;241m+\u001b[39m \u001b[38;5;241m5\u001b[39m\n",
      "\u001b[1;31mTypeError\u001b[0m: can only concatenate str (not \"int\") to str"
     ]
    }
   ],
   "source": [
    "\"5\" + 5"
   ]
  },
  {
   "cell_type": "code",
   "execution_count": 35,
   "id": "9e9af742-35f2-423d-8507-d7661de5d33d",
   "metadata": {},
   "outputs": [],
   "source": [
    "name = \"akash\"\n",
    "salary = 50000"
   ]
  },
  {
   "cell_type": "code",
   "execution_count": 1,
   "id": "59300193-aa48-4236-9612-f82d2b4f9593",
   "metadata": {},
   "outputs": [
    {
     "data": {
      "text/plain": [
       "'hi my name is akash and my salary is 50000'"
      ]
     },
     "execution_count": 1,
     "metadata": {},
     "output_type": "execute_result"
    }
   ],
   "source": [
    "\"hi my name is akash and my salary is 50000\""
   ]
  },
  {
   "cell_type": "code",
   "execution_count": 39,
   "id": "8d62c5a1-4ceb-4b74-9eba-ab43ec0ddf7a",
   "metadata": {},
   "outputs": [
    {
     "data": {
      "text/plain": [
       "'hi my name is akash'"
      ]
     },
     "execution_count": 39,
     "metadata": {},
     "output_type": "execute_result"
    }
   ],
   "source": [
    "\"hi my name is \" + name "
   ]
  },
  {
   "cell_type": "code",
   "execution_count": 3,
   "id": "381a43c9-bc67-4371-8161-3cb0d17e6597",
   "metadata": {},
   "outputs": [
    {
     "ename": "SyntaxError",
     "evalue": "invalid syntax (1188574131.py, line 1)",
     "output_type": "error",
     "traceback": [
      "\u001b[1;36m  Cell \u001b[1;32mIn[3], line 1\u001b[1;36m\u001b[0m\n\u001b[1;33m    \"hi my name is \" + name \"and my salary is\" + salary\u001b[0m\n\u001b[1;37m                            ^\u001b[0m\n\u001b[1;31mSyntaxError\u001b[0m\u001b[1;31m:\u001b[0m invalid syntax\n"
     ]
    }
   ],
   "source": [
    "\"hi my name is \" + name \"and my salary is\" + salary"
   ]
  },
  {
   "cell_type": "code",
   "execution_count": 41,
   "id": "ddc0c7ac-901c-4e8f-824b-87579e82e20e",
   "metadata": {},
   "outputs": [
    {
     "data": {
      "text/plain": [
       "'hi my name is akash and my salary is 50000'"
      ]
     },
     "execution_count": 41,
     "metadata": {},
     "output_type": "execute_result"
    }
   ],
   "source": [
    "\"hi my name is {} and my salary is {}\".format(\"akash\",50000)"
   ]
  },
  {
   "cell_type": "code",
   "execution_count": 42,
   "id": "00ae0c45-142a-420f-bf53-efeee1116db5",
   "metadata": {},
   "outputs": [
    {
     "data": {
      "text/plain": [
       "'hi my name is abhi and my salary is 50000'"
      ]
     },
     "execution_count": 42,
     "metadata": {},
     "output_type": "execute_result"
    }
   ],
   "source": [
    "\"hi my name is {} and my salary is {}\".format(\"abhi\",50000)"
   ]
  },
  {
   "cell_type": "code",
   "execution_count": 43,
   "id": "37e6826f-62dd-4301-a73e-24529b04e50d",
   "metadata": {},
   "outputs": [
    {
     "ename": "IndexError",
     "evalue": "Replacement index 2 out of range for positional args tuple",
     "output_type": "error",
     "traceback": [
      "\u001b[1;31m---------------------------------------------------------------------------\u001b[0m",
      "\u001b[1;31mIndexError\u001b[0m                                Traceback (most recent call last)",
      "Cell \u001b[1;32mIn[43], line 1\u001b[0m\n\u001b[1;32m----> 1\u001b[0m \u001b[38;5;124m\"\u001b[39m\u001b[38;5;124mhi my name is \u001b[39m\u001b[38;5;132;01m{}\u001b[39;00m\u001b[38;5;124m jr and my salary is \u001b[39m\u001b[38;5;132;01m{}\u001b[39;00m\u001b[38;5;124m and i am son of \u001b[39m\u001b[38;5;132;01m{}\u001b[39;00m\u001b[38;5;124m\"\u001b[39m\u001b[38;5;241m.\u001b[39mformat(\u001b[38;5;124m\"\u001b[39m\u001b[38;5;124mabhi\u001b[39m\u001b[38;5;124m\"\u001b[39m,\u001b[38;5;241m50000\u001b[39m)\n",
      "\u001b[1;31mIndexError\u001b[0m: Replacement index 2 out of range for positional args tuple"
     ]
    }
   ],
   "source": [
    "\"hi my name is {} jr and my salary is {} and i am son of {}\".format(\"abhi\",50000)\n"
   ]
  },
  {
   "cell_type": "code",
   "execution_count": 44,
   "id": "c96a6c04-28d5-4005-bfec-0ecfb8faee2b",
   "metadata": {},
   "outputs": [
    {
     "data": {
      "text/plain": [
       "'hi my name is abhi jr and my salary is 50000 and i am son of abhi'"
      ]
     },
     "execution_count": 44,
     "metadata": {},
     "output_type": "execute_result"
    }
   ],
   "source": [
    "\"hi my name is {0} jr and my salary is {1} and i am son of {0}\".format(\"abhi\",50000)"
   ]
  },
  {
   "cell_type": "code",
   "execution_count": 45,
   "id": "2d2d3f3e-b7dc-4564-bfdf-a6c57ebc34af",
   "metadata": {},
   "outputs": [
    {
     "data": {
      "text/plain": [
       "'hi my name is abhi jr and my salary is 50000 and i am son of abhi and i live in delhi'"
      ]
     },
     "execution_count": 45,
     "metadata": {},
     "output_type": "execute_result"
    }
   ],
   "source": [
    "\"hi my name is {0} jr and my salary is {1} and i am son of {0} and i live in {2}\".format(\"abhi\",50000, \"delhi\")"
   ]
  },
  {
   "cell_type": "code",
   "execution_count": 46,
   "id": "7721b455-66ac-40b7-84c3-32b0ae8d10c3",
   "metadata": {},
   "outputs": [
    {
     "data": {
      "text/plain": [
       "'hi my name is abhi jr and my salary is 50000 and i am son of abhi and i live in delhi'"
      ]
     },
     "execution_count": 46,
     "metadata": {},
     "output_type": "execute_result"
    }
   ],
   "source": [
    "\"hi my name is {name} jr and my salary is {salary} and i am son of {name} and i live in {place}\".format(name= \"abhi\", salary=50000, place=\"delhi\")"
   ]
  },
  {
   "cell_type": "code",
   "execution_count": 8,
   "id": "c1173976-b443-46b5-9b69-cc82ba8aee8a",
   "metadata": {},
   "outputs": [],
   "source": [
    "name = \"kanu\"\n",
    "age = 19\n",
    "salary = 20000\n",
    "place = \"chd\""
   ]
  },
  {
   "cell_type": "code",
   "execution_count": 14,
   "id": "872c7ca8-ebaa-4684-9511-bd96a493a81f",
   "metadata": {},
   "outputs": [
    {
     "data": {
      "text/plain": [
       "'hi my name is kanu and my age is 19, and my salary is 20000, and my place is chd'"
      ]
     },
     "execution_count": 14,
     "metadata": {},
     "output_type": "execute_result"
    }
   ],
   "source": [
    "f'hi my name is {name} and my age is {age}, and my salary is {salary}, and my place is {place}'"
   ]
  },
  {
   "cell_type": "code",
   "execution_count": 25,
   "id": "7b4ea695-5ef9-4201-be2d-2dd41f6ff023",
   "metadata": {},
   "outputs": [
    {
     "data": {
      "text/plain": [
       "['kanu', 'bansal']"
      ]
     },
     "execution_count": 25,
     "metadata": {},
     "output_type": "execute_result"
    }
   ],
   "source": [
    "\"kanu bansal\".split()"
   ]
  },
  {
   "cell_type": "code",
   "execution_count": 51,
   "id": "bf7987f3-3fd5-4c28-bf8d-5e4169d0cfbf",
   "metadata": {},
   "outputs": [
    {
     "data": {
      "text/plain": [
       "['tom', 'jerry', 'dog', 'cat']"
      ]
     },
     "execution_count": 51,
     "metadata": {},
     "output_type": "execute_result"
    }
   ],
   "source": [
    "\"tom jerry dog cat\".split()"
   ]
  },
  {
   "cell_type": "code",
   "execution_count": 15,
   "id": "3a257a53-0528-4e67-badf-28c90c3ea9c4",
   "metadata": {},
   "outputs": [
    {
     "data": {
      "text/plain": [
       "['tomjerrydogcat']"
      ]
     },
     "execution_count": 15,
     "metadata": {},
     "output_type": "execute_result"
    }
   ],
   "source": [
    "\"tomjerrydogcat\".split()"
   ]
  },
  {
   "cell_type": "code",
   "execution_count": 53,
   "id": "c14a386c-6d96-433c-9099-a81357a3ab18",
   "metadata": {},
   "outputs": [
    {
     "data": {
      "text/plain": [
       "'KANU'"
      ]
     },
     "execution_count": 53,
     "metadata": {},
     "output_type": "execute_result"
    }
   ],
   "source": [
    "name.upper()"
   ]
  },
  {
   "cell_type": "code",
   "execution_count": 54,
   "id": "97742184-a9e5-4875-bf9b-a2b0fe8eb51a",
   "metadata": {},
   "outputs": [
    {
     "data": {
      "text/plain": [
       "'kanu'"
      ]
     },
     "execution_count": 54,
     "metadata": {},
     "output_type": "execute_result"
    }
   ],
   "source": [
    "name"
   ]
  },
  {
   "cell_type": "code",
   "execution_count": 55,
   "id": "894581be-26b8-4ebb-ab75-0e432c1647f3",
   "metadata": {},
   "outputs": [],
   "source": [
    "name = name.upper()"
   ]
  },
  {
   "cell_type": "code",
   "execution_count": 56,
   "id": "8585cde5-3a5d-4aae-bc81-15d89ff2966d",
   "metadata": {},
   "outputs": [
    {
     "data": {
      "text/plain": [
       "'KANU'"
      ]
     },
     "execution_count": 56,
     "metadata": {},
     "output_type": "execute_result"
    }
   ],
   "source": [
    "name"
   ]
  },
  {
   "cell_type": "code",
   "execution_count": 63,
   "id": "c3ddcee2-3856-4553-b606-bc040612f590",
   "metadata": {},
   "outputs": [
    {
     "data": {
      "text/plain": [
       "['tomjerrydogc', 't']"
      ]
     },
     "execution_count": 63,
     "metadata": {},
     "output_type": "execute_result"
    }
   ],
   "source": [
    "\"tomjerrydogcat\".split(\"a\")"
   ]
  },
  {
   "cell_type": "code",
   "execution_count": 59,
   "id": "93f821e5-27c2-4188-be7d-2727909739af",
   "metadata": {},
   "outputs": [
    {
     "data": {
      "text/plain": [
       "['t', 'm jerry d', 'g cat']"
      ]
     },
     "execution_count": 59,
     "metadata": {},
     "output_type": "execute_result"
    }
   ],
   "source": [
    "\"tom jerry dog cat\".split(\"o\")"
   ]
  },
  {
   "cell_type": "code",
   "execution_count": 60,
   "id": "0d8035d4-fb08-4e80-b6fa-667dee1927c4",
   "metadata": {},
   "outputs": [
    {
     "data": {
      "text/plain": [
       "['tom', 'errydogcat']"
      ]
     },
     "execution_count": 60,
     "metadata": {},
     "output_type": "execute_result"
    }
   ],
   "source": [
    "\"tomjerrydogcat\".split(\"j\")"
   ]
  },
  {
   "cell_type": "code",
   "execution_count": 42,
   "id": "b2aa0146-7b86-4e0c-8fed-cada68e94e35",
   "metadata": {},
   "outputs": [
    {
     "data": {
      "text/plain": [
       "['2025', '07', '25 ']"
      ]
     },
     "execution_count": 42,
     "metadata": {},
     "output_type": "execute_result"
    }
   ],
   "source": [
    "\"2025-07-25\".split(\"-\",-1)"
   ]
  },
  {
   "cell_type": "code",
   "execution_count": 41,
   "id": "59b39e4d-3a26-43a7-8e84-c72921794acf",
   "metadata": {},
   "outputs": [
    {
     "data": {
      "text/plain": [
       "'karuneshbansalkanu'"
      ]
     },
     "execution_count": 41,
     "metadata": {},
     "output_type": "execute_result"
    }
   ],
   "source": [
    " \"karuneshbansalkanu \".strip()"
   ]
  },
  {
   "cell_type": "code",
   "execution_count": 65,
   "id": "1b63b885-60af-4617-8ba7-dbc5a1df54cf",
   "metadata": {},
   "outputs": [
    {
     "name": "stdout",
     "output_type": "stream",
     "text": [
      "kanu\n",
      "kanu \n"
     ]
    }
   ],
   "source": [
    "print(\"kanu\")\n",
    "print(\"kanu \")"
   ]
  },
  {
   "cell_type": "code",
   "execution_count": 48,
   "id": "442ee303-3124-44b1-8e9a-118c8782a5ba",
   "metadata": {},
   "outputs": [
    {
     "data": {
      "text/plain": [
       "True"
      ]
     },
     "execution_count": 48,
     "metadata": {},
     "output_type": "execute_result"
    }
   ],
   "source": [
    "\"karunesh bansal\".islower()"
   ]
  },
  {
   "cell_type": "code",
   "execution_count": 44,
   "id": "ca2e24ae-caad-4139-9614-183c84415050",
   "metadata": {},
   "outputs": [
    {
     "data": {
      "text/plain": [
       "True"
      ]
     },
     "execution_count": 44,
     "metadata": {},
     "output_type": "execute_result"
    }
   ],
   "source": [
    "\"KARUNESH\".isupper()"
   ]
  },
  {
   "cell_type": "code",
   "execution_count": 49,
   "id": "fbf9a80c-a313-4978-b314-4533b2770e66",
   "metadata": {},
   "outputs": [
    {
     "data": {
      "text/plain": [
       "True"
      ]
     },
     "execution_count": 49,
     "metadata": {},
     "output_type": "execute_result"
    }
   ],
   "source": [
    "\"Karuneshbansal\".isalpha()"
   ]
  },
  {
   "cell_type": "code",
   "execution_count": 70,
   "id": "a96af378-d719-4b2e-9a0b-60d0313cc3c7",
   "metadata": {},
   "outputs": [
    {
     "data": {
      "text/plain": [
       "True"
      ]
     },
     "execution_count": 70,
     "metadata": {},
     "output_type": "execute_result"
    }
   ],
   "source": [
    "\"8679\".isdigit()"
   ]
  },
  {
   "cell_type": "code",
   "execution_count": 72,
   "id": "9c14afe4-1c6c-489a-8b57-bc433988f761",
   "metadata": {},
   "outputs": [
    {
     "data": {
      "text/plain": [
       "False"
      ]
     },
     "execution_count": 72,
     "metadata": {},
     "output_type": "execute_result"
    }
   ],
   "source": [
    "\"8679\".isalpha()"
   ]
  },
  {
   "cell_type": "code",
   "execution_count": 51,
   "id": "17c2775a-c861-458c-8115-d695b8185c26",
   "metadata": {},
   "outputs": [
    {
     "data": {
      "text/plain": [
       "True"
      ]
     },
     "execution_count": 51,
     "metadata": {},
     "output_type": "execute_result"
    }
   ],
   "source": [
    "\"karunesh23\".isalnum()"
   ]
  },
  {
   "cell_type": "code",
   "execution_count": 74,
   "id": "e2e79d84-696e-4eba-93ad-c65f454305a3",
   "metadata": {},
   "outputs": [
    {
     "data": {
      "text/plain": [
       "False"
      ]
     },
     "execution_count": 74,
     "metadata": {},
     "output_type": "execute_result"
    }
   ],
   "source": [
    "\"karunesh bansal\".isalpha()"
   ]
  },
  {
   "cell_type": "code",
   "execution_count": 75,
   "id": "2a1f602e-b519-4a2a-9f7f-ae6bbe124c00",
   "metadata": {},
   "outputs": [
    {
     "data": {
      "text/plain": [
       "True"
      ]
     },
     "execution_count": 75,
     "metadata": {},
     "output_type": "execute_result"
    }
   ],
   "source": [
    "\" \".isspace()"
   ]
  },
  {
   "cell_type": "code",
   "execution_count": 76,
   "id": "f07de10c-e343-4978-97d9-1e8c9085bb92",
   "metadata": {},
   "outputs": [
    {
     "name": "stdout",
     "output_type": "stream",
     "text": [
      "Object `replace` not found.\n"
     ]
    }
   ],
   "source": [
    "\"karunesh bansal\".replace?"
   ]
  },
  {
   "cell_type": "code",
   "execution_count": 77,
   "id": "28922db1-2459-45b1-9c58-c909538df0d2",
   "metadata": {},
   "outputs": [
    {
     "name": "stdout",
     "output_type": "stream",
     "text": [
      "Help on built-in function replace:\n",
      "\n",
      "replace(old, new, /, count=-1) method of builtins.str instance\n",
      "    Return a copy with all occurrences of substring old replaced by new.\n",
      "\n",
      "      count\n",
      "        Maximum number of occurrences to replace.\n",
      "        -1 (the default value) means replace all occurrences.\n",
      "\n",
      "    If the optional argument count is given, only the first count occurrences are\n",
      "    replaced.\n",
      "\n"
     ]
    }
   ],
   "source": [
    "help(\"karunesh bansal\".replace)"
   ]
  },
  {
   "cell_type": "code",
   "execution_count": 53,
   "id": "245db542-9196-4c79-a61f-6e1f108a7184",
   "metadata": {},
   "outputs": [
    {
     "data": {
      "text/plain": [
       "'kar9nesh bansal'"
      ]
     },
     "execution_count": 53,
     "metadata": {},
     "output_type": "execute_result"
    }
   ],
   "source": [
    "\"karunesh bansal\".replace(\"u\", \"9\")"
   ]
  },
  {
   "cell_type": "code",
   "execution_count": 79,
   "id": "0aaf2cf5-7d17-4a5a-8d7b-a57470f168b0",
   "metadata": {},
   "outputs": [
    {
     "data": {
      "text/plain": [
       "'k9runesh bansal'"
      ]
     },
     "execution_count": 79,
     "metadata": {},
     "output_type": "execute_result"
    }
   ],
   "source": [
    "\"karunesh bansal\".replace(\"a\", \"9\", 1)"
   ]
  },
  {
   "cell_type": "code",
   "execution_count": 80,
   "id": "6e3c9d33-c8b8-4a52-b81c-67a0d5f6ef07",
   "metadata": {},
   "outputs": [],
   "source": [
    "name = \"kanu bansal\""
   ]
  },
  {
   "cell_type": "code",
   "execution_count": 81,
   "id": "02c28df1-54d4-4e19-916d-fbfbc84ffc2c",
   "metadata": {},
   "outputs": [
    {
     "data": {
      "text/plain": [
       "'kanu bansal'"
      ]
     },
     "execution_count": 81,
     "metadata": {},
     "output_type": "execute_result"
    }
   ],
   "source": [
    "name"
   ]
  },
  {
   "cell_type": "code",
   "execution_count": 82,
   "id": "f0e0f951-187f-4c69-ac58-78780f23c531",
   "metadata": {},
   "outputs": [
    {
     "ename": "SyntaxError",
     "evalue": "invalid syntax (430947801.py, line 1)",
     "output_type": "error",
     "traceback": [
      "\u001b[1;36m  Cell \u001b[1;32mIn[82], line 1\u001b[1;36m\u001b[0m\n\u001b[1;33m    name []\u001b[0m\n\u001b[1;37m          ^\u001b[0m\n\u001b[1;31mSyntaxError\u001b[0m\u001b[1;31m:\u001b[0m invalid syntax\n"
     ]
    }
   ],
   "source": [
    "name []"
   ]
  },
  {
   "cell_type": "code",
   "execution_count": 83,
   "id": "93f67302-0df7-498c-808a-6c8ef2356451",
   "metadata": {},
   "outputs": [
    {
     "data": {
      "text/plain": [
       "'k'"
      ]
     },
     "execution_count": 83,
     "metadata": {},
     "output_type": "execute_result"
    }
   ],
   "source": [
    "name[0]"
   ]
  },
  {
   "cell_type": "code",
   "execution_count": 84,
   "id": "08400a68-ae8f-413f-8971-449e91e59f0c",
   "metadata": {},
   "outputs": [
    {
     "data": {
      "text/plain": [
       "'n'"
      ]
     },
     "execution_count": 84,
     "metadata": {},
     "output_type": "execute_result"
    }
   ],
   "source": [
    "name[2]"
   ]
  },
  {
   "cell_type": "code",
   "execution_count": 85,
   "id": "ef8b3951-bddc-4f6a-b248-019963701950",
   "metadata": {},
   "outputs": [
    {
     "data": {
      "text/plain": [
       "'b'"
      ]
     },
     "execution_count": 85,
     "metadata": {},
     "output_type": "execute_result"
    }
   ],
   "source": [
    "name[5]"
   ]
  },
  {
   "cell_type": "code",
   "execution_count": 86,
   "id": "d0d252a6-f0bc-4f00-935f-f5340d6d8a04",
   "metadata": {},
   "outputs": [
    {
     "data": {
      "text/plain": [
       "' '"
      ]
     },
     "execution_count": 86,
     "metadata": {},
     "output_type": "execute_result"
    }
   ],
   "source": [
    "name[4]"
   ]
  },
  {
   "cell_type": "code",
   "execution_count": 87,
   "id": "5c894830-b0df-427b-83e8-6ee981eae51d",
   "metadata": {},
   "outputs": [
    {
     "ename": "IndexError",
     "evalue": "string index out of range",
     "output_type": "error",
     "traceback": [
      "\u001b[1;31m---------------------------------------------------------------------------\u001b[0m",
      "\u001b[1;31mIndexError\u001b[0m                                Traceback (most recent call last)",
      "Cell \u001b[1;32mIn[87], line 1\u001b[0m\n\u001b[1;32m----> 1\u001b[0m name[\u001b[38;5;241m11\u001b[39m]\n",
      "\u001b[1;31mIndexError\u001b[0m: string index out of range"
     ]
    }
   ],
   "source": [
    "name[11]"
   ]
  },
  {
   "cell_type": "code",
   "execution_count": 88,
   "id": "636ba0e1-f27c-4ed7-aec3-1474707bdb44",
   "metadata": {},
   "outputs": [
    {
     "data": {
      "text/plain": [
       "11"
      ]
     },
     "execution_count": 88,
     "metadata": {},
     "output_type": "execute_result"
    }
   ],
   "source": [
    "len(name)"
   ]
  },
  {
   "cell_type": "code",
   "execution_count": 89,
   "id": "8d15912f-377e-46f6-b7fb-16f1fa844e9a",
   "metadata": {},
   "outputs": [
    {
     "data": {
      "text/plain": [
       "'l'"
      ]
     },
     "execution_count": 89,
     "metadata": {},
     "output_type": "execute_result"
    }
   ],
   "source": [
    "name[-1]"
   ]
  },
  {
   "cell_type": "code",
   "execution_count": 90,
   "id": "98f27547-b9b3-4488-946e-d843f57c66ea",
   "metadata": {},
   "outputs": [
    {
     "data": {
      "text/plain": [
       "'a'"
      ]
     },
     "execution_count": 90,
     "metadata": {},
     "output_type": "execute_result"
    }
   ],
   "source": [
    "name[-2]"
   ]
  },
  {
   "cell_type": "code",
   "execution_count": 91,
   "id": "02d9ffb4-f9fd-4575-9afa-80a78000d6d0",
   "metadata": {},
   "outputs": [
    {
     "data": {
      "text/plain": [
       "'s'"
      ]
     },
     "execution_count": 91,
     "metadata": {},
     "output_type": "execute_result"
    }
   ],
   "source": [
    "name[-3]"
   ]
  },
  {
   "cell_type": "code",
   "execution_count": 1,
   "id": "a56dd6f5-430f-497d-8f97-ff047bc7eb08",
   "metadata": {},
   "outputs": [
    {
     "data": {
      "text/plain": [
       "'a'"
      ]
     },
     "execution_count": 1,
     "metadata": {},
     "output_type": "execute_result"
    }
   ],
   "source": [
    "\"karunesh\"[1]"
   ]
  },
  {
   "cell_type": "code",
   "execution_count": 2,
   "id": "82eed3fe-73dd-41ac-8051-5ffd31e14134",
   "metadata": {},
   "outputs": [],
   "source": [
    "name = \"karunesh bansal\""
   ]
  },
  {
   "cell_type": "code",
   "execution_count": 3,
   "id": "923cc571-d951-4e7a-9b9c-958cf1a0d120",
   "metadata": {},
   "outputs": [
    {
     "data": {
      "text/plain": [
       "'karunesh bansal'"
      ]
     },
     "execution_count": 3,
     "metadata": {},
     "output_type": "execute_result"
    }
   ],
   "source": [
    "name"
   ]
  },
  {
   "cell_type": "code",
   "execution_count": 4,
   "id": "0e57cf82-fe0e-4152-983e-6b45d6653d3f",
   "metadata": {},
   "outputs": [
    {
     "data": {
      "text/plain": [
       "' '"
      ]
     },
     "execution_count": 4,
     "metadata": {},
     "output_type": "execute_result"
    }
   ],
   "source": [
    "name[8]"
   ]
  },
  {
   "cell_type": "code",
   "execution_count": 5,
   "id": "72283f5d-39bb-4a5b-a618-07ea301de79c",
   "metadata": {},
   "outputs": [
    {
     "data": {
      "text/plain": [
       "'b'"
      ]
     },
     "execution_count": 5,
     "metadata": {},
     "output_type": "execute_result"
    }
   ],
   "source": [
    "name[9]"
   ]
  },
  {
   "cell_type": "code",
   "execution_count": 56,
   "id": "515b0b51-3815-455d-b359-0c8ebb053fae",
   "metadata": {},
   "outputs": [
    {
     "data": {
      "text/plain": [
       "' bansal'"
      ]
     },
     "execution_count": 56,
     "metadata": {},
     "output_type": "execute_result"
    }
   ],
   "source": [
    "#slicing\n",
    "\"karunesh bansal\"[8:]"
   ]
  },
  {
   "cell_type": "code",
   "execution_count": 7,
   "id": "01f0531b-5e38-46c2-a786-37c4b74c1414",
   "metadata": {},
   "outputs": [
    {
     "data": {
      "text/plain": [
       "'karunesh '"
      ]
     },
     "execution_count": 7,
     "metadata": {},
     "output_type": "execute_result"
    }
   ],
   "source": [
    "name[:9]"
   ]
  },
  {
   "cell_type": "code",
   "execution_count": 8,
   "id": "926c9efc-28ad-4567-91ed-42c44389c097",
   "metadata": {},
   "outputs": [
    {
     "data": {
      "text/plain": [
       "'karunesh'"
      ]
     },
     "execution_count": 8,
     "metadata": {},
     "output_type": "execute_result"
    }
   ],
   "source": [
    "name[:8]"
   ]
  },
  {
   "cell_type": "code",
   "execution_count": 9,
   "id": "22961c3d-a739-4574-a1df-aaa58cebe0b9",
   "metadata": {},
   "outputs": [
    {
     "data": {
      "text/plain": [
       "'runesh bansal'"
      ]
     },
     "execution_count": 9,
     "metadata": {},
     "output_type": "execute_result"
    }
   ],
   "source": [
    "name[2:]"
   ]
  },
  {
   "cell_type": "code",
   "execution_count": 10,
   "id": "fe743811-c3c2-45e3-ad88-dc37afed5059",
   "metadata": {},
   "outputs": [
    {
     "data": {
      "text/plain": [
       "'ka'"
      ]
     },
     "execution_count": 10,
     "metadata": {},
     "output_type": "execute_result"
    }
   ],
   "source": [
    "name[:2]"
   ]
  },
  {
   "cell_type": "code",
   "execution_count": 11,
   "id": "f7503f4f-4732-4530-80a3-680d4f02df15",
   "metadata": {},
   "outputs": [
    {
     "data": {
      "text/plain": [
       "'karun'"
      ]
     },
     "execution_count": 11,
     "metadata": {},
     "output_type": "execute_result"
    }
   ],
   "source": [
    "name[:5]"
   ]
  },
  {
   "cell_type": "code",
   "execution_count": 12,
   "id": "3973e8dd-bc97-4746-91bc-f4e63dc40fa3",
   "metadata": {},
   "outputs": [],
   "source": [
    "greet = \"hello kanu nice to meet you\""
   ]
  },
  {
   "cell_type": "code",
   "execution_count": 13,
   "id": "cfeaab36-7207-47f4-a23e-fc32867b2af9",
   "metadata": {},
   "outputs": [
    {
     "data": {
      "text/plain": [
       "'hello kanu nice to meet you'"
      ]
     },
     "execution_count": 13,
     "metadata": {},
     "output_type": "execute_result"
    }
   ],
   "source": [
    "greet"
   ]
  },
  {
   "cell_type": "code",
   "execution_count": 14,
   "id": "f7193bb0-e252-48a9-a1fb-2ac43042bdda",
   "metadata": {},
   "outputs": [
    {
     "data": {
      "text/plain": [
       "27"
      ]
     },
     "execution_count": 14,
     "metadata": {},
     "output_type": "execute_result"
    }
   ],
   "source": [
    "len(greet)"
   ]
  },
  {
   "cell_type": "code",
   "execution_count": 15,
   "id": "b53f8877-1bfb-43de-ba46-ff862c4506a5",
   "metadata": {},
   "outputs": [
    {
     "data": {
      "text/plain": [
       "'o kanu nice to meet you'"
      ]
     },
     "execution_count": 15,
     "metadata": {},
     "output_type": "execute_result"
    }
   ],
   "source": [
    "greet[4:]"
   ]
  },
  {
   "cell_type": "code",
   "execution_count": 16,
   "id": "8cbb1859-780a-48dc-bbce-2f124fa3bcf3",
   "metadata": {},
   "outputs": [
    {
     "data": {
      "text/plain": [
       "'kanu nice to meet you'"
      ]
     },
     "execution_count": 16,
     "metadata": {},
     "output_type": "execute_result"
    }
   ],
   "source": [
    "greet[6:]"
   ]
  },
  {
   "cell_type": "code",
   "execution_count": 17,
   "id": "8884788e-6be9-42f6-950b-2798d7652514",
   "metadata": {},
   "outputs": [
    {
     "data": {
      "text/plain": [
       "'kanu'"
      ]
     },
     "execution_count": 17,
     "metadata": {},
     "output_type": "execute_result"
    }
   ],
   "source": [
    "greet[6:10]"
   ]
  },
  {
   "cell_type": "code",
   "execution_count": 22,
   "id": "d26d74c3-5b6d-4e42-88bb-0933379d2fa7",
   "metadata": {},
   "outputs": [
    {
     "data": {
      "text/plain": [
       "'nice'"
      ]
     },
     "execution_count": 22,
     "metadata": {},
     "output_type": "execute_result"
    }
   ],
   "source": [
    "greet[11:15]"
   ]
  },
  {
   "cell_type": "code",
   "execution_count": 20,
   "id": "b6431d8a-b870-40ec-b8d4-39fac12242fb",
   "metadata": {},
   "outputs": [
    {
     "data": {
      "text/plain": [
       "'456'"
      ]
     },
     "execution_count": 20,
     "metadata": {},
     "output_type": "execute_result"
    }
   ],
   "source": [
    "\"0123456789\"[4:7]"
   ]
  },
  {
   "cell_type": "code",
   "execution_count": 33,
   "id": "572c9c9d-258c-4907-9f3c-828786de586b",
   "metadata": {},
   "outputs": [
    {
     "data": {
      "text/plain": [
       "'ran'"
      ]
     },
     "execution_count": 33,
     "metadata": {},
     "output_type": "execute_result"
    }
   ],
   "source": [
    "\"the fox ran\"[8:11]"
   ]
  },
  {
   "cell_type": "code",
   "execution_count": 25,
   "id": "2bd78289-c656-4253-b5a0-d06e9f4c4a50",
   "metadata": {},
   "outputs": [],
   "source": [
    "k = \"hello i am karunesh my hobby is studying\""
   ]
  },
  {
   "cell_type": "code",
   "execution_count": 26,
   "id": "7d641019-509e-4d74-8e24-9cd60ad9ac96",
   "metadata": {},
   "outputs": [
    {
     "data": {
      "text/plain": [
       "'karunesh'"
      ]
     },
     "execution_count": 26,
     "metadata": {},
     "output_type": "execute_result"
    }
   ],
   "source": [
    "k[11:19]"
   ]
  },
  {
   "cell_type": "code",
   "execution_count": 27,
   "id": "a1721920-4b81-424b-beba-c3febd1551be",
   "metadata": {},
   "outputs": [
    {
     "data": {
      "text/plain": [
       "'tudying'"
      ]
     },
     "execution_count": 27,
     "metadata": {},
     "output_type": "execute_result"
    }
   ],
   "source": [
    "k[33:]"
   ]
  },
  {
   "cell_type": "code",
   "execution_count": 28,
   "id": "e447dc18-7a23-4b27-88ab-b1afb8ae1063",
   "metadata": {},
   "outputs": [
    {
     "data": {
      "text/plain": [
       "'studying'"
      ]
     },
     "execution_count": 28,
     "metadata": {},
     "output_type": "execute_result"
    }
   ],
   "source": [
    "k[32:]"
   ]
  },
  {
   "cell_type": "code",
   "execution_count": 29,
   "id": "d1190ce1-e27e-436e-bfd5-fab318b1aa53",
   "metadata": {},
   "outputs": [
    {
     "ename": "SyntaxError",
     "evalue": "invalid syntax (2316389242.py, line 1)",
     "output_type": "error",
     "traceback": [
      "\u001b[1;36m  Cell \u001b[1;32mIn[29], line 1\u001b[1;36m\u001b[0m\n\u001b[1;33m    k{32}\u001b[0m\n\u001b[1;37m     ^\u001b[0m\n\u001b[1;31mSyntaxError\u001b[0m\u001b[1;31m:\u001b[0m invalid syntax\n"
     ]
    }
   ],
   "source": [
    "k{32}"
   ]
  },
  {
   "cell_type": "code",
   "execution_count": 30,
   "id": "f851e513-2c69-4530-a4de-17dc6e7135cf",
   "metadata": {},
   "outputs": [
    {
     "ename": "SyntaxError",
     "evalue": "invalid syntax (4208506822.py, line 1)",
     "output_type": "error",
     "traceback": [
      "\u001b[1;36m  Cell \u001b[1;32mIn[30], line 1\u001b[1;36m\u001b[0m\n\u001b[1;33m    k{32:40}\u001b[0m\n\u001b[1;37m     ^\u001b[0m\n\u001b[1;31mSyntaxError\u001b[0m\u001b[1;31m:\u001b[0m invalid syntax\n"
     ]
    }
   ],
   "source": [
    "k{32:40}"
   ]
  },
  {
   "cell_type": "code",
   "execution_count": 34,
   "id": "96e9e167-ef04-462f-9593-42e96d0463ad",
   "metadata": {},
   "outputs": [
    {
     "data": {
      "text/plain": [
       "'studying'"
      ]
     },
     "execution_count": 34,
     "metadata": {},
     "output_type": "execute_result"
    }
   ],
   "source": [
    "k[32:40]"
   ]
  },
  {
   "cell_type": "code",
   "execution_count": 100,
   "id": "328f5e36-5177-40bb-83c0-7f9ae696836a",
   "metadata": {},
   "outputs": [],
   "source": [
    "name = \"dhyaaender pratap singh\""
   ]
  },
  {
   "cell_type": "code",
   "execution_count": 101,
   "id": "672ca613-04fb-4c00-b9f9-0918d26531bc",
   "metadata": {},
   "outputs": [
    {
     "data": {
      "text/plain": [
       "'dhyaaender pratap singh'"
      ]
     },
     "execution_count": 101,
     "metadata": {},
     "output_type": "execute_result"
    }
   ],
   "source": [
    "name"
   ]
  },
  {
   "cell_type": "markdown",
   "id": "5804966d-f306-4ae0-b789-0aba9710fd2a",
   "metadata": {},
   "source": [
    "name[:9]"
   ]
  },
  {
   "cell_type": "code",
   "execution_count": 40,
   "id": "9b73227e-0d30-4e1b-93fe-e254f1d11e18",
   "metadata": {},
   "outputs": [
    {
     "data": {
      "text/plain": [
       "'dhyaaender pratap singh'"
      ]
     },
     "execution_count": 40,
     "metadata": {},
     "output_type": "execute_result"
    }
   ],
   "source": [
    "name[:]"
   ]
  },
  {
   "cell_type": "code",
   "execution_count": 86,
   "id": "328f0e9e-427f-46b4-b8f4-dd3c4da74a87",
   "metadata": {},
   "outputs": [
    {
     "data": {
      "text/plain": [
       "'kn'"
      ]
     },
     "execution_count": 86,
     "metadata": {},
     "output_type": "execute_result"
    }
   ],
   "source": [
    "#stepsize\n",
    "name[::2]"
   ]
  },
  {
   "cell_type": "code",
   "execution_count": 81,
   "id": "60bc7e6f-78fb-4cc0-8d27-e3a7a8e6dc9b",
   "metadata": {},
   "outputs": [],
   "source": [
    "data = \"kanu bansal\""
   ]
  },
  {
   "cell_type": "code",
   "execution_count": 82,
   "id": "dc5038b7-c28d-45fa-8fd1-7f2e562ca96a",
   "metadata": {},
   "outputs": [
    {
     "data": {
      "text/plain": [
       "'kanu bansal'"
      ]
     },
     "execution_count": 82,
     "metadata": {},
     "output_type": "execute_result"
    }
   ],
   "source": [
    "data"
   ]
  },
  {
   "cell_type": "code",
   "execution_count": 89,
   "id": "9c4fa70d-14ed-4415-b0f8-a4942fd9b46d",
   "metadata": {},
   "outputs": [
    {
     "data": {
      "text/plain": [
       "'anu bansal'"
      ]
     },
     "execution_count": 89,
     "metadata": {},
     "output_type": "execute_result"
    }
   ],
   "source": [
    "data[1::]"
   ]
  },
  {
   "cell_type": "code",
   "execution_count": 90,
   "id": "63df4688-7f94-4b7b-9314-90388b06f3f3",
   "metadata": {},
   "outputs": [
    {
     "data": {
      "text/plain": [
       "'kanu bansal'"
      ]
     },
     "execution_count": 90,
     "metadata": {},
     "output_type": "execute_result"
    }
   ],
   "source": [
    "data"
   ]
  },
  {
   "cell_type": "code",
   "execution_count": 93,
   "id": "fcb382e7-c6eb-4777-b220-928cda1f4fe7",
   "metadata": {},
   "outputs": [
    {
     "data": {
      "text/plain": [
       "'kn as'"
      ]
     },
     "execution_count": 93,
     "metadata": {},
     "output_type": "execute_result"
    }
   ],
   "source": [
    "data[0:10:2]"
   ]
  },
  {
   "cell_type": "code",
   "execution_count": null,
   "id": "87046bcd-1e95-4e1a-8c30-4cd7b2bfb35c",
   "metadata": {},
   "outputs": [],
   "source": []
  },
  {
   "cell_type": "code",
   "execution_count": 42,
   "id": "badf7608-b373-4bc7-b2f0-e38385caadf2",
   "metadata": {},
   "outputs": [
    {
     "data": {
      "text/plain": [
       "'danrrasg'"
      ]
     },
     "execution_count": 42,
     "metadata": {},
     "output_type": "execute_result"
    }
   ],
   "source": [
    "name[::3]"
   ]
  },
  {
   "cell_type": "code",
   "execution_count": 44,
   "id": "9f8dafde-8c99-47ff-b1c3-b53ba305774a",
   "metadata": {},
   "outputs": [
    {
     "data": {
      "text/plain": [
       "'dyane'"
      ]
     },
     "execution_count": 44,
     "metadata": {},
     "output_type": "execute_result"
    }
   ],
   "source": [
    "#starting number, ending number, stepsize\n",
    "name[0:10:2]"
   ]
  },
  {
   "cell_type": "code",
   "execution_count": 45,
   "id": "b7718f19-473a-417e-a854-215871ed387c",
   "metadata": {},
   "outputs": [
    {
     "ename": "TypeError",
     "evalue": "string indices must be integers, not 'str'",
     "output_type": "error",
     "traceback": [
      "\u001b[1;31m---------------------------------------------------------------------------\u001b[0m",
      "\u001b[1;31mTypeError\u001b[0m                                 Traceback (most recent call last)",
      "Cell \u001b[1;32mIn[45], line 1\u001b[0m\n\u001b[1;32m----> 1\u001b[0m name[\u001b[38;5;124m\"\u001b[39m\u001b[38;5;124m:-6\u001b[39m\u001b[38;5;124m\"\u001b[39m]\n",
      "\u001b[1;31mTypeError\u001b[0m: string indices must be integers, not 'str'"
     ]
    }
   ],
   "source": [
    "name[\":-6\"]"
   ]
  },
  {
   "cell_type": "code",
   "execution_count": 57,
   "id": "f353f76d-8667-4402-8997-9fdeb04da46e",
   "metadata": {},
   "outputs": [],
   "source": [
    "data = \"karunesh bansal\""
   ]
  },
  {
   "cell_type": "code",
   "execution_count": 58,
   "id": "7aab7729-4d0e-4e9d-93a5-c38797a8ec8a",
   "metadata": {},
   "outputs": [
    {
     "data": {
      "text/plain": [
       "'karunesh bansal'"
      ]
     },
     "execution_count": 58,
     "metadata": {},
     "output_type": "execute_result"
    }
   ],
   "source": [
    "data"
   ]
  },
  {
   "cell_type": "code",
   "execution_count": 71,
   "id": "882fa586-d98f-453e-ac19-894c4685d63a",
   "metadata": {},
   "outputs": [
    {
     "data": {
      "text/plain": [
       "'ansa'"
      ]
     },
     "execution_count": 71,
     "metadata": {},
     "output_type": "execute_result"
    }
   ],
   "source": [
    "data[-5:-1]"
   ]
  },
  {
   "cell_type": "code",
   "execution_count": 46,
   "id": "73ae26cd-0929-431b-8a63-c556b49a53d9",
   "metadata": {},
   "outputs": [
    {
     "data": {
      "text/plain": [
       "'dhyaaender pratap'"
      ]
     },
     "execution_count": 46,
     "metadata": {},
     "output_type": "execute_result"
    }
   ],
   "source": [
    "name[:-6]"
   ]
  },
  {
   "cell_type": "code",
   "execution_count": 47,
   "id": "fb9578e6-34c3-41a3-a25b-142203092f08",
   "metadata": {},
   "outputs": [
    {
     "data": {
      "text/plain": [
       "'ender pratap'"
      ]
     },
     "execution_count": 47,
     "metadata": {},
     "output_type": "execute_result"
    }
   ],
   "source": [
    "name[5:-6]"
   ]
  },
  {
   "cell_type": "code",
   "execution_count": 94,
   "id": "cc0245fa-0a4a-4806-aeb4-a72942ed692c",
   "metadata": {},
   "outputs": [
    {
     "data": {
      "text/plain": [
       "'kanu bansal'"
      ]
     },
     "execution_count": 94,
     "metadata": {},
     "output_type": "execute_result"
    }
   ],
   "source": [
    "data"
   ]
  },
  {
   "cell_type": "code",
   "execution_count": 97,
   "id": "5535e3b0-069b-44a8-9bfc-5e89e3fcef3c",
   "metadata": {},
   "outputs": [
    {
     "data": {
      "text/plain": [
       "'bna'"
      ]
     },
     "execution_count": 97,
     "metadata": {},
     "output_type": "execute_result"
    }
   ],
   "source": [
    "data[5:-1:2]"
   ]
  },
  {
   "cell_type": "code",
   "execution_count": 102,
   "id": "1eb02863-2b8c-4b33-9028-aead8d2b79af",
   "metadata": {},
   "outputs": [
    {
     "data": {
      "text/plain": [
       "'dhyaaender pratap singh'"
      ]
     },
     "execution_count": 102,
     "metadata": {},
     "output_type": "execute_result"
    }
   ],
   "source": [
    "name"
   ]
  },
  {
   "cell_type": "code",
   "execution_count": 104,
   "id": "987ef073-fe03-4a2f-a8d0-071cbac55a6e",
   "metadata": {},
   "outputs": [
    {
     "data": {
      "text/plain": [
       "'pratap'"
      ]
     },
     "execution_count": 104,
     "metadata": {},
     "output_type": "execute_result"
    }
   ],
   "source": [
    "name [5:-6][6:]"
   ]
  },
  {
   "cell_type": "code",
   "execution_count": 51,
   "id": "419607b6-cdad-4655-9374-d5ee760dd6e5",
   "metadata": {},
   "outputs": [
    {
     "ename": "SyntaxError",
     "evalue": "invalid syntax (2343066137.py, line 1)",
     "output_type": "error",
     "traceback": [
      "\u001b[1;36m  Cell \u001b[1;32mIn[51], line 1\u001b[1;36m\u001b[0m\n\u001b[1;33m    type(5:-6)\u001b[0m\n\u001b[1;37m          ^\u001b[0m\n\u001b[1;31mSyntaxError\u001b[0m\u001b[1;31m:\u001b[0m invalid syntax\n"
     ]
    }
   ],
   "source": [
    "type(5:-6)"
   ]
  },
  {
   "cell_type": "code",
   "execution_count": 53,
   "id": "dfd7dfe9-c934-4625-8207-e82900956f43",
   "metadata": {},
   "outputs": [
    {
     "data": {
      "text/plain": [
       "'tap'"
      ]
     },
     "execution_count": 53,
     "metadata": {},
     "output_type": "execute_result"
    }
   ],
   "source": [
    "name [5:-6][6:][3:]"
   ]
  },
  {
   "cell_type": "code",
   "execution_count": 105,
   "id": "c5212309-1681-4fe5-9e23-ebf3df8f91f2",
   "metadata": {},
   "outputs": [
    {
     "data": {
      "text/plain": [
       "'ta'"
      ]
     },
     "execution_count": 105,
     "metadata": {},
     "output_type": "execute_result"
    }
   ],
   "source": [
    "name [5:-6][6:][3:][:-1]"
   ]
  },
  {
   "cell_type": "code",
   "execution_count": 55,
   "id": "abbf845f-bdb2-4689-9a80-6e102f4e3726",
   "metadata": {},
   "outputs": [
    {
     "data": {
      "text/plain": [
       "'dhyaaender pratap singh'"
      ]
     },
     "execution_count": 55,
     "metadata": {},
     "output_type": "execute_result"
    }
   ],
   "source": [
    "name"
   ]
  },
  {
   "cell_type": "code",
   "execution_count": 56,
   "id": "81fe7bb6-6ac3-4ec9-ac28-dbef4bd14c7b",
   "metadata": {},
   "outputs": [
    {
     "data": {
      "text/plain": [
       "'hgnis patarp redneaayhd'"
      ]
     },
     "execution_count": 56,
     "metadata": {},
     "output_type": "execute_result"
    }
   ],
   "source": [
    "3if we write -1 in stepsize then sentence is written in opposite letters\n",
    "name[::-1]"
   ]
  },
  {
   "cell_type": "code",
   "execution_count": 60,
   "id": "793c5fad-0e7c-4cfa-9a51-69aacba97373",
   "metadata": {},
   "outputs": [
    {
     "data": {
      "text/plain": [
       "'patarp'"
      ]
     },
     "execution_count": 60,
     "metadata": {},
     "output_type": "execute_result"
    }
   ],
   "source": [
    "# easy way to opposite letter\n",
    "name[11:17][::-1]"
   ]
  },
  {
   "cell_type": "code",
   "execution_count": 61,
   "id": "acd4f12c-df64-4aae-8175-2e72252d454d",
   "metadata": {},
   "outputs": [
    {
     "data": {
      "text/plain": [
       "'patarp'"
      ]
     },
     "execution_count": 61,
     "metadata": {},
     "output_type": "execute_result"
    }
   ],
   "source": [
    "name[11:17][::-1]"
   ]
  },
  {
   "cell_type": "code",
   "execution_count": 62,
   "id": "a4e76335-3293-4e17-ba95-440a5696eb13",
   "metadata": {},
   "outputs": [
    {
     "data": {
      "text/plain": [
       "'dhyaaender pratap singh'"
      ]
     },
     "execution_count": 62,
     "metadata": {},
     "output_type": "execute_result"
    }
   ],
   "source": [
    "name"
   ]
  },
  {
   "cell_type": "code",
   "execution_count": 63,
   "id": "df23234f-3ca5-4568-aec9-b4956ac0f727",
   "metadata": {},
   "outputs": [
    {
     "data": {
      "text/plain": [
       "23"
      ]
     },
     "execution_count": 63,
     "metadata": {},
     "output_type": "execute_result"
    }
   ],
   "source": [
    "len(name)"
   ]
  },
  {
   "cell_type": "code",
   "execution_count": 79,
   "id": "af9d7102-5cdb-45be-af64-55bd15b520da",
   "metadata": {},
   "outputs": [
    {
     "data": {
      "text/plain": [
       "'edneaayhd'"
      ]
     },
     "execution_count": 79,
     "metadata": {},
     "output_type": "execute_result"
    }
   ],
   "source": [
    "name[:9][::-1]"
   ]
  },
  {
   "cell_type": "code",
   "execution_count": 80,
   "id": "687d9c07-09cf-461e-9827-e625cf700445",
   "metadata": {},
   "outputs": [
    {
     "data": {
      "text/plain": [
       "'r pratap singh'"
      ]
     },
     "execution_count": 80,
     "metadata": {},
     "output_type": "execute_result"
    }
   ],
   "source": [
    "name[9:]"
   ]
  },
  {
   "cell_type": "code",
   "execution_count": 82,
   "id": "014477bc-03c0-4b4c-86c6-7c0f6f1a79fd",
   "metadata": {},
   "outputs": [
    {
     "data": {
      "text/plain": [
       "'edneaayhdr pratap singh'"
      ]
     },
     "execution_count": 82,
     "metadata": {},
     "output_type": "execute_result"
    }
   ],
   "source": [
    "name[:9][::-1]+ name [9:]"
   ]
  },
  {
   "cell_type": "code",
   "execution_count": 107,
   "id": "104ebd9c-57b4-4279-b405-9b838145e2a1",
   "metadata": {},
   "outputs": [
    {
     "data": {
      "text/plain": [
       "'dhyaaender pratap singh'"
      ]
     },
     "execution_count": 107,
     "metadata": {},
     "output_type": "execute_result"
    }
   ],
   "source": [
    "name"
   ]
  },
  {
   "cell_type": "code",
   "execution_count": 110,
   "id": "dac99660-195e-4315-ada4-d39bc089d8e9",
   "metadata": {},
   "outputs": [
    {
     "data": {
      "text/plain": [
       "'redneaayhd pratap singh'"
      ]
     },
     "execution_count": 110,
     "metadata": {},
     "output_type": "execute_result"
    }
   ],
   "source": [
    "name[:10][::-1]+ name[10:]"
   ]
  },
  {
   "cell_type": "code",
   "execution_count": 84,
   "id": "27c4251b-048e-4781-8273-d1828bf49031",
   "metadata": {},
   "outputs": [],
   "source": [
    "a = len(name)//2"
   ]
  },
  {
   "cell_type": "code",
   "execution_count": 85,
   "id": "9180e92e-ba3f-4b0c-940b-8745c22371a6",
   "metadata": {},
   "outputs": [
    {
     "data": {
      "text/plain": [
       "' redneaayhdpratap singh'"
      ]
     },
     "execution_count": 85,
     "metadata": {},
     "output_type": "execute_result"
    }
   ],
   "source": [
    "name[:a][::-1] + name[a:]"
   ]
  },
  {
   "cell_type": "code",
   "execution_count": 4,
   "id": "c1a501f2-3d0e-4d7e-8a1b-5e2aacc91ef3",
   "metadata": {},
   "outputs": [
    {
     "data": {
      "text/plain": [
       "''"
      ]
     },
     "execution_count": 4,
     "metadata": {},
     "output_type": "execute_result"
    }
   ],
   "source": [
    "\"\""
   ]
  },
  {
   "cell_type": "code",
   "execution_count": 7,
   "id": "974157b7-aa9c-4587-b7c1-7585dd14dd63",
   "metadata": {},
   "outputs": [
    {
     "data": {
      "text/plain": [
       "'hii my name is kanu and i live in delhi and my age is19'"
      ]
     },
     "execution_count": 7,
     "metadata": {},
     "output_type": "execute_result"
    }
   ],
   "source": [
    "\"hii my name is {name} and i live in {place} and my age is{age}\".format(age=19, place=\"delhi\", name= \"kanu\")"
   ]
  },
  {
   "cell_type": "code",
   "execution_count": 1,
   "id": "97ca890b-a56b-483c-bbe9-59cabd6da973",
   "metadata": {},
   "outputs": [],
   "source": [
    "data = \"karunesh bansal\""
   ]
  },
  {
   "cell_type": "code",
   "execution_count": 2,
   "id": "c8d1f607-630b-4836-bb97-b71611781300",
   "metadata": {},
   "outputs": [
    {
     "data": {
      "text/plain": [
       "'karunesh bansal'"
      ]
     },
     "execution_count": 2,
     "metadata": {},
     "output_type": "execute_result"
    }
   ],
   "source": [
    "data"
   ]
  },
  {
   "cell_type": "code",
   "execution_count": 3,
   "id": "45cf07f6-d593-46e5-8e45-1cadee34f1eb",
   "metadata": {},
   "outputs": [],
   "source": [
    "a = len(data)//2"
   ]
  },
  {
   "cell_type": "code",
   "execution_count": 6,
   "id": "ebd3fd03-fbb1-4f46-94b6-d6f4b435a1f4",
   "metadata": {},
   "outputs": [
    {
     "data": {
      "text/plain": [
       "'h bansalsenurak'"
      ]
     },
     "execution_count": 6,
     "metadata": {},
     "output_type": "execute_result"
    }
   ],
   "source": [
    "data[a:]+ data[:a][::-1]"
   ]
  },
  {
   "cell_type": "code",
   "execution_count": null,
   "id": "dfe1a0ab-5065-4bfd-8603-588febd78e1d",
   "metadata": {},
   "outputs": [],
   "source": []
  }
 ],
 "metadata": {
  "kernelspec": {
   "display_name": "Python [conda env:base] *",
   "language": "python",
   "name": "conda-base-py"
  },
  "language_info": {
   "codemirror_mode": {
    "name": "ipython",
    "version": 3
   },
   "file_extension": ".py",
   "mimetype": "text/x-python",
   "name": "python",
   "nbconvert_exporter": "python",
   "pygments_lexer": "ipython3",
   "version": "3.13.5"
  }
 },
 "nbformat": 4,
 "nbformat_minor": 5
}
