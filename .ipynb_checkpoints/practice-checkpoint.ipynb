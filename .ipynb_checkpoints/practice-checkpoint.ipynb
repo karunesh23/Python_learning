{
 "cells": [
  {
   "cell_type": "code",
   "execution_count": 2,
   "id": "6137aa0a-85bd-45bd-99dc-5dd93235af58",
   "metadata": {},
   "outputs": [
    {
     "name": "stdout",
     "output_type": "stream",
     "text": [
      "out of range\n"
     ]
    }
   ],
   "source": [
    "# If the number is greater than 10 and less than 20, print \"In range\".\n",
    "# Else, print \"Out of range\".\n",
    "\n",
    "n=25\n",
    "if n >10 and n<20:\n",
    "    print(\"in range\")\n",
    "else:\n",
    "    print(\"out of range\")"
   ]
  },
  {
   "cell_type": "code",
   "execution_count": 8,
   "id": "726665d0-172f-40c6-af81-9883d6f55da2",
   "metadata": {},
   "outputs": [
    {
     "name": "stdout",
     "output_type": "stream",
     "text": [
      "valid triangle\n"
     ]
    }
   ],
   "source": [
    "# Take three angles as input.\n",
    "# If the sum of the angles is 180 and all angles are greater than 0, print \"Valid triangle\".\n",
    "# Else, print \"Invalid triangle\".\n",
    "\n",
    "angel_1 = 50\n",
    "angel_2 = 80\n",
    "angel_3 = 60\n",
    "sum = angel_1+angel_2+angel_3\n",
    "sum\n",
    "\n",
    "if sum >= 180 and angel_1 > 0 and angel_2 >0 and angel_3 >0:\n",
    "    print(\"valid triangle\")\n",
    "else:\n",
    "    print(\"invalid triangle\")"
   ]
  },
  {
   "cell_type": "code",
   "execution_count": 11,
   "id": "9859f2a0-9ce8-451c-b6de-3d8820ee6505",
   "metadata": {},
   "outputs": [
    {
     "name": "stdout",
     "output_type": "stream",
     "text": [
      "can drive\n"
     ]
    }
   ],
   "source": [
    "# If age ≥ 18 and license == \"yes\", print \"Can drive\".\n",
    "# Else, print \"Cannot drive\".\n",
    "\n",
    "age = 20\n",
    "license = \"yes\"\n",
    "\n",
    "if age >= 18 and license ==\"yes\":\n",
    "    print(\"can drive\")\n",
    "else:\n",
    "    print(\"cannot drive\")"
   ]
  },
  {
   "cell_type": "code",
   "execution_count": 16,
   "id": "bbd00a6c-8511-4499-a614-f55b8c0623ca",
   "metadata": {},
   "outputs": [
    {
     "name": "stdout",
     "output_type": "stream",
     "text": [
      "condition not met\n"
     ]
    }
   ],
   "source": [
    "# Input two numbers. If both are even numbers and divisible by 5, print \"Common condition met\".\n",
    "num_1 = 15\n",
    "num_2 = 20\n",
    "\n",
    "if (num_1 and num_2 % 2)  and (num_1 and num_2 % 5):\n",
    "    print(\"common condition met\")\n",
    "else:\n",
    "    print(\"condition not met\")\n"
   ]
  },
  {
   "cell_type": "code",
   "execution_count": 18,
   "id": "97f83a04-32a6-4a32-8cc5-4721c4395fd4",
   "metadata": {},
   "outputs": [
    {
     "name": "stdout",
     "output_type": "stream",
     "text": [
      "hot and humid\n"
     ]
    }
   ],
   "source": [
    "# Take temperature and humidity as input. If temp > 30 and humidity > 70, print \"Hot and humid\".\n",
    "\n",
    "temp = 50\n",
    "humidity = 80\n",
    "\n",
    "if (temp> 30) and (humidity > 70):\n",
    "    print(\"hot and humid\")\n",
    "else:\n",
    "    print(\"not hot and humid\")"
   ]
  },
  {
   "cell_type": "code",
   "execution_count": 26,
   "id": "e0ec4c2a-ead6-49e8-82dc-e42d3ffaae53",
   "metadata": {},
   "outputs": [
    {
     "name": "stdout",
     "output_type": "stream",
     "text": [
      "allow login\n"
     ]
    }
   ],
   "source": [
    "# Ask user for a username and password. If both match stored values and username starts with \"user_\", allow login\n",
    "\n",
    "username = \"karunesh\"\n",
    "password = 2310\n",
    "\n",
    "if not username == \"kanu\" and password == 2310:\n",
    "    print(\"allow login\")\n",
    "else:\n",
    "    print(\"not login\")\n"
   ]
  },
  {
   "cell_type": "code",
   "execution_count": 28,
   "id": "6c62a5d1-1bea-4297-a071-9bbbef157145",
   "metadata": {},
   "outputs": [
    {
     "name": "stdin",
     "output_type": "stream",
     "text": [
      "enter a year 2000\n"
     ]
    },
    {
     "name": "stdout",
     "output_type": "stream",
     "text": [
      "year is a leap year and divisible by 400\n"
     ]
    }
   ],
   "source": [
    "# Write a program to check if a year is a leap year and divisible by 400.\n",
    "\n",
    "year = int(input(\"enter a year\"))\n",
    "\n",
    "if year % 4==0 and year % 400 ==0:\n",
    "    print(\"year is a leap year and divisible by 400\")\n",
    "else:\n",
    "    print(\"year is not a leap year and not divisible by 400\")"
   ]
  },
  {
   "cell_type": "code",
   "execution_count": 42,
   "id": "9409d292-2d97-4310-9284-763408f7a5c7",
   "metadata": {},
   "outputs": [
    {
     "name": "stdout",
     "output_type": "stream",
     "text": [
      "allow login\n"
     ]
    }
   ],
   "source": [
    "# Username is \"admin\"\n",
    "# Password is \"secure123\"\n",
    "# PIN is a 4-digit number that starts with \"9\"\n",
    "\n",
    "username = \"admin\"\n",
    "password = \"secure123\"\n",
    "pin = 9876\n",
    "pin_str = str(pin)\n",
    "\n",
    "if username == \"admin\" and password == \"secure123\" and len(pin_str)== 4 and pin_str.startswith(\"9\"):\n",
    "    print(\"allow login\")\n",
    "else:\n",
    "    print(\"not allow login\")\n",
    "\n",
    "\n"
   ]
  },
  {
   "cell_type": "code",
   "execution_count": 43,
   "id": "b3a265de-a9d9-488a-989f-6e0b25e1b730",
   "metadata": {},
   "outputs": [],
   "source": [
    "# Age\n",
    "# ID type (passport, national ID, driver’s license)\n",
    "# ID expiry year\n",
    "# Age must be ≥ 18\n",
    "# ID must be one of the three valid types\n",
    "# ID expiry year must be >= current year\n",
    "# Only then print “Entry granted”.\n",
    "# Use and with multiple conditions, and compare against datetime.now().year.\n",
    "\n"
   ]
  },
  {
   "cell_type": "code",
   "execution_count": 44,
   "id": "6f253b64-85fd-4201-a30b-080935d3832d",
   "metadata": {},
   "outputs": [],
   "source": [
    "age = 20\n",
    "income = 50000\n",
    "credit_score =450 \n",
    "debts = 1700\n",
    "Employment = \"full-time\""
   ]
  },
  {
   "cell_type": "code",
   "execution_count": 45,
   "id": "ab95275b-125e-454d-b322-3d2ed40979a1",
   "metadata": {},
   "outputs": [
    {
     "name": "stdout",
     "output_type": "stream",
     "text": [
      "Load approved\n",
      "Load 300000.0\n",
      "intrest 30000.0\n"
     ]
    }
   ],
   "source": [
    "if age >=18 and not Employment == \"unemployeed\":\n",
    "    if credit_score > 400 and debts <= income * 0.3:\n",
    "        loan = income*12 * 0.5\n",
    "        intrest = loan * 0.1\n",
    "        \n",
    "        print(\"Load approved\")\n",
    "        print(f\"Load {loan}\")\n",
    "        print(f\"intrest {intrest}\")\n",
    "\n",
    "    elif credit_score > 400 and debts >= income * 0.3:\n",
    "        loan = income * 12 * 0.3\n",
    "        intrest = loan*0.1\n",
    "        print(\"Load approved\")\n",
    "        print(f\"Load {loan}\")\n",
    "        print(f\"intrest {intrest}\")\n",
    "\n",
    "    elif credit_score <= 400 and debts < income*0.3:\n",
    "        loan = income *12 * 0.5\n",
    "        intrest = loan * 0.12\n",
    "        \n",
    "        print(\"Load approved\")\n",
    "        print(f\"Load {loan}\")\n",
    "        print(f\"intrest {intrest}\")\n",
    "\n",
    "    else:\n",
    "        print(\"loan rejected\")\n",
    "        \n",
    "else:\n",
    "    print(\"loan rejected\")"
   ]
  },
  {
   "cell_type": "code",
   "execution_count": null,
   "id": "0674cfce-1bcc-4c68-beb0-e3028f159f44",
   "metadata": {},
   "outputs": [],
   "source": []
  }
 ],
 "metadata": {
  "kernelspec": {
   "display_name": "Python [conda env:base] *",
   "language": "python",
   "name": "conda-base-py"
  },
  "language_info": {
   "codemirror_mode": {
    "name": "ipython",
    "version": 3
   },
   "file_extension": ".py",
   "mimetype": "text/x-python",
   "name": "python",
   "nbconvert_exporter": "python",
   "pygments_lexer": "ipython3",
   "version": "3.13.5"
  }
 },
 "nbformat": 4,
 "nbformat_minor": 5
}
