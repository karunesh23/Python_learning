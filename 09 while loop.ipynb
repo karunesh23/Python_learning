{
 "cells": [
  {
   "cell_type": "code",
   "execution_count": 1,
   "id": "4240afe6-f92a-4450-9e0e-0192cf8a2180",
   "metadata": {},
   "outputs": [],
   "source": [
    "# repeating a task again and again until certain criteria is satisfied"
   ]
  },
  {
   "cell_type": "code",
   "execution_count": 1,
   "id": "6cc44114-901c-4173-af3c-2183f52476d2",
   "metadata": {},
   "outputs": [
    {
     "name": "stdout",
     "output_type": "stream",
     "text": [
      "hello\n",
      "hii\n",
      "karunesh\n"
     ]
    }
   ],
   "source": [
    "while True:\n",
    "    print(\"hello\")\n",
    "    print(\"hii\")\n",
    "    break\n",
    "    print(\"bye\")\n",
    "print(\"karunesh\")    "
   ]
  },
  {
   "cell_type": "code",
   "execution_count": 3,
   "id": "3110f43b-a58c-486f-976e-74e004b7f0fe",
   "metadata": {},
   "outputs": [
    {
     "name": "stdout",
     "output_type": "stream",
     "text": [
      "1\n",
      "2\n",
      "3\n",
      "4\n"
     ]
    }
   ],
   "source": [
    "# if we write i after break then it return output in infinite \n",
    "# first way\n",
    "i = 1\n",
    "while True:\n",
    "    print(i)\n",
    "    i +=1\n",
    "    if i == 5:\n",
    "        break\n",
    "    "
   ]
  },
  {
   "cell_type": "code",
   "execution_count": 4,
   "id": "2aced8f9-cbe2-4e62-8f8b-7b3b4f8de97f",
   "metadata": {},
   "outputs": [
    {
     "data": {
      "text/plain": [
       "5"
      ]
     },
     "execution_count": 4,
     "metadata": {},
     "output_type": "execute_result"
    }
   ],
   "source": [
    "i"
   ]
  },
  {
   "cell_type": "code",
   "execution_count": 5,
   "id": "6709dc02-b844-4c37-a8a8-ed5463505cfd",
   "metadata": {},
   "outputs": [
    {
     "name": "stdout",
     "output_type": "stream",
     "text": [
      "0\n",
      "1\n",
      "2\n",
      "3\n",
      "4\n"
     ]
    }
   ],
   "source": [
    "# second way\n",
    "i = 0\n",
    "while i < 5:\n",
    "    print(i)\n",
    "    i +=1\n"
   ]
  },
  {
   "cell_type": "code",
   "execution_count": 6,
   "id": "0fd4958f-2f06-4cc5-b663-17edf05bc69d",
   "metadata": {},
   "outputs": [
    {
     "name": "stdout",
     "output_type": "stream",
     "text": [
      "0\n",
      "1\n",
      "2\n",
      "3\n",
      "4\n"
     ]
    }
   ],
   "source": [
    "# third way\n",
    "i = 0   # starting num\n",
    "n = 5   # ending num\n",
    "while i < n:\n",
    "    print(i)\n",
    "    i +=1     # stepsize\n"
   ]
  },
  {
   "cell_type": "code",
   "execution_count": 14,
   "id": "62a97756-5b73-422e-b45f-9f5b0bb0b545",
   "metadata": {},
   "outputs": [
    {
     "name": "stdout",
     "output_type": "stream",
     "text": [
      "0\n",
      "2\n",
      "4\n",
      "6\n",
      "8\n",
      "10\n",
      "12\n",
      "14\n",
      "16\n",
      "18\n",
      "20\n"
     ]
    }
   ],
   "source": [
    "i = 0\n",
    "n = 20\n",
    "while i<= n:\n",
    "    print(i)\n",
    "    i +=2"
   ]
  },
  {
   "cell_type": "code",
   "execution_count": 15,
   "id": "7b1b2466-6460-40d0-8967-42859ea39c4a",
   "metadata": {},
   "outputs": [
    {
     "name": "stdout",
     "output_type": "stream",
     "text": [
      "7 x 1 = 7\n",
      "7 x 2 = 14\n",
      "7 x 3 = 21\n",
      "7 x 4 = 28\n",
      "7 x 5 = 35\n",
      "7 x 6 = 42\n",
      "7 x 7 = 49\n",
      "7 x 8 = 56\n",
      "7 x 9 = 63\n",
      "7 x 10 = 70\n"
     ]
    }
   ],
   "source": [
    "# print table\n",
    "i = 1\n",
    "n = 11\n",
    "while i < n:\n",
    "    print( 7, \"x\", i, \"=\", i*7)\n",
    "    i +=1"
   ]
  },
  {
   "cell_type": "code",
   "execution_count": 24,
   "id": "43a5292b-703a-4f4b-a286-a3d512020f0e",
   "metadata": {},
   "outputs": [
    {
     "name": "stdout",
     "output_type": "stream",
     "text": [
      "3 * 1 = 3\n",
      "3 * 2 = 6\n",
      "3 * 3 = 9\n",
      "3 * 4 = 12\n",
      "3 * 5 = 15\n",
      "3 * 6 = 18\n",
      "3 * 7 = 21\n",
      "3 * 8 = 24\n",
      "3 * 9 = 27\n",
      "3 * 10 = 30\n"
     ]
    }
   ],
   "source": [
    "i = 1\n",
    "n = 11\n",
    "while i < n:\n",
    "    print(3,\"*\", i, \"=\", 3*i)\n",
    "    i += 1"
   ]
  },
  {
   "cell_type": "code",
   "execution_count": 29,
   "id": "85111762-a9a4-4aa8-8a5f-3542b036b734",
   "metadata": {},
   "outputs": [
    {
     "name": "stdout",
     "output_type": "stream",
     "text": [
      "3\n",
      "6\n",
      "9\n",
      "12\n",
      "15\n",
      "18\n",
      "21\n",
      "24\n",
      "27\n",
      "30\n"
     ]
    }
   ],
   "source": [
    "i = 1\n",
    "n = 10\n",
    "while i <= n:\n",
    "    print(3*i)\n",
    "    i += 1"
   ]
  },
  {
   "cell_type": "code",
   "execution_count": 8,
   "id": "d84aabb2-dc5b-4b8a-be73-250150409dbf",
   "metadata": {},
   "outputs": [
    {
     "name": "stdout",
     "output_type": "stream",
     "text": [
      "21\n"
     ]
    }
   ],
   "source": [
    "# sum of 5 numbers\n",
    "i = 0\n",
    "n = 7\n",
    "sum = 0\n",
    "while i < n:\n",
    "    sum += i\n",
    "    i+=1\n",
    "print(sum)\n"
   ]
  },
  {
   "cell_type": "code",
   "execution_count": 11,
   "id": "5eea7938-6881-4e3a-bcf7-60720f4700b7",
   "metadata": {},
   "outputs": [
    {
     "name": "stdout",
     "output_type": "stream",
     "text": [
      "0 0\n",
      "1 1\n",
      "2 3\n",
      "3 6\n",
      "4 10\n",
      "5 15\n",
      "6 21\n",
      "21\n"
     ]
    }
   ],
   "source": [
    "# another way\n",
    "# sum of n natural number\n",
    "i = 0\n",
    "n = 7\n",
    "sum = 0\n",
    "while i < n:\n",
    "    sum += i\n",
    "    print(i,sum)\n",
    "    i+=1\n",
    "print(sum)"
   ]
  },
  {
   "cell_type": "code",
   "execution_count": 12,
   "id": "c015b5a6-6096-4ade-8376-9584b3485706",
   "metadata": {},
   "outputs": [
    {
     "name": "stdout",
     "output_type": "stream",
     "text": [
      "1180\n"
     ]
    }
   ],
   "source": [
    "# sum of numbers in a range\n",
    "i = 10\n",
    "n = 50\n",
    "a = 0\n",
    "while i < n:\n",
    "    a +=i\n",
    "    i +=1\n",
    "print(a)    \n",
    "    "
   ]
  },
  {
   "cell_type": "code",
   "execution_count": 2,
   "id": "25dcff7a-f48b-4748-9b36-1aea188465cc",
   "metadata": {},
   "outputs": [
    {
     "data": {
      "text/plain": [
       "7"
      ]
     },
     "execution_count": 2,
     "metadata": {},
     "output_type": "execute_result"
    }
   ],
   "source": [
    "name = \"kaunesh\"\n",
    "len(name)"
   ]
  },
  {
   "cell_type": "code",
   "execution_count": 5,
   "id": "3b745c0e-7e3f-4c0c-a64b-b4c7d193b5e5",
   "metadata": {},
   "outputs": [],
   "source": [
    "name = \"karunesh\"\n",
    "i = 10\n",
    "n = len(name)\n",
    "while i < n:\n",
    "    print(name[i])\n",
    "    i +=1"
   ]
  },
  {
   "cell_type": "code",
   "execution_count": 1,
   "id": "2b039b37-25d2-45c5-9981-a021577b3c4c",
   "metadata": {},
   "outputs": [],
   "source": [
    "name= \"karunesh\""
   ]
  },
  {
   "cell_type": "markdown",
   "id": "4340e8fe-7970-4f0e-a020-01551a388621",
   "metadata": {},
   "source": []
  },
  {
   "cell_type": "code",
   "execution_count": 2,
   "id": "32b6cef0-c02c-4aaf-875a-ba3724033c96",
   "metadata": {},
   "outputs": [],
   "source": [
    "name = \"kanu\""
   ]
  },
  {
   "cell_type": "code",
   "execution_count": 3,
   "id": "bed204a3-3b5f-45ed-bca7-3a4db8b3c97a",
   "metadata": {},
   "outputs": [
    {
     "data": {
      "text/plain": [
       "'kanu'"
      ]
     },
     "execution_count": 3,
     "metadata": {},
     "output_type": "execute_result"
    }
   ],
   "source": [
    "name"
   ]
  },
  {
   "cell_type": "code",
   "execution_count": 4,
   "id": "eb890466-4684-4c9b-aec9-9d9cf30e617d",
   "metadata": {},
   "outputs": [
    {
     "data": {
      "text/plain": [
       "4"
      ]
     },
     "execution_count": 4,
     "metadata": {},
     "output_type": "execute_result"
    }
   ],
   "source": [
    "len(name)"
   ]
  },
  {
   "cell_type": "code",
   "execution_count": 5,
   "id": "ad3e28cc-51e2-4c1f-afa6-035f27292591",
   "metadata": {},
   "outputs": [
    {
     "name": "stdout",
     "output_type": "stream",
     "text": [
      "k\n",
      "a\n",
      "n\n",
      "u\n"
     ]
    }
   ],
   "source": [
    "name = \"kanu\"\n",
    "i = 0\n",
    "n = len(name)\n",
    "while i < n:\n",
    "    print(name[i])\n",
    "    i +=1"
   ]
  },
  {
   "cell_type": "code",
   "execution_count": 9,
   "id": "16c446d9-7310-4102-aa50-194cb3ad2181",
   "metadata": {},
   "outputs": [
    {
     "name": "stdout",
     "output_type": "stream",
     "text": [
      "12\n",
      "1\n",
      "4\n",
      "5\n",
      "6\n",
      "7\n"
     ]
    }
   ],
   "source": [
    "li = [12,1,4,5,6,7]\n",
    "i = 0\n",
    "n = len(li)\n",
    "while i < n:\n",
    "    print(li[i])\n",
    "    i +=1\n",
    "    "
   ]
  },
  {
   "cell_type": "code",
   "execution_count": null,
   "id": "612c3384-a0bf-431e-97c9-aa982d587769",
   "metadata": {},
   "outputs": [],
   "source": []
  }
 ],
 "metadata": {
  "kernelspec": {
   "display_name": "Python [conda env:base] *",
   "language": "python",
   "name": "conda-base-py"
  },
  "language_info": {
   "codemirror_mode": {
    "name": "ipython",
    "version": 3
   },
   "file_extension": ".py",
   "mimetype": "text/x-python",
   "name": "python",
   "nbconvert_exporter": "python",
   "pygments_lexer": "ipython3",
   "version": "3.13.5"
  }
 },
 "nbformat": 4,
 "nbformat_minor": 5
}
