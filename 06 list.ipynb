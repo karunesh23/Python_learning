{
 "cells": [
  {
   "cell_type": "markdown",
   "id": "ff9d70fa-d131-4265-8a2e-5e9efe7ac3d8",
   "metadata": {},
   "source": [
    "# list"
   ]
  },
  {
   "cell_type": "code",
   "execution_count": 1,
   "id": "32fd3987-b201-4ab7-87e1-16c86a8d6732",
   "metadata": {},
   "outputs": [
    {
     "data": {
      "text/plain": [
       "[8, 3, 4, 5, 6]"
      ]
     },
     "execution_count": 1,
     "metadata": {},
     "output_type": "execute_result"
    }
   ],
   "source": [
    "# list square bracket se bnti hai\n",
    "[8,3,4,5,6]"
   ]
  },
  {
   "cell_type": "code",
   "execution_count": 2,
   "id": "994dd033-7d8f-4e08-af59-b645e5843da4",
   "metadata": {},
   "outputs": [],
   "source": [
    "dogs = [\"tom\", \"kutta\", \"doggy\"]"
   ]
  },
  {
   "cell_type": "code",
   "execution_count": 3,
   "id": "3bd5b2d7-9cc1-4c43-a25f-e61f8b84cd69",
   "metadata": {},
   "outputs": [
    {
     "data": {
      "text/plain": [
       "['tom', 'kutta', 'doggy']"
      ]
     },
     "execution_count": 3,
     "metadata": {},
     "output_type": "execute_result"
    }
   ],
   "source": [
    "dogs"
   ]
  },
  {
   "cell_type": "code",
   "execution_count": 4,
   "id": "73cbca7c-386b-448b-bb82-cb448cc7e4b4",
   "metadata": {},
   "outputs": [],
   "source": [
    "# list store multiple items, order sequence, items changable"
   ]
  },
  {
   "cell_type": "code",
   "execution_count": 5,
   "id": "ac167afc-ebbd-4bc8-a62e-4b7d33aa3a60",
   "metadata": {},
   "outputs": [
    {
     "data": {
      "text/plain": [
       "'tom'"
      ]
     },
     "execution_count": 5,
     "metadata": {},
     "output_type": "execute_result"
    }
   ],
   "source": [
    "dogs[0]"
   ]
  },
  {
   "cell_type": "code",
   "execution_count": 6,
   "id": "77d1255d-1976-487f-a6b2-3c76468d36ba",
   "metadata": {},
   "outputs": [
    {
     "data": {
      "text/plain": [
       "['tom', 'kutta']"
      ]
     },
     "execution_count": 6,
     "metadata": {},
     "output_type": "execute_result"
    }
   ],
   "source": [
    "dogs[0:2]"
   ]
  },
  {
   "cell_type": "code",
   "execution_count": 7,
   "id": "35bb84a5-0b75-49de-ac82-4028676e4f9d",
   "metadata": {},
   "outputs": [],
   "source": [
    "dogs[0] = \"jerry\""
   ]
  },
  {
   "cell_type": "code",
   "execution_count": 9,
   "id": "eb5bd135-fbca-40d3-a42e-210cf0e57f4d",
   "metadata": {},
   "outputs": [
    {
     "data": {
      "text/plain": [
       "'jerry'"
      ]
     },
     "execution_count": 9,
     "metadata": {},
     "output_type": "execute_result"
    }
   ],
   "source": [
    "dogs[0]"
   ]
  },
  {
   "cell_type": "code",
   "execution_count": 10,
   "id": "34788e03-2482-4517-bd37-c70f1666c840",
   "metadata": {},
   "outputs": [
    {
     "data": {
      "text/plain": [
       "['jerry', 'kutta', 'doggy']"
      ]
     },
     "execution_count": 10,
     "metadata": {},
     "output_type": "execute_result"
    }
   ],
   "source": [
    "dogs"
   ]
  },
  {
   "cell_type": "code",
   "execution_count": 11,
   "id": "b7ae649a-93bb-4749-b5c8-1d65ea017085",
   "metadata": {},
   "outputs": [],
   "source": [
    "dogs[1]= \"tom\" "
   ]
  },
  {
   "cell_type": "code",
   "execution_count": 12,
   "id": "7bde4aa6-32f2-440e-b82b-dca9b0d6965b",
   "metadata": {},
   "outputs": [
    {
     "data": {
      "text/plain": [
       "['jerry', 'tom', 'doggy']"
      ]
     },
     "execution_count": 12,
     "metadata": {},
     "output_type": "execute_result"
    }
   ],
   "source": [
    "dogs"
   ]
  },
  {
   "cell_type": "code",
   "execution_count": 14,
   "id": "145a244c-7bd5-49fa-b529-97b3cc832a95",
   "metadata": {},
   "outputs": [],
   "source": [
    "li = [5,3.5,4, \"karunesh\",(3,4,7), 6+3j, [\"kanu\",5], True, False]"
   ]
  },
  {
   "cell_type": "code",
   "execution_count": 15,
   "id": "cca821b2-69c1-46c0-9af4-81a4d025d143",
   "metadata": {},
   "outputs": [
    {
     "data": {
      "text/plain": [
       "[5, 3.5, 4, 'karunesh', (3, 4, 7), (6+3j), ['kanu', 5], True, False]"
      ]
     },
     "execution_count": 15,
     "metadata": {},
     "output_type": "execute_result"
    }
   ],
   "source": [
    "li"
   ]
  },
  {
   "cell_type": "code",
   "execution_count": 18,
   "id": "709492ad-e89b-49ee-87e8-801410555118",
   "metadata": {},
   "outputs": [],
   "source": [
    "tu = (5,3.5, 6+3j, \"kanu\",[\"kanu\",5])"
   ]
  },
  {
   "cell_type": "code",
   "execution_count": 19,
   "id": "f163919e-266c-41ac-9a54-f4e7627851d0",
   "metadata": {},
   "outputs": [
    {
     "data": {
      "text/plain": [
       "(5, 3.5, (6+3j), 'kanu', ['kanu', 5])"
      ]
     },
     "execution_count": 19,
     "metadata": {},
     "output_type": "execute_result"
    }
   ],
   "source": [
    "tu"
   ]
  },
  {
   "cell_type": "code",
   "execution_count": 20,
   "id": "260db545-cb49-46ab-8238-6466ccd9557a",
   "metadata": {},
   "outputs": [
    {
     "data": {
      "text/plain": [
       "(6+3j)"
      ]
     },
     "execution_count": 20,
     "metadata": {},
     "output_type": "execute_result"
    }
   ],
   "source": [
    "li[5]"
   ]
  },
  {
   "cell_type": "code",
   "execution_count": 21,
   "id": "7b583f8c-d6cc-42b8-a580-9543b84e26c9",
   "metadata": {},
   "outputs": [
    {
     "data": {
      "text/plain": [
       "[5, 3.5, 4, 'karunesh', (3, 4, 7), (6+3j), ['kanu', 5], True, False]"
      ]
     },
     "execution_count": 21,
     "metadata": {},
     "output_type": "execute_result"
    }
   ],
   "source": [
    "li"
   ]
  },
  {
   "cell_type": "code",
   "execution_count": 22,
   "id": "7145e14e-13fc-4e2b-85a4-12fc649749d9",
   "metadata": {},
   "outputs": [
    {
     "data": {
      "text/plain": [
       "True"
      ]
     },
     "execution_count": 22,
     "metadata": {},
     "output_type": "execute_result"
    }
   ],
   "source": [
    "li[7]"
   ]
  },
  {
   "cell_type": "code",
   "execution_count": 23,
   "id": "13d40b2a-09b8-4096-a70b-25029a03712c",
   "metadata": {},
   "outputs": [
    {
     "data": {
      "text/plain": [
       "['kanu', 5]"
      ]
     },
     "execution_count": 23,
     "metadata": {},
     "output_type": "execute_result"
    }
   ],
   "source": [
    "li[6]"
   ]
  },
  {
   "cell_type": "code",
   "execution_count": 24,
   "id": "cd3265b2-dad9-4899-a13e-a3ab49b19e3a",
   "metadata": {},
   "outputs": [
    {
     "data": {
      "text/plain": [
       "[4, 'karunesh', (3, 4, 7), (6+3j), ['kanu', 5], True, False]"
      ]
     },
     "execution_count": 24,
     "metadata": {},
     "output_type": "execute_result"
    }
   ],
   "source": [
    "li[2:9]"
   ]
  },
  {
   "cell_type": "code",
   "execution_count": 29,
   "id": "ddba8bfe-d1bd-4d73-a159-558ea6e0c234",
   "metadata": {},
   "outputs": [
    {
     "data": {
      "text/plain": [
       "'arun'"
      ]
     },
     "execution_count": 29,
     "metadata": {},
     "output_type": "execute_result"
    }
   ],
   "source": [
    "# we can add slicing into string\n",
    "li[3][0:5][1:6]"
   ]
  },
  {
   "cell_type": "code",
   "execution_count": 32,
   "id": "3e893465-4048-4898-b95d-8bba35d345bf",
   "metadata": {},
   "outputs": [
    {
     "data": {
      "text/plain": [
       "'a'"
      ]
     },
     "execution_count": 32,
     "metadata": {},
     "output_type": "execute_result"
    }
   ],
   "source": [
    "# we can also add slicing into tuple\n",
    "li[6][0][1]"
   ]
  },
  {
   "cell_type": "code",
   "execution_count": 35,
   "id": "473b2acc-e34d-4a4d-a1f5-fd8bc9b36897",
   "metadata": {},
   "outputs": [
    {
     "data": {
      "text/plain": [
       "(6+3j)"
      ]
     },
     "execution_count": 35,
     "metadata": {},
     "output_type": "execute_result"
    }
   ],
   "source": [
    "li[5]"
   ]
  },
  {
   "cell_type": "code",
   "execution_count": 36,
   "id": "49796904-e548-404b-a23d-6e6844d4c2dc",
   "metadata": {},
   "outputs": [
    {
     "data": {
      "text/plain": [
       "['jerry', 'tom', 'doggy']"
      ]
     },
     "execution_count": 36,
     "metadata": {},
     "output_type": "execute_result"
    }
   ],
   "source": [
    "dogs"
   ]
  },
  {
   "cell_type": "code",
   "execution_count": 39,
   "id": "c658edee-5694-4d73-b9ab-6f74fbc01e14",
   "metadata": {},
   "outputs": [],
   "source": [
    "# append is used to add items if we run two times then it print duplicate values\n",
    "dogs.append(\"kutta\")"
   ]
  },
  {
   "cell_type": "code",
   "execution_count": 40,
   "id": "6ce2be26-ed1e-4250-a5e2-738541f8a908",
   "metadata": {},
   "outputs": [
    {
     "data": {
      "text/plain": [
       "['jerry', 'tom', 'doggy', 'kutta', 'kutta']"
      ]
     },
     "execution_count": 40,
     "metadata": {},
     "output_type": "execute_result"
    }
   ],
   "source": [
    "dogs"
   ]
  },
  {
   "cell_type": "code",
   "execution_count": 41,
   "id": "f723b156-768f-41e2-b521-5c3fd3fc4362",
   "metadata": {},
   "outputs": [
    {
     "data": {
      "text/plain": [
       "<function list.copy()>"
      ]
     },
     "execution_count": 41,
     "metadata": {},
     "output_type": "execute_result"
    }
   ],
   "source": [
    "dogs.copy"
   ]
  },
  {
   "cell_type": "code",
   "execution_count": 47,
   "id": "2bc340c9-6f2f-48b2-84a2-94df86ec3e66",
   "metadata": {},
   "outputs": [],
   "source": [
    "stu = [\"a\", \"b\", \"c\", \"d\", \"e\"]"
   ]
  },
  {
   "cell_type": "code",
   "execution_count": 43,
   "id": "341a2235-a455-4e2d-ad6f-e3a6d66bf34e",
   "metadata": {},
   "outputs": [],
   "source": [
    "fail = stu"
   ]
  },
  {
   "cell_type": "code",
   "execution_count": 44,
   "id": "3d4fcb75-c9cb-4b08-9905-1400b08d1a57",
   "metadata": {},
   "outputs": [],
   "source": [
    "fail[0] = \"karunesh\""
   ]
  },
  {
   "cell_type": "code",
   "execution_count": 50,
   "id": "dcf469d0-579b-47e4-9ace-2c64e89ffdec",
   "metadata": {},
   "outputs": [
    {
     "data": {
      "text/plain": [
       "['karunesh', 'b', 'c']"
      ]
     },
     "execution_count": 50,
     "metadata": {},
     "output_type": "execute_result"
    }
   ],
   "source": [
    "fail"
   ]
  },
  {
   "cell_type": "code",
   "execution_count": 49,
   "id": "1cd2cfeb-275b-46f6-903a-4f45b67c4ad9",
   "metadata": {},
   "outputs": [
    {
     "data": {
      "text/plain": [
       "['a', 'b', 'c', 'd', 'e']"
      ]
     },
     "execution_count": 49,
     "metadata": {},
     "output_type": "execute_result"
    }
   ],
   "source": [
    "# reference if we change in one list then it automatically change another list if we copy list one into anoter\n",
    "stu"
   ]
  },
  {
   "cell_type": "code",
   "execution_count": 52,
   "id": "a3fed3e5-0168-4531-9823-a5b4ea5e8fc8",
   "metadata": {},
   "outputs": [],
   "source": [
    "# copy is used to change only second list original list is same\n",
    "fail = stu.copy()"
   ]
  },
  {
   "cell_type": "code",
   "execution_count": 54,
   "id": "abb92ff1-a5ba-4bd3-892f-339de1d57086",
   "metadata": {},
   "outputs": [],
   "source": [
    "fail[0] = \"kk\""
   ]
  },
  {
   "cell_type": "code",
   "execution_count": 55,
   "id": "73ea2aa9-e959-4915-9c5d-0170ac2c856a",
   "metadata": {},
   "outputs": [
    {
     "data": {
      "text/plain": [
       "['kk', 'b', 'c', 'd', 'e']"
      ]
     },
     "execution_count": 55,
     "metadata": {},
     "output_type": "execute_result"
    }
   ],
   "source": [
    "fail"
   ]
  },
  {
   "cell_type": "code",
   "execution_count": 56,
   "id": "35336d69-2f63-4d2e-9a14-d7554f9de25c",
   "metadata": {},
   "outputs": [
    {
     "data": {
      "text/plain": [
       "['a', 'b', 'c', 'd', 'e']"
      ]
     },
     "execution_count": 56,
     "metadata": {},
     "output_type": "execute_result"
    }
   ],
   "source": [
    "stu"
   ]
  },
  {
   "cell_type": "code",
   "execution_count": 57,
   "id": "5272aa3a-e630-4cb2-a337-5c4a53b1b670",
   "metadata": {},
   "outputs": [
    {
     "data": {
      "text/plain": [
       "1"
      ]
     },
     "execution_count": 57,
     "metadata": {},
     "output_type": "execute_result"
    }
   ],
   "source": [
    "dogs.count(\"jerry\")"
   ]
  },
  {
   "cell_type": "code",
   "execution_count": 58,
   "id": "27d3d0e7-0a00-4c1d-9431-2dd05dde35bc",
   "metadata": {},
   "outputs": [
    {
     "data": {
      "text/plain": [
       "2"
      ]
     },
     "execution_count": 58,
     "metadata": {},
     "output_type": "execute_result"
    }
   ],
   "source": [
    "dogs.count(\"kutta\")"
   ]
  },
  {
   "cell_type": "code",
   "execution_count": 59,
   "id": "134d0c88-25d1-4613-b207-e0f65ef5d96d",
   "metadata": {},
   "outputs": [
    {
     "data": {
      "text/plain": [
       "3"
      ]
     },
     "execution_count": 59,
     "metadata": {},
     "output_type": "execute_result"
    }
   ],
   "source": [
    "dogs.index(\"kutta\")"
   ]
  },
  {
   "cell_type": "code",
   "execution_count": 60,
   "id": "ffef8045-a2bc-4002-a249-93f3ce6f2bc0",
   "metadata": {},
   "outputs": [
    {
     "data": {
      "text/plain": [
       "['jerry', 'tom', 'doggy', 'kutta', 'kutta']"
      ]
     },
     "execution_count": 60,
     "metadata": {},
     "output_type": "execute_result"
    }
   ],
   "source": [
    "dogs"
   ]
  },
  {
   "cell_type": "code",
   "execution_count": 62,
   "id": "68f29ceb-7b89-43bf-9f61-b5c06707c31b",
   "metadata": {},
   "outputs": [],
   "source": [
    "friend = [\"sammy\", \"pammy\", \"jecob\"]"
   ]
  },
  {
   "cell_type": "code",
   "execution_count": 66,
   "id": "69087774-2546-46cd-816a-c72293f195c8",
   "metadata": {},
   "outputs": [],
   "source": [
    "# extend is also used to add items but difference between append and extend is that\n",
    "# append add list if we want to add list but extend add items in list also its pick items in list\n",
    "dogs.extend(friend)"
   ]
  },
  {
   "cell_type": "code",
   "execution_count": 64,
   "id": "496bfd02-2d65-494f-a2d7-1e734a00a9dc",
   "metadata": {},
   "outputs": [
    {
     "data": {
      "text/plain": [
       "['jerry', 'tom', 'doggy', 'kutta', 'kutta', 'sammy', 'pammy', 'jecob']"
      ]
     },
     "execution_count": 64,
     "metadata": {},
     "output_type": "execute_result"
    }
   ],
   "source": [
    "dogs"
   ]
  },
  {
   "cell_type": "code",
   "execution_count": 67,
   "id": "2b91e44b-24b7-4e87-bbc6-08114e101b37",
   "metadata": {},
   "outputs": [],
   "source": [
    "dogs.append(friend)"
   ]
  },
  {
   "cell_type": "code",
   "execution_count": 68,
   "id": "5703efdf-4ed0-400e-8e0f-838dfe256d90",
   "metadata": {},
   "outputs": [
    {
     "data": {
      "text/plain": [
       "['jerry',\n",
       " 'tom',\n",
       " 'doggy',\n",
       " 'kutta',\n",
       " 'kutta',\n",
       " 'sammy',\n",
       " 'pammy',\n",
       " 'jecob',\n",
       " 'sammy',\n",
       " 'pammy',\n",
       " 'jecob',\n",
       " ['sammy', 'pammy', 'jecob']]"
      ]
     },
     "execution_count": 68,
     "metadata": {},
     "output_type": "execute_result"
    }
   ],
   "source": [
    "dogs"
   ]
  },
  {
   "cell_type": "code",
   "execution_count": 76,
   "id": "9febb81d-86a8-4a82-b310-c0175471346d",
   "metadata": {},
   "outputs": [
    {
     "data": {
      "text/plain": [
       "'pammy'"
      ]
     },
     "execution_count": 76,
     "metadata": {},
     "output_type": "execute_result"
    }
   ],
   "source": [
    "# pop is used to remove item. it removes last item. if we run multiple times then it remove multiple items at one time\n",
    "# we can also selected which item we want to remove\n",
    "dogs.pop()"
   ]
  },
  {
   "cell_type": "code",
   "execution_count": 77,
   "id": "4de24825-dde5-47cf-9271-cd45f66efb1e",
   "metadata": {},
   "outputs": [
    {
     "data": {
      "text/plain": [
       "['jerry', 'tom', 'doggy', 'kutta', 'kutta', 'sammy']"
      ]
     },
     "execution_count": 77,
     "metadata": {},
     "output_type": "execute_result"
    }
   ],
   "source": [
    "dogs"
   ]
  },
  {
   "cell_type": "code",
   "execution_count": 78,
   "id": "830fa2c1-98ac-46ad-9342-eeb498c4fbb5",
   "metadata": {},
   "outputs": [
    {
     "data": {
      "text/plain": [
       "'kutta'"
      ]
     },
     "execution_count": 78,
     "metadata": {},
     "output_type": "execute_result"
    }
   ],
   "source": [
    "dogs.pop(4)"
   ]
  },
  {
   "cell_type": "code",
   "execution_count": 79,
   "id": "ec3dc1f6-38d8-469c-bee6-75872978429c",
   "metadata": {},
   "outputs": [
    {
     "data": {
      "text/plain": [
       "['jerry', 'tom', 'doggy', 'kutta', 'sammy']"
      ]
     },
     "execution_count": 79,
     "metadata": {},
     "output_type": "execute_result"
    }
   ],
   "source": [
    "dogs"
   ]
  },
  {
   "cell_type": "code",
   "execution_count": 80,
   "id": "5d6b6074-ef6f-436c-9702-de55d325d209",
   "metadata": {},
   "outputs": [],
   "source": [
    "# pop, append is important"
   ]
  },
  {
   "cell_type": "code",
   "execution_count": 81,
   "id": "42ace0d3-d783-49bf-9067-002b270f7730",
   "metadata": {},
   "outputs": [],
   "source": [
    "dogs.remove(\"kutta\") # we can directly remove name"
   ]
  },
  {
   "cell_type": "code",
   "execution_count": 83,
   "id": "17917f92-a8fe-4c5c-a228-c64418f20e0a",
   "metadata": {},
   "outputs": [],
   "source": [
    "dogs.append(\"kutta\")"
   ]
  },
  {
   "cell_type": "code",
   "execution_count": 84,
   "id": "373dc783-0224-4fba-bd13-47601e71c3fd",
   "metadata": {},
   "outputs": [
    {
     "data": {
      "text/plain": [
       "['jerry', 'tom', 'doggy', 'sammy', 'kutta']"
      ]
     },
     "execution_count": 84,
     "metadata": {},
     "output_type": "execute_result"
    }
   ],
   "source": [
    "dogs"
   ]
  },
  {
   "cell_type": "code",
   "execution_count": 85,
   "id": "c071868d-e003-400d-8641-e1583297f1e0",
   "metadata": {},
   "outputs": [],
   "source": [
    "# remove or pop meine yeh diffference hai pop meine hm item store kr skte hai after pop but remove meine ni\n",
    "# exa \n",
    "\n",
    "a = dogs.pop(4)"
   ]
  },
  {
   "cell_type": "code",
   "execution_count": 86,
   "id": "ca9970be-dc80-497c-88a4-8d2985672382",
   "metadata": {},
   "outputs": [
    {
     "data": {
      "text/plain": [
       "'kutta'"
      ]
     },
     "execution_count": 86,
     "metadata": {},
     "output_type": "execute_result"
    }
   ],
   "source": [
    "a"
   ]
  },
  {
   "cell_type": "code",
   "execution_count": 87,
   "id": "45c85b37-c526-44f4-8d8f-9039c7eea55d",
   "metadata": {},
   "outputs": [],
   "source": [
    "dogs.append(\"kutta\")"
   ]
  },
  {
   "cell_type": "code",
   "execution_count": 88,
   "id": "f6d7e8ea-97e4-4507-8708-abe5dd0615a0",
   "metadata": {},
   "outputs": [],
   "source": [
    "dogs.sort() # ascending order"
   ]
  },
  {
   "cell_type": "code",
   "execution_count": 89,
   "id": "acab1594-9036-420e-911f-117d7643f9bc",
   "metadata": {},
   "outputs": [
    {
     "data": {
      "text/plain": [
       "['doggy', 'jerry', 'kutta', 'sammy', 'tom']"
      ]
     },
     "execution_count": 89,
     "metadata": {},
     "output_type": "execute_result"
    }
   ],
   "source": [
    "dogs"
   ]
  },
  {
   "cell_type": "code",
   "execution_count": 90,
   "id": "f76b02a3-7d14-44ea-abbf-16dab57e5b48",
   "metadata": {},
   "outputs": [],
   "source": [
    "li = [1,2,7,8, 5, 4]"
   ]
  },
  {
   "cell_type": "code",
   "execution_count": 91,
   "id": "96799859-9244-4f0f-a70b-f57866052353",
   "metadata": {},
   "outputs": [],
   "source": [
    "li.sort()"
   ]
  },
  {
   "cell_type": "code",
   "execution_count": 92,
   "id": "c4de3609-09bf-4354-bd0a-04d05d7d7aba",
   "metadata": {},
   "outputs": [
    {
     "data": {
      "text/plain": [
       "[1, 2, 4, 5, 7, 8]"
      ]
     },
     "execution_count": 92,
     "metadata": {},
     "output_type": "execute_result"
    }
   ],
   "source": [
    "li"
   ]
  },
  {
   "cell_type": "code",
   "execution_count": 93,
   "id": "ac175c07-b0b8-4ee3-8380-49c6bb083da7",
   "metadata": {},
   "outputs": [],
   "source": [
    "li.sort(reverse = True) # it print output in descending order"
   ]
  },
  {
   "cell_type": "code",
   "execution_count": 94,
   "id": "94c90289-5717-4e09-b1c1-f55d04d2aa51",
   "metadata": {},
   "outputs": [
    {
     "data": {
      "text/plain": [
       "[8, 7, 5, 4, 2, 1]"
      ]
     },
     "execution_count": 94,
     "metadata": {},
     "output_type": "execute_result"
    }
   ],
   "source": [
    "li"
   ]
  },
  {
   "cell_type": "code",
   "execution_count": 95,
   "id": "9e4a2856-3179-4c61-af1a-ba73c51b5329",
   "metadata": {},
   "outputs": [
    {
     "data": {
      "text/plain": [
       "['doggy', 'jerry', 'kutta', 'sammy', 'tom']"
      ]
     },
     "execution_count": 95,
     "metadata": {},
     "output_type": "execute_result"
    }
   ],
   "source": [
    "dogs"
   ]
  },
  {
   "cell_type": "code",
   "execution_count": 96,
   "id": "e7e6206f-37d5-454d-8f0a-83fb713d51b8",
   "metadata": {},
   "outputs": [],
   "source": [
    "dogs.reverse()"
   ]
  },
  {
   "cell_type": "code",
   "execution_count": 97,
   "id": "33843393-8f94-48ee-bf0d-31a484130b43",
   "metadata": {},
   "outputs": [
    {
     "data": {
      "text/plain": [
       "['tom', 'sammy', 'kutta', 'jerry', 'doggy']"
      ]
     },
     "execution_count": 97,
     "metadata": {},
     "output_type": "execute_result"
    }
   ],
   "source": [
    "dogs"
   ]
  },
  {
   "cell_type": "code",
   "execution_count": 98,
   "id": "2af1f722-3e46-4cbd-bb7b-6d1c6e4deaee",
   "metadata": {},
   "outputs": [
    {
     "data": {
      "text/plain": [
       "[8, 7, 5, 4, 2, 1]"
      ]
     },
     "execution_count": 98,
     "metadata": {},
     "output_type": "execute_result"
    }
   ],
   "source": [
    "li"
   ]
  },
  {
   "cell_type": "code",
   "execution_count": 99,
   "id": "0516a392-b0d0-4cb6-97e2-bd970d15904a",
   "metadata": {},
   "outputs": [],
   "source": [
    "li.clear()"
   ]
  },
  {
   "cell_type": "code",
   "execution_count": 100,
   "id": "d86ad0a6-6a9d-412c-88cb-1e5271dc85fb",
   "metadata": {},
   "outputs": [
    {
     "data": {
      "text/plain": [
       "[]"
      ]
     },
     "execution_count": 100,
     "metadata": {},
     "output_type": "execute_result"
    }
   ],
   "source": [
    "li"
   ]
  },
  {
   "cell_type": "code",
   "execution_count": null,
   "id": "551ef628-85bd-4cfd-9178-e3421ffd7627",
   "metadata": {},
   "outputs": [],
   "source": []
  }
 ],
 "metadata": {
  "kernelspec": {
   "display_name": "Python [conda env:base] *",
   "language": "python",
   "name": "conda-base-py"
  },
  "language_info": {
   "codemirror_mode": {
    "name": "ipython",
    "version": 3
   },
   "file_extension": ".py",
   "mimetype": "text/x-python",
   "name": "python",
   "nbconvert_exporter": "python",
   "pygments_lexer": "ipython3",
   "version": "3.13.5"
  }
 },
 "nbformat": 4,
 "nbformat_minor": 5
}
