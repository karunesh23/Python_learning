{
 "cells": [
  {
   "cell_type": "code",
   "execution_count": 49,
   "id": "b9716348-81ab-47ae-867c-fe28a0263288",
   "metadata": {},
   "outputs": [],
   "source": [
    "# if in a folder\n",
    "myfile = open(\"netmax.txt\",\"r\")"
   ]
  },
  {
   "cell_type": "code",
   "execution_count": 50,
   "id": "c419343f-fe21-44ff-bdf9-fcb729991b8a",
   "metadata": {},
   "outputs": [
    {
     "name": "stdout",
     "output_type": "stream",
     "text": [
      "<_io.TextIOWrapper name='netmax.txt' mode='r' encoding='cp1252'>\n"
     ]
    }
   ],
   "source": [
    "print(myfile)"
   ]
  },
  {
   "cell_type": "code",
   "execution_count": 51,
   "id": "7baacdf4-1583-4785-aea1-534811ce3b73",
   "metadata": {},
   "outputs": [
    {
     "name": "stdout",
     "output_type": "stream",
     "text": [
      "hello everyone.\n",
      "\n"
     ]
    }
   ],
   "source": [
    "print(myfile.readline())"
   ]
  },
  {
   "cell_type": "code",
   "execution_count": 52,
   "id": "23f2742b-04df-4730-bb57-a3698f001738",
   "metadata": {},
   "outputs": [
    {
     "name": "stdout",
     "output_type": "stream",
     "text": [
      "hii bye.\n",
      "\n"
     ]
    }
   ],
   "source": [
    "print(myfile.readline())"
   ]
  },
  {
   "cell_type": "code",
   "execution_count": 53,
   "id": "2031b084-9e46-4338-8b9f-a85a0262d1a5",
   "metadata": {},
   "outputs": [
    {
     "name": "stdout",
     "output_type": "stream",
     "text": [
      "heyy.\n"
     ]
    }
   ],
   "source": [
    "print(myfile.read())"
   ]
  },
  {
   "cell_type": "code",
   "execution_count": 47,
   "id": "fdbb1aa7-9b28-4fae-bacd-98ad51742ec9",
   "metadata": {},
   "outputs": [],
   "source": [
    "myfile.close()\n"
   ]
  },
  {
   "cell_type": "code",
   "execution_count": null,
   "id": "4b3fd783-e98c-4737-9ae6-83341c30b32b",
   "metadata": {},
   "outputs": [],
   "source": [
    "# if in a folder outside current folder \n",
    "myfile = open('../shubham/hello.txt','r')"
   ]
  },
  {
   "cell_type": "code",
   "execution_count": null,
   "id": "16f459dd-c0d3-45ee-a616-c36bc9f8ed72",
   "metadata": {},
   "outputs": [],
   "source": [
    "myfile.read()"
   ]
  },
  {
   "cell_type": "code",
   "execution_count": null,
   "id": "12f042c8-2cc8-44f3-8809-147b0798bf6a",
   "metadata": {},
   "outputs": [],
   "source": [
    "myfile.close()"
   ]
  },
  {
   "cell_type": "code",
   "execution_count": 56,
   "id": "45d4aa5a-0e18-4a19-9465-777813dc8db3",
   "metadata": {},
   "outputs": [
    {
     "name": "stdout",
     "output_type": "stream",
     "text": [
      "hello everyone.\n",
      "hii bye.\n",
      "heyy.\n"
     ]
    }
   ],
   "source": [
    "with open(\"netmax.txt\",\"r\") as file:\n",
    "    content = file.read()\n",
    "    print(content)"
   ]
  },
  {
   "cell_type": "code",
   "execution_count": null,
   "id": "e13f2629-4b9c-4a5e-95c0-0f88768f5160",
   "metadata": {},
   "outputs": [],
   "source": [
    "with open(\"customer.txt\", \"a\") as file:\n",
    "    c = \"\"\" \n",
    "        nice to meet you.\n",
    "        lets have dinner\n",
    "    \"\"\"\n",
    "    file.write(c)"
   ]
  },
  {
   "cell_type": "code",
   "execution_count": null,
   "id": "5bd52d16-1a58-4e4e-bd46-b22df463a701",
   "metadata": {},
   "outputs": [],
   "source": [
    "with open(\"customer.txt\", \"r\") as file:\n",
    "    print(file.read())"
   ]
  },
  {
   "cell_type": "code",
   "execution_count": null,
   "id": "4fdb1ec4-110f-4ef6-b529-c2c562994fff",
   "metadata": {},
   "outputs": [],
   "source": [
    "try: \n",
    "    file = open('../shubham/hello.txt',\"r\")\n",
    "    content = file.read()\n",
    "    print(content)\n",
    "except:\n",
    "    print(\"toba toba\")\n",
    "finally:\n",
    "    file.close()"
   ]
  },
  {
   "cell_type": "code",
   "execution_count": null,
   "id": "5c0ebd84-decc-4627-b369-521f0871e8d5",
   "metadata": {},
   "outputs": [],
   "source": [
    "with open(\"netmax.txt\", \"r\") as file:\n",
    "    content = file.read()\n",
    "    print(content)"
   ]
  },
  {
   "cell_type": "code",
   "execution_count": null,
   "id": "0e777595-c29e-4cd2-a9d2-cd035909aade",
   "metadata": {},
   "outputs": [],
   "source": []
  }
 ],
 "metadata": {
  "kernelspec": {
   "display_name": "Python [conda env:base] *",
   "language": "python",
   "name": "conda-base-py"
  },
  "language_info": {
   "codemirror_mode": {
    "name": "ipython",
    "version": 3
   },
   "file_extension": ".py",
   "mimetype": "text/x-python",
   "name": "python",
   "nbconvert_exporter": "python",
   "pygments_lexer": "ipython3",
   "version": "3.13.5"
  }
 },
 "nbformat": 4,
 "nbformat_minor": 5
}
