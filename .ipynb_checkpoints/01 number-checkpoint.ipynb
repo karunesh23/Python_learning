{
 "cells": [
  {
   "cell_type": "markdown",
   "id": "15bbf471-75be-4d9b-9ac5-abe700384514",
   "metadata": {},
   "source": [
    "amount = 6"
   ]
  },
  {
   "cell_type": "markdown",
   "id": "e3053da8-d1f5-47d0-9f66-15b117f0baa7",
   "metadata": {},
   "source": [
    "amount +2"
   ]
  },
  {
   "cell_type": "markdown",
   "id": "032ad897-ef15-469c-a663-b39d99ca3d58",
   "metadata": {},
   "source": [
    "amount * 3"
   ]
  },
  {
   "cell_type": "markdown",
   "id": "bc3b5121-d06b-46b1-bfc9-e6a8d1afcc01",
   "metadata": {},
   "source": [
    "amount"
   ]
  },
  {
   "cell_type": "markdown",
   "id": "bfa03e97-2b26-4614-8cc4-d65ed64425f6",
   "metadata": {},
   "source": [
    "amount = 10"
   ]
  },
  {
   "cell_type": "markdown",
   "id": "13fd3ebb-5020-4f56-b60f-eb7bdcb40dec",
   "metadata": {},
   "source": [
    "amount"
   ]
  },
  {
   "cell_type": "markdown",
   "id": "813f0772-a4e7-4b33-8504-83083911a40f",
   "metadata": {},
   "source": [
    " amount = amount + 5"
   ]
  },
  {
   "cell_type": "markdown",
   "id": "b7ba646f-e420-44f2-86f6-92cd633dca4e",
   "metadata": {},
   "source": [
    "amount"
   ]
  },
  {
   "cell_type": "markdown",
   "id": "ef6fbebf-4458-4f63-97f0-f7c88a3d6764",
   "metadata": {},
   "source": [
    "## assignment operators\n"
   ]
  },
  {
   "cell_type": "code",
   "execution_count": 13,
   "id": "401c167b-de12-4d47-8ad4-e22fe0ab622c",
   "metadata": {},
   "outputs": [],
   "source": [
    "a = 10"
   ]
  },
  {
   "cell_type": "code",
   "execution_count": 16,
   "id": "55755311-fd00-43e4-aef9-60495eb7367a",
   "metadata": {},
   "outputs": [],
   "source": [
    "a = a+1"
   ]
  },
  {
   "cell_type": "code",
   "execution_count": 17,
   "id": "fdc78d67-daa7-403e-ac81-bab50ae2d696",
   "metadata": {},
   "outputs": [
    {
     "data": {
      "text/plain": [
       "12"
      ]
     },
     "execution_count": 17,
     "metadata": {},
     "output_type": "execute_result"
    }
   ],
   "source": [
    "a"
   ]
  },
  {
   "cell_type": "code",
   "execution_count": 18,
   "id": "619b104a-2f5c-4104-b494-eed19717cb7d",
   "metadata": {},
   "outputs": [],
   "source": [
    "a += 1"
   ]
  },
  {
   "cell_type": "code",
   "execution_count": 19,
   "id": "47e75f07-4c12-47f7-96bb-02c7cd637e93",
   "metadata": {},
   "outputs": [
    {
     "data": {
      "text/plain": [
       "13"
      ]
     },
     "execution_count": 19,
     "metadata": {},
     "output_type": "execute_result"
    }
   ],
   "source": [
    "a"
   ]
  },
  {
   "cell_type": "code",
   "execution_count": 20,
   "id": "00547bc4-00a6-42a7-bc38-22988f67ce87",
   "metadata": {},
   "outputs": [],
   "source": [
    "a -= 1"
   ]
  },
  {
   "cell_type": "code",
   "execution_count": 21,
   "id": "3d5f82d2-360f-4f8b-a990-1dc1cedbe781",
   "metadata": {},
   "outputs": [
    {
     "data": {
      "text/plain": [
       "12"
      ]
     },
     "execution_count": 21,
     "metadata": {},
     "output_type": "execute_result"
    }
   ],
   "source": [
    "a"
   ]
  },
  {
   "cell_type": "code",
   "execution_count": 22,
   "id": "05a66c6e-08d6-4b7a-80eb-cfa26c8358bf",
   "metadata": {},
   "outputs": [],
   "source": [
    "a *= 2"
   ]
  },
  {
   "cell_type": "code",
   "execution_count": 23,
   "id": "2dec32b7-97d5-4645-9150-7848eee46679",
   "metadata": {},
   "outputs": [
    {
     "data": {
      "text/plain": [
       "24"
      ]
     },
     "execution_count": 23,
     "metadata": {},
     "output_type": "execute_result"
    }
   ],
   "source": [
    "a"
   ]
  },
  {
   "cell_type": "code",
   "execution_count": 24,
   "id": "c862e1b2-3e4d-40f8-8f30-eaefcd6c7eff",
   "metadata": {},
   "outputs": [],
   "source": [
    "a /= 2"
   ]
  },
  {
   "cell_type": "code",
   "execution_count": 25,
   "id": "2619b4f9-3379-4ace-b6b0-825246e630c1",
   "metadata": {},
   "outputs": [
    {
     "data": {
      "text/plain": [
       "12.0"
      ]
     },
     "execution_count": 25,
     "metadata": {},
     "output_type": "execute_result"
    }
   ],
   "source": [
    "a"
   ]
  },
  {
   "cell_type": "code",
   "execution_count": 26,
   "id": "3bddc5b5-e757-46c9-b733-48cf2bdff384",
   "metadata": {},
   "outputs": [],
   "source": [
    "a %= 2"
   ]
  },
  {
   "cell_type": "code",
   "execution_count": 27,
   "id": "c591b8e2-d2cf-4914-afdc-ca77a55a3386",
   "metadata": {},
   "outputs": [
    {
     "data": {
      "text/plain": [
       "0.0"
      ]
     },
     "execution_count": 27,
     "metadata": {},
     "output_type": "execute_result"
    }
   ],
   "source": [
    "a"
   ]
  },
  {
   "cell_type": "code",
   "execution_count": 28,
   "id": "3859d331-187d-43b1-b31e-d93da99e45e2",
   "metadata": {},
   "outputs": [],
   "source": [
    "a = 12"
   ]
  },
  {
   "cell_type": "code",
   "execution_count": 29,
   "id": "934d59c4-6af9-472e-90bd-db6d104ab990",
   "metadata": {},
   "outputs": [
    {
     "data": {
      "text/plain": [
       "12"
      ]
     },
     "execution_count": 29,
     "metadata": {},
     "output_type": "execute_result"
    }
   ],
   "source": [
    "a"
   ]
  },
  {
   "cell_type": "code",
   "execution_count": 30,
   "id": "5efc460f-128c-4378-ba0d-58674c49dde0",
   "metadata": {},
   "outputs": [],
   "source": [
    "a *= 4"
   ]
  },
  {
   "cell_type": "code",
   "execution_count": 31,
   "id": "26a0d8b9-cb2e-47ad-bfd0-bd52c5592ed9",
   "metadata": {},
   "outputs": [
    {
     "data": {
      "text/plain": [
       "48"
      ]
     },
     "execution_count": 31,
     "metadata": {},
     "output_type": "execute_result"
    }
   ],
   "source": [
    "a"
   ]
  },
  {
   "cell_type": "code",
   "execution_count": null,
   "id": "dcc921e0-d43b-45f6-9e0f-0188ab2f11bc",
   "metadata": {},
   "outputs": [],
   "source": [
    "ipynb"
   ]
  }
 ],
 "metadata": {
  "kernelspec": {
   "display_name": "Python [conda env:base] *",
   "language": "python",
   "name": "conda-base-py"
  },
  "language_info": {
   "codemirror_mode": {
    "name": "ipython",
    "version": 3
   },
   "file_extension": ".py",
   "mimetype": "text/x-python",
   "name": "python",
   "nbconvert_exporter": "python",
   "pygments_lexer": "ipython3",
   "version": "3.13.5"
  }
 },
 "nbformat": 4,
 "nbformat_minor": 5
}
