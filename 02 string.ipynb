{
 "cells": [
  {
   "cell_type": "code",
   "execution_count": 1,
   "id": "74250cc7-4dac-4b28-87bb-d68a5f14949e",
   "metadata": {},
   "outputs": [
    {
     "data": {
      "text/plain": [
       "'karunesh'"
      ]
     },
     "execution_count": 1,
     "metadata": {},
     "output_type": "execute_result"
    }
   ],
   "source": [
    "\"karunesh\""
   ]
  },
  {
   "cell_type": "code",
   "execution_count": 2,
   "id": "cc9d68a6-ac49-4d37-8be5-828fb8ebb9f1",
   "metadata": {},
   "outputs": [
    {
     "data": {
      "text/plain": [
       "'kanu'"
      ]
     },
     "execution_count": 2,
     "metadata": {},
     "output_type": "execute_result"
    }
   ],
   "source": [
    "'kanu'"
   ]
  },
  {
   "cell_type": "code",
   "execution_count": 3,
   "id": "477b8dc2-a524-4eb3-9ad8-469d54a5fc7e",
   "metadata": {},
   "outputs": [
    {
     "data": {
      "text/plain": [
       "'kanu'"
      ]
     },
     "execution_count": 3,
     "metadata": {},
     "output_type": "execute_result"
    }
   ],
   "source": [
    "\"\"\"kanu\"\"\""
   ]
  },
  {
   "cell_type": "code",
   "execution_count": 4,
   "id": "3ad57deb-7206-4be2-9bf0-2481027917d1",
   "metadata": {},
   "outputs": [
    {
     "ename": "SyntaxError",
     "evalue": "unterminated string literal (detected at line 1) (1455737388.py, line 1)",
     "output_type": "error",
     "traceback": [
      "\u001b[1;36m  Cell \u001b[1;32mIn[4], line 1\u001b[1;36m\u001b[0m\n\u001b[1;33m    'thst's, mine'\u001b[0m\n\u001b[1;37m                 ^\u001b[0m\n\u001b[1;31mSyntaxError\u001b[0m\u001b[1;31m:\u001b[0m unterminated string literal (detected at line 1)\n"
     ]
    }
   ],
   "source": [
    "'thst's, mine'"
   ]
  },
  {
   "cell_type": "code",
   "execution_count": 5,
   "id": "655f9a4c-cbe4-47fa-b444-a3611c969b14",
   "metadata": {},
   "outputs": [
    {
     "data": {
      "text/plain": [
       "\"that's mine\""
      ]
     },
     "execution_count": 5,
     "metadata": {},
     "output_type": "execute_result"
    }
   ],
   "source": [
    "\"that's mine\""
   ]
  },
  {
   "cell_type": "code",
   "execution_count": 6,
   "id": "5dfe9e8c-54d0-4d3d-b67c-d2a3a434641c",
   "metadata": {},
   "outputs": [
    {
     "ename": "SyntaxError",
     "evalue": "unterminated string literal (detected at line 1) (2618307142.py, line 1)",
     "output_type": "error",
     "traceback": [
      "\u001b[1;36m  Cell \u001b[1;32mIn[6], line 1\u001b[1;36m\u001b[0m\n\u001b[1;33m    \"hii nice to meet you\u001b[0m\n\u001b[1;37m    ^\u001b[0m\n\u001b[1;31mSyntaxError\u001b[0m\u001b[1;31m:\u001b[0m unterminated string literal (detected at line 1)\n"
     ]
    }
   ],
   "source": [
    "\"hii nice to meet you\n",
    "my name is kanu\""
   ]
  },
  {
   "cell_type": "code",
   "execution_count": 7,
   "id": "ca83391b-e519-4ab0-bbc7-2218ccc8b989",
   "metadata": {},
   "outputs": [
    {
     "data": {
      "text/plain": [
       "'\\nhii nice to meet you \\nmy name is kanu\\n'"
      ]
     },
     "execution_count": 7,
     "metadata": {},
     "output_type": "execute_result"
    }
   ],
   "source": [
    "\"\"\"\n",
    "hii nice to meet you \n",
    "my name is kanu\n",
    "\"\"\""
   ]
  },
  {
   "cell_type": "code",
   "execution_count": 8,
   "id": "3b18cdbb-39f8-4b7b-8e31-e3ef258a38b6",
   "metadata": {},
   "outputs": [
    {
     "name": "stdout",
     "output_type": "stream",
     "text": [
      "\n",
      "hii nice to meet you \n",
      "my name is kanu\n",
      "\n"
     ]
    }
   ],
   "source": [
    " print(\"\"\"\n",
    "hii nice to meet you \n",
    "my name is kanu\n",
    "\"\"\")"
   ]
  },
  {
   "cell_type": "code",
   "execution_count": 9,
   "id": "61136719-4cf3-4dc9-a4f7-e3a7968ff767",
   "metadata": {},
   "outputs": [
    {
     "data": {
      "text/plain": [
       "str"
      ]
     },
     "execution_count": 9,
     "metadata": {},
     "output_type": "execute_result"
    }
   ],
   "source": [
    "type(\"kanu\")"
   ]
  },
  {
   "cell_type": "code",
   "execution_count": 10,
   "id": "f07b57ec-aa6a-4077-91c7-e1ded78d61ce",
   "metadata": {
    "scrolled": true
   },
   "outputs": [
    {
     "ename": "SyntaxError",
     "evalue": "invalid syntax (1653677921.py, line 1)",
     "output_type": "error",
     "traceback": [
      "\u001b[1;36m  Cell \u001b[1;32mIn[10], line 1\u001b[1;36m\u001b[0m\n\u001b[1;33m    \"kanu\".(capitalize)\u001b[0m\n\u001b[1;37m           ^\u001b[0m\n\u001b[1;31mSyntaxError\u001b[0m\u001b[1;31m:\u001b[0m invalid syntax\n"
     ]
    }
   ],
   "source": [
    "\"kanu\".(capitalize)"
   ]
  },
  {
   "cell_type": "code",
   "execution_count": 11,
   "id": "7a31f040-ad0e-434a-841e-d070a9b85453",
   "metadata": {},
   "outputs": [
    {
     "data": {
      "text/plain": [
       "'Kanu'"
      ]
     },
     "execution_count": 11,
     "metadata": {},
     "output_type": "execute_result"
    }
   ],
   "source": [
    "\"kanu\".capitalize()"
   ]
  },
  {
   "cell_type": "code",
   "execution_count": 12,
   "id": "789d2ef2-8be0-4e81-9839-874c68c8cd27",
   "metadata": {},
   "outputs": [
    {
     "data": {
      "text/plain": [
       "'KANU'"
      ]
     },
     "execution_count": 12,
     "metadata": {},
     "output_type": "execute_result"
    }
   ],
   "source": [
    "\"kanu\".upper()"
   ]
  },
  {
   "cell_type": "code",
   "execution_count": 13,
   "id": "e339fb08-bbcd-479a-86c1-f66ac7d6306a",
   "metadata": {},
   "outputs": [
    {
     "data": {
      "text/plain": [
       "'kanu'"
      ]
     },
     "execution_count": 13,
     "metadata": {},
     "output_type": "execute_result"
    }
   ],
   "source": [
    "\"kanu\".lower()"
   ]
  },
  {
   "cell_type": "code",
   "execution_count": 14,
   "id": "501969b8-ed05-4d78-a7c7-c858fb72e9d0",
   "metadata": {},
   "outputs": [
    {
     "data": {
      "text/plain": [
       "1"
      ]
     },
     "execution_count": 14,
     "metadata": {},
     "output_type": "execute_result"
    }
   ],
   "source": [
    "\"kanu\".count('n')"
   ]
  },
  {
   "cell_type": "code",
   "execution_count": 15,
   "id": "8cd83efe-d76a-4d5f-b72f-24defbb4a059",
   "metadata": {},
   "outputs": [
    {
     "data": {
      "text/plain": [
       "1"
      ]
     },
     "execution_count": 15,
     "metadata": {},
     "output_type": "execute_result"
    }
   ],
   "source": [
    "\"karunesh\".count('e')"
   ]
  },
  {
   "cell_type": "code",
   "execution_count": 16,
   "id": "cc6873af-f92d-4aea-a0d0-daf4864b6e89",
   "metadata": {},
   "outputs": [
    {
     "data": {
      "text/plain": [
       "3"
      ]
     },
     "execution_count": 16,
     "metadata": {},
     "output_type": "execute_result"
    }
   ],
   "source": [
    "\"kanu bansal\".count('a')"
   ]
  },
  {
   "cell_type": "code",
   "execution_count": 17,
   "id": "e64f1d23-438a-4812-812b-3e60ad7961e1",
   "metadata": {},
   "outputs": [],
   "source": [
    "name = \"karunesh Bansal\""
   ]
  },
  {
   "cell_type": "code",
   "execution_count": 18,
   "id": "6ba4f163-f90b-4b73-b2ff-a337569f4eeb",
   "metadata": {},
   "outputs": [
    {
     "data": {
      "text/plain": [
       "'karunesh Bansal'"
      ]
     },
     "execution_count": 18,
     "metadata": {},
     "output_type": "execute_result"
    }
   ],
   "source": [
    "name"
   ]
  },
  {
   "cell_type": "code",
   "execution_count": 19,
   "id": "fa48e99a-b28c-4a06-be7e-9afb94314888",
   "metadata": {},
   "outputs": [
    {
     "data": {
      "text/plain": [
       "-1"
      ]
     },
     "execution_count": 19,
     "metadata": {},
     "output_type": "execute_result"
    }
   ],
   "source": [
    "name.find('b')"
   ]
  },
  {
   "cell_type": "code",
   "execution_count": 20,
   "id": "1d646f5f-3c1a-4888-91a0-05e11fac5ad3",
   "metadata": {},
   "outputs": [
    {
     "data": {
      "text/plain": [
       "9"
      ]
     },
     "execution_count": 20,
     "metadata": {},
     "output_type": "execute_result"
    }
   ],
   "source": [
    "name.find('B')"
   ]
  },
  {
   "cell_type": "code",
   "execution_count": 21,
   "id": "7027e135-ba15-4b91-b634-7d6fc558c034",
   "metadata": {},
   "outputs": [
    {
     "data": {
      "text/plain": [
       "1"
      ]
     },
     "execution_count": 21,
     "metadata": {},
     "output_type": "execute_result"
    }
   ],
   "source": [
    "name.find('a')"
   ]
  },
  {
   "cell_type": "code",
   "execution_count": 22,
   "id": "5841617f-3946-4e08-a385-52cefea980da",
   "metadata": {},
   "outputs": [
    {
     "data": {
      "text/plain": [
       "2"
      ]
     },
     "execution_count": 22,
     "metadata": {},
     "output_type": "execute_result"
    }
   ],
   "source": [
    "name.find('r')"
   ]
  },
  {
   "cell_type": "code",
   "execution_count": 23,
   "id": "b0cfafa4-350c-4d3b-a998-669ab8ff65fc",
   "metadata": {},
   "outputs": [
    {
     "data": {
      "text/plain": [
       "15"
      ]
     },
     "execution_count": 23,
     "metadata": {},
     "output_type": "execute_result"
    }
   ],
   "source": [
    "len(name)"
   ]
  },
  {
   "cell_type": "code",
   "execution_count": 24,
   "id": "73124c5e-698d-4bbf-8493-e67e08dcc0b3",
   "metadata": {},
   "outputs": [],
   "source": [
    "first_name = \"kanu\""
   ]
  },
  {
   "cell_type": "code",
   "execution_count": 25,
   "id": "8b11fadd-4f13-456c-9e96-742ef0b99161",
   "metadata": {},
   "outputs": [],
   "source": [
    "last_name = \"bansal\""
   ]
  },
  {
   "cell_type": "code",
   "execution_count": 26,
   "id": "5698d38e-0ac6-43e5-b0b5-13bc017dfab5",
   "metadata": {},
   "outputs": [
    {
     "data": {
      "text/plain": [
       "'kanubansal'"
      ]
     },
     "execution_count": 26,
     "metadata": {},
     "output_type": "execute_result"
    }
   ],
   "source": [
    "first_name + last_name"
   ]
  },
  {
   "cell_type": "code",
   "execution_count": 27,
   "id": "0f947a60-f7f1-461b-bf3b-bc25f0e3996a",
   "metadata": {},
   "outputs": [
    {
     "data": {
      "text/plain": [
       "'kanu bansal'"
      ]
     },
     "execution_count": 27,
     "metadata": {},
     "output_type": "execute_result"
    }
   ],
   "source": [
    "first_name + \" \"+ last_name"
   ]
  },
  {
   "cell_type": "code",
   "execution_count": 28,
   "id": "8e6e3322-7473-4896-ae03-f116e0d04bee",
   "metadata": {},
   "outputs": [
    {
     "data": {
      "text/plain": [
       "10"
      ]
     },
     "execution_count": 28,
     "metadata": {},
     "output_type": "execute_result"
    }
   ],
   "source": [
    "5+5"
   ]
  },
  {
   "cell_type": "code",
   "execution_count": 29,
   "id": "9e26a2ab-443c-4968-948d-c8636d65248a",
   "metadata": {},
   "outputs": [
    {
     "data": {
      "text/plain": [
       "'55'"
      ]
     },
     "execution_count": 29,
     "metadata": {},
     "output_type": "execute_result"
    }
   ],
   "source": [
    "\"5\" + \"5\""
   ]
  },
  {
   "cell_type": "code",
   "execution_count": 30,
   "id": "bd0cf6cc-ac0c-410c-98df-3805de8f394f",
   "metadata": {},
   "outputs": [
    {
     "name": "stdout",
     "output_type": "stream",
     "text": [
      "55\n",
      "55\n"
     ]
    }
   ],
   "source": [
    "print(\"55\")\n",
    "print(55)"
   ]
  },
  {
   "cell_type": "code",
   "execution_count": 31,
   "id": "75057e75-0924-4107-bd8d-f598c178ad56",
   "metadata": {},
   "outputs": [
    {
     "data": {
      "text/plain": [
       "str"
      ]
     },
     "execution_count": 31,
     "metadata": {},
     "output_type": "execute_result"
    }
   ],
   "source": [
    "type(\"55\")"
   ]
  },
  {
   "cell_type": "code",
   "execution_count": 32,
   "id": "bd7008cc-7d9b-4e17-bdd9-e1d9787ab7f4",
   "metadata": {},
   "outputs": [
    {
     "data": {
      "text/plain": [
       "int"
      ]
     },
     "execution_count": 32,
     "metadata": {},
     "output_type": "execute_result"
    }
   ],
   "source": [
    "type(55)"
   ]
  },
  {
   "cell_type": "code",
   "execution_count": 33,
   "id": "9b898b8e-6501-4ef9-a96c-3b616950f386",
   "metadata": {},
   "outputs": [
    {
     "ename": "TypeError",
     "evalue": "unsupported operand type(s) for +: 'int' and 'str'",
     "output_type": "error",
     "traceback": [
      "\u001b[1;31m---------------------------------------------------------------------------\u001b[0m",
      "\u001b[1;31mTypeError\u001b[0m                                 Traceback (most recent call last)",
      "Cell \u001b[1;32mIn[33], line 1\u001b[0m\n\u001b[1;32m----> 1\u001b[0m \u001b[38;5;241m5\u001b[39m \u001b[38;5;241m+\u001b[39m \u001b[38;5;124m\"\u001b[39m\u001b[38;5;124m5\u001b[39m\u001b[38;5;124m\"\u001b[39m\n",
      "\u001b[1;31mTypeError\u001b[0m: unsupported operand type(s) for +: 'int' and 'str'"
     ]
    }
   ],
   "source": [
    "5 + \"5\""
   ]
  },
  {
   "cell_type": "code",
   "execution_count": 34,
   "id": "c9fd442c-a5b2-4c28-8645-82d399b96e9d",
   "metadata": {},
   "outputs": [
    {
     "ename": "TypeError",
     "evalue": "can only concatenate str (not \"int\") to str",
     "output_type": "error",
     "traceback": [
      "\u001b[1;31m---------------------------------------------------------------------------\u001b[0m",
      "\u001b[1;31mTypeError\u001b[0m                                 Traceback (most recent call last)",
      "Cell \u001b[1;32mIn[34], line 1\u001b[0m\n\u001b[1;32m----> 1\u001b[0m \u001b[38;5;124m\"\u001b[39m\u001b[38;5;124m5\u001b[39m\u001b[38;5;124m\"\u001b[39m \u001b[38;5;241m+\u001b[39m \u001b[38;5;241m5\u001b[39m\n",
      "\u001b[1;31mTypeError\u001b[0m: can only concatenate str (not \"int\") to str"
     ]
    }
   ],
   "source": [
    "\"5\" + 5"
   ]
  },
  {
   "cell_type": "code",
   "execution_count": 35,
   "id": "9e9af742-35f2-423d-8507-d7661de5d33d",
   "metadata": {},
   "outputs": [],
   "source": [
    "name = \"akash\"\n",
    "salary = 50000"
   ]
  },
  {
   "cell_type": "code",
   "execution_count": 36,
   "id": "59300193-aa48-4236-9612-f82d2b4f9593",
   "metadata": {},
   "outputs": [
    {
     "data": {
      "text/plain": [
       "'hi my name is akash and my salary is 50000'"
      ]
     },
     "execution_count": 36,
     "metadata": {},
     "output_type": "execute_result"
    }
   ],
   "source": [
    "\"hi my name is akash and my salary is 50000\""
   ]
  },
  {
   "cell_type": "code",
   "execution_count": 39,
   "id": "8d62c5a1-4ceb-4b74-9eba-ab43ec0ddf7a",
   "metadata": {},
   "outputs": [
    {
     "data": {
      "text/plain": [
       "'hi my name is akash'"
      ]
     },
     "execution_count": 39,
     "metadata": {},
     "output_type": "execute_result"
    }
   ],
   "source": [
    "\"hi my name is \" + name "
   ]
  },
  {
   "cell_type": "code",
   "execution_count": 40,
   "id": "381a43c9-bc67-4371-8161-3cb0d17e6597",
   "metadata": {},
   "outputs": [
    {
     "ename": "SyntaxError",
     "evalue": "invalid syntax (3736943832.py, line 1)",
     "output_type": "error",
     "traceback": [
      "\u001b[1;36m  Cell \u001b[1;32mIn[40], line 1\u001b[1;36m\u001b[0m\n\u001b[1;33m    \"hi my name is \" + name\" and my salary is + salary\"\u001b[0m\n\u001b[1;37m                           ^\u001b[0m\n\u001b[1;31mSyntaxError\u001b[0m\u001b[1;31m:\u001b[0m invalid syntax\n"
     ]
    }
   ],
   "source": [
    "\"hi my name is \" + name\" and my salary is + salary\""
   ]
  },
  {
   "cell_type": "code",
   "execution_count": 41,
   "id": "ddc0c7ac-901c-4e8f-824b-87579e82e20e",
   "metadata": {},
   "outputs": [
    {
     "data": {
      "text/plain": [
       "'hi my name is akash and my salary is 50000'"
      ]
     },
     "execution_count": 41,
     "metadata": {},
     "output_type": "execute_result"
    }
   ],
   "source": [
    "\"hi my name is {} and my salary is {}\".format(\"akash\",50000)"
   ]
  },
  {
   "cell_type": "code",
   "execution_count": 42,
   "id": "00ae0c45-142a-420f-bf53-efeee1116db5",
   "metadata": {},
   "outputs": [
    {
     "data": {
      "text/plain": [
       "'hi my name is abhi and my salary is 50000'"
      ]
     },
     "execution_count": 42,
     "metadata": {},
     "output_type": "execute_result"
    }
   ],
   "source": [
    "\"hi my name is {} and my salary is {}\".format(\"abhi\",50000)"
   ]
  },
  {
   "cell_type": "code",
   "execution_count": 43,
   "id": "37e6826f-62dd-4301-a73e-24529b04e50d",
   "metadata": {},
   "outputs": [
    {
     "ename": "IndexError",
     "evalue": "Replacement index 2 out of range for positional args tuple",
     "output_type": "error",
     "traceback": [
      "\u001b[1;31m---------------------------------------------------------------------------\u001b[0m",
      "\u001b[1;31mIndexError\u001b[0m                                Traceback (most recent call last)",
      "Cell \u001b[1;32mIn[43], line 1\u001b[0m\n\u001b[1;32m----> 1\u001b[0m \u001b[38;5;124m\"\u001b[39m\u001b[38;5;124mhi my name is \u001b[39m\u001b[38;5;132;01m{}\u001b[39;00m\u001b[38;5;124m jr and my salary is \u001b[39m\u001b[38;5;132;01m{}\u001b[39;00m\u001b[38;5;124m and i am son of \u001b[39m\u001b[38;5;132;01m{}\u001b[39;00m\u001b[38;5;124m\"\u001b[39m\u001b[38;5;241m.\u001b[39mformat(\u001b[38;5;124m\"\u001b[39m\u001b[38;5;124mabhi\u001b[39m\u001b[38;5;124m\"\u001b[39m,\u001b[38;5;241m50000\u001b[39m)\n",
      "\u001b[1;31mIndexError\u001b[0m: Replacement index 2 out of range for positional args tuple"
     ]
    }
   ],
   "source": [
    "\"hi my name is {} jr and my salary is {} and i am son of {}\".format(\"abhi\",50000)\n"
   ]
  },
  {
   "cell_type": "code",
   "execution_count": 44,
   "id": "c96a6c04-28d5-4005-bfec-0ecfb8faee2b",
   "metadata": {},
   "outputs": [
    {
     "data": {
      "text/plain": [
       "'hi my name is abhi jr and my salary is 50000 and i am son of abhi'"
      ]
     },
     "execution_count": 44,
     "metadata": {},
     "output_type": "execute_result"
    }
   ],
   "source": [
    "\"hi my name is {0} jr and my salary is {1} and i am son of {0}\".format(\"abhi\",50000)"
   ]
  },
  {
   "cell_type": "code",
   "execution_count": 45,
   "id": "2d2d3f3e-b7dc-4564-bfdf-a6c57ebc34af",
   "metadata": {},
   "outputs": [
    {
     "data": {
      "text/plain": [
       "'hi my name is abhi jr and my salary is 50000 and i am son of abhi and i live in delhi'"
      ]
     },
     "execution_count": 45,
     "metadata": {},
     "output_type": "execute_result"
    }
   ],
   "source": [
    "\"hi my name is {0} jr and my salary is {1} and i am son of {0} and i live in {2}\".format(\"abhi\",50000, \"delhi\")"
   ]
  },
  {
   "cell_type": "code",
   "execution_count": 46,
   "id": "7721b455-66ac-40b7-84c3-32b0ae8d10c3",
   "metadata": {},
   "outputs": [
    {
     "data": {
      "text/plain": [
       "'hi my name is abhi jr and my salary is 50000 and i am son of abhi and i live in delhi'"
      ]
     },
     "execution_count": 46,
     "metadata": {},
     "output_type": "execute_result"
    }
   ],
   "source": [
    "\"hi my name is {name} jr and my salary is {salary} and i am son of {name} and i live in {place}\".format(name= \"abhi\", salary=50000, place=\"delhi\")"
   ]
  },
  {
   "cell_type": "code",
   "execution_count": 48,
   "id": "c1173976-b443-46b5-9b69-cc82ba8aee8a",
   "metadata": {},
   "outputs": [],
   "source": [
    "name = \"kanu\"\n",
    "age = 19\n",
    "salary = 20000\n",
    "place = \"chd\""
   ]
  },
  {
   "cell_type": "code",
   "execution_count": 49,
   "id": "872c7ca8-ebaa-4684-9511-bd96a493a81f",
   "metadata": {},
   "outputs": [
    {
     "data": {
      "text/plain": [
       "'hi my name is kanu, and my age is 19, and my salary is 20000, and my place is chd'"
      ]
     },
     "execution_count": 49,
     "metadata": {},
     "output_type": "execute_result"
    }
   ],
   "source": [
    "f'hi my name is {name}, and my age is {age}, and my salary is {salary}, and my place is {place}'"
   ]
  },
  {
   "cell_type": "code",
   "execution_count": 50,
   "id": "7b4ea695-5ef9-4201-be2d-2dd41f6ff023",
   "metadata": {},
   "outputs": [
    {
     "data": {
      "text/plain": [
       "['kanu', 'bansal']"
      ]
     },
     "execution_count": 50,
     "metadata": {},
     "output_type": "execute_result"
    }
   ],
   "source": [
    "\"kanu bansal\".split()"
   ]
  },
  {
   "cell_type": "code",
   "execution_count": 51,
   "id": "bf7987f3-3fd5-4c28-bf8d-5e4169d0cfbf",
   "metadata": {},
   "outputs": [
    {
     "data": {
      "text/plain": [
       "['tom', 'jerry', 'dog', 'cat']"
      ]
     },
     "execution_count": 51,
     "metadata": {},
     "output_type": "execute_result"
    }
   ],
   "source": [
    "\"tom jerry dog cat\".split()"
   ]
  },
  {
   "cell_type": "code",
   "execution_count": 52,
   "id": "3a257a53-0528-4e67-badf-28c90c3ea9c4",
   "metadata": {},
   "outputs": [
    {
     "ename": "NameError",
     "evalue": "name 'tomjerrydogcat' is not defined",
     "output_type": "error",
     "traceback": [
      "\u001b[1;31m---------------------------------------------------------------------------\u001b[0m",
      "\u001b[1;31mNameError\u001b[0m                                 Traceback (most recent call last)",
      "Cell \u001b[1;32mIn[52], line 1\u001b[0m\n\u001b[1;32m----> 1\u001b[0m tomjerrydogcat\u001b[38;5;241m.\u001b[39msplit()\n",
      "\u001b[1;31mNameError\u001b[0m: name 'tomjerrydogcat' is not defined"
     ]
    }
   ],
   "source": [
    "tomjerrydogcat.split()"
   ]
  },
  {
   "cell_type": "code",
   "execution_count": 53,
   "id": "c14a386c-6d96-433c-9099-a81357a3ab18",
   "metadata": {},
   "outputs": [
    {
     "data": {
      "text/plain": [
       "'KANU'"
      ]
     },
     "execution_count": 53,
     "metadata": {},
     "output_type": "execute_result"
    }
   ],
   "source": [
    "name.upper()"
   ]
  },
  {
   "cell_type": "code",
   "execution_count": 54,
   "id": "97742184-a9e5-4875-bf9b-a2b0fe8eb51a",
   "metadata": {},
   "outputs": [
    {
     "data": {
      "text/plain": [
       "'kanu'"
      ]
     },
     "execution_count": 54,
     "metadata": {},
     "output_type": "execute_result"
    }
   ],
   "source": [
    "name"
   ]
  },
  {
   "cell_type": "code",
   "execution_count": 55,
   "id": "894581be-26b8-4ebb-ab75-0e432c1647f3",
   "metadata": {},
   "outputs": [],
   "source": [
    "name = name.upper()"
   ]
  },
  {
   "cell_type": "code",
   "execution_count": 56,
   "id": "8585cde5-3a5d-4aae-bc81-15d89ff2966d",
   "metadata": {},
   "outputs": [
    {
     "data": {
      "text/plain": [
       "'KANU'"
      ]
     },
     "execution_count": 56,
     "metadata": {},
     "output_type": "execute_result"
    }
   ],
   "source": [
    "name"
   ]
  },
  {
   "cell_type": "code",
   "execution_count": 63,
   "id": "c3ddcee2-3856-4553-b606-bc040612f590",
   "metadata": {},
   "outputs": [
    {
     "data": {
      "text/plain": [
       "['tomjerrydogc', 't']"
      ]
     },
     "execution_count": 63,
     "metadata": {},
     "output_type": "execute_result"
    }
   ],
   "source": [
    "\"tomjerrydogcat\".split(\"a\")"
   ]
  },
  {
   "cell_type": "code",
   "execution_count": 59,
   "id": "93f821e5-27c2-4188-be7d-2727909739af",
   "metadata": {},
   "outputs": [
    {
     "data": {
      "text/plain": [
       "['t', 'm jerry d', 'g cat']"
      ]
     },
     "execution_count": 59,
     "metadata": {},
     "output_type": "execute_result"
    }
   ],
   "source": [
    "\"tom jerry dog cat\".split(\"o\")"
   ]
  },
  {
   "cell_type": "code",
   "execution_count": 60,
   "id": "0d8035d4-fb08-4e80-b6fa-667dee1927c4",
   "metadata": {},
   "outputs": [
    {
     "data": {
      "text/plain": [
       "['tom', 'errydogcat']"
      ]
     },
     "execution_count": 60,
     "metadata": {},
     "output_type": "execute_result"
    }
   ],
   "source": [
    "\"tomjerrydogcat\".split(\"j\")"
   ]
  },
  {
   "cell_type": "code",
   "execution_count": 61,
   "id": "b2aa0146-7b86-4e0c-8fed-cada68e94e35",
   "metadata": {},
   "outputs": [
    {
     "data": {
      "text/plain": [
       "['2025', '07', '25']"
      ]
     },
     "execution_count": 61,
     "metadata": {},
     "output_type": "execute_result"
    }
   ],
   "source": [
    "\"2025-07-25\".split(\"-\")"
   ]
  },
  {
   "cell_type": "code",
   "execution_count": 64,
   "id": "7115d656-9b4f-4d34-b173-aeec6cc3ec29",
   "metadata": {},
   "outputs": [
    {
     "data": {
      "text/plain": [
       "'karunesh'"
      ]
     },
     "execution_count": 64,
     "metadata": {},
     "output_type": "execute_result"
    }
   ],
   "source": [
    "\" karunesh \".strip()"
   ]
  },
  {
   "cell_type": "code",
   "execution_count": 65,
   "id": "1b63b885-60af-4617-8ba7-dbc5a1df54cf",
   "metadata": {},
   "outputs": [
    {
     "name": "stdout",
     "output_type": "stream",
     "text": [
      "kanu\n",
      "kanu \n"
     ]
    }
   ],
   "source": [
    "print(\"kanu\")\n",
    "print(\"kanu \")"
   ]
  },
  {
   "cell_type": "code",
   "execution_count": 66,
   "id": "442ee303-3124-44b1-8e9a-118c8782a5ba",
   "metadata": {},
   "outputs": [
    {
     "data": {
      "text/plain": [
       "True"
      ]
     },
     "execution_count": 66,
     "metadata": {},
     "output_type": "execute_result"
    }
   ],
   "source": [
    "\"karunesh\".islower()"
   ]
  },
  {
   "cell_type": "code",
   "execution_count": 67,
   "id": "ca2e24ae-caad-4139-9614-183c84415050",
   "metadata": {},
   "outputs": [
    {
     "data": {
      "text/plain": [
       "False"
      ]
     },
     "execution_count": 67,
     "metadata": {},
     "output_type": "execute_result"
    }
   ],
   "source": [
    "\"Karunesh\".isupper()"
   ]
  },
  {
   "cell_type": "code",
   "execution_count": 68,
   "id": "fbf9a80c-a313-4978-b314-4533b2770e66",
   "metadata": {},
   "outputs": [
    {
     "data": {
      "text/plain": [
       "True"
      ]
     },
     "execution_count": 68,
     "metadata": {},
     "output_type": "execute_result"
    }
   ],
   "source": [
    "\"karunesh\".isalpha()"
   ]
  },
  {
   "cell_type": "code",
   "execution_count": 70,
   "id": "a96af378-d719-4b2e-9a0b-60d0313cc3c7",
   "metadata": {},
   "outputs": [
    {
     "data": {
      "text/plain": [
       "True"
      ]
     },
     "execution_count": 70,
     "metadata": {},
     "output_type": "execute_result"
    }
   ],
   "source": [
    "\"8679\".isdigit()"
   ]
  },
  {
   "cell_type": "code",
   "execution_count": 72,
   "id": "9c14afe4-1c6c-489a-8b57-bc433988f761",
   "metadata": {},
   "outputs": [
    {
     "data": {
      "text/plain": [
       "False"
      ]
     },
     "execution_count": 72,
     "metadata": {},
     "output_type": "execute_result"
    }
   ],
   "source": [
    "\"8679\".isalpha()"
   ]
  },
  {
   "cell_type": "code",
   "execution_count": 73,
   "id": "17c2775a-c861-458c-8115-d695b8185c26",
   "metadata": {},
   "outputs": [
    {
     "data": {
      "text/plain": [
       "True"
      ]
     },
     "execution_count": 73,
     "metadata": {},
     "output_type": "execute_result"
    }
   ],
   "source": [
    "\"karunesh23\".isalnum()"
   ]
  },
  {
   "cell_type": "code",
   "execution_count": 74,
   "id": "e2e79d84-696e-4eba-93ad-c65f454305a3",
   "metadata": {},
   "outputs": [
    {
     "data": {
      "text/plain": [
       "False"
      ]
     },
     "execution_count": 74,
     "metadata": {},
     "output_type": "execute_result"
    }
   ],
   "source": [
    "\"karunesh bansal\".isalpha()"
   ]
  },
  {
   "cell_type": "code",
   "execution_count": 75,
   "id": "2a1f602e-b519-4a2a-9f7f-ae6bbe124c00",
   "metadata": {},
   "outputs": [
    {
     "data": {
      "text/plain": [
       "True"
      ]
     },
     "execution_count": 75,
     "metadata": {},
     "output_type": "execute_result"
    }
   ],
   "source": [
    "\" \".isspace()"
   ]
  },
  {
   "cell_type": "code",
   "execution_count": 76,
   "id": "f07de10c-e343-4978-97d9-1e8c9085bb92",
   "metadata": {},
   "outputs": [
    {
     "name": "stdout",
     "output_type": "stream",
     "text": [
      "Object `replace` not found.\n"
     ]
    }
   ],
   "source": [
    "\"karunesh bansal\".replace?"
   ]
  },
  {
   "cell_type": "code",
   "execution_count": 77,
   "id": "28922db1-2459-45b1-9c58-c909538df0d2",
   "metadata": {},
   "outputs": [
    {
     "name": "stdout",
     "output_type": "stream",
     "text": [
      "Help on built-in function replace:\n",
      "\n",
      "replace(old, new, /, count=-1) method of builtins.str instance\n",
      "    Return a copy with all occurrences of substring old replaced by new.\n",
      "\n",
      "      count\n",
      "        Maximum number of occurrences to replace.\n",
      "        -1 (the default value) means replace all occurrences.\n",
      "\n",
      "    If the optional argument count is given, only the first count occurrences are\n",
      "    replaced.\n",
      "\n"
     ]
    }
   ],
   "source": [
    "help(\"karunesh bansal\".replace)"
   ]
  },
  {
   "cell_type": "code",
   "execution_count": 78,
   "id": "245db542-9196-4c79-a61f-6e1f108a7184",
   "metadata": {},
   "outputs": [
    {
     "data": {
      "text/plain": [
       "'kar9nesh bansal'"
      ]
     },
     "execution_count": 78,
     "metadata": {},
     "output_type": "execute_result"
    }
   ],
   "source": [
    "\"karunesh bansal\".replace(\"u\", \"9\")"
   ]
  },
  {
   "cell_type": "code",
   "execution_count": 79,
   "id": "0aaf2cf5-7d17-4a5a-8d7b-a57470f168b0",
   "metadata": {},
   "outputs": [
    {
     "data": {
      "text/plain": [
       "'k9runesh bansal'"
      ]
     },
     "execution_count": 79,
     "metadata": {},
     "output_type": "execute_result"
    }
   ],
   "source": [
    "\"karunesh bansal\".replace(\"a\", \"9\", 1)"
   ]
  },
  {
   "cell_type": "code",
   "execution_count": 80,
   "id": "6e3c9d33-c8b8-4a52-b81c-67a0d5f6ef07",
   "metadata": {},
   "outputs": [],
   "source": [
    "name = \"kanu bansal\""
   ]
  },
  {
   "cell_type": "code",
   "execution_count": 81,
   "id": "02c28df1-54d4-4e19-916d-fbfbc84ffc2c",
   "metadata": {},
   "outputs": [
    {
     "data": {
      "text/plain": [
       "'kanu bansal'"
      ]
     },
     "execution_count": 81,
     "metadata": {},
     "output_type": "execute_result"
    }
   ],
   "source": [
    "name"
   ]
  },
  {
   "cell_type": "code",
   "execution_count": 82,
   "id": "f0e0f951-187f-4c69-ac58-78780f23c531",
   "metadata": {},
   "outputs": [
    {
     "ename": "SyntaxError",
     "evalue": "invalid syntax (430947801.py, line 1)",
     "output_type": "error",
     "traceback": [
      "\u001b[1;36m  Cell \u001b[1;32mIn[82], line 1\u001b[1;36m\u001b[0m\n\u001b[1;33m    name []\u001b[0m\n\u001b[1;37m          ^\u001b[0m\n\u001b[1;31mSyntaxError\u001b[0m\u001b[1;31m:\u001b[0m invalid syntax\n"
     ]
    }
   ],
   "source": [
    "name []"
   ]
  },
  {
   "cell_type": "code",
   "execution_count": 83,
   "id": "93f67302-0df7-498c-808a-6c8ef2356451",
   "metadata": {},
   "outputs": [
    {
     "data": {
      "text/plain": [
       "'k'"
      ]
     },
     "execution_count": 83,
     "metadata": {},
     "output_type": "execute_result"
    }
   ],
   "source": [
    "name[0]"
   ]
  },
  {
   "cell_type": "code",
   "execution_count": 84,
   "id": "08400a68-ae8f-413f-8971-449e91e59f0c",
   "metadata": {},
   "outputs": [
    {
     "data": {
      "text/plain": [
       "'n'"
      ]
     },
     "execution_count": 84,
     "metadata": {},
     "output_type": "execute_result"
    }
   ],
   "source": [
    "name[2]"
   ]
  },
  {
   "cell_type": "code",
   "execution_count": 85,
   "id": "ef8b3951-bddc-4f6a-b248-019963701950",
   "metadata": {},
   "outputs": [
    {
     "data": {
      "text/plain": [
       "'b'"
      ]
     },
     "execution_count": 85,
     "metadata": {},
     "output_type": "execute_result"
    }
   ],
   "source": [
    "name[5]"
   ]
  },
  {
   "cell_type": "code",
   "execution_count": 86,
   "id": "d0d252a6-f0bc-4f00-935f-f5340d6d8a04",
   "metadata": {},
   "outputs": [
    {
     "data": {
      "text/plain": [
       "' '"
      ]
     },
     "execution_count": 86,
     "metadata": {},
     "output_type": "execute_result"
    }
   ],
   "source": [
    "name[4]"
   ]
  },
  {
   "cell_type": "code",
   "execution_count": 87,
   "id": "5c894830-b0df-427b-83e8-6ee981eae51d",
   "metadata": {},
   "outputs": [
    {
     "ename": "IndexError",
     "evalue": "string index out of range",
     "output_type": "error",
     "traceback": [
      "\u001b[1;31m---------------------------------------------------------------------------\u001b[0m",
      "\u001b[1;31mIndexError\u001b[0m                                Traceback (most recent call last)",
      "Cell \u001b[1;32mIn[87], line 1\u001b[0m\n\u001b[1;32m----> 1\u001b[0m name[\u001b[38;5;241m11\u001b[39m]\n",
      "\u001b[1;31mIndexError\u001b[0m: string index out of range"
     ]
    }
   ],
   "source": [
    "name[11]"
   ]
  },
  {
   "cell_type": "code",
   "execution_count": 88,
   "id": "636ba0e1-f27c-4ed7-aec3-1474707bdb44",
   "metadata": {},
   "outputs": [
    {
     "data": {
      "text/plain": [
       "11"
      ]
     },
     "execution_count": 88,
     "metadata": {},
     "output_type": "execute_result"
    }
   ],
   "source": [
    "len(name)"
   ]
  },
  {
   "cell_type": "code",
   "execution_count": 89,
   "id": "8d15912f-377e-46f6-b7fb-16f1fa844e9a",
   "metadata": {},
   "outputs": [
    {
     "data": {
      "text/plain": [
       "'l'"
      ]
     },
     "execution_count": 89,
     "metadata": {},
     "output_type": "execute_result"
    }
   ],
   "source": [
    "name[-1]"
   ]
  },
  {
   "cell_type": "code",
   "execution_count": 90,
   "id": "98f27547-b9b3-4488-946e-d843f57c66ea",
   "metadata": {},
   "outputs": [
    {
     "data": {
      "text/plain": [
       "'a'"
      ]
     },
     "execution_count": 90,
     "metadata": {},
     "output_type": "execute_result"
    }
   ],
   "source": [
    "name[-2]"
   ]
  },
  {
   "cell_type": "code",
   "execution_count": 91,
   "id": "02d9ffb4-f9fd-4575-9afa-80a78000d6d0",
   "metadata": {},
   "outputs": [
    {
     "data": {
      "text/plain": [
       "'s'"
      ]
     },
     "execution_count": 91,
     "metadata": {},
     "output_type": "execute_result"
    }
   ],
   "source": [
    "name[-3]"
   ]
  },
  {
   "cell_type": "code",
   "execution_count": null,
   "id": "a56dd6f5-430f-497d-8f97-ff047bc7eb08",
   "metadata": {},
   "outputs": [],
   "source": []
  }
 ],
 "metadata": {
  "kernelspec": {
   "display_name": "Python [conda env:base] *",
   "language": "python",
   "name": "conda-base-py"
  },
  "language_info": {
   "codemirror_mode": {
    "name": "ipython",
    "version": 3
   },
   "file_extension": ".py",
   "mimetype": "text/x-python",
   "name": "python",
   "nbconvert_exporter": "python",
   "pygments_lexer": "ipython3",
   "version": "3.13.5"
  }
 },
 "nbformat": 4,
 "nbformat_minor": 5
}
