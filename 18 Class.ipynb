{
 "cells": [
  {
   "cell_type": "code",
   "execution_count": 1,
   "id": "62d330b9-7545-4f8c-bae3-87bbc2c02037",
   "metadata": {},
   "outputs": [],
   "source": [
    "class Car():\n",
    "    tyre = 4\n",
    "    def move():\n",
    "        print(\"i am moving forward\")"
   ]
  },
  {
   "cell_type": "code",
   "execution_count": 4,
   "id": "686f7fb8-7845-4a34-a193-591dbd3802a4",
   "metadata": {},
   "outputs": [
    {
     "data": {
      "text/plain": [
       "4"
      ]
     },
     "execution_count": 4,
     "metadata": {},
     "output_type": "execute_result"
    }
   ],
   "source": [
    "# if we write only tyre then it will not accessible for everyone show error\n",
    "Car.tyre"
   ]
  },
  {
   "cell_type": "code",
   "execution_count": 5,
   "id": "ca13f9c3-6729-4c7d-b0a7-a724b1c6b295",
   "metadata": {},
   "outputs": [
    {
     "name": "stdout",
     "output_type": "stream",
     "text": [
      "i am moving forward\n"
     ]
    }
   ],
   "source": [
    "Car.move()"
   ]
  },
  {
   "cell_type": "code",
   "execution_count": 6,
   "id": "b55c538f-ff54-495a-b1d4-f063ddaa4fb5",
   "metadata": {},
   "outputs": [],
   "source": [
    "class Human():\n",
    "    legs = 2\n",
    "    def eatUp():\n",
    "        print(\"i am eating\")\n",
    "        print(\"now i am full\")\n",
    "        print(\"thank you\")"
   ]
  },
  {
   "cell_type": "code",
   "execution_count": 7,
   "id": "df6f66bf-2760-4209-95a9-f9681a776a98",
   "metadata": {},
   "outputs": [
    {
     "data": {
      "text/plain": [
       "2"
      ]
     },
     "execution_count": 7,
     "metadata": {},
     "output_type": "execute_result"
    }
   ],
   "source": [
    "# variables meine bracket use nhi hoti\n",
    "Human.legs"
   ]
  },
  {
   "cell_type": "code",
   "execution_count": 8,
   "id": "7bd4bda9-692a-42d0-8a6b-f4ff7aa1fa3c",
   "metadata": {},
   "outputs": [
    {
     "name": "stdout",
     "output_type": "stream",
     "text": [
      "i am eating\n",
      "now i am full\n",
      "thank you\n"
     ]
    }
   ],
   "source": [
    "Human.eatUp()"
   ]
  },
  {
   "cell_type": "code",
   "execution_count": 9,
   "id": "cf66b4e3-147c-4e32-bba8-fe8981fb8a77",
   "metadata": {},
   "outputs": [
    {
     "data": {
      "text/plain": [
       "__main__.Human"
      ]
     },
     "execution_count": 9,
     "metadata": {},
     "output_type": "execute_result"
    }
   ],
   "source": [
    "Human"
   ]
  },
  {
   "cell_type": "code",
   "execution_count": 10,
   "id": "e01145c1-79a5-404d-b16b-611fd32594f9",
   "metadata": {},
   "outputs": [],
   "source": [
    "# defining and binding variables and functions called class"
   ]
  },
  {
   "cell_type": "code",
   "execution_count": 11,
   "id": "a1dc6d66-7577-47d6-bbd9-6fbc6a4c1e54",
   "metadata": {},
   "outputs": [],
   "source": [
    "gadi = Car()"
   ]
  },
  {
   "cell_type": "code",
   "execution_count": 12,
   "id": "58a245c5-e0b6-4131-8f04-1b46f335b703",
   "metadata": {},
   "outputs": [],
   "source": [
    "gadi2 = Car()"
   ]
  },
  {
   "cell_type": "code",
   "execution_count": 13,
   "id": "78e0d52f-dc30-40c9-bfad-05c5d8ca06fa",
   "metadata": {},
   "outputs": [
    {
     "data": {
      "text/plain": [
       "<__main__.Car at 0x2086945c590>"
      ]
     },
     "execution_count": 13,
     "metadata": {},
     "output_type": "execute_result"
    }
   ],
   "source": [
    "gadi"
   ]
  },
  {
   "cell_type": "code",
   "execution_count": 14,
   "id": "e3f681e5-8af8-4fae-9632-720fdc59a492",
   "metadata": {},
   "outputs": [
    {
     "data": {
      "text/plain": [
       "4"
      ]
     },
     "execution_count": 14,
     "metadata": {},
     "output_type": "execute_result"
    }
   ],
   "source": [
    "gadi.tyre"
   ]
  },
  {
   "cell_type": "code",
   "execution_count": 15,
   "id": "57c90651-34b7-4936-afb0-b2766c25112d",
   "metadata": {},
   "outputs": [
    {
     "data": {
      "text/plain": [
       "4"
      ]
     },
     "execution_count": 15,
     "metadata": {},
     "output_type": "execute_result"
    }
   ],
   "source": [
    "gadi2.tyre\n"
   ]
  },
  {
   "cell_type": "code",
   "execution_count": 16,
   "id": "14c93f43-da1d-44f4-a2a1-3928a2decaa8",
   "metadata": {},
   "outputs": [],
   "source": [
    "gadi.tyre = 3 # first tyre nikal diya"
   ]
  },
  {
   "cell_type": "code",
   "execution_count": 17,
   "id": "a4d16a19-f8fd-4946-9e0c-a32fd1654898",
   "metadata": {},
   "outputs": [],
   "source": [
    "#objects completely separated items"
   ]
  },
  {
   "cell_type": "code",
   "execution_count": 18,
   "id": "e4c9d20e-960e-4734-858a-7e5f294d5d1e",
   "metadata": {},
   "outputs": [
    {
     "data": {
      "text/plain": [
       "3"
      ]
     },
     "execution_count": 18,
     "metadata": {},
     "output_type": "execute_result"
    }
   ],
   "source": [
    "gadi.tyre"
   ]
  },
  {
   "cell_type": "code",
   "execution_count": 19,
   "id": "91b0f372-cf16-4b39-8049-b3f170815c03",
   "metadata": {},
   "outputs": [
    {
     "data": {
      "text/plain": [
       "4"
      ]
     },
     "execution_count": 19,
     "metadata": {},
     "output_type": "execute_result"
    }
   ],
   "source": [
    "gadi2.tyre"
   ]
  },
  {
   "cell_type": "code",
   "execution_count": 21,
   "id": "eed02420-6f3b-47ef-9941-f3c1e0f8933a",
   "metadata": {},
   "outputs": [
    {
     "data": {
      "text/plain": [
       "<__main__.Car at 0x2086c67de50>"
      ]
     },
     "execution_count": 21,
     "metadata": {},
     "output_type": "execute_result"
    }
   ],
   "source": [
    "Car()"
   ]
  },
  {
   "cell_type": "code",
   "execution_count": 22,
   "id": "009ba04d-590c-4704-b71c-f1e875cd72dd",
   "metadata": {},
   "outputs": [],
   "source": [
    "# variable called attribute\n",
    "# function called methods"
   ]
  },
  {
   "cell_type": "code",
   "execution_count": 23,
   "id": "ef6d2657-03b9-4193-b64c-ff5b40ee652b",
   "metadata": {},
   "outputs": [],
   "source": [
    "class car():\n",
    "    tyre = 4\n",
    "    def move(self):# means the item or object that is created\n",
    "        print(\"i am moving forward\")"
   ]
  },
  {
   "cell_type": "code",
   "execution_count": 24,
   "id": "a1f1dc7f-88b1-4eac-a32b-d60dd3520b81",
   "metadata": {},
   "outputs": [],
   "source": [
    "gadi = car()"
   ]
  },
  {
   "cell_type": "code",
   "execution_count": 25,
   "id": "9dba2af4-766c-4ac0-af66-6baaebb56a5a",
   "metadata": {},
   "outputs": [
    {
     "data": {
      "text/plain": [
       "4"
      ]
     },
     "execution_count": 25,
     "metadata": {},
     "output_type": "execute_result"
    }
   ],
   "source": [
    "gadi.tyre"
   ]
  },
  {
   "cell_type": "code",
   "execution_count": 26,
   "id": "2d6038e6-22d0-449c-a4d7-663eb468014c",
   "metadata": {},
   "outputs": [
    {
     "name": "stdout",
     "output_type": "stream",
     "text": [
      "i am moving forward\n"
     ]
    }
   ],
   "source": [
    "gadi.move()\n",
    "# if we not write self then it will not run now class not run"
   ]
  },
  {
   "cell_type": "code",
   "execution_count": 27,
   "id": "684115c6-18ca-44f5-812b-c9d192c9b1f1",
   "metadata": {},
   "outputs": [
    {
     "ename": "TypeError",
     "evalue": "car.move() missing 1 required positional argument: 'self'",
     "output_type": "error",
     "traceback": [
      "\u001b[1;31m---------------------------------------------------------------------------\u001b[0m",
      "\u001b[1;31mTypeError\u001b[0m                                 Traceback (most recent call last)",
      "Cell \u001b[1;32mIn[27], line 1\u001b[0m\n\u001b[1;32m----> 1\u001b[0m car\u001b[38;5;241m.\u001b[39mmove()\n",
      "\u001b[1;31mTypeError\u001b[0m: car.move() missing 1 required positional argument: 'self'"
     ]
    }
   ],
   "source": [
    "car.move()"
   ]
  },
  {
   "cell_type": "code",
   "execution_count": 28,
   "id": "ce36d98b-29a6-42bf-9f01-f7b431b8f6d4",
   "metadata": {},
   "outputs": [],
   "source": [
    "gadi.name = \"nano\""
   ]
  },
  {
   "cell_type": "code",
   "execution_count": 29,
   "id": "2725f379-7109-45e1-a0ae-b36deb8e4f67",
   "metadata": {},
   "outputs": [],
   "source": [
    "gadi2.name = \"alto\""
   ]
  },
  {
   "cell_type": "code",
   "execution_count": 30,
   "id": "dbbbaa7a-67c6-45d6-956c-0b39aad234f5",
   "metadata": {},
   "outputs": [
    {
     "data": {
      "text/plain": [
       "'nano'"
      ]
     },
     "execution_count": 30,
     "metadata": {},
     "output_type": "execute_result"
    }
   ],
   "source": [
    "gadi.name"
   ]
  },
  {
   "cell_type": "code",
   "execution_count": 32,
   "id": "4f091950-abdf-47e4-bb24-af63bab7e4ec",
   "metadata": {},
   "outputs": [
    {
     "data": {
      "text/plain": [
       "'alto'"
      ]
     },
     "execution_count": 32,
     "metadata": {},
     "output_type": "execute_result"
    }
   ],
   "source": [
    "gadi2.name"
   ]
  },
  {
   "cell_type": "code",
   "execution_count": 54,
   "id": "95473fc1-5ea2-4ee5-b014-7f2fa04a2e41",
   "metadata": {},
   "outputs": [],
   "source": [
    "class Car():\n",
    "    # variable belonging to whole class\n",
    "    tyre = 4\n",
    "    def __init__(self, model, year= None): # special function automatically run MAGIC FUNCTIONS when we create object it run automatically \n",
    "        # variable of the object\n",
    "        self.model = model\n",
    "        self.year = year\n",
    "\n",
    "    def introduction(self):\n",
    "        print(f\"hii i am {self.model} and i was made in {self.year}\")\n",
    "\n",
    "    def move(self):\n",
    "         print(\"moving forward\")"
   ]
  },
  {
   "cell_type": "code",
   "execution_count": 51,
   "id": "58cb89e1-36d1-4d77-8c30-92666b956098",
   "metadata": {},
   "outputs": [],
   "source": [
    "gadi = Car(\"nano\")"
   ]
  },
  {
   "cell_type": "code",
   "execution_count": 41,
   "id": "e3174535-919f-4d04-a5f8-cc8e18b3f760",
   "metadata": {},
   "outputs": [
    {
     "data": {
      "text/plain": [
       "'nano'"
      ]
     },
     "execution_count": 41,
     "metadata": {},
     "output_type": "execute_result"
    }
   ],
   "source": [
    "gadi.name"
   ]
  },
  {
   "cell_type": "code",
   "execution_count": 42,
   "id": "da052ce6-3880-48c6-bc04-dc6002ee2ede",
   "metadata": {},
   "outputs": [],
   "source": [
    "gadi2 = Car(\"alto\")"
   ]
  },
  {
   "cell_type": "code",
   "execution_count": 43,
   "id": "a3ec0d54-218b-4017-a833-2e34817ed6d0",
   "metadata": {},
   "outputs": [
    {
     "data": {
      "text/plain": [
       "'alto'"
      ]
     },
     "execution_count": 43,
     "metadata": {},
     "output_type": "execute_result"
    }
   ],
   "source": [
    "gadi2.name"
   ]
  },
  {
   "cell_type": "code",
   "execution_count": 47,
   "id": "1c0729af-2e82-47cc-bf6f-8bed4c6b1668",
   "metadata": {},
   "outputs": [
    {
     "name": "stdout",
     "output_type": "stream",
     "text": [
      "moving forward\n"
     ]
    }
   ],
   "source": [
    "gadi.move()"
   ]
  },
  {
   "cell_type": "code",
   "execution_count": 56,
   "id": "efa409ac-1504-4d7d-afcd-750ffead11e7",
   "metadata": {},
   "outputs": [],
   "source": [
    "gadi = Car(\"nano\", 2005)"
   ]
  },
  {
   "cell_type": "code",
   "execution_count": 57,
   "id": "cd20089a-8d48-48d9-935e-d696f75b3741",
   "metadata": {},
   "outputs": [
    {
     "name": "stdout",
     "output_type": "stream",
     "text": [
      "hii i am nano and i was made in 2005\n"
     ]
    }
   ],
   "source": [
    "gadi.introduction()"
   ]
  },
  {
   "cell_type": "code",
   "execution_count": 58,
   "id": "e8b216cf-9320-4786-aaf8-e94a358d4fe1",
   "metadata": {},
   "outputs": [],
   "source": [
    "gadi2 = Car(\"alto\")"
   ]
  },
  {
   "cell_type": "code",
   "execution_count": 59,
   "id": "fbc3a286-fb1c-4697-9e23-ec398e9f12ea",
   "metadata": {},
   "outputs": [
    {
     "name": "stdout",
     "output_type": "stream",
     "text": [
      "hii i am alto and i was made in None\n"
     ]
    }
   ],
   "source": [
    "gadi2.introduction()"
   ]
  }
 ],
 "metadata": {
  "kernelspec": {
   "display_name": "Python [conda env:base] *",
   "language": "python",
   "name": "conda-base-py"
  },
  "language_info": {
   "codemirror_mode": {
    "name": "ipython",
    "version": 3
   },
   "file_extension": ".py",
   "mimetype": "text/x-python",
   "name": "python",
   "nbconvert_exporter": "python",
   "pygments_lexer": "ipython3",
   "version": "3.13.5"
  }
 },
 "nbformat": 4,
 "nbformat_minor": 5
}
