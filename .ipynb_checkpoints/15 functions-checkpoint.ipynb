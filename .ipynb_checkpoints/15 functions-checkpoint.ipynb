{
 "cells": [
  {
   "cell_type": "markdown",
   "id": "9fd4c641-652a-439c-bf2c-da0ea3dcea8b",
   "metadata": {},
   "source": [
    "# Functions\n"
   ]
  },
  {
   "cell_type": "markdown",
   "id": "ea66a1e6-3e1e-4df0-85df-b80cfe152a3d",
   "metadata": {},
   "source": [
    "## Functions store code, and it execute the code when called"
   ]
  },
  {
   "cell_type": "code",
   "execution_count": 3,
   "id": "62909831-4268-4902-909b-810085b8bf0b",
   "metadata": {},
   "outputs": [],
   "source": [
    "# define a function\n",
    "def greeting():\n",
    "    print(\"hello everyone nice to meet you\")\n",
    "    print(2+2) # we can run no of statements"
   ]
  },
  {
   "cell_type": "code",
   "execution_count": 4,
   "id": "0eca26c6-2c8f-4e56-9546-a3143b5b3208",
   "metadata": {},
   "outputs": [
    {
     "name": "stdout",
     "output_type": "stream",
     "text": [
      "hello everyone nice to meet you\n",
      "4\n"
     ]
    }
   ],
   "source": [
    "# call a function\n",
    "greeting()"
   ]
  },
  {
   "cell_type": "markdown",
   "id": "7307827f-a8d3-404c-8bca-1eec057a6139",
   "metadata": {},
   "source": [
    "## type of functions"
   ]
  },
  {
   "cell_type": "markdown",
   "id": "4a281e26-64a9-43dd-98c3-7da53173f931",
   "metadata": {},
   "source": [
    "### built in functions"
   ]
  },
  {
   "cell_type": "code",
   "execution_count": 12,
   "id": "19c74e98-d292-4535-872c-ec0136d740bf",
   "metadata": {},
   "outputs": [
    {
     "name": "stdout",
     "output_type": "stream",
     "text": [
      "hi\n"
     ]
    },
    {
     "data": {
      "text/plain": [
       "9"
      ]
     },
     "execution_count": 12,
     "metadata": {},
     "output_type": "execute_result"
    }
   ],
   "source": [
    "print('hi')\n",
    "len('karunesh')\n",
    "min(8,2)\n",
    "max(9,2)"
   ]
  },
  {
   "cell_type": "markdown",
   "id": "f4e94a00-017b-466b-82b9-9329e804447e",
   "metadata": {},
   "source": [
    "### user defined functions"
   ]
  },
  {
   "cell_type": "code",
   "execution_count": 17,
   "id": "88837ac1-7c66-4ea4-8bbb-e002873f7427",
   "metadata": {},
   "outputs": [
    {
     "name": "stdout",
     "output_type": "stream",
     "text": [
      "hello everyone nice to meet you\n",
      "hello\n"
     ]
    },
    {
     "ename": "ZeroDivisionError",
     "evalue": "division by zero",
     "output_type": "error",
     "traceback": [
      "\u001b[1;31m---------------------------------------------------------------------------\u001b[0m",
      "\u001b[1;31mZeroDivisionError\u001b[0m                         Traceback (most recent call last)",
      "Cell \u001b[1;32mIn[17], line 7\u001b[0m\n\u001b[0;32m      5\u001b[0m     \u001b[38;5;28mprint\u001b[39m(\u001b[38;5;241m8\u001b[39m\u001b[38;5;241m/\u001b[39m\u001b[38;5;241m0\u001b[39m)\n\u001b[0;32m      6\u001b[0m     \u001b[38;5;28mprint\u001b[39m(\u001b[38;5;124m\"\u001b[39m\u001b[38;5;124mhii\u001b[39m\u001b[38;5;124m\"\u001b[39m)\n\u001b[1;32m----> 7\u001b[0m greeting()\n",
      "Cell \u001b[1;32mIn[17], line 5\u001b[0m, in \u001b[0;36mgreeting\u001b[1;34m()\u001b[0m\n\u001b[0;32m      3\u001b[0m \u001b[38;5;28mprint\u001b[39m(\u001b[38;5;124m\"\u001b[39m\u001b[38;5;124mhello everyone nice to meet you\u001b[39m\u001b[38;5;124m\"\u001b[39m)\n\u001b[0;32m      4\u001b[0m \u001b[38;5;28mprint\u001b[39m(\u001b[38;5;124m\"\u001b[39m\u001b[38;5;124mhello\u001b[39m\u001b[38;5;124m\"\u001b[39m)\n\u001b[1;32m----> 5\u001b[0m \u001b[38;5;28mprint\u001b[39m(\u001b[38;5;241m8\u001b[39m\u001b[38;5;241m/\u001b[39m\u001b[38;5;241m0\u001b[39m)\n\u001b[0;32m      6\u001b[0m \u001b[38;5;28mprint\u001b[39m(\u001b[38;5;124m\"\u001b[39m\u001b[38;5;124mhii\u001b[39m\u001b[38;5;124m\"\u001b[39m)\n",
      "\u001b[1;31mZeroDivisionError\u001b[0m: division by zero"
     ]
    }
   ],
   "source": [
    "# error se phele statement execute ho jati hai error ke baad ni\n",
    "def greeting():\n",
    "    print(\"hello everyone nice to meet you\")\n",
    "    print(\"hello\")\n",
    "    print(8/0)\n",
    "    print(\"hii\")\n",
    "greeting()"
   ]
  },
  {
   "cell_type": "markdown",
   "id": "86acc9d3-3137-4cf3-a114-af7493d058d1",
   "metadata": {},
   "source": [
    "### simple functions"
   ]
  },
  {
   "cell_type": "code",
   "execution_count": 18,
   "id": "b04fe6f4-635d-4f33-841a-aa89bc4ed257",
   "metadata": {},
   "outputs": [
    {
     "name": "stdout",
     "output_type": "stream",
     "text": [
      "hii hello\n"
     ]
    }
   ],
   "source": [
    "def greeting():\n",
    "    print(\"hii hello\")\n",
    "greeting()"
   ]
  },
  {
   "cell_type": "markdown",
   "id": "e48b0abf-deaa-4479-9f14-e0f8509691fd",
   "metadata": {},
   "source": [
    "### input functions"
   ]
  },
  {
   "cell_type": "code",
   "execution_count": 20,
   "id": "9ffc3b26-804d-47fd-9528-ca5f7e59ec30",
   "metadata": {},
   "outputs": [
    {
     "name": "stdout",
     "output_type": "stream",
     "text": [
      "hello karunesh nice to meet you\n"
     ]
    }
   ],
   "source": [
    "def greeting(name):\n",
    "    print(f\"hello {name} nice to meet you\")\n",
    "greeting(\"karunesh\")    # we can assign name when we call the function # if we don't assign name then it will give error"
   ]
  },
  {
   "cell_type": "code",
   "execution_count": 21,
   "id": "b0f5ca87-e25f-49bb-a379-d3d42f541b89",
   "metadata": {},
   "outputs": [
    {
     "name": "stdout",
     "output_type": "stream",
     "text": [
      "78.57142857142857\n"
     ]
    }
   ],
   "source": [
    "# another example\n",
    "def area_of_circle(r):\n",
    "    print((22/7)*r*r)\n",
    "area_of_circle(5)    "
   ]
  },
  {
   "cell_type": "code",
   "execution_count": 23,
   "id": "dc3afacc-b6c7-46eb-a09a-fee9ea09f97e",
   "metadata": {},
   "outputs": [
    {
     "name": "stdout",
     "output_type": "stream",
     "text": [
      "50\n"
     ]
    }
   ],
   "source": [
    "# another example\n",
    "def area_of_rectangle(length,width):\n",
    "    print(length*width)\n",
    "area_of_rectangle(5,10)    "
   ]
  },
  {
   "cell_type": "markdown",
   "id": "16e95891-de90-4b74-8ec7-ab6f098257b9",
   "metadata": {},
   "source": [
    "### scope"
   ]
  },
  {
   "cell_type": "code",
   "execution_count": 27,
   "id": "a84f34f0-dac9-489b-a7ec-8e7ef8373a05",
   "metadata": {},
   "outputs": [
    {
     "name": "stdout",
     "output_type": "stream",
     "text": [
      "kaunesh 24 bca hunting\n"
     ]
    }
   ],
   "source": [
    "# another example # when variable store inside the function its called scope\n",
    "# local scope bhar excess nhi hoti\n",
    "job = \"netmax\" # global scope\n",
    "def myprofile():\n",
    "    # local scope\n",
    "    name = \"kaunesh\"\n",
    "    age = 24\n",
    "    education = \"bca\"\n",
    "    job = \"hunting\"\n",
    "    print(name,age,education,job)\n",
    "myprofile()    "
   ]
  },
  {
   "cell_type": "code",
   "execution_count": 28,
   "id": "f28ea2c1-26c5-43e4-863a-a2e34e263971",
   "metadata": {},
   "outputs": [
    {
     "data": {
      "text/plain": [
       "'netmax'"
      ]
     },
     "execution_count": 28,
     "metadata": {},
     "output_type": "execute_result"
    }
   ],
   "source": [
    "# if we change value of global variable but value note change it remain same when we call global variable outside\n",
    "job\n"
   ]
  },
  {
   "cell_type": "code",
   "execution_count": 32,
   "id": "d011f524-2942-40b6-83eb-33d3c5a7269a",
   "metadata": {},
   "outputs": [
    {
     "name": "stdout",
     "output_type": "stream",
     "text": [
      "kaunesh 24 bca hunting\n"
     ]
    }
   ],
   "source": [
    "# global scope\n",
    "job = \"netmax\"\n",
    "def myprofile():\n",
    "    # local scope\n",
    "    name = \"kaunesh\"\n",
    "    global age\n",
    "    age = 24\n",
    "    education = \"bca\"\n",
    "    job = \"hunting\"\n",
    "    print(name,age,education,job)\n",
    "myprofile()    # call a function"
   ]
  },
  {
   "cell_type": "code",
   "execution_count": 31,
   "id": "1879bd86-38d0-4708-b398-cda2e4d41371",
   "metadata": {},
   "outputs": [
    {
     "data": {
      "text/plain": [
       "24"
      ]
     },
     "execution_count": 31,
     "metadata": {},
     "output_type": "execute_result"
    }
   ],
   "source": [
    "age # if we define variable in global then we can find value outside the function"
   ]
  },
  {
   "cell_type": "code",
   "execution_count": 33,
   "id": "4b4f467d-ee88-4034-87d7-a96d30fea3bc",
   "metadata": {},
   "outputs": [
    {
     "name": "stdout",
     "output_type": "stream",
     "text": [
      "hello name nice to meet you\n"
     ]
    }
   ],
   "source": [
    "greeting(\"name\")"
   ]
  },
  {
   "cell_type": "code",
   "execution_count": 38,
   "id": "a0f64b56-d5a5-489e-b000-84a6d424c2ff",
   "metadata": {},
   "outputs": [
    {
     "name": "stdout",
     "output_type": "stream",
     "text": [
      "hello user nice to meet you\n"
     ]
    }
   ],
   "source": [
    "# default function\n",
    "def greeting(name = \"user\"):\n",
    "    print(f'hello {name} nice to meet you')\n",
    "greeting()   # if we dont assign vale then it default print user which we define in def function "
   ]
  },
  {
   "cell_type": "code",
   "execution_count": 52,
   "id": "ffe558bd-aa1d-4c41-b8af-9c8954144384",
   "metadata": {},
   "outputs": [],
   "source": [
    "# return function\n",
    "def salary_structure(salary, tax_rate= 0.12): # if we want to give default vale then it will written second if we write first it give error\n",
    "    tax = salary* tax_rate\n",
    "    return tax\n",
    "tax = salary_structure(8000, 0.12)    \n",
    "    "
   ]
  },
  {
   "cell_type": "code",
   "execution_count": 53,
   "id": "c03f10af-73fd-4894-aac6-7ac93dce8ea0",
   "metadata": {},
   "outputs": [
    {
     "data": {
      "text/plain": [
       "960.0"
      ]
     },
     "execution_count": 53,
     "metadata": {},
     "output_type": "execute_result"
    }
   ],
   "source": [
    "tax # we can also store values into variable"
   ]
  },
  {
   "cell_type": "code",
   "execution_count": 47,
   "id": "fffbbda4-21d3-448a-b4b0-3d062d892083",
   "metadata": {},
   "outputs": [
    {
     "ename": "SyntaxError",
     "evalue": "parameter without a default follows parameter with a default (2029611841.py, line 2)",
     "output_type": "error",
     "traceback": [
      "\u001b[1;36m  Cell \u001b[1;32mIn[47], line 2\u001b[1;36m\u001b[0m\n\u001b[1;33m    def salary_structure(salary=4000, tax_rate): # if we want to give default vale then it will written second if we write first it give error\u001b[0m\n\u001b[1;37m                                      ^\u001b[0m\n\u001b[1;31mSyntaxError\u001b[0m\u001b[1;31m:\u001b[0m parameter without a default follows parameter with a default\n"
     ]
    }
   ],
   "source": [
    "# it show error if write first default value \n",
    "def salary_structure(salary=4000, tax_rate): # if we want to give default vale then it will written second if we write first it give error\n",
    "    tax = salary* tax_rate\n",
    "    return tax\n",
    "tax = salary_structure(8000, 0.12)    \n",
    "    "
   ]
  },
  {
   "cell_type": "code",
   "execution_count": 51,
   "id": "c9caea7d-cfc5-4ee3-a73a-f7393dcc2f14",
   "metadata": {},
   "outputs": [
    {
     "ename": "SyntaxError",
     "evalue": "positional argument follows keyword argument (3685264659.py, line 1)",
     "output_type": "error",
     "traceback": [
      "\u001b[1;36m  Cell \u001b[1;32mIn[51], line 1\u001b[1;36m\u001b[0m\n\u001b[1;33m    tax = salary_structure(salary=8000, 0.12)   # same rule apply to when we assign values\u001b[0m\n\u001b[1;37m                                            ^\u001b[0m\n\u001b[1;31mSyntaxError\u001b[0m\u001b[1;31m:\u001b[0m positional argument follows keyword argument\n"
     ]
    }
   ],
   "source": [
    "tax = salary_structure(salary=8000, 0.12)   # same rule apply to when we assign values"
   ]
  },
  {
   "cell_type": "code",
   "execution_count": 54,
   "id": "b038e17b-a719-49e8-9b31-d933b789035f",
   "metadata": {},
   "outputs": [],
   "source": [
    "# jo pass kr re hai voh argument hai jo values provide kr re hai\n",
    "# jo mang rha hai voh parameters hai jo already define hai"
   ]
  },
  {
   "cell_type": "code",
   "execution_count": 55,
   "id": "7c2c4916-5556-4331-9aff-8ac72372aa9e",
   "metadata": {},
   "outputs": [
    {
     "ename": "TypeError",
     "evalue": "salary_structure() missing 1 required positional argument: 'salary'",
     "output_type": "error",
     "traceback": [
      "\u001b[1;31m---------------------------------------------------------------------------\u001b[0m",
      "\u001b[1;31mTypeError\u001b[0m                                 Traceback (most recent call last)",
      "Cell \u001b[1;32mIn[55], line 1\u001b[0m\n\u001b[1;32m----> 1\u001b[0m salary_structure()\n",
      "\u001b[1;31mTypeError\u001b[0m: salary_structure() missing 1 required positional argument: 'salary'"
     ]
    }
   ],
   "source": [
    "salary_structure()"
   ]
  },
  {
   "cell_type": "code",
   "execution_count": 60,
   "id": "0d8c30f6-b8b2-4fa8-8747-250597baaac3",
   "metadata": {},
   "outputs": [
    {
     "name": "stdout",
     "output_type": "stream",
     "text": [
      " \n",
      "        length: 50\n",
      "        width: 80\n",
      "        height: 100\n",
      "    \n"
     ]
    },
    {
     "data": {
      "text/plain": [
       "400000"
      ]
     },
     "execution_count": 60,
     "metadata": {},
     "output_type": "execute_result"
    }
   ],
   "source": [
    "# if string written under def function its written in help function in fututre help function without run doct string\n",
    "def volumne_of_cuboid(length, width, height):\n",
    "    \"\"\"\n",
    "    this function calculates volumne of cuboid   \n",
    "    it takes lenth, width, height\n",
    "    as input and multiplies them\n",
    "    \"\"\"\n",
    "    dimensions = f\"\"\" \n",
    "        length: {length}\n",
    "        width: {width}\n",
    "        height: {height}\n",
    "    \"\"\"\n",
    "    print(dimensions)\n",
    "    return length*width*height\n",
    "volumne_of_cuboid(50,80,100)  #its called positional argument which define position of argument"
   ]
  },
  {
   "cell_type": "code",
   "execution_count": 61,
   "id": "867c1833-88bf-4aec-b401-f22cdd33804f",
   "metadata": {},
   "outputs": [
    {
     "name": "stdout",
     "output_type": "stream",
     "text": [
      "Help on function volumne_of_cuboid in module __main__:\n",
      "\n",
      "volumne_of_cuboid(length, width, height)\n",
      "    this function calculates volumne of cuboid\n",
      "    it takes lenth, width, height\n",
      "    as input and multiplies them\n",
      "\n"
     ]
    }
   ],
   "source": [
    "help(volumne_of_cuboid)"
   ]
  },
  {
   "cell_type": "code",
   "execution_count": 62,
   "id": "15382b8c-e807-4dce-aaca-6ba307652e50",
   "metadata": {},
   "outputs": [],
   "source": [
    "#\"\"\" triple string called dock string\"\"\""
   ]
  },
  {
   "cell_type": "code",
   "execution_count": 63,
   "id": "eac44b15-c519-4e3e-bdaa-7283ef07797d",
   "metadata": {},
   "outputs": [
    {
     "name": "stdout",
     "output_type": "stream",
     "text": [
      " \n",
      "        length: 50\n",
      "        width: 80\n",
      "        height: 100\n",
      "    \n"
     ]
    },
    {
     "data": {
      "text/plain": [
       "400000"
      ]
     },
     "execution_count": 63,
     "metadata": {},
     "output_type": "execute_result"
    }
   ],
   "source": [
    "# key word argument\n",
    "volumne_of_cuboid(length= 50,height=100, width=80 )"
   ]
  },
  {
   "cell_type": "code",
   "execution_count": 65,
   "id": "4a5f3c22-a6d1-4bba-a831-2dea8691d678",
   "metadata": {},
   "outputs": [
    {
     "ename": "SyntaxError",
     "evalue": "positional argument follows keyword argument (3569226733.py, line 1)",
     "output_type": "error",
     "traceback": [
      "\u001b[1;36m  Cell \u001b[1;32mIn[65], line 1\u001b[1;36m\u001b[0m\n\u001b[1;33m    volumne_of_cuboid(50,height=100, 80 )\u001b[0m\n\u001b[1;37m                                        ^\u001b[0m\n\u001b[1;31mSyntaxError\u001b[0m\u001b[1;31m:\u001b[0m positional argument follows keyword argument\n"
     ]
    }
   ],
   "source": [
    "volumne_of_cuboid(50,height=100, 80 )"
   ]
  },
  {
   "cell_type": "code",
   "execution_count": 66,
   "id": "88e2c276-8bd3-4731-86d1-2e8882e33448",
   "metadata": {},
   "outputs": [
    {
     "ename": "TypeError",
     "evalue": "volumne_of_cuboid() got multiple values for argument 'length'",
     "output_type": "error",
     "traceback": [
      "\u001b[1;31m---------------------------------------------------------------------------\u001b[0m",
      "\u001b[1;31mTypeError\u001b[0m                                 Traceback (most recent call last)",
      "Cell \u001b[1;32mIn[66], line 1\u001b[0m\n\u001b[1;32m----> 1\u001b[0m volumne_of_cuboid(\u001b[38;5;241m50\u001b[39m,length\u001b[38;5;241m=\u001b[39m\u001b[38;5;241m100\u001b[39m, width\u001b[38;5;241m=\u001b[39m\u001b[38;5;241m80\u001b[39m )\n",
      "\u001b[1;31mTypeError\u001b[0m: volumne_of_cuboid() got multiple values for argument 'length'"
     ]
    }
   ],
   "source": [
    "volumne_of_cuboid(50,length=100, width=80 ) # position argument first written then keyword argument written"
   ]
  },
  {
   "cell_type": "code",
   "execution_count": 67,
   "id": "86215f4f-a582-4b71-9c10-75ac2d30ad45",
   "metadata": {},
   "outputs": [],
   "source": [
    "li =[2,3,4,6,8,9,1]"
   ]
  },
  {
   "cell_type": "code",
   "execution_count": null,
   "id": "530b2597-c3f5-497e-bc01-fdf2929fb299",
   "metadata": {},
   "outputs": [],
   "source": []
  }
 ],
 "metadata": {
  "kernelspec": {
   "display_name": "Python [conda env:base] *",
   "language": "python",
   "name": "conda-base-py"
  },
  "language_info": {
   "codemirror_mode": {
    "name": "ipython",
    "version": 3
   },
   "file_extension": ".py",
   "mimetype": "text/x-python",
   "name": "python",
   "nbconvert_exporter": "python",
   "pygments_lexer": "ipython3",
   "version": "3.13.5"
  }
 },
 "nbformat": 4,
 "nbformat_minor": 5
}
