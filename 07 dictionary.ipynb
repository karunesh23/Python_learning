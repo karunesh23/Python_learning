{
 "cells": [
  {
   "cell_type": "code",
   "execution_count": 2,
   "id": "30ad4c03-387a-4724-8bf9-e4b3489046a4",
   "metadata": {},
   "outputs": [],
   "source": [
    "d ={\"name\": \"kanu\", \"age\":19, \"education\": \"bca\"}"
   ]
  },
  {
   "cell_type": "code",
   "execution_count": 3,
   "id": "ffee9bf8-6614-499a-a866-5e8179cda305",
   "metadata": {},
   "outputs": [
    {
     "data": {
      "text/plain": [
       "{'name': 'kanu', 'age': 19, 'education': 'bca'}"
      ]
     },
     "execution_count": 3,
     "metadata": {},
     "output_type": "execute_result"
    }
   ],
   "source": [
    "d"
   ]
  },
  {
   "cell_type": "code",
   "execution_count": 4,
   "id": "75519cf8-e71f-4e94-ab28-f5bf7dfb12a2",
   "metadata": {},
   "outputs": [
    {
     "data": {
      "text/plain": [
       "dict_keys(['name', 'age', 'education'])"
      ]
     },
     "execution_count": 4,
     "metadata": {},
     "output_type": "execute_result"
    }
   ],
   "source": [
    "d.keys()"
   ]
  },
  {
   "cell_type": "code",
   "execution_count": 5,
   "id": "37b70991-df07-4a89-8816-ef4145b49ffd",
   "metadata": {},
   "outputs": [
    {
     "data": {
      "text/plain": [
       "3"
      ]
     },
     "execution_count": 5,
     "metadata": {},
     "output_type": "execute_result"
    }
   ],
   "source": [
    "len(d)"
   ]
  },
  {
   "cell_type": "code",
   "execution_count": 6,
   "id": "6c668d8d-6565-43f6-a3b8-7b72f5c19cae",
   "metadata": {},
   "outputs": [
    {
     "data": {
      "text/plain": [
       "dict_values(['kanu', 19, 'bca'])"
      ]
     },
     "execution_count": 6,
     "metadata": {},
     "output_type": "execute_result"
    }
   ],
   "source": [
    "d.values()"
   ]
  },
  {
   "cell_type": "code",
   "execution_count": 7,
   "id": "57b43e3a-8538-4a44-8f12-d165ac026654",
   "metadata": {},
   "outputs": [
    {
     "data": {
      "text/plain": [
       "'kanu'"
      ]
     },
     "execution_count": 7,
     "metadata": {},
     "output_type": "execute_result"
    }
   ],
   "source": [
    "d['name']"
   ]
  },
  {
   "cell_type": "code",
   "execution_count": 8,
   "id": "098c3f3e-af13-42fb-accf-f02298a69a8e",
   "metadata": {},
   "outputs": [
    {
     "data": {
      "text/plain": [
       "19"
      ]
     },
     "execution_count": 8,
     "metadata": {},
     "output_type": "execute_result"
    }
   ],
   "source": [
    "d['age']"
   ]
  },
  {
   "cell_type": "code",
   "execution_count": 9,
   "id": "704e4e02-b8d6-46f5-8973-8f19ed1b2078",
   "metadata": {},
   "outputs": [
    {
     "data": {
      "text/plain": [
       "'bca'"
      ]
     },
     "execution_count": 9,
     "metadata": {},
     "output_type": "execute_result"
    }
   ],
   "source": [
    "d['education']"
   ]
  },
  {
   "cell_type": "code",
   "execution_count": 10,
   "id": "ca17faf0-b669-40ec-9ba6-5e30a6f1a91c",
   "metadata": {},
   "outputs": [],
   "source": [
    "k = {\"name\": \"karunesh\", \"age\": 19, \"stream\":\"bca\", \"course\":\"data science\"}"
   ]
  },
  {
   "cell_type": "code",
   "execution_count": 11,
   "id": "47c856e1-8324-46db-a25f-26e8fe60ee80",
   "metadata": {},
   "outputs": [
    {
     "data": {
      "text/plain": [
       "{'name': 'karunesh', 'age': 19, 'stream': 'bca', 'course': 'data science'}"
      ]
     },
     "execution_count": 11,
     "metadata": {},
     "output_type": "execute_result"
    }
   ],
   "source": [
    "k"
   ]
  },
  {
   "cell_type": "code",
   "execution_count": 13,
   "id": "db072ba7-5961-45f9-8c28-9d31b92b8253",
   "metadata": {},
   "outputs": [
    {
     "data": {
      "text/plain": [
       "4"
      ]
     },
     "execution_count": 13,
     "metadata": {},
     "output_type": "execute_result"
    }
   ],
   "source": [
    "len(k)"
   ]
  },
  {
   "cell_type": "code",
   "execution_count": 14,
   "id": "dd501e0d-3599-4f46-aa85-849e2d4f376f",
   "metadata": {},
   "outputs": [
    {
     "data": {
      "text/plain": [
       "'karunesh'"
      ]
     },
     "execution_count": 14,
     "metadata": {},
     "output_type": "execute_result"
    }
   ],
   "source": [
    "k['name']"
   ]
  },
  {
   "cell_type": "code",
   "execution_count": 15,
   "id": "c30a6af3-1b0b-48c4-85c7-0f47b9132d97",
   "metadata": {},
   "outputs": [
    {
     "data": {
      "text/plain": [
       "19"
      ]
     },
     "execution_count": 15,
     "metadata": {},
     "output_type": "execute_result"
    }
   ],
   "source": [
    "k['age']"
   ]
  },
  {
   "cell_type": "code",
   "execution_count": 17,
   "id": "80be64f1-3622-4296-a3de-8fffc52923e4",
   "metadata": {},
   "outputs": [
    {
     "data": {
      "text/plain": [
       "'bca'"
      ]
     },
     "execution_count": 17,
     "metadata": {},
     "output_type": "execute_result"
    }
   ],
   "source": [
    "k['stream']"
   ]
  },
  {
   "cell_type": "code",
   "execution_count": 18,
   "id": "7ba82ce1-630f-4828-bec4-5f4246e8fe7c",
   "metadata": {},
   "outputs": [
    {
     "data": {
      "text/plain": [
       "'data science'"
      ]
     },
     "execution_count": 18,
     "metadata": {},
     "output_type": "execute_result"
    }
   ],
   "source": [
    "k['course']"
   ]
  },
  {
   "cell_type": "code",
   "execution_count": 19,
   "id": "0fbe398b-fdf0-4015-9326-5c26294769da",
   "metadata": {},
   "outputs": [
    {
     "data": {
      "text/plain": [
       "dict_keys(['name', 'age', 'stream', 'course'])"
      ]
     },
     "execution_count": 19,
     "metadata": {},
     "output_type": "execute_result"
    }
   ],
   "source": [
    "k.keys()"
   ]
  },
  {
   "cell_type": "code",
   "execution_count": 20,
   "id": "8dd5eb7f-2af9-41a4-9d48-44cdca17a4f2",
   "metadata": {},
   "outputs": [
    {
     "data": {
      "text/plain": [
       "dict_values(['karunesh', 19, 'bca', 'data science'])"
      ]
     },
     "execution_count": 20,
     "metadata": {},
     "output_type": "execute_result"
    }
   ],
   "source": [
    "k.values()"
   ]
  },
  {
   "cell_type": "code",
   "execution_count": 21,
   "id": "c12559e9-9be5-4f48-977a-f4431aeb3da4",
   "metadata": {},
   "outputs": [],
   "source": [
    "# add item use asign operator\n",
    "k[\"roll_no\"] = 20"
   ]
  },
  {
   "cell_type": "code",
   "execution_count": 22,
   "id": "15585c6b-d7c3-4a9f-9cf4-77b98ec6c581",
   "metadata": {},
   "outputs": [
    {
     "data": {
      "text/plain": [
       "{'name': 'karunesh',\n",
       " 'age': 19,\n",
       " 'stream': 'bca',\n",
       " 'course': 'data science',\n",
       " 'roll_no': 20}"
      ]
     },
     "execution_count": 22,
     "metadata": {},
     "output_type": "execute_result"
    }
   ],
   "source": [
    "k"
   ]
  },
  {
   "cell_type": "code",
   "execution_count": 23,
   "id": "3f284635-94c0-4109-ae5f-cb0f55b9f015",
   "metadata": {},
   "outputs": [],
   "source": [
    "# keys can only have string or int"
   ]
  },
  {
   "cell_type": "code",
   "execution_count": 34,
   "id": "3e2b9c3e-f694-4e7b-8efb-47ab31712077",
   "metadata": {},
   "outputs": [],
   "source": [
    "di ={1: {\"name\":\"kanu\", \"age\": 20}, 2: {\"age\": 30}, 3: {\"roll_no\": 25, \"dogs\": [\"firstdog\", \"seconddog\"]}}"
   ]
  },
  {
   "cell_type": "code",
   "execution_count": 35,
   "id": "92c96fb6-c12e-42f2-a728-ffa58419ee45",
   "metadata": {},
   "outputs": [
    {
     "data": {
      "text/plain": [
       "{1: {'name': 'kanu', 'age': 20},\n",
       " 2: {'age': 30},\n",
       " 3: {'roll_no': 25, 'dogs': ['firstdog', 'seconddog']}}"
      ]
     },
     "execution_count": 35,
     "metadata": {},
     "output_type": "execute_result"
    }
   ],
   "source": [
    "di"
   ]
  },
  {
   "cell_type": "code",
   "execution_count": 36,
   "id": "0fe80984-e940-4a13-8778-5f7b911e64b0",
   "metadata": {},
   "outputs": [
    {
     "data": {
      "text/plain": [
       "dict_keys([1, 2, 3])"
      ]
     },
     "execution_count": 36,
     "metadata": {},
     "output_type": "execute_result"
    }
   ],
   "source": [
    "di.keys()"
   ]
  },
  {
   "cell_type": "code",
   "execution_count": 37,
   "id": "358336f2-dee5-4b51-bc8d-662f969e8b82",
   "metadata": {},
   "outputs": [
    {
     "data": {
      "text/plain": [
       "dict_values([{'name': 'kanu', 'age': 20}, {'age': 30}, {'roll_no': 25, 'dogs': ['firstdog', 'seconddog']}])"
      ]
     },
     "execution_count": 37,
     "metadata": {},
     "output_type": "execute_result"
    }
   ],
   "source": [
    "di.values()"
   ]
  },
  {
   "cell_type": "code",
   "execution_count": 38,
   "id": "ab0a44b7-c2c9-4539-9b29-587a578b5e14",
   "metadata": {},
   "outputs": [
    {
     "data": {
      "text/plain": [
       "dict"
      ]
     },
     "execution_count": 38,
     "metadata": {},
     "output_type": "execute_result"
    }
   ],
   "source": [
    "type(di)"
   ]
  },
  {
   "cell_type": "code",
   "execution_count": 39,
   "id": "d55e6a23-0fbd-4270-ba3f-f5d599540158",
   "metadata": {},
   "outputs": [
    {
     "data": {
      "text/plain": [
       "3"
      ]
     },
     "execution_count": 39,
     "metadata": {},
     "output_type": "execute_result"
    }
   ],
   "source": [
    "len(d)"
   ]
  },
  {
   "cell_type": "code",
   "execution_count": 42,
   "id": "a96d670a-b5d1-4f72-a24d-5559f3967365",
   "metadata": {},
   "outputs": [
    {
     "data": {
      "text/plain": [
       "{'name': 'kanu', 'age': 20}"
      ]
     },
     "execution_count": 42,
     "metadata": {},
     "output_type": "execute_result"
    }
   ],
   "source": [
    "di[1]"
   ]
  },
  {
   "cell_type": "code",
   "execution_count": 43,
   "id": "8fea3ae5-1e60-4a95-aac9-135285255943",
   "metadata": {},
   "outputs": [
    {
     "data": {
      "text/plain": [
       "{'name': 'kanu', 'age': 19, 'education': 'bca'}"
      ]
     },
     "execution_count": 43,
     "metadata": {},
     "output_type": "execute_result"
    }
   ],
   "source": [
    "d"
   ]
  },
  {
   "cell_type": "code",
   "execution_count": 44,
   "id": "45234a2f-51d8-4518-a7f8-bddd112f1234",
   "metadata": {},
   "outputs": [],
   "source": [
    "# we can also change values and also insert values\n",
    "d['name'] = \"karunesh\""
   ]
  },
  {
   "cell_type": "code",
   "execution_count": 45,
   "id": "3d4ddb0f-4986-493c-a015-baf08d1ebbda",
   "metadata": {},
   "outputs": [
    {
     "data": {
      "text/plain": [
       "{'name': 'karunesh', 'age': 19, 'education': 'bca'}"
      ]
     },
     "execution_count": 45,
     "metadata": {},
     "output_type": "execute_result"
    }
   ],
   "source": [
    "d"
   ]
  },
  {
   "cell_type": "code",
   "execution_count": 46,
   "id": "5161a446-91a0-435f-83f5-c5b6a270ac5e",
   "metadata": {},
   "outputs": [],
   "source": [
    "d['age'] = 20"
   ]
  },
  {
   "cell_type": "code",
   "execution_count": 47,
   "id": "13dd57dd-b646-464d-adfa-f00686bc9b43",
   "metadata": {},
   "outputs": [
    {
     "data": {
      "text/plain": [
       "{'name': 'karunesh', 'age': 20, 'education': 'bca'}"
      ]
     },
     "execution_count": 47,
     "metadata": {},
     "output_type": "execute_result"
    }
   ],
   "source": [
    "d"
   ]
  },
  {
   "cell_type": "code",
   "execution_count": 48,
   "id": "830ffb25-78c4-4186-a389-6f606b593adb",
   "metadata": {},
   "outputs": [],
   "source": [
    "d['education'] = \"b.tech\""
   ]
  },
  {
   "cell_type": "code",
   "execution_count": 49,
   "id": "8212297c-24b0-4690-b7af-b07c0960050d",
   "metadata": {},
   "outputs": [
    {
     "data": {
      "text/plain": [
       "{'name': 'karunesh', 'age': 20, 'education': 'b.tech'}"
      ]
     },
     "execution_count": 49,
     "metadata": {},
     "output_type": "execute_result"
    }
   ],
   "source": [
    "d"
   ]
  },
  {
   "cell_type": "code",
   "execution_count": 51,
   "id": "7057b828-53d7-44d3-95ad-c78988808ec0",
   "metadata": {},
   "outputs": [
    {
     "data": {
      "text/plain": [
       "{'name': 'kanu', 'age': 20}"
      ]
     },
     "execution_count": 51,
     "metadata": {},
     "output_type": "execute_result"
    }
   ],
   "source": [
    "di[1]"
   ]
  },
  {
   "cell_type": "code",
   "execution_count": 52,
   "id": "95c60f64-c439-413c-a42b-9bff4927042e",
   "metadata": {},
   "outputs": [
    {
     "data": {
      "text/plain": [
       "dict_keys(['name', 'age'])"
      ]
     },
     "execution_count": 52,
     "metadata": {},
     "output_type": "execute_result"
    }
   ],
   "source": [
    "di[1].keys()"
   ]
  },
  {
   "cell_type": "code",
   "execution_count": 57,
   "id": "5b152025-2b59-41d9-a873-261cfa905866",
   "metadata": {},
   "outputs": [
    {
     "data": {
      "text/plain": [
       "'second'"
      ]
     },
     "execution_count": 57,
     "metadata": {},
     "output_type": "execute_result"
    }
   ],
   "source": [
    "# dic meine slicing nhi hoti but list and tuple meine slicing hoti hai\n",
    "di[3]['dogs'][1][0:6]"
   ]
  },
  {
   "cell_type": "code",
   "execution_count": 58,
   "id": "396c638c-223c-4a66-adce-88f4ac616f0a",
   "metadata": {},
   "outputs": [
    {
     "data": {
      "text/plain": [
       "dict_items([(1, {'name': 'kanu', 'age': 20}), (2, {'age': 30}), (3, {'roll_no': 25, 'dogs': ['firstdog', 'seconddog']})])"
      ]
     },
     "execution_count": 58,
     "metadata": {},
     "output_type": "execute_result"
    }
   ],
   "source": [
    "# items data ko list meine convert krta hai\n",
    "di.items()"
   ]
  },
  {
   "cell_type": "code",
   "execution_count": 59,
   "id": "1e8e195f-0ec9-47e8-b5be-714378fc875c",
   "metadata": {},
   "outputs": [
    {
     "data": {
      "text/plain": [
       "[(1, {'name': 'kanu', 'age': 20}),\n",
       " (2, {'age': 30}),\n",
       " (3, {'roll_no': 25, 'dogs': ['firstdog', 'seconddog']})]"
      ]
     },
     "execution_count": 59,
     "metadata": {},
     "output_type": "execute_result"
    }
   ],
   "source": [
    "# list meine items tuple meine convert hoti hai\n",
    "list(di.items())"
   ]
  },
  {
   "cell_type": "code",
   "execution_count": 60,
   "id": "5a7f543c-18cd-4d51-b650-e93a4ed7eacb",
   "metadata": {},
   "outputs": [
    {
     "data": {
      "text/plain": [
       "{'name': 'kanu', 'age': 20}"
      ]
     },
     "execution_count": 60,
     "metadata": {},
     "output_type": "execute_result"
    }
   ],
   "source": [
    "di.get(1)"
   ]
  },
  {
   "cell_type": "code",
   "execution_count": 61,
   "id": "16b597c8-ba54-4aca-a1e4-dda3b2b2f89b",
   "metadata": {},
   "outputs": [
    {
     "data": {
      "text/plain": [
       "{'name': 'karunesh', 'age': 20, 'education': 'b.tech'}"
      ]
     },
     "execution_count": 61,
     "metadata": {},
     "output_type": "execute_result"
    }
   ],
   "source": [
    "d"
   ]
  },
  {
   "cell_type": "code",
   "execution_count": 70,
   "id": "5cae875f-c7f2-4640-bc17-2b99f78a4363",
   "metadata": {},
   "outputs": [
    {
     "ename": "KeyError",
     "evalue": "'age'",
     "output_type": "error",
     "traceback": [
      "\u001b[1;31m---------------------------------------------------------------------------\u001b[0m",
      "\u001b[1;31mKeyError\u001b[0m                                  Traceback (most recent call last)",
      "Cell \u001b[1;32mIn[70], line 1\u001b[0m\n\u001b[1;32m----> 1\u001b[0m d\u001b[38;5;241m.\u001b[39mpop(\u001b[38;5;124m'\u001b[39m\u001b[38;5;124mage\u001b[39m\u001b[38;5;124m'\u001b[39m)\n",
      "\u001b[1;31mKeyError\u001b[0m: 'age'"
     ]
    }
   ],
   "source": [
    "d.pop('age')"
   ]
  },
  {
   "cell_type": "code",
   "execution_count": 63,
   "id": "a680560c-f51b-4dde-812f-19c4869bdc29",
   "metadata": {},
   "outputs": [
    {
     "data": {
      "text/plain": [
       "{'name': 'karunesh', 'education': 'b.tech'}"
      ]
     },
     "execution_count": 63,
     "metadata": {},
     "output_type": "execute_result"
    }
   ],
   "source": [
    "d"
   ]
  },
  {
   "cell_type": "code",
   "execution_count": 65,
   "id": "a3adb871-1eb3-4f9a-96cc-dfc3d738c6ef",
   "metadata": {},
   "outputs": [],
   "source": [
    "j = d.pop('name')"
   ]
  },
  {
   "cell_type": "code",
   "execution_count": 66,
   "id": "f1a8d9f0-cd3c-4af4-8bc2-9b6a1a864908",
   "metadata": {},
   "outputs": [
    {
     "data": {
      "text/plain": [
       "'karunesh'"
      ]
     },
     "execution_count": 66,
     "metadata": {},
     "output_type": "execute_result"
    }
   ],
   "source": [
    "j"
   ]
  },
  {
   "cell_type": "code",
   "execution_count": 67,
   "id": "0ccb4ec0-e144-45d1-a97c-b2493a87a140",
   "metadata": {},
   "outputs": [
    {
     "data": {
      "text/plain": [
       "{'education': 'b.tech'}"
      ]
     },
     "execution_count": 67,
     "metadata": {},
     "output_type": "execute_result"
    }
   ],
   "source": [
    "d"
   ]
  },
  {
   "cell_type": "code",
   "execution_count": 68,
   "id": "eaa8109d-d594-4ac0-aa83-a0d616fe81ef",
   "metadata": {},
   "outputs": [
    {
     "data": {
      "text/plain": [
       "['education']"
      ]
     },
     "execution_count": 68,
     "metadata": {},
     "output_type": "execute_result"
    }
   ],
   "source": [
    "# if we want to convert output into list we use this this is called typecasting but in actually data type is not changed\n",
    "list(d.keys())"
   ]
  },
  {
   "cell_type": "code",
   "execution_count": 71,
   "id": "e5e2cb6b-f43f-4e17-a4dc-3515bccef9d3",
   "metadata": {},
   "outputs": [
    {
     "data": {
      "text/plain": [
       "{'education': 'b.tech'}"
      ]
     },
     "execution_count": 71,
     "metadata": {},
     "output_type": "execute_result"
    }
   ],
   "source": [
    "d"
   ]
  },
  {
   "cell_type": "code",
   "execution_count": 72,
   "id": "085b6857-3557-4e11-995a-b00f3939804e",
   "metadata": {},
   "outputs": [
    {
     "data": {
      "text/plain": [
       "{1: {'name': 'kanu', 'age': 20},\n",
       " 2: {'age': 30},\n",
       " 3: {'roll_no': 25, 'dogs': ['firstdog', 'seconddog']}}"
      ]
     },
     "execution_count": 72,
     "metadata": {},
     "output_type": "execute_result"
    }
   ],
   "source": [
    "di"
   ]
  },
  {
   "cell_type": "code",
   "execution_count": 75,
   "id": "123dddbb-5a4e-4169-ad52-1645eda56f85",
   "metadata": {},
   "outputs": [],
   "source": [
    "di[3]['roll_no'] = 20"
   ]
  },
  {
   "cell_type": "code",
   "execution_count": 86,
   "id": "4cc0a647-4290-4beb-b565-f7c35c796590",
   "metadata": {},
   "outputs": [
    {
     "data": {
      "text/plain": [
       "'firstdo'"
      ]
     },
     "execution_count": 86,
     "metadata": {},
     "output_type": "execute_result"
    }
   ],
   "source": [
    "di[3]['dogs'][0][]"
   ]
  },
  {
   "cell_type": "code",
   "execution_count": 87,
   "id": "faf8477d-f7a0-4938-8622-3678905ee424",
   "metadata": {},
   "outputs": [],
   "source": [
    "a = {\"name\":\"karunesh\"}"
   ]
  },
  {
   "cell_type": "code",
   "execution_count": 88,
   "id": "980839c9-88b1-4119-b0a6-deca72dbd819",
   "metadata": {},
   "outputs": [
    {
     "data": {
      "text/plain": [
       "{'name': 'karunesh'}"
      ]
     },
     "execution_count": 88,
     "metadata": {},
     "output_type": "execute_result"
    }
   ],
   "source": [
    "a"
   ]
  },
  {
   "cell_type": "code",
   "execution_count": 89,
   "id": "1f57ef13-e575-407d-86b6-3fcecc0ff5ab",
   "metadata": {},
   "outputs": [],
   "source": [
    "a[\"age\"]= 19"
   ]
  },
  {
   "cell_type": "code",
   "execution_count": 90,
   "id": "a0df4b1a-d843-4411-ba18-4dd4c551ce0f",
   "metadata": {},
   "outputs": [],
   "source": [
    "a['stream'] = \"bca\""
   ]
  },
  {
   "cell_type": "code",
   "execution_count": 91,
   "id": "7e107876-daa6-41bb-bac0-5862fe75d96c",
   "metadata": {},
   "outputs": [],
   "source": [
    "a['course'] = \"datascience\""
   ]
  },
  {
   "cell_type": "code",
   "execution_count": 92,
   "id": "5e5d407b-77c3-4283-bd9e-2b6016b457ab",
   "metadata": {},
   "outputs": [],
   "source": [
    "a['starting_year'] = 2025"
   ]
  },
  {
   "cell_type": "code",
   "execution_count": 93,
   "id": "8521d643-5809-495d-b4d8-44e142d7efc5",
   "metadata": {},
   "outputs": [
    {
     "data": {
      "text/plain": [
       "{'name': 'karunesh',\n",
       " 'age': 19,\n",
       " 'stream': 'bca',\n",
       " 'course': 'datascience',\n",
       " 'starting_year': 2025}"
      ]
     },
     "execution_count": 93,
     "metadata": {},
     "output_type": "execute_result"
    }
   ],
   "source": [
    "a"
   ]
  },
  {
   "cell_type": "code",
   "execution_count": 94,
   "id": "5b6884b8-4813-4e2b-b487-a2d7f6d6f90e",
   "metadata": {},
   "outputs": [],
   "source": [
    "a['duration'] = [\"4month\", \"5month\", \"6month\"]"
   ]
  },
  {
   "cell_type": "code",
   "execution_count": 95,
   "id": "15f176d1-0974-4908-bf20-760fefd51abd",
   "metadata": {},
   "outputs": [
    {
     "data": {
      "text/plain": [
       "{'name': 'karunesh',\n",
       " 'age': 19,\n",
       " 'stream': 'bca',\n",
       " 'course': 'datascience',\n",
       " 'starting_year': 2025,\n",
       " 'duration': ['4month', '5month', '6month']}"
      ]
     },
     "execution_count": 95,
     "metadata": {},
     "output_type": "execute_result"
    }
   ],
   "source": [
    "a"
   ]
  },
  {
   "cell_type": "code",
   "execution_count": 96,
   "id": "6eb0ea7f-db51-4e8b-ba1a-afbd7170b7ad",
   "metadata": {},
   "outputs": [
    {
     "data": {
      "text/plain": [
       "dict_keys(['name', 'age', 'stream', 'course', 'starting_year', 'duration'])"
      ]
     },
     "execution_count": 96,
     "metadata": {},
     "output_type": "execute_result"
    }
   ],
   "source": [
    "a.keys()"
   ]
  },
  {
   "cell_type": "code",
   "execution_count": 97,
   "id": "91ac298c-cb9a-4068-b54a-e4d86f443a44",
   "metadata": {},
   "outputs": [
    {
     "data": {
      "text/plain": [
       "dict_values(['karunesh', 19, 'bca', 'datascience', 2025, ['4month', '5month', '6month']])"
      ]
     },
     "execution_count": 97,
     "metadata": {},
     "output_type": "execute_result"
    }
   ],
   "source": [
    "a.values()"
   ]
  },
  {
   "cell_type": "code",
   "execution_count": 98,
   "id": "72cabc34-e194-457d-bb5e-a9064d66f467",
   "metadata": {},
   "outputs": [
    {
     "data": {
      "text/plain": [
       "6"
      ]
     },
     "execution_count": 98,
     "metadata": {},
     "output_type": "execute_result"
    }
   ],
   "source": [
    "len(a)"
   ]
  },
  {
   "cell_type": "code",
   "execution_count": 99,
   "id": "7a6eb0d2-946e-4d1d-947b-ce6dde4786cd",
   "metadata": {},
   "outputs": [
    {
     "data": {
      "text/plain": [
       "'karunesh'"
      ]
     },
     "execution_count": 99,
     "metadata": {},
     "output_type": "execute_result"
    }
   ],
   "source": [
    "a['name']"
   ]
  },
  {
   "cell_type": "code",
   "execution_count": 100,
   "id": "7b5281dc-04a9-4b2b-8bee-686489a47803",
   "metadata": {},
   "outputs": [
    {
     "data": {
      "text/plain": [
       "19"
      ]
     },
     "execution_count": 100,
     "metadata": {},
     "output_type": "execute_result"
    }
   ],
   "source": [
    "a['age']"
   ]
  },
  {
   "cell_type": "code",
   "execution_count": 101,
   "id": "367a238f-6058-4c85-8add-3ff5c4064ff9",
   "metadata": {},
   "outputs": [
    {
     "data": {
      "text/plain": [
       "'bca'"
      ]
     },
     "execution_count": 101,
     "metadata": {},
     "output_type": "execute_result"
    }
   ],
   "source": [
    "a['stream']"
   ]
  },
  {
   "cell_type": "code",
   "execution_count": 102,
   "id": "3c44abed-aca4-464e-83b1-4f6b8b04a308",
   "metadata": {},
   "outputs": [
    {
     "data": {
      "text/plain": [
       "'datascience'"
      ]
     },
     "execution_count": 102,
     "metadata": {},
     "output_type": "execute_result"
    }
   ],
   "source": [
    "a['course']"
   ]
  },
  {
   "cell_type": "code",
   "execution_count": 103,
   "id": "d6bb4ec6-4796-4b88-b787-353eee62ac76",
   "metadata": {},
   "outputs": [
    {
     "data": {
      "text/plain": [
       "2025"
      ]
     },
     "execution_count": 103,
     "metadata": {},
     "output_type": "execute_result"
    }
   ],
   "source": [
    "a['starting_year']"
   ]
  },
  {
   "cell_type": "code",
   "execution_count": 104,
   "id": "4e062bf9-47cc-425e-a46c-482d38cb05e7",
   "metadata": {},
   "outputs": [
    {
     "data": {
      "text/plain": [
       "['4month', '5month', '6month']"
      ]
     },
     "execution_count": 104,
     "metadata": {},
     "output_type": "execute_result"
    }
   ],
   "source": [
    "a['duration']"
   ]
  },
  {
   "cell_type": "code",
   "execution_count": 105,
   "id": "0dd0cc9a-2fce-44e8-a2ed-60a4e75dbbd7",
   "metadata": {},
   "outputs": [],
   "source": [
    "a['starting_year']= 2024"
   ]
  },
  {
   "cell_type": "code",
   "execution_count": 106,
   "id": "910191b5-871a-499a-9ed8-fa9f086244ba",
   "metadata": {},
   "outputs": [
    {
     "data": {
      "text/plain": [
       "{'name': 'karunesh',\n",
       " 'age': 19,\n",
       " 'stream': 'bca',\n",
       " 'course': 'datascience',\n",
       " 'starting_year': 2024,\n",
       " 'duration': ['4month', '5month', '6month']}"
      ]
     },
     "execution_count": 106,
     "metadata": {},
     "output_type": "execute_result"
    }
   ],
   "source": [
    "a"
   ]
  },
  {
   "cell_type": "code",
   "execution_count": 108,
   "id": "8f8f022e-7f83-4986-9a2d-8b25d98c9f39",
   "metadata": {},
   "outputs": [],
   "source": [
    " data = {\"info\": [12, 34.5, \"hello\", {\"keys\": [1,2,3, \"world\"]}]}"
   ]
  },
  {
   "cell_type": "code",
   "execution_count": 109,
   "id": "6754862f-e43a-4a21-9a1f-66a046b56428",
   "metadata": {},
   "outputs": [
    {
     "data": {
      "text/plain": [
       "{'info': [12, 34.5, 'hello', {'keys': [1, 2, 3, 'world']}]}"
      ]
     },
     "execution_count": 109,
     "metadata": {},
     "output_type": "execute_result"
    }
   ],
   "source": [
    "data"
   ]
  },
  {
   "cell_type": "code",
   "execution_count": 110,
   "id": "6a5db395-3e7e-443d-bd2e-8b738e3d9885",
   "metadata": {},
   "outputs": [
    {
     "data": {
      "text/plain": [
       "dict_values([[12, 34.5, 'hello', {'keys': [1, 2, 3, 'world']}]])"
      ]
     },
     "execution_count": 110,
     "metadata": {},
     "output_type": "execute_result"
    }
   ],
   "source": [
    "data.values()"
   ]
  },
  {
   "cell_type": "code",
   "execution_count": 113,
   "id": "abf7ad00-8dbc-4ed7-865e-406761fac6eb",
   "metadata": {},
   "outputs": [
    {
     "data": {
      "text/plain": [
       "'hello'"
      ]
     },
     "execution_count": 113,
     "metadata": {},
     "output_type": "execute_result"
    }
   ],
   "source": [
    "data['info'][2]"
   ]
  },
  {
   "cell_type": "code",
   "execution_count": 116,
   "id": "c040fc42-5452-4787-be02-902e2a91cc2f",
   "metadata": {},
   "outputs": [
    {
     "ename": "KeyError",
     "evalue": "'key'",
     "output_type": "error",
     "traceback": [
      "\u001b[1;31m---------------------------------------------------------------------------\u001b[0m",
      "\u001b[1;31mKeyError\u001b[0m                                  Traceback (most recent call last)",
      "Cell \u001b[1;32mIn[116], line 1\u001b[0m\n\u001b[1;32m----> 1\u001b[0m data[\u001b[38;5;124m'\u001b[39m\u001b[38;5;124mkey\u001b[39m\u001b[38;5;124m'\u001b[39m]\n",
      "\u001b[1;31mKeyError\u001b[0m: 'key'"
     ]
    }
   ],
   "source": [
    "data['key']"
   ]
  },
  {
   "cell_type": "code",
   "execution_count": null,
   "id": "7a388f9a-dd2e-4d78-86d1-5136ef293ae4",
   "metadata": {},
   "outputs": [],
   "source": []
  }
 ],
 "metadata": {
  "kernelspec": {
   "display_name": "Python [conda env:base] *",
   "language": "python",
   "name": "conda-base-py"
  },
  "language_info": {
   "codemirror_mode": {
    "name": "ipython",
    "version": 3
   },
   "file_extension": ".py",
   "mimetype": "text/x-python",
   "name": "python",
   "nbconvert_exporter": "python",
   "pygments_lexer": "ipython3",
   "version": "3.13.5"
  }
 },
 "nbformat": 4,
 "nbformat_minor": 5
}
