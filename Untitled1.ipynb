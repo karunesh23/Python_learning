{
 "cells": [
  {
   "cell_type": "code",
   "execution_count": 18,
   "id": "196d8a2b-7e6d-41d3-9e6e-1aac6ff6a950",
   "metadata": {},
   "outputs": [
    {
     "name": "stdout",
     "output_type": "stream",
     "text": [
      "0123\n",
      "0123\n",
      "0123\n",
      "0123\n"
     ]
    }
   ],
   "source": [
    "# nested while loop\n",
    "i = 0\n",
    "n = 4  # used for rows\n",
    "while i < n:\n",
    "    j = 0\n",
    "    m = 2  # used for column\n",
    "    while j< n:\n",
    "        print(j, end=\"\") # end is use to delete enter between numbers # if j replace i\n",
    "        j +=1\n",
    "    print()     # used for enter after 1 item  \n",
    "    i +=1   "
   ]
  },
  {
   "cell_type": "code",
   "execution_count": 19,
   "id": "ecea5431-4437-4e22-92c6-cd7affd86131",
   "metadata": {},
   "outputs": [],
   "source": [
    "l = [\"kanu\",\"riya\", \"tina\"]"
   ]
  },
  {
   "cell_type": "code",
   "execution_count": 22,
   "id": "7ce4e2df-a3a6-401e-9670-814109ada591",
   "metadata": {},
   "outputs": [
    {
     "name": "stdout",
     "output_type": "stream",
     "text": [
      "0 kanu\n",
      "k\n",
      "a\n",
      "n\n",
      "u\n",
      "1 riya\n",
      "r\n",
      "i\n",
      "y\n",
      "a\n",
      "2 tina\n",
      "t\n",
      "i\n",
      "n\n",
      "a\n"
     ]
    }
   ],
   "source": [
    "i = 0\n",
    "n = len(l)\n",
    "while i <n:\n",
    "    print(i, l[i])\n",
    "    j = 0\n",
    "    m = len(l[i])\n",
    "    while j< m:\n",
    "        print(l[i][j],)\n",
    "        j +=1\n",
    "    i +=1    "
   ]
  },
  {
   "cell_type": "code",
   "execution_count": null,
   "id": "b54b9163-ae1d-40c7-8dd4-0bec8cd6ad42",
   "metadata": {},
   "outputs": [],
   "source": []
  }
 ],
 "metadata": {
  "kernelspec": {
   "display_name": "Python [conda env:base] *",
   "language": "python",
   "name": "conda-base-py"
  },
  "language_info": {
   "codemirror_mode": {
    "name": "ipython",
    "version": 3
   },
   "file_extension": ".py",
   "mimetype": "text/x-python",
   "name": "python",
   "nbconvert_exporter": "python",
   "pygments_lexer": "ipython3",
   "version": "3.13.5"
  }
 },
 "nbformat": 4,
 "nbformat_minor": 5
}
