{
 "cells": [
  {
   "cell_type": "code",
   "execution_count": 9,
   "id": "e00e7513-4dc9-4f94-8d3c-9e77b149001b",
   "metadata": {},
   "outputs": [
    {
     "name": "stdout",
     "output_type": "stream",
     "text": [
      "0123\n",
      "0123\n",
      "0123\n",
      "0123\n",
      "0123\n",
      "0123\n",
      "0123\n"
     ]
    }
   ],
   "source": [
    "i = 0\n",
    "n = 7 # rows\n",
    "while i < n:\n",
    "    j = 0\n",
    "    m = 4  # columns\n",
    "    while j< m:\n",
    "        print(j,end=\"\")\n",
    "        j+=1\n",
    "    print() # used for enter statement\n",
    "    i +=1"
   ]
  },
  {
   "cell_type": "code",
   "execution_count": 10,
   "id": "5ed4d58b-fbf4-466c-86d0-baef930b15f6",
   "metadata": {},
   "outputs": [
    {
     "name": "stdout",
     "output_type": "stream",
     "text": [
      "0000000\n",
      "1111111\n",
      "2222222\n",
      "3333333\n",
      "4444444\n",
      "5555555\n",
      "6666666\n"
     ]
    }
   ],
   "source": [
    "# square pattern\n",
    "i = 0\n",
    "n = 7 # rows\n",
    "while i < n:\n",
    "    j = 0\n",
    "    while j< n:\n",
    "        print(i,end=\"\")\n",
    "        j+=1\n",
    "    print() # used for enter statement\n",
    "    i +=1"
   ]
  },
  {
   "cell_type": "code",
   "execution_count": 13,
   "id": "bd8c17b7-d01e-4897-a0e5-55ba7ce1f710",
   "metadata": {},
   "outputs": [
    {
     "name": "stdout",
     "output_type": "stream",
     "text": [
      "*\n",
      "**\n",
      "***\n",
      "****\n",
      "*****\n",
      "******\n",
      "*******\n"
     ]
    }
   ],
   "source": [
    "# triangle pattern\n",
    "i = 0\n",
    "n = 7 # rows\n",
    "while i < n:\n",
    "    j = 0\n",
    "    while j < i+1: # if we don't use 1 then 00 will not be print\n",
    "        print(\"*\",end=\"\") # we can use i replace * \n",
    "        j+=1\n",
    "    print() # used for enter statement\n",
    "    i +=1"
   ]
  },
  {
   "cell_type": "code",
   "execution_count": 25,
   "id": "a7fc4498-a0ff-4365-908c-ba3f3a188639",
   "metadata": {},
   "outputs": [
    {
     "name": "stdout",
     "output_type": "stream",
     "text": [
      "44444\n",
      "3333\n",
      "222\n",
      "11\n",
      "0\n"
     ]
    }
   ],
   "source": [
    "# reverse triangle\n",
    "i = 0\n",
    "n =5\n",
    "while i<n:\n",
    "    j = 0\n",
    "    while j<n-i:\n",
    "        print(n-i-1, end=\"\") # if we write n-i-1 then 0 will be print\n",
    "        j+=1\n",
    "\n",
    "    print()\n",
    "    i+=1"
   ]
  },
  {
   "cell_type": "code",
   "execution_count": 50,
   "id": "983587d8-e1ce-4bcf-bcf2-0522b83bed04",
   "metadata": {},
   "outputs": [
    {
     "name": "stdout",
     "output_type": "stream",
     "text": [
      "*****\n",
      "*   *\n",
      "*   *\n",
      "*   *\n",
      "*****\n"
     ]
    }
   ],
   "source": [
    "# without m\n",
    "i = 0\n",
    "n = 5\n",
    "while i < n:\n",
    "    j = 0\n",
    "    while j< n:\n",
    "        if i ==0 or i == n-1 or j ==0 or j == n-1:\n",
    "            print(\"*\",end=\"\")\n",
    "        else:\n",
    "            print(\" \", end=\"\")\n",
    "        j+=1\n",
    "    print() \n",
    "    i +=1"
   ]
  },
  {
   "cell_type": "code",
   "execution_count": 28,
   "id": "7e92019c-bf94-4eb5-a40e-1d844823678e",
   "metadata": {},
   "outputs": [
    {
     "name": "stdout",
     "output_type": "stream",
     "text": [
      "0123\n",
      "0  3\n",
      "0  3\n",
      "0  3\n",
      "0  3\n",
      "0  3\n",
      "0123\n"
     ]
    }
   ],
   "source": [
    "# with m\n",
    "i = 0\n",
    "n = 7 # rows\n",
    "while i < n:\n",
    "    j = 0\n",
    "    m = 4  # columns\n",
    "    while j< m:\n",
    "        if i ==0 or i == n-1 or j ==0 or j == m-1:\n",
    "            print(j,end=\"\")\n",
    "        else:\n",
    "            print(\" \",end=\"\")\n",
    "        j+=1\n",
    "    print() # used for enter statement\n",
    "    i +=1"
   ]
  },
  {
   "cell_type": "code",
   "execution_count": 29,
   "id": "167aca8e-92c6-42a6-81cb-f616aa91fb57",
   "metadata": {},
   "outputs": [
    {
     "name": "stdout",
     "output_type": "stream",
     "text": [
      "*****\n",
      " *****\n",
      "  *****\n",
      "   *****\n",
      "    *****\n"
     ]
    }
   ],
   "source": [
    "# enter se phele triangle and rectangle print\n",
    "\n",
    "i = 0\n",
    "n = 5\n",
    "while i < n:\n",
    "    k =0\n",
    "    while k<i:  # for triangle\n",
    "        print(\" \", end=\"\")\n",
    "        k+=1\n",
    "        \n",
    "    j =0\n",
    "    while j<n:\n",
    "        print(\"*\", end=\"\")\n",
    "        j+=1\n",
    "    print() \n",
    "    i +=1"
   ]
  },
  {
   "cell_type": "code",
   "execution_count": 34,
   "id": "45e5e254-cf45-4c16-9521-ea252d0c8bdd",
   "metadata": {},
   "outputs": [
    {
     "name": "stdout",
     "output_type": "stream",
     "text": [
      "     *****\n",
      "    *****\n",
      "   *****\n",
      "  *****\n",
      " *****\n"
     ]
    }
   ],
   "source": [
    "# for opposite\n",
    "i = 0\n",
    "n = 5\n",
    "while i < n:\n",
    "    k =0\n",
    "    while k<n-i:  # for triangle\n",
    "        print(\" \", end=\"\")\n",
    "        k+=1\n",
    "        \n",
    "    j =0\n",
    "    while j<n:\n",
    "        print(\"*\", end=\"\")\n",
    "        j+=1\n",
    "    print() \n",
    "    i +=1"
   ]
  },
  {
   "cell_type": "code",
   "execution_count": 41,
   "id": "1bb82713-22e4-4513-ac68-210b3a18631c",
   "metadata": {},
   "outputs": [
    {
     "name": "stdout",
     "output_type": "stream",
     "text": [
      "     *********\n",
      "    *******\n",
      "   *****\n",
      "  ***\n",
      " *\n"
     ]
    }
   ],
   "source": [
    "i = 0\n",
    "n = 5\n",
    "while i < n:\n",
    "    k =0\n",
    "    while k<n-i:  # for triangle\n",
    "        print(\" \", end=\"\")\n",
    "        k+=1\n",
    "        \n",
    "    j =0\n",
    "    while j<i*2-1:\n",
    "        print(\"*\", end=\"\")\n",
    "        j+=1\n",
    "    print() \n",
    "    i +=1"
   ]
  },
  {
   "cell_type": "code",
   "execution_count": 42,
   "id": "07fcafc7-d051-40c5-8641-76522c4cc7ae",
   "metadata": {},
   "outputs": [],
   "source": [
    "# j<n for square\n",
    "# while "
   ]
  },
  {
   "cell_type": "code",
   "execution_count": 49,
   "id": "6347b637-f4db-4386-8cad-c1ce73fa4698",
   "metadata": {},
   "outputs": [
    {
     "name": "stdout",
     "output_type": "stream",
     "text": [
      "     *******\n",
      "    ********\n",
      "   **********\n",
      "  ************\n",
      " **************\n"
     ]
    }
   ],
   "source": [
    "i = 0\n",
    "n = 5\n",
    "while i < n:\n",
    "    k =0\n",
    "    while k<n-i:  # for triangle\n",
    "        print(\" \", end=\"\")\n",
    "        k+=1\n",
    "        \n",
    "    j =0\n",
    "    while j<i*2-1:\n",
    "        print(\"*\", end=\"\")\n",
    "        j+=1\n",
    "    l =0\n",
    "    while l<i:\n",
    "        print(\"\", end=\"\")\n",
    "        l +=1\n",
    "    m = 0\n",
    "    while m <(n-1)*2-1:\n",
    "        print(\"*\", end=\"\")\n",
    "        m +=1\n",
    "    \n",
    "    print() \n",
    "    i +=1"
   ]
  },
  {
   "cell_type": "code",
   "execution_count": 7,
   "id": "e55d13d1-24f4-4faf-b08a-0356328379a6",
   "metadata": {},
   "outputs": [
    {
     "name": "stdout",
     "output_type": "stream",
     "text": [
      "*******\n",
      "*******\n",
      "*******\n",
      "*******\n",
      "*******\n",
      "*******\n",
      "*******\n"
     ]
    }
   ],
   "source": [
    "i = 0\n",
    "n = 7 # rows\n",
    "while i < n:\n",
    "    j = 0\n",
    "    while j< n:\n",
    "        print(\"*\",end=\"\")\n",
    "        j+=1\n",
    "        l =0\n",
    "    while l<i:\n",
    "        print(\"\", end=\"\")\n",
    "        l +=1\n",
    "    print() \n",
    "    i +=1"
   ]
  },
  {
   "cell_type": "code",
   "execution_count": 29,
   "id": "90ed0ac4-1e6d-4632-86cf-2dcd8649630d",
   "metadata": {},
   "outputs": [
    {
     "name": "stdout",
     "output_type": "stream",
     "text": [
      "xyyyyxyyyyxyyyyxyyyy*\n",
      "xyyyxyyyxyyy*\n",
      "xyyyxyyyxyyy*\n",
      "xyyxyy*\n",
      "xyyxyy*\n",
      "xy*\n",
      "xy*\n"
     ]
    }
   ],
   "source": [
    "i =0\n",
    "n = 7\n",
    "while i<n:\n",
    "    j =0\n",
    "    while j<n-i:\n",
    "        print(\"x\", end=\"\")\n",
    "        j+=2\n",
    "        k =0\n",
    "        \n",
    "        while k<n-i:\n",
    "            print(\"y\", end=\"\")\n",
    "            k+=2\n",
    "    print(\"*\")\n",
    "    i+=1"
   ]
  },
  {
   "cell_type": "code",
   "execution_count": 1,
   "id": "4367562b-4600-4760-aa87-f5d3c87b3cfe",
   "metadata": {},
   "outputs": [
    {
     "ename": "SyntaxError",
     "evalue": "invalid syntax (4270538544.py, line 1)",
     "output_type": "error",
     "traceback": [
      "\u001b[1;36m  Cell \u001b[1;32mIn[1], line 1\u001b[1;36m\u001b[0m\n\u001b[1;33m    le i <= n:\u001b[0m\n\u001b[1;37m       ^\u001b[0m\n\u001b[1;31mSyntaxError\u001b[0m\u001b[1;31m:\u001b[0m invalid syntax\n"
     ]
    }
   ],
   "source": [
    "le i <= n:\n",
    "    # Print leading spaces\n",
    "    j = 0\n",
    "    while j < i-1:\n",
    "        print(\" \", end=\"\")\n",
    "        j += 3\n",
    "\n",
    "    # Print stars and spaces\n",
    "    k = 0\n",
    "    while k <= (n* 2 - (2 * i - 1)):\n",
    "        if i == 1 or k == 0 or k == (n * 2 - (2 * i - 1)):\n",
    "            print(\"*\", end=\"\")\n",
    "        else:\n",
    "            print(\" \", end=\"\")\n",
    "        k += 1\n",
    "n = 10\n",
    "i = 1\n",
    "whi\n",
    "    print()\n",
    "    i += 2\n"
   ]
  },
  {
   "cell_type": "code",
   "execution_count": 2,
   "id": "448cacf3-58d8-4bac-99b1-904662d628c1",
   "metadata": {},
   "outputs": [
    {
     "ename": "_IncompleteInputError",
     "evalue": "incomplete input (2031831389.py, line 6)",
     "output_type": "error",
     "traceback": [
      "\u001b[1;36m  Cell \u001b[1;32mIn[2], line 6\u001b[1;36m\u001b[0m\n\u001b[1;33m    \u001b[0m\n\u001b[1;37m    ^\u001b[0m\n\u001b[1;31m_IncompleteInputError\u001b[0m\u001b[1;31m:\u001b[0m incomplete input\n"
     ]
    }
   ],
   "source": [
    "i =0\n",
    "n= 5\n",
    "while i<n:\n",
    "    j=0\n",
    "    while j<n-i:\n",
    "        "
   ]
  },
  {
   "cell_type": "code",
   "execution_count": null,
   "id": "3ec2d881-f6a6-4df5-9a44-f0d3bef27163",
   "metadata": {},
   "outputs": [],
   "source": [
    "\n"
   ]
  }
 ],
 "metadata": {
  "kernelspec": {
   "display_name": "Python [conda env:base] *",
   "language": "python",
   "name": "conda-base-py"
  },
  "language_info": {
   "codemirror_mode": {
    "name": "ipython",
    "version": 3
   },
   "file_extension": ".py",
   "mimetype": "text/x-python",
   "name": "python",
   "nbconvert_exporter": "python",
   "pygments_lexer": "ipython3",
   "version": "3.13.5"
  }
 },
 "nbformat": 4,
 "nbformat_minor": 5
}
