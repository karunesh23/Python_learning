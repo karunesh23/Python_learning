{
 "cells": [
  {
   "cell_type": "code",
   "execution_count": 2,
   "id": "6137aa0a-85bd-45bd-99dc-5dd93235af58",
   "metadata": {},
   "outputs": [
    {
     "name": "stdout",
     "output_type": "stream",
     "text": [
      "out of range\n"
     ]
    }
   ],
   "source": [
    "# If the number is greater than 10 and less than 20, print \"In range\".\n",
    "# Else, print \"Out of range\".\n",
    "\n",
    "n=25\n",
    "if n >10 and n<20:\n",
    "    print(\"in range\")\n",
    "else:\n",
    "    print(\"out of range\")"
   ]
  },
  {
   "cell_type": "code",
   "execution_count": 8,
   "id": "726665d0-172f-40c6-af81-9883d6f55da2",
   "metadata": {},
   "outputs": [
    {
     "name": "stdout",
     "output_type": "stream",
     "text": [
      "valid triangle\n"
     ]
    }
   ],
   "source": [
    "# Take three angles as input.\n",
    "# If the sum of the angles is 180 and all angles are greater than 0, print \"Valid triangle\".\n",
    "# Else, print \"Invalid triangle\".\n",
    "\n",
    "angel_1 = 50\n",
    "angel_2 = 80\n",
    "angel_3 = 60\n",
    "sum = angel_1+angel_2+angel_3\n",
    "sum\n",
    "\n",
    "if sum >= 180 and angel_1 > 0 and angel_2 >0 and angel_3 >0:\n",
    "    print(\"valid triangle\")\n",
    "else:\n",
    "    print(\"invalid triangle\")"
   ]
  },
  {
   "cell_type": "code",
   "execution_count": 11,
   "id": "9859f2a0-9ce8-451c-b6de-3d8820ee6505",
   "metadata": {},
   "outputs": [
    {
     "name": "stdout",
     "output_type": "stream",
     "text": [
      "can drive\n"
     ]
    }
   ],
   "source": [
    "# If age ≥ 18 and license == \"yes\", print \"Can drive\".\n",
    "# Else, print \"Cannot drive\".\n",
    "\n",
    "age = 20\n",
    "license = \"yes\"\n",
    "\n",
    "if age >= 18 and license ==\"yes\":\n",
    "    print(\"can drive\")\n",
    "else:\n",
    "    print(\"cannot drive\")"
   ]
  },
  {
   "cell_type": "code",
   "execution_count": 16,
   "id": "bbd00a6c-8511-4499-a614-f55b8c0623ca",
   "metadata": {},
   "outputs": [
    {
     "name": "stdout",
     "output_type": "stream",
     "text": [
      "condition not met\n"
     ]
    }
   ],
   "source": [
    "# Input two numbers. If both are even numbers and divisible by 5, print \"Common condition met\".\n",
    "num_1 = 15\n",
    "num_2 = 20\n",
    "\n",
    "if (num_1 and num_2 % 2)  and (num_1 and num_2 % 5):\n",
    "    print(\"common condition met\")\n",
    "else:\n",
    "    print(\"condition not met\")\n"
   ]
  },
  {
   "cell_type": "code",
   "execution_count": 18,
   "id": "97f83a04-32a6-4a32-8cc5-4721c4395fd4",
   "metadata": {},
   "outputs": [
    {
     "name": "stdout",
     "output_type": "stream",
     "text": [
      "hot and humid\n"
     ]
    }
   ],
   "source": [
    "# Take temperature and humidity as input. If temp > 30 and humidity > 70, print \"Hot and humid\".\n",
    "\n",
    "temp = 50\n",
    "humidity = 80\n",
    "\n",
    "if (temp> 30) and (humidity > 70):\n",
    "    print(\"hot and humid\")\n",
    "else:\n",
    "    print(\"not hot and humid\")"
   ]
  },
  {
   "cell_type": "code",
   "execution_count": 26,
   "id": "e0ec4c2a-ead6-49e8-82dc-e42d3ffaae53",
   "metadata": {},
   "outputs": [
    {
     "name": "stdout",
     "output_type": "stream",
     "text": [
      "allow login\n"
     ]
    }
   ],
   "source": [
    "# Ask user for a username and password. If both match stored values and username starts with \"user_\", allow login\n",
    "\n",
    "username = \"karunesh\"\n",
    "password = 2310\n",
    "\n",
    "if not username == \"kanu\" and password == 2310:\n",
    "    print(\"allow login\")\n",
    "else:\n",
    "    print(\"not login\")\n"
   ]
  },
  {
   "cell_type": "code",
   "execution_count": 28,
   "id": "6c62a5d1-1bea-4297-a071-9bbbef157145",
   "metadata": {},
   "outputs": [
    {
     "name": "stdin",
     "output_type": "stream",
     "text": [
      "enter a year 2000\n"
     ]
    },
    {
     "name": "stdout",
     "output_type": "stream",
     "text": [
      "year is a leap year and divisible by 400\n"
     ]
    }
   ],
   "source": [
    "# Write a program to check if a year is a leap year and divisible by 400.\n",
    "\n",
    "year = int(input(\"enter a year\"))\n",
    "\n",
    "if year % 4==0 and year % 400 ==0:\n",
    "    print(\"year is a leap year and divisible by 400\")\n",
    "else:\n",
    "    print(\"year is not a leap year and not divisible by 400\")"
   ]
  },
  {
   "cell_type": "code",
   "execution_count": 42,
   "id": "9409d292-2d97-4310-9284-763408f7a5c7",
   "metadata": {},
   "outputs": [
    {
     "name": "stdout",
     "output_type": "stream",
     "text": [
      "allow login\n"
     ]
    }
   ],
   "source": [
    "# Username is \"admin\"\n",
    "# Password is \"secure123\"\n",
    "# PIN is a 4-digit number that starts with \"9\"\n",
    "\n",
    "username = \"admin\"\n",
    "password = \"secure123\"\n",
    "pin = 9876\n",
    "pin_str = str(pin)\n",
    "\n",
    "if username == \"admin\" and password == \"secure123\" and len(pin_str)== 4 and pin_str.startswith(\"9\"):\n",
    "    print(\"allow login\")\n",
    "else:\n",
    "    print(\"not allow login\")\n",
    "\n",
    "\n"
   ]
  },
  {
   "cell_type": "code",
   "execution_count": 43,
   "id": "b3a265de-a9d9-488a-989f-6e0b25e1b730",
   "metadata": {},
   "outputs": [],
   "source": [
    "# Age\n",
    "# ID type (passport, national ID, driver’s license)\n",
    "# ID expiry year\n",
    "# Age must be ≥ 18\n",
    "# ID must be one of the three valid types\n",
    "# ID expiry year must be >= current year\n",
    "# Only then print “Entry granted”.\n",
    "# Use and with multiple conditions, and compare against datetime.now().year.\n",
    "\n"
   ]
  },
  {
   "cell_type": "code",
   "execution_count": 2,
   "id": "f766ccc3-4e67-4549-9454-889408f7afeb",
   "metadata": {},
   "outputs": [
    {
     "name": "stdin",
     "output_type": "stream",
     "text": [
      "Enter ID type (passport, national ID, driver’s license):  national\n",
      "enter your age 20\n"
     ]
    },
    {
     "name": "stdout",
     "output_type": "stream",
     "text": [
      "id valid\n",
      "entry granted\n"
     ]
    }
   ],
   "source": [
    "\n",
    "id_type = input(\"Enter ID type (passport, national ID, driver’s license): \")\n",
    "age = int(input(\"enter your age\"))\n",
    "if id_type in (\"passport\", \"national\", \"driver’s license\"):\n",
    "    print(\"id valid\")\n",
    "    expiry_year = 2030\n",
    "    \n",
    "    if age >= 18 and id_type.lower() == \"national\" and expiry_year >= 2025:\n",
    "        print(\"entry granted\")\n",
    "    else:\n",
    "        print(\"not entry granted\")\n",
    "else:\n",
    "    print(\"not a valid id\")"
   ]
  },
  {
   "cell_type": "code",
   "execution_count": null,
   "id": "5a60c315-35b5-4c1b-a399-e15eadd570c6",
   "metadata": {},
   "outputs": [],
   "source": []
  },
  {
   "cell_type": "code",
   "execution_count": 44,
   "id": "6f253b64-85fd-4201-a30b-080935d3832d",
   "metadata": {},
   "outputs": [],
   "source": [
    "age = 20\n",
    "income = 50000\n",
    "credit_score =450 \n",
    "debts = 1700\n",
    "Employment = \"full-time\""
   ]
  },
  {
   "cell_type": "code",
   "execution_count": 45,
   "id": "ab95275b-125e-454d-b322-3d2ed40979a1",
   "metadata": {},
   "outputs": [
    {
     "name": "stdout",
     "output_type": "stream",
     "text": [
      "Load approved\n",
      "Load 300000.0\n",
      "intrest 30000.0\n"
     ]
    }
   ],
   "source": [
    "if age >=18 and not Employment == \"unemployeed\":\n",
    "    if credit_score > 400 and debts <= income * 0.3:\n",
    "        loan = income*12 * 0.5\n",
    "        intrest = loan * 0.1\n",
    "        \n",
    "        print(\"Load approved\")\n",
    "        print(f\"Load {loan}\")\n",
    "        print(f\"intrest {intrest}\")\n",
    "\n",
    "    elif credit_score > 400 and debts >= income * 0.3:\n",
    "        loan = income * 12 * 0.3\n",
    "        intrest = loan*0.1\n",
    "        print(\"Load approved\")\n",
    "        print(f\"Load {loan}\")\n",
    "        print(f\"intrest {intrest}\")\n",
    "\n",
    "    elif credit_score <= 400 and debts < income*0.3:\n",
    "        loan = income *12 * 0.5\n",
    "        intrest = loan * 0.12\n",
    "        \n",
    "        print(\"Load approved\")\n",
    "        print(f\"Load {loan}\")\n",
    "        print(f\"intrest {intrest}\")\n",
    "\n",
    "    else:\n",
    "        print(\"loan rejected\")\n",
    "        \n",
    "else:\n",
    "    print(\"loan rejected\")"
   ]
  },
  {
   "cell_type": "code",
   "execution_count": 1,
   "id": "0674cfce-1bcc-4c68-beb0-e3028f159f44",
   "metadata": {},
   "outputs": [],
   "source": [
    "# next question\n",
    "company = {\n",
    "    \"departments\": [\n",
    "        {\n",
    "            \"name\": \"Engineering\",\n",
    "            \"employees\": [\n",
    "                {\"id\": 101, \"name\": \"Alice\", \"skills\": {\"primary\": \"Python\", \"secondary\": [\"C++\", \"Go\"]}},\n",
    "                {\"id\": 102, \"name\": \"Bob\", \"skills\": {\"primary\": \"Java\", \"secondary\": [\"Scala\", \"Kotlin\"]}}\n",
    "            ]\n",
    "        },\n",
    "        {\n",
    "            \"name\": \"HR\",\n",
    "            \"employees\": [\n",
    "                {\"id\": 201, \"name\": \"Carol\", \"skills\": {\"primary\": \"Communication\", \"secondary\": []}}\n",
    "            ]\n",
    "        }\n",
    "    ]\n",
    "}\n"
   ]
  },
  {
   "cell_type": "code",
   "execution_count": 4,
   "id": "511fd958-c1d5-4ee6-8fc7-4d304c8764b1",
   "metadata": {},
   "outputs": [
    {
     "data": {
      "text/plain": [
       "dict_keys(['departments'])"
      ]
     },
     "execution_count": 4,
     "metadata": {},
     "output_type": "execute_result"
    }
   ],
   "source": [
    "company.keys()"
   ]
  },
  {
   "cell_type": "code",
   "execution_count": 12,
   "id": "67fc0191-a4b6-4855-aa98-9ef954eedbda",
   "metadata": {},
   "outputs": [
    {
     "data": {
      "text/plain": [
       "'Bob'"
      ]
     },
     "execution_count": 12,
     "metadata": {},
     "output_type": "execute_result"
    }
   ],
   "source": [
    "company['departments'][0]['employees'][1]['name']"
   ]
  },
  {
   "cell_type": "code",
   "execution_count": 19,
   "id": "fdf49173-f454-4457-93f4-40bece1de692",
   "metadata": {},
   "outputs": [],
   "source": [
    "# nest question\n",
    "data = {\n",
    "  \"response\": {\n",
    "    \"status\": \"ok\",\n",
    "    \"payload\": {\n",
    "      \"data\": [\n",
    "        {\n",
    "          \"type\": \"user\",\n",
    "          \"attributes\": {\n",
    "            \"username\": \"janedoe\",\n",
    "            \"details\": {\n",
    "              \"emails\": [\"janedoe@mail.com\", \"jane.d@example.org\"],\n",
    "              \"address\": {\n",
    "                \"city\": \"New York\",\n",
    "                \"postal\": \"10001\"\n",
    "              }\n",
    "            }\n",
    "          }\n",
    "        }\n",
    "      ]\n",
    "    }\n",
    "  }\n",
    "}\n"
   ]
  },
  {
   "cell_type": "code",
   "execution_count": 21,
   "id": "cc939806-2d25-4ef6-8432-7a8b55a2627a",
   "metadata": {},
   "outputs": [
    {
     "data": {
      "text/plain": [
       "dict_keys(['response'])"
      ]
     },
     "execution_count": 21,
     "metadata": {},
     "output_type": "execute_result"
    }
   ],
   "source": [
    "data.keys()"
   ]
  },
  {
   "cell_type": "code",
   "execution_count": 23,
   "id": "a3e407cd-7433-4c2f-ba56-bcefc7d0cfc9",
   "metadata": {},
   "outputs": [
    {
     "data": {
      "text/plain": [
       "dict_keys(['status', 'payload'])"
      ]
     },
     "execution_count": 23,
     "metadata": {},
     "output_type": "execute_result"
    }
   ],
   "source": [
    "data['response'].keys()"
   ]
  },
  {
   "cell_type": "code",
   "execution_count": 32,
   "id": "33e76100-997b-4b1c-8279-dc50edaffbf1",
   "metadata": {},
   "outputs": [
    {
     "data": {
      "text/plain": [
       "'janedoe'"
      ]
     },
     "execution_count": 32,
     "metadata": {},
     "output_type": "execute_result"
    }
   ],
   "source": [
    "data['response']['payload']['data'][0]['attributes']['username']"
   ]
  },
  {
   "cell_type": "code",
   "execution_count": 33,
   "id": "6ebe54c8-3417-4f7b-939a-5fbabfb69185",
   "metadata": {},
   "outputs": [],
   "source": [
    "# next question\n",
    "\n",
    "nested_list = [[[[[\"final_value\"]]]]]"
   ]
  },
  {
   "cell_type": "code",
   "execution_count": 47,
   "id": "cc09ce00-1d63-40ea-b5f0-5c07536004b9",
   "metadata": {},
   "outputs": [
    {
     "data": {
      "text/plain": [
       "'final_value'"
      ]
     },
     "execution_count": 47,
     "metadata": {},
     "output_type": "execute_result"
    }
   ],
   "source": [
    "nested_list[0][-1][-1][-1][-1]"
   ]
  },
  {
   "cell_type": "code",
   "execution_count": 48,
   "id": "0524b4cc-daba-499a-8e36-6a403432879c",
   "metadata": {},
   "outputs": [],
   "source": [
    "# next question\n",
    "\n",
    "students = {\n",
    "    \"2021\": [\n",
    "        {\"id\": \"S01\", \"name\": \"Amy\", \"grades\": {\"math\": 90, \"science\": 85}},\n",
    "        {\"id\": \"S02\", \"name\": \"Ben\", \"grades\": {\"math\": 70, \"science\": 75}},\n",
    "    ],\n",
    "    \"2022\": [\n",
    "        {\"id\": \"S03\", \"name\": \"Cathy\", \"grades\": {\"math\": 88, \"science\": 91}},\n",
    "        {\"id\": \"S04\", \"name\": \"Dan\", \"grades\": {\"math\": 80, \"science\": 84}},\n",
    "    ]\n",
    "}\n"
   ]
  },
  {
   "cell_type": "code",
   "execution_count": 49,
   "id": "752491fc-7bfd-4ad1-82fe-2bda5b290501",
   "metadata": {},
   "outputs": [
    {
     "data": {
      "text/plain": [
       "dict_keys(['2021', '2022'])"
      ]
     },
     "execution_count": 49,
     "metadata": {},
     "output_type": "execute_result"
    }
   ],
   "source": [
    "students.keys()"
   ]
  },
  {
   "cell_type": "code",
   "execution_count": 53,
   "id": "225825a9-4a65-47f9-9d0e-ac0eea89142e",
   "metadata": {},
   "outputs": [
    {
     "data": {
      "text/plain": [
       "'S03'"
      ]
     },
     "execution_count": 53,
     "metadata": {},
     "output_type": "execute_result"
    }
   ],
   "source": [
    "students['2022'][0]['id']"
   ]
  },
  {
   "cell_type": "code",
   "execution_count": 54,
   "id": "d3a4a188-6007-4d00-ab74-d771892ecdc2",
   "metadata": {},
   "outputs": [],
   "source": [
    "# next question\n",
    "\n",
    "inventory = {\n",
    "    \"warehouses\": [\n",
    "        {\n",
    "            \"location\": \"Chicago\",\n",
    "            \"items\": [\n",
    "                {\"sku\": \"A100\", \"quantity\": 20},\n",
    "                {\"sku\": \"A200\", \"quantity\": 5}\n",
    "            ]\n",
    "        },\n",
    "        {\n",
    "            \"location\": \"New York\",\n",
    "            \"items\": [\n",
    "                {\"sku\": \"A100\", \"quantity\": 12},\n",
    "                {\"sku\": \"A300\", \"quantity\": 7}\n",
    "            ]\n",
    "        }\n",
    "    ]\n",
    "}\n"
   ]
  },
  {
   "cell_type": "code",
   "execution_count": 55,
   "id": "bfc3c32f-751b-4049-9f1b-e3799ec9f799",
   "metadata": {},
   "outputs": [
    {
     "data": {
      "text/plain": [
       "dict_keys(['warehouses'])"
      ]
     },
     "execution_count": 55,
     "metadata": {},
     "output_type": "execute_result"
    }
   ],
   "source": [
    "inventory.keys()"
   ]
  },
  {
   "cell_type": "code",
   "execution_count": 58,
   "id": "391f1197-8b9b-4ef1-b767-6591d2a57b01",
   "metadata": {},
   "outputs": [
    {
     "data": {
      "text/plain": [
       "dict_keys(['location', 'items'])"
      ]
     },
     "execution_count": 58,
     "metadata": {},
     "output_type": "execute_result"
    }
   ],
   "source": [
    "inventory['warehouses'][0].keys()"
   ]
  },
  {
   "cell_type": "code",
   "execution_count": 62,
   "id": "ce80eafe-e7d1-41a3-bc94-6c74a1c9a9dd",
   "metadata": {},
   "outputs": [
    {
     "data": {
      "text/plain": [
       "{'sku': 'A100', 'quantity': 20}"
      ]
     },
     "execution_count": 62,
     "metadata": {},
     "output_type": "execute_result"
    }
   ],
   "source": [
    "inventory['warehouses'][0]['items'][0]"
   ]
  },
  {
   "cell_type": "code",
   "execution_count": 63,
   "id": "ee85672b-2350-4093-8686-ef25fbeab9df",
   "metadata": {},
   "outputs": [],
   "source": [
    "# doubt\n",
    "# How would you find the total quantity of item \"A100\" across all warehouses?"
   ]
  },
  {
   "cell_type": "code",
   "execution_count": 64,
   "id": "0867e7b1-d88b-4d91-8ced-70f0d34a4d4c",
   "metadata": {},
   "outputs": [],
   "source": [
    "# next question\n",
    "\n",
    "data = {\n",
    "    \"users\": [\n",
    "        {\"id\": 1, \"profile\": {\"email\": \"alice@example.com\"}},\n",
    "        {\"id\": 2, \"profile\": {}},\n",
    "        {\"id\": 3}\n",
    "    ]\n",
    "}\n"
   ]
  },
  {
   "cell_type": "code",
   "execution_count": 65,
   "id": "0fa9582a-433f-4416-ace8-1b1fb2d3f487",
   "metadata": {},
   "outputs": [
    {
     "data": {
      "text/plain": [
       "dict_keys(['users'])"
      ]
     },
     "execution_count": 65,
     "metadata": {},
     "output_type": "execute_result"
    }
   ],
   "source": [
    "data.keys()"
   ]
  },
  {
   "cell_type": "code",
   "execution_count": 71,
   "id": "841315b0-651a-479b-8656-11edcafd021e",
   "metadata": {},
   "outputs": [
    {
     "data": {
      "text/plain": [
       "'alice@example.com'"
      ]
     },
     "execution_count": 71,
     "metadata": {},
     "output_type": "execute_result"
    }
   ],
   "source": [
    "data['users'][0]['profile']['email']"
   ]
  },
  {
   "cell_type": "code",
   "execution_count": 72,
   "id": "e2f90d91-3232-4fa4-979d-3200ff2a6584",
   "metadata": {},
   "outputs": [],
   "source": [
    "# next question\n",
    "\n",
    "data = {\n",
    "    \"projects\": [\n",
    "        {\n",
    "            \"name\": \"Alpha\",\n",
    "            \"teams\": [\n",
    "                {\n",
    "                    \"lead\": {\"name\": \"Alice\", \"id\": 101},\n",
    "                    \"members\": [\n",
    "                        {\"name\": \"Bob\", \"roles\": [\"dev\", \"qa\"]},\n",
    "                        {\"name\": \"Charlie\", \"roles\": [\"dev\"]}\n",
    "                    ]\n",
    "                },\n",
    "                {\n",
    "                    \"lead\": {\"name\": \"Dana\", \"id\": 102},\n",
    "                    \"members\": [\n",
    "                        {\"name\": \"Eve\", \"roles\": [\"qa\"]},\n",
    "                        {\"name\": \"Frank\", \"roles\": [\"dev\", \"support\"]}\n",
    "                    ]\n",
    "                }\n",
    "            ]\n",
    "        }\n",
    "    ]\n",
    "}\n"
   ]
  },
  {
   "cell_type": "code",
   "execution_count": 73,
   "id": "ff4756fc-21c8-4e72-8c11-24fcdd177f4f",
   "metadata": {},
   "outputs": [
    {
     "data": {
      "text/plain": [
       "dict_keys(['projects'])"
      ]
     },
     "execution_count": 73,
     "metadata": {},
     "output_type": "execute_result"
    }
   ],
   "source": [
    "data.keys()"
   ]
  },
  {
   "cell_type": "code",
   "execution_count": 85,
   "id": "3ef2dc31-d994-4176-9f0a-fc51b9cbdf87",
   "metadata": {},
   "outputs": [
    {
     "data": {
      "text/plain": [
       "'support'"
      ]
     },
     "execution_count": 85,
     "metadata": {},
     "output_type": "execute_result"
    }
   ],
   "source": [
    "data['projects'][0]['teams'][1]['members'][1]['roles'][1]"
   ]
  },
  {
   "cell_type": "code",
   "execution_count": null,
   "id": "b00aa43c-6fad-43be-ac64-9259eef2db2b",
   "metadata": {},
   "outputs": [],
   "source": []
  }
 ],
 "metadata": {
  "kernelspec": {
   "display_name": "Python [conda env:base] *",
   "language": "python",
   "name": "conda-base-py"
  },
  "language_info": {
   "codemirror_mode": {
    "name": "ipython",
    "version": 3
   },
   "file_extension": ".py",
   "mimetype": "text/x-python",
   "name": "python",
   "nbconvert_exporter": "python",
   "pygments_lexer": "ipython3",
   "version": "3.13.5"
  }
 },
 "nbformat": 4,
 "nbformat_minor": 5
}
