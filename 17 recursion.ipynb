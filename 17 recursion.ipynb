{
 "cells": [
  {
   "cell_type": "markdown",
   "id": "2e27dbea-a275-41f4-8261-7f17a71fcad0",
   "metadata": {},
   "source": [
    "# Recursion\n"
   ]
  },
  {
   "cell_type": "markdown",
   "id": "accbccc6-ca6f-4106-a8fa-734876a7b283",
   "metadata": {},
   "source": [
    "#### When we call a function in itself \n",
    "\n",
    "1. We call a function in itself\n",
    "2. we assume the second call will give a correct output\n",
    "3. it must have a terminating condition"
   ]
  },
  {
   "cell_type": "code",
   "execution_count": 5,
   "id": "358cf39e-4cf5-499c-aa6a-a88f6e1f6214",
   "metadata": {},
   "outputs": [],
   "source": [
    "def factorial(n):\n",
    "    #print(n, n-1)\n",
    "    if n ==0:\n",
    "        return 1\n",
    "    return n * factorial(n-1)    \n"
   ]
  },
  {
   "cell_type": "code",
   "execution_count": 6,
   "id": "919d4f51-b199-417a-a40b-5cc8cfad4503",
   "metadata": {},
   "outputs": [
    {
     "data": {
      "text/plain": [
       "120"
      ]
     },
     "execution_count": 6,
     "metadata": {},
     "output_type": "execute_result"
    }
   ],
   "source": [
    "factorial(5)"
   ]
  },
  {
   "cell_type": "code",
   "execution_count": 9,
   "id": "7f67e364-6bb6-4455-97ab-5e0d828479ca",
   "metadata": {},
   "outputs": [],
   "source": [
    "# it has two types tail and non tail firstly non tail now this is tail\n",
    "def factorial(n):\n",
    "    #print(n, n-1)\n",
    "    if n ==0:\n",
    "        return 1\n",
    "    abc = n * factorial(n-1)    \n",
    "    print(abc)\n",
    "    return abc \n"
   ]
  },
  {
   "cell_type": "code",
   "execution_count": 10,
   "id": "6caed465-0d0f-4850-8fd8-3756459d827f",
   "metadata": {},
   "outputs": [
    {
     "name": "stdout",
     "output_type": "stream",
     "text": [
      "1\n",
      "2\n",
      "6\n",
      "24\n",
      "120\n"
     ]
    },
    {
     "data": {
      "text/plain": [
       "120"
      ]
     },
     "execution_count": 10,
     "metadata": {},
     "output_type": "execute_result"
    }
   ],
   "source": [
    "factorial(5)"
   ]
  },
  {
   "cell_type": "code",
   "execution_count": 11,
   "id": "e97305d8-e1b3-4693-9334-7d78863f0c39",
   "metadata": {},
   "outputs": [],
   "source": [
    "# add numbers with recursion\n",
    "li = [3,4,6,9,1,3,7]\n",
    "def addlist(li):\n",
    "    print(li)\n",
    "    if len(li)==0:\n",
    "        return 0\n",
    "    return li[0] + addlist(li[1:])    "
   ]
  },
  {
   "cell_type": "code",
   "execution_count": 12,
   "id": "2c88f51a-1c9a-4fd1-92c8-179bc63bcf3e",
   "metadata": {},
   "outputs": [
    {
     "name": "stdout",
     "output_type": "stream",
     "text": [
      "[3, 4, 6, 9, 1, 3, 7]\n",
      "[4, 6, 9, 1, 3, 7]\n",
      "[6, 9, 1, 3, 7]\n",
      "[9, 1, 3, 7]\n",
      "[1, 3, 7]\n",
      "[3, 7]\n",
      "[7]\n",
      "[]\n"
     ]
    },
    {
     "data": {
      "text/plain": [
       "33"
      ]
     },
     "execution_count": 12,
     "metadata": {},
     "output_type": "execute_result"
    }
   ],
   "source": [
    "addlist(li)"
   ]
  },
  {
   "cell_type": "code",
   "execution_count": 15,
   "id": "bbc2db74-837d-4f79-a77a-42b33fd1dc3b",
   "metadata": {},
   "outputs": [],
   "source": [
    "# if list inside list\n",
    "def addlist(L):\n",
    "    print(L)\n",
    "    if type(L) is int:\n",
    "        return L\n",
    "    elif len(L)==0:\n",
    "        return 0\n",
    "    abc = addlist(L[0]) + addlist(L[1:])  \n",
    "    return abc\n"
   ]
  },
  {
   "cell_type": "code",
   "execution_count": 18,
   "id": "7bea43b9-024b-45bc-ba5c-be146b750b8f",
   "metadata": {},
   "outputs": [
    {
     "name": "stdout",
     "output_type": "stream",
     "text": [
      "[1, 2, [9, 6, 4, 2], 7, 5, 6, 3]\n",
      "1\n",
      "[2, [9, 6, 4, 2], 7, 5, 6, 3]\n",
      "2\n",
      "[[9, 6, 4, 2], 7, 5, 6, 3]\n",
      "[9, 6, 4, 2]\n",
      "9\n",
      "[6, 4, 2]\n",
      "6\n",
      "[4, 2]\n",
      "4\n",
      "[2]\n",
      "2\n",
      "[]\n",
      "[7, 5, 6, 3]\n",
      "7\n",
      "[5, 6, 3]\n",
      "5\n",
      "[6, 3]\n",
      "6\n",
      "[3]\n",
      "3\n",
      "[]\n"
     ]
    },
    {
     "data": {
      "text/plain": [
       "45"
      ]
     },
     "execution_count": 18,
     "metadata": {},
     "output_type": "execute_result"
    }
   ],
   "source": [
    "addlist([1,2,[9,6,4,2],7,5,6,3])"
   ]
  },
  {
   "cell_type": "code",
   "execution_count": 6,
   "id": "9c0a4753-52f1-4027-97ec-09954117876b",
   "metadata": {},
   "outputs": [],
   "source": [
    "def mullist(L):\n",
    "    print(L)\n",
    "    if len(L)==0:\n",
    "        return 1\n",
    "    return L[0] * mullist(L[1:])  "
   ]
  },
  {
   "cell_type": "code",
   "execution_count": 7,
   "id": "a4741a7d-c4fc-42c1-9b88-3dd8b7d3d524",
   "metadata": {},
   "outputs": [
    {
     "name": "stdout",
     "output_type": "stream",
     "text": [
      "[3, 4, 6, 2, 1]\n",
      "[4, 6, 2, 1]\n",
      "[6, 2, 1]\n",
      "[2, 1]\n",
      "[1]\n",
      "[]\n"
     ]
    },
    {
     "data": {
      "text/plain": [
       "144"
      ]
     },
     "execution_count": 7,
     "metadata": {},
     "output_type": "execute_result"
    }
   ],
   "source": [
    "mullist([3,4,6,2,1])"
   ]
  },
  {
   "cell_type": "code",
   "execution_count": null,
   "id": "55aa2f55-b95e-41c5-a042-479e82db4c89",
   "metadata": {},
   "outputs": [],
   "source": []
  }
 ],
 "metadata": {
  "kernelspec": {
   "display_name": "Python [conda env:base] *",
   "language": "python",
   "name": "conda-base-py"
  },
  "language_info": {
   "codemirror_mode": {
    "name": "ipython",
    "version": 3
   },
   "file_extension": ".py",
   "mimetype": "text/x-python",
   "name": "python",
   "nbconvert_exporter": "python",
   "pygments_lexer": "ipython3",
   "version": "3.13.5"
  }
 },
 "nbformat": 4,
 "nbformat_minor": 5
}
