{
 "cells": [
  {
   "cell_type": "markdown",
   "id": "1679b4da-c91d-4556-9097-edfa6dde7fed",
   "metadata": {},
   "source": [
    "# MAGIC FUNCTIONS"
   ]
  },
  {
   "cell_type": "code",
   "execution_count": 1,
   "id": "b9097218-7fb8-479a-a82d-6a460e88e801",
   "metadata": {},
   "outputs": [],
   "source": [
    "# self means object"
   ]
  },
  {
   "cell_type": "code",
   "execution_count": 2,
   "id": "12fd0278-eb25-4700-a43c-818ce8078c0b",
   "metadata": {},
   "outputs": [],
   "source": [
    "# init when item create then it run"
   ]
  },
  {
   "cell_type": "code",
   "execution_count": 3,
   "id": "37189daf-0c55-4b82-8067-be9903167078",
   "metadata": {},
   "outputs": [],
   "source": [
    "# str run when item run"
   ]
  },
  {
   "cell_type": "code",
   "execution_count": null,
   "id": "ef0ab3ed-1096-4b6e-979b-9efae3234dea",
   "metadata": {},
   "outputs": [],
   "source": [
    "# delete hone ke baad run hota hai"
   ]
  },
  {
   "cell_type": "code",
   "execution_count": 2,
   "id": "d324a94e-fa57-4a7f-89bb-f68c16e67eb9",
   "metadata": {},
   "outputs": [],
   "source": [
    "class Account():\n",
    "    BANK_NAME = \"SBI\"\n",
    "    def __init__(self,name,initialDeposit=0):\n",
    "        # runs when object is created\n",
    "        self.name = name\n",
    "        self.balance = initialDeposit\n",
    "        print(f\"\"\" {self.name} WELCOME TO {self.BANK_NAME}\"\"\")\n",
    "    \n",
    "    def __str__(self):\n",
    "        # mandatory to return a str\n",
    "        # runs before object is printed\n",
    "        a = f\"\"\"\n",
    "             =========={self.BANK_NAME}======\n",
    "             Account Holder  : {self.name}\n",
    "             Account Balance  : {self.balance}\n",
    "        \"\"\"\n",
    "        return a\n",
    "    \n",
    "    def __del__(self):\n",
    "        # when memory location is cleared\n",
    "        # runs before object is deleted\n",
    "        a = f\"\"\"\n",
    "             =========={self.BANK_NAME}======\n",
    "             we are sorry to see you go.\n",
    "             \"\"\"\n",
    "        print(a)\n",
    "        \n",
    "    "
   ]
  },
  {
   "cell_type": "code",
   "execution_count": 3,
   "id": "7beb9497-107e-453d-ba99-b0393a391080",
   "metadata": {},
   "outputs": [
    {
     "name": "stdout",
     "output_type": "stream",
     "text": [
      " karunesh WELCOME TO SBI\n"
     ]
    }
   ],
   "source": [
    "pehlaAccount = Account('karunesh', 6000)"
   ]
  },
  {
   "cell_type": "code",
   "execution_count": 4,
   "id": "d0802a41-9483-46f2-a904-3855c0de39d1",
   "metadata": {},
   "outputs": [
    {
     "name": "stdout",
     "output_type": "stream",
     "text": [
      "\n",
      "             ==========SBI======\n",
      "             Account Holder  : karunesh\n",
      "             Account Balance  : 6000\n",
      "        \n"
     ]
    }
   ],
   "source": [
    "print(pehlaAccount)"
   ]
  },
  {
   "cell_type": "code",
   "execution_count": 6,
   "id": "94dfcd5d-5fef-4b4e-8ef7-d4820653054b",
   "metadata": {},
   "outputs": [
    {
     "name": "stdout",
     "output_type": "stream",
     "text": [
      "\n",
      "             ==========SBI======\n",
      "             we are sorry to see you go.\n",
      "             \n"
     ]
    }
   ],
   "source": [
    "del pehlaAccount"
   ]
  },
  {
   "cell_type": "code",
   "execution_count": 7,
   "id": "2de36b60-7a81-483a-a5d9-31676a23d3f9",
   "metadata": {},
   "outputs": [],
   "source": [
    "class car():\n",
    "    def __init__(self):\n",
    "        self.name = \"Tata\"\n",
    "        print(\"runs when item is created\")\n",
    "\n",
    "    def __str__(self):\n",
    "        print(\"hello\")\n",
    "        return \"runs when item is printed\"\n",
    "\n",
    "    def __del__(self):\n",
    "        print(\"runs when memory location is cleared\")"
   ]
  },
  {
   "cell_type": "code",
   "execution_count": 8,
   "id": "7dfdc908-c579-4e1f-ac75-ee801221cdb6",
   "metadata": {},
   "outputs": [
    {
     "name": "stdout",
     "output_type": "stream",
     "text": [
      "runs when item is created\n"
     ]
    }
   ],
   "source": [
    "gadi = car()"
   ]
  },
  {
   "cell_type": "code",
   "execution_count": 9,
   "id": "3b050a9d-02b0-4dde-ba9f-c91f7ba71b45",
   "metadata": {},
   "outputs": [
    {
     "name": "stdout",
     "output_type": "stream",
     "text": [
      "hello\n",
      "runs when item is printed\n"
     ]
    }
   ],
   "source": [
    "print(gadi)"
   ]
  },
  {
   "cell_type": "code",
   "execution_count": 10,
   "id": "d6a76d8b-06a1-45ac-982d-79c4c1be5b85",
   "metadata": {},
   "outputs": [
    {
     "name": "stdout",
     "output_type": "stream",
     "text": [
      "runs when memory location is cleared\n"
     ]
    }
   ],
   "source": [
    "del gadi"
   ]
  },
  {
   "cell_type": "markdown",
   "id": "405b055a-a99f-443d-be49-3289fad5680c",
   "metadata": {},
   "source": [
    "# ENCAPSULATION"
   ]
  },
  {
   "cell_type": "code",
   "execution_count": 11,
   "id": "fb049376-397f-4c3d-9c7e-99b8bac8dd08",
   "metadata": {},
   "outputs": [],
   "source": [
    "# provides restrictions to access"
   ]
  },
  {
   "cell_type": "code",
   "execution_count": 12,
   "id": "00d382cd-ddc9-45d8-9f1d-788d4a4075f5",
   "metadata": {},
   "outputs": [],
   "source": [
    "class Account():\n",
    "    BANK_NAME = \"SBI\"\n",
    "    def __init__(self,name,initialDeposit=0):\n",
    "        # runs when object is created\n",
    "        self.name = name\n",
    "        self.__balance = initialDeposit\n",
    "        print(f\"\"\" {self.name} WELCOME TO {self.BANK_NAME}\"\"\")\n",
    "    \n",
    "    def __str__(self):\n",
    "        # mandatory to return a str\n",
    "        # runs before object is printed\n",
    "        a = f\"\"\"\n",
    "             =========={self.BANK_NAME}======\n",
    "             Account Holder  : {self.name}\n",
    "             Account Balance  : {self.__balance}\n",
    "        \"\"\"\n",
    "        return a\n",
    "    \n",
    "    def __del__(self):\n",
    "        # when memory location is cleared\n",
    "        # runs before object is deleted\n",
    "        a = f\"\"\"\n",
    "             =========={self.BANK_NAME}======\n",
    "             we are sorry to see you go.\n",
    "             \"\"\"\n",
    "        print(a)\n",
    "        "
   ]
  },
  {
   "cell_type": "code",
   "execution_count": 13,
   "id": "c8695ece-1888-4527-8c19-9c454afb66b3",
   "metadata": {},
   "outputs": [
    {
     "name": "stdout",
     "output_type": "stream",
     "text": [
      " kanu WELCOME TO SBI\n"
     ]
    }
   ],
   "source": [
    "pehlaAccount = Account(\"kanu\",500000)"
   ]
  },
  {
   "cell_type": "code",
   "execution_count": 14,
   "id": "bd08781d-5f13-4c19-9714-bda7181e34af",
   "metadata": {},
   "outputs": [
    {
     "name": "stdout",
     "output_type": "stream",
     "text": [
      "\n",
      "             ==========SBI======\n",
      "             Account Holder  : kanu\n",
      "             Account Balance  : 500000\n",
      "        \n"
     ]
    }
   ],
   "source": [
    "print(pehlaAccount)"
   ]
  },
  {
   "cell_type": "code",
   "execution_count": 15,
   "id": "76bd1189-e041-4b18-aca3-992c66390fb3",
   "metadata": {},
   "outputs": [
    {
     "ename": "AttributeError",
     "evalue": "'Account' object has no attribute 'balance'",
     "output_type": "error",
     "traceback": [
      "\u001b[1;31m---------------------------------------------------------------------------\u001b[0m",
      "\u001b[1;31mAttributeError\u001b[0m                            Traceback (most recent call last)",
      "Cell \u001b[1;32mIn[15], line 1\u001b[0m\n\u001b[1;32m----> 1\u001b[0m pehlaAccount\u001b[38;5;241m.\u001b[39mbalance\n",
      "\u001b[1;31mAttributeError\u001b[0m: 'Account' object has no attribute 'balance'"
     ]
    }
   ],
   "source": [
    "pehlaAccount.balance # we cant directly access its called encapsulation"
   ]
  },
  {
   "cell_type": "code",
   "execution_count": 16,
   "id": "244bf971-1dde-42ee-ba5d-a12fd0e9216d",
   "metadata": {},
   "outputs": [],
   "source": [
    "class Account():\n",
    "    BANK_NAME = \"SBI\"\n",
    "    def __init__(self, name, initialDeposit=0):\n",
    "        # runs when object is created\n",
    "        self.name = name\n",
    "        self.__balance = initialDeposit\n",
    "        print(f\"{self.name} WELCOME TO {self.BANK_NAME}\")\n",
    "\n",
    "    def __str__(self):\n",
    "        # mandatory to return a str\n",
    "        # runs before object is printed\n",
    "        a = f\"\"\"\n",
    "            =========== {self.BANK_NAME} =============\n",
    "            Account Holder  : {self.name} \n",
    "            Account Balance : {self.__balance}\n",
    "        \"\"\"\n",
    "        return a\n",
    "\n",
    "    def __del__(self):\n",
    "        # when memory location is cleared\n",
    "        # runs before object is deleted\n",
    "        a = f\"\"\"\n",
    "            =========== {self.BANK_NAME} =============\n",
    "            we are sorry to see you go. \n",
    "        \"\"\"\n",
    "        print(a)\n",
    "\n",
    "\n",
    "    def __transection(self, ammount, T ):\n",
    "        print(f'{ammount} was {T}')\n",
    "        print(f'current balance {self.__balance}')\n",
    "        if T == \"Credited\":\n",
    "            print(f'initial ammount {self.__balance - ammount}')\n",
    "        else:\n",
    "            print(f'initial ammount {self.__balance + ammount}')\n",
    "    \n",
    "    def credit(self, ammount=0):\n",
    "        self.__balance += ammount\n",
    "        self.__transection(ammount, \"Credited\")\n",
    "\n",
    "    def debit(self, ammount=0):\n",
    "        if self.__balance > ammount:\n",
    "            self.__balance -= ammount\n",
    "            self.__transection(ammount, \"Debited\")\n",
    "            return ammount\n",
    "        else:\n",
    "            print(\"insufficient balance\")"
   ]
  },
  {
   "cell_type": "code",
   "execution_count": 18,
   "id": "bd1810c3-fca1-4b9a-b0ea-c55d2e2f8f6c",
   "metadata": {},
   "outputs": [
    {
     "name": "stdout",
     "output_type": "stream",
     "text": [
      "karunesh WELCOME TO SBI\n"
     ]
    }
   ],
   "source": [
    "pehlaAccount = Account(\"karunesh\",2000)"
   ]
  },
  {
   "cell_type": "code",
   "execution_count": 19,
   "id": "8facd9e5-6b92-453e-b01d-0c30b4d54a0d",
   "metadata": {},
   "outputs": [
    {
     "name": "stdout",
     "output_type": "stream",
     "text": [
      "3000 was Credited\n",
      "current balance 5000\n",
      "initial ammount 2000\n"
     ]
    }
   ],
   "source": [
    "pehlaAccount.credit(3000)"
   ]
  },
  {
   "cell_type": "code",
   "execution_count": 20,
   "id": "daac3c5b-fd8d-4a62-9058-cba7e87215a5",
   "metadata": {},
   "outputs": [
    {
     "name": "stdout",
     "output_type": "stream",
     "text": [
      "\n",
      "            =========== SBI =============\n",
      "            Account Holder  : karunesh \n",
      "            Account Balance : 5000\n",
      "        \n"
     ]
    }
   ],
   "source": [
    "print(pehlaAccount)"
   ]
  },
  {
   "cell_type": "code",
   "execution_count": 21,
   "id": "6f5636ce-2481-4734-99f9-7d660b7ba0dd",
   "metadata": {},
   "outputs": [
    {
     "name": "stdout",
     "output_type": "stream",
     "text": [
      "2000 was Debited\n",
      "current balance 3000\n",
      "initial ammount 5000\n"
     ]
    },
    {
     "data": {
      "text/plain": [
       "2000"
      ]
     },
     "execution_count": 21,
     "metadata": {},
     "output_type": "execute_result"
    }
   ],
   "source": [
    "pehlaAccount.debit(2000)"
   ]
  },
  {
   "cell_type": "code",
   "execution_count": null,
   "id": "409442f3-3db1-4bf7-af49-b7c83fbba16e",
   "metadata": {},
   "outputs": [],
   "source": [
    "\n"
   ]
  }
 ],
 "metadata": {
  "kernelspec": {
   "display_name": "Python [conda env:base] *",
   "language": "python",
   "name": "conda-base-py"
  },
  "language_info": {
   "codemirror_mode": {
    "name": "ipython",
    "version": 3
   },
   "file_extension": ".py",
   "mimetype": "text/x-python",
   "name": "python",
   "nbconvert_exporter": "python",
   "pygments_lexer": "ipython3",
   "version": "3.13.5"
  }
 },
 "nbformat": 4,
 "nbformat_minor": 5
}
