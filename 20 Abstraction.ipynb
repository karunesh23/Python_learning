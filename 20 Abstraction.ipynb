{
 "cells": [
  {
   "cell_type": "markdown",
   "id": "fc6532bd-437c-4ce4-b5ab-56a1d9c42680",
   "metadata": {},
   "source": [
    "# ABSTRACTION"
   ]
  },
  {
   "cell_type": "markdown",
   "id": "c50521aa-dbdc-4cae-80af-5787b40cdf7b",
   "metadata": {},
   "source": [
    "### if a child class is being created i want too make it mandatory to function overloading on a particular function"
   ]
  },
  {
   "cell_type": "code",
   "execution_count": 1,
   "id": "8bab6e76-3e80-41d9-ada2-517596b21c71",
   "metadata": {},
   "outputs": [],
   "source": [
    "# a function that modifies the behaviour of another function (or method or class). it can change:"
   ]
  },
  {
   "cell_type": "code",
   "execution_count": 11,
   "id": "cb8472dc-e929-4db8-8e15-29fa36030603",
   "metadata": {},
   "outputs": [],
   "source": [
    "from abc import ABC, abstractmethod"
   ]
  },
  {
   "cell_type": "code",
   "execution_count": 12,
   "id": "95fd4268-235f-4aa0-9acc-ffa67d4cc2c1",
   "metadata": {},
   "outputs": [],
   "source": [
    "class car(ABC):\n",
    "    carType = \"simple\"\n",
    "\n",
    "    def hello(self):\n",
    "        print(\"hello everyone\")\n",
    "\n",
    "    @abstractmethod\n",
    "    def intro(self):\n",
    "        print(f\"this is a {self.carType}\")"
   ]
  },
  {
   "cell_type": "code",
   "execution_count": 13,
   "id": "64769302-5a9c-4553-8e25-bda33a3a931d",
   "metadata": {},
   "outputs": [],
   "source": [
    "class DieselCar(car):\n",
    "\n",
    "    def intro(self):\n",
    "        print(\"this is a diesel car\")"
   ]
  },
  {
   "cell_type": "code",
   "execution_count": 14,
   "id": "49de5efb-3036-4f55-9189-8ee7c12a4328",
   "metadata": {},
   "outputs": [],
   "source": [
    "dgadi = DieselCar()"
   ]
  },
  {
   "cell_type": "code",
   "execution_count": 15,
   "id": "2b2d4122-0a55-47fe-bb45-461d5c2fbb21",
   "metadata": {},
   "outputs": [
    {
     "name": "stdout",
     "output_type": "stream",
     "text": [
      "this is a diesel car\n"
     ]
    }
   ],
   "source": [
    "dgadi.intro()"
   ]
  },
  {
   "cell_type": "code",
   "execution_count": 16,
   "id": "0115d805-054c-41e8-98b3-521bf3dd02a6",
   "metadata": {},
   "outputs": [
    {
     "name": "stdout",
     "output_type": "stream",
     "text": [
      "hello everyone\n"
     ]
    }
   ],
   "source": [
    "dgadi.hello()"
   ]
  },
  {
   "cell_type": "code",
   "execution_count": 17,
   "id": "b6aafc8e-2a08-46a9-a092-071fcefadf1f",
   "metadata": {},
   "outputs": [
    {
     "ename": "TypeError",
     "evalue": "Can't instantiate abstract class car without an implementation for abstract method 'intro'",
     "output_type": "error",
     "traceback": [
      "\u001b[1;31m---------------------------------------------------------------------------\u001b[0m",
      "\u001b[1;31mTypeError\u001b[0m                                 Traceback (most recent call last)",
      "Cell \u001b[1;32mIn[17], line 1\u001b[0m\n\u001b[1;32m----> 1\u001b[0m a \u001b[38;5;241m=\u001b[39m car()\n",
      "\u001b[1;31mTypeError\u001b[0m: Can't instantiate abstract class car without an implementation for abstract method 'intro'"
     ]
    }
   ],
   "source": [
    "a = car()"
   ]
  },
  {
   "cell_type": "code",
   "execution_count": 10,
   "id": "9ba0db86-c0eb-4cff-88a7-fb4ebfebdf36",
   "metadata": {},
   "outputs": [],
   "source": [
    "a = list()"
   ]
  },
  {
   "cell_type": "code",
   "execution_count": null,
   "id": "56a4b65b-bfab-4a2b-920c-ad379b663afb",
   "metadata": {},
   "outputs": [],
   "source": []
  },
  {
   "cell_type": "code",
   "execution_count": 9,
   "id": "293199f0-50f3-4477-ba18-f0f3ce1ec769",
   "metadata": {},
   "outputs": [],
   "source": [
    "a = list()"
   ]
  },
  {
   "cell_type": "code",
   "execution_count": 10,
   "id": "1d942a59-a253-46ad-a6a9-505e137879a5",
   "metadata": {},
   "outputs": [],
   "source": [
    "a = tuple()"
   ]
  },
  {
   "cell_type": "code",
   "execution_count": 11,
   "id": "e127d52e-e81f-4dea-881f-adc14be1bdf5",
   "metadata": {},
   "outputs": [],
   "source": [
    "class animal():\n",
    "    good = \"yes\"   #class based method\n",
    "    def __init__(self):  # object based \n",
    "        self.name = \"animal\"\n",
    "\n",
    "    def sayhello(self):\n",
    "        print(\"hello everyone nice to meet you\")\n",
    "\n",
    "    # static\n",
    "    @staticmethod\n",
    "    def sayhi():   # class based\n",
    "        print(\"hii everyone nice to meet you\")"
   ]
  },
  {
   "cell_type": "code",
   "execution_count": 12,
   "id": "75d8e88a-58e5-4742-ab68-0f97000dbb2c",
   "metadata": {},
   "outputs": [],
   "source": [
    "dog = animal()"
   ]
  },
  {
   "cell_type": "code",
   "execution_count": 13,
   "id": "89414b0a-c79a-412e-a970-b514ed7bb343",
   "metadata": {},
   "outputs": [
    {
     "name": "stdout",
     "output_type": "stream",
     "text": [
      "hii everyone nice to meet you\n"
     ]
    }
   ],
   "source": [
    "dog.sayhi()"
   ]
  },
  {
   "cell_type": "code",
   "execution_count": 14,
   "id": "7477530c-dd8e-4023-a669-d490a13dd3cd",
   "metadata": {},
   "outputs": [
    {
     "name": "stdout",
     "output_type": "stream",
     "text": [
      "hello everyone nice to meet you\n"
     ]
    }
   ],
   "source": [
    "dog.sayhello()"
   ]
  },
  {
   "cell_type": "code",
   "execution_count": null,
   "id": "af1a9b57-51f0-43f7-a1ba-57917aa683c6",
   "metadata": {},
   "outputs": [],
   "source": []
  }
 ],
 "metadata": {
  "kernelspec": {
   "display_name": "Python [conda env:base] *",
   "language": "python",
   "name": "conda-base-py"
  },
  "language_info": {
   "codemirror_mode": {
    "name": "ipython",
    "version": 3
   },
   "file_extension": ".py",
   "mimetype": "text/x-python",
   "name": "python",
   "nbconvert_exporter": "python",
   "pygments_lexer": "ipython3",
   "version": "3.13.5"
  }
 },
 "nbformat": 4,
 "nbformat_minor": 5
}
