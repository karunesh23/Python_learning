{
 "cells": [
  {
   "cell_type": "code",
   "execution_count": 1,
   "id": "06153c78-f9f2-4d43-a1c2-026d2347fd2a",
   "metadata": {},
   "outputs": [
    {
     "data": {
      "text/plain": [
       "4"
      ]
     },
     "execution_count": 1,
     "metadata": {},
     "output_type": "execute_result"
    }
   ],
   "source": [
    "len(\"kanu\")"
   ]
  },
  {
   "cell_type": "code",
   "execution_count": 2,
   "id": "3fcfc3cb-58b9-4ddf-a896-ac92fa832f0e",
   "metadata": {},
   "outputs": [
    {
     "name": "stdout",
     "output_type": "stream",
     "text": [
      "5\n"
     ]
    }
   ],
   "source": [
    "print(5)"
   ]
  },
  {
   "cell_type": "raw",
   "id": "c212e8a8-1ec1-45af-9014-4c040b1aac49",
   "metadata": {},
   "source": [
    "print(\"kanu\")"
   ]
  },
  {
   "cell_type": "code",
   "execution_count": 4,
   "id": "aeda3af3-8dd7-4351-95d4-6c40482aeecd",
   "metadata": {},
   "outputs": [
    {
     "data": {
      "text/plain": [
       "'kanu'"
      ]
     },
     "execution_count": 4,
     "metadata": {},
     "output_type": "execute_result"
    }
   ],
   "source": [
    "\"kanu\""
   ]
  },
  {
   "cell_type": "code",
   "execution_count": 5,
   "id": "91152387-ac8b-44c0-9461-ccd64c3998f0",
   "metadata": {},
   "outputs": [],
   "source": [
    "a = 5\n",
    "b= 6\n"
   ]
  },
  {
   "cell_type": "code",
   "execution_count": 6,
   "id": "e9d1b566-9b6f-4499-bc80-b7e767356c91",
   "metadata": {},
   "outputs": [
    {
     "data": {
      "text/plain": [
       "5"
      ]
     },
     "execution_count": 6,
     "metadata": {},
     "output_type": "execute_result"
    }
   ],
   "source": [
    "a"
   ]
  },
  {
   "cell_type": "code",
   "execution_count": 7,
   "id": "9e66f2ff-1e59-4524-9572-629fc4c379d2",
   "metadata": {},
   "outputs": [
    {
     "data": {
      "text/plain": [
       "6"
      ]
     },
     "execution_count": 7,
     "metadata": {},
     "output_type": "execute_result"
    }
   ],
   "source": [
    "b"
   ]
  },
  {
   "cell_type": "code",
   "execution_count": 8,
   "id": "50d6bae7-4b81-4c05-9a42-1c51efbfd1de",
   "metadata": {},
   "outputs": [
    {
     "data": {
      "text/plain": [
       "6"
      ]
     },
     "execution_count": 8,
     "metadata": {},
     "output_type": "execute_result"
    }
   ],
   "source": [
    "a\n",
    "b"
   ]
  },
  {
   "cell_type": "code",
   "execution_count": 9,
   "id": "0733b48d-0208-4872-b564-8efd9618e4d5",
   "metadata": {},
   "outputs": [
    {
     "name": "stdout",
     "output_type": "stream",
     "text": [
      "5\n",
      "6\n"
     ]
    }
   ],
   "source": [
    "print(a)\n",
    "print(b)"
   ]
  },
  {
   "cell_type": "code",
   "execution_count": 10,
   "id": "74b465e6-acc6-4c35-819e-9a6cc869e98b",
   "metadata": {},
   "outputs": [
    {
     "name": "stdout",
     "output_type": "stream",
     "text": [
      "5\n"
     ]
    }
   ],
   "source": [
    "a = print(5)"
   ]
  },
  {
   "cell_type": "code",
   "execution_count": 11,
   "id": "24004c66-19dd-4a67-853a-34c9094ee07b",
   "metadata": {},
   "outputs": [],
   "source": [
    "a"
   ]
  },
  {
   "cell_type": "code",
   "execution_count": 12,
   "id": "027a6efb-048c-40df-8239-6a9d63b6bd2d",
   "metadata": {},
   "outputs": [
    {
     "name": "stdout",
     "output_type": "stream",
     "text": [
      "None\n"
     ]
    }
   ],
   "source": [
    "print(a)"
   ]
  },
  {
   "cell_type": "code",
   "execution_count": 13,
   "id": "b923d022-e1b9-4b39-b56a-b13f64e4a52b",
   "metadata": {},
   "outputs": [
    {
     "data": {
      "text/plain": [
       "NoneType"
      ]
     },
     "execution_count": 13,
     "metadata": {},
     "output_type": "execute_result"
    }
   ],
   "source": [
    "type(a)"
   ]
  },
  {
   "cell_type": "code",
   "execution_count": 14,
   "id": "37876d1a-67d9-4843-b805-ba3b87d6cb99",
   "metadata": {},
   "outputs": [
    {
     "name": "stdout",
     "output_type": "stream",
     "text": [
      "5\n"
     ]
    }
   ],
   "source": [
    "print(5)"
   ]
  },
  {
   "cell_type": "code",
   "execution_count": 15,
   "id": "7f0e3197-1b06-45db-8661-311d3aece8f6",
   "metadata": {},
   "outputs": [
    {
     "data": {
      "text/plain": [
       "int"
      ]
     },
     "execution_count": 15,
     "metadata": {},
     "output_type": "execute_result"
    }
   ],
   "source": [
    "type(5)"
   ]
  },
  {
   "cell_type": "code",
   "execution_count": 16,
   "id": "62e159ee-b4df-4b95-81db-9a23fe45533c",
   "metadata": {},
   "outputs": [
    {
     "data": {
      "text/plain": [
       "4"
      ]
     },
     "execution_count": 16,
     "metadata": {},
     "output_type": "execute_result"
    }
   ],
   "source": [
    "len(\"kanu\")"
   ]
  },
  {
   "cell_type": "markdown",
   "id": "499bb7b6-6877-412d-a718-27f109f10eda",
   "metadata": {},
   "source": [
    "#INPUT\n",
    "\n"
   ]
  },
  {
   "cell_type": "code",
   "execution_count": 19,
   "id": "ee18b467-7cc9-4798-b531-bffaa5e52752",
   "metadata": {},
   "outputs": [
    {
     "data": {
      "text/plain": [
       "'kanu'"
      ]
     },
     "execution_count": 19,
     "metadata": {},
     "output_type": "execute_result"
    }
   ],
   "source": [
    "name"
   ]
  },
  {
   "cell_type": "code",
   "execution_count": 20,
   "id": "1a08373a-7fe7-4e11-9285-31621b14ee6f",
   "metadata": {},
   "outputs": [
    {
     "name": "stdin",
     "output_type": "stream",
     "text": [
      "enter your name kanu\n"
     ]
    }
   ],
   "source": [
    "name = input(\"enter your name\")\n"
   ]
  },
  {
   "cell_type": "code",
   "execution_count": 21,
   "id": "723e09a0-32f0-47f6-bc80-c542ad111b30",
   "metadata": {},
   "outputs": [
    {
     "data": {
      "text/plain": [
       "'kanu'"
      ]
     },
     "execution_count": 21,
     "metadata": {},
     "output_type": "execute_result"
    }
   ],
   "source": [
    "name"
   ]
  },
  {
   "cell_type": "code",
   "execution_count": 22,
   "id": "dfb0e144-6173-48ab-931e-694a56486181",
   "metadata": {},
   "outputs": [
    {
     "name": "stdin",
     "output_type": "stream",
     "text": [
      "enter your age 15\n"
     ]
    }
   ],
   "source": [
    "age = input(\"enter your age\")"
   ]
  },
  {
   "cell_type": "code",
   "execution_count": 23,
   "id": "8e634ee7-d19e-431b-8977-b4f90966ada7",
   "metadata": {},
   "outputs": [
    {
     "data": {
      "text/plain": [
       "'15'"
      ]
     },
     "execution_count": 23,
     "metadata": {},
     "output_type": "execute_result"
    }
   ],
   "source": [
    "age"
   ]
  },
  {
   "cell_type": "code",
   "execution_count": 24,
   "id": "34a10a31-b04d-4959-8d89-c8a4fc81d3bd",
   "metadata": {},
   "outputs": [
    {
     "data": {
      "text/plain": [
       "str"
      ]
     },
     "execution_count": 24,
     "metadata": {},
     "output_type": "execute_result"
    }
   ],
   "source": [
    "type(age)"
   ]
  },
  {
   "cell_type": "code",
   "execution_count": 25,
   "id": "19fe9a48-2957-4e1f-9b48-6a410bb840cb",
   "metadata": {},
   "outputs": [
    {
     "data": {
      "text/plain": [
       "15"
      ]
     },
     "execution_count": 25,
     "metadata": {},
     "output_type": "execute_result"
    }
   ],
   "source": [
    "int(age)"
   ]
  },
  {
   "cell_type": "code",
   "execution_count": 26,
   "id": "6883204e-ce53-4bab-919a-46f7e49e91bb",
   "metadata": {},
   "outputs": [
    {
     "data": {
      "text/plain": [
       "'15'"
      ]
     },
     "execution_count": 26,
     "metadata": {},
     "output_type": "execute_result"
    }
   ],
   "source": [
    "age"
   ]
  },
  {
   "cell_type": "code",
   "execution_count": 28,
   "id": "da708694-4b2d-4739-bdec-aa7a93ebcd96",
   "metadata": {},
   "outputs": [],
   "source": [
    "age = int(age)"
   ]
  },
  {
   "cell_type": "code",
   "execution_count": 29,
   "id": "a91a8bb0-ba62-4f24-a8d5-c51c7f7285e0",
   "metadata": {},
   "outputs": [
    {
     "data": {
      "text/plain": [
       "15"
      ]
     },
     "execution_count": 29,
     "metadata": {},
     "output_type": "execute_result"
    }
   ],
   "source": [
    "age"
   ]
  },
  {
   "cell_type": "code",
   "execution_count": 31,
   "id": "2f0d4521-bb1d-40cf-adef-d522561af6d0",
   "metadata": {},
   "outputs": [
    {
     "ename": "SyntaxError",
     "evalue": "invalid syntax (2810290159.py, line 1)",
     "output_type": "error",
     "traceback": [
      "\u001b[1;36m  Cell \u001b[1;32mIn[31], line 1\u001b[1;36m\u001b[0m\n\u001b[1;33m    int age= input(\"enter your age\")\u001b[0m\n\u001b[1;37m        ^\u001b[0m\n\u001b[1;31mSyntaxError\u001b[0m\u001b[1;31m:\u001b[0m invalid syntax\n"
     ]
    }
   ],
   "source": [
    "int age= input(\"enter your age\")"
   ]
  },
  {
   "cell_type": "code",
   "execution_count": 32,
   "id": "86617ca1-14ca-4b44-b9a9-783c35396f41",
   "metadata": {},
   "outputs": [
    {
     "name": "stdin",
     "output_type": "stream",
     "text": [
      " kanu\n"
     ]
    },
    {
     "ename": "ValueError",
     "evalue": "invalid literal for int() with base 10: 'kanu'",
     "output_type": "error",
     "traceback": [
      "\u001b[1;31m---------------------------------------------------------------------------\u001b[0m",
      "\u001b[1;31mValueError\u001b[0m                                Traceback (most recent call last)",
      "Cell \u001b[1;32mIn[32], line 2\u001b[0m\n\u001b[0;32m      1\u001b[0m age \u001b[38;5;241m=\u001b[39m \u001b[38;5;28minput\u001b[39m()\n\u001b[1;32m----> 2\u001b[0m age \u001b[38;5;241m=\u001b[39m \u001b[38;5;28mint\u001b[39m(age)\n\u001b[0;32m      3\u001b[0m age\n",
      "\u001b[1;31mValueError\u001b[0m: invalid literal for int() with base 10: 'kanu'"
     ]
    }
   ],
   "source": [
    "age = input()\n",
    "age = int(age)\n",
    "age"
   ]
  },
  {
   "cell_type": "code",
   "execution_count": 33,
   "id": "12116e2e-5cbe-4db7-bc91-cda12de9e14a",
   "metadata": {},
   "outputs": [
    {
     "name": "stdin",
     "output_type": "stream",
     "text": [
      " 15\n"
     ]
    },
    {
     "data": {
      "text/plain": [
       "15"
      ]
     },
     "execution_count": 33,
     "metadata": {},
     "output_type": "execute_result"
    }
   ],
   "source": [
    "age = input()\n",
    "age = int(age)\n",
    "age"
   ]
  },
  {
   "cell_type": "code",
   "execution_count": 34,
   "id": "7c117037-cbe9-4974-b90a-c735147e9dd6",
   "metadata": {},
   "outputs": [
    {
     "name": "stdin",
     "output_type": "stream",
     "text": [
      " hello nice to meet you\n"
     ]
    }
   ],
   "source": [
    "name = input()\n",
    "l = len(name)//2\n",
    "new = name[:l] + name[l:][::-1]"
   ]
  },
  {
   "cell_type": "code",
   "execution_count": 35,
   "id": "cd541ea0-8c7d-4ea5-b296-74d59e36a372",
   "metadata": {},
   "outputs": [
    {
     "data": {
      "text/plain": [
       "'hello nice uoy teem ot'"
      ]
     },
     "execution_count": 35,
     "metadata": {},
     "output_type": "execute_result"
    }
   ],
   "source": [
    "new"
   ]
  },
  {
   "cell_type": "code",
   "execution_count": null,
   "id": "d1af60a0-4e85-475d-a1ec-34128d9d7953",
   "metadata": {},
   "outputs": [],
   "source": []
  }
 ],
 "metadata": {
  "kernelspec": {
   "display_name": "Python [conda env:base] *",
   "language": "python",
   "name": "conda-base-py"
  },
  "language_info": {
   "codemirror_mode": {
    "name": "ipython",
    "version": 3
   },
   "file_extension": ".py",
   "mimetype": "text/x-python",
   "name": "python",
   "nbconvert_exporter": "python",
   "pygments_lexer": "ipython3",
   "version": "3.13.5"
  }
 },
 "nbformat": 4,
 "nbformat_minor": 5
}
