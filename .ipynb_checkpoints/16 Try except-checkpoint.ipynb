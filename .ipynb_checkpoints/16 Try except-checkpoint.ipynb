{
 "cells": [
  {
   "cell_type": "code",
   "execution_count": 1,
   "id": "08244d98-e2e2-45b1-8e5f-2e53a5fa1512",
   "metadata": {},
   "outputs": [
    {
     "name": "stdout",
     "output_type": "stream",
     "text": [
      "hii\n",
      "nhi chla code\n"
     ]
    }
   ],
   "source": [
    "try:\n",
    "    print(\"hii\")\n",
    "    print(5/0)\n",
    "    print(\"hello\")\n",
    "except:\n",
    "    print(\"nhi chla code\")\n",
    "    "
   ]
  },
  {
   "cell_type": "code",
   "execution_count": 2,
   "id": "94f1a567-1847-45ce-8dd1-da96bc3a3058",
   "metadata": {},
   "outputs": [
    {
     "name": "stdout",
     "output_type": "stream",
     "text": [
      "hii\n",
      "nhi chla code\n"
     ]
    }
   ],
   "source": [
    "try:\n",
    "    print(\"hii\")\n",
    "    print(5/0)\n",
    "    print(\"hello\")\n",
    "except:\n",
    "    print(\"nhi chla code\")\n",
    "else:\n",
    "    print(\"when try block complete run then else run\")\n",
    "    "
   ]
  },
  {
   "cell_type": "code",
   "execution_count": 4,
   "id": "e0acb57c-3358-4878-b4e9-d5e98195dc97",
   "metadata": {},
   "outputs": [
    {
     "name": "stdout",
     "output_type": "stream",
     "text": [
      "hii\n",
      "5\n",
      "hello\n",
      "when try block complete run then else run otherwise not run\n"
     ]
    }
   ],
   "source": [
    "try:\n",
    "    print(\"hii\")\n",
    "    print(5)\n",
    "    print(\"hello\")\n",
    "except:\n",
    "    print(\"nhi chla code\")\n",
    "else:\n",
    "    print(\"when try block complete run then else run otherwise not run\")\n",
    "    "
   ]
  },
  {
   "cell_type": "code",
   "execution_count": 8,
   "id": "db04bfa0-5956-4f28-ad5c-3c18248b3387",
   "metadata": {},
   "outputs": [
    {
     "name": "stdout",
     "output_type": "stream",
     "text": [
      "hii\n",
      "5\n",
      "hello\n",
      "when try block complete run then else run otherwise not run\n",
      "it run always when try block run or not\n"
     ]
    }
   ],
   "source": [
    "try:\n",
    "    print(\"hii\")\n",
    "    print(5)\n",
    "    print(\"hello\")\n",
    "except:\n",
    "    print(\"nhi chla code\")\n",
    "else:\n",
    "    print(\"when try block complete run then else run otherwise not run\")\n",
    "finally:\n",
    "    print(\"it run always when try block run or not\")"
   ]
  },
  {
   "cell_type": "code",
   "execution_count": 7,
   "id": "0d485479-a5b6-4969-a06b-20d72662f1b5",
   "metadata": {},
   "outputs": [
    {
     "name": "stdout",
     "output_type": "stream",
     "text": [
      "hii\n",
      "nhi chla code\n",
      "it always run when try block run or not\n"
     ]
    }
   ],
   "source": [
    "# see difference\n",
    "try:\n",
    "    print(\"hii\")\n",
    "    print(5/0)\n",
    "    print(\"hello\")\n",
    "except:\n",
    "    print(\"nhi chla code\")\n",
    "else:\n",
    "    print(\"when try block complete run then else run otherwise not run\")\n",
    "finally:\n",
    "    print(\"it always run when try block run or not\")"
   ]
  },
  {
   "cell_type": "code",
   "execution_count": 11,
   "id": "ccc24e94-8dc6-4be7-8bc8-b2ba7089596d",
   "metadata": {},
   "outputs": [
    {
     "name": "stdout",
     "output_type": "stream",
     "text": [
      "hii\n",
      "ZeroDivisionError aya hai\n",
      "it always run when try block run or not\n"
     ]
    }
   ],
   "source": [
    "try:\n",
    "    print(\"hii\")\n",
    "    print(5/0)\n",
    "    print(\"hello\")\n",
    "except ZeroDivisionError:\n",
    "    print(\"ZeroDivisionError aya hai\")\n",
    "else:\n",
    "    print(\"when try block complete run then else run otherwise not run\")\n",
    "finally:\n",
    "    print(\"it always run when try block run or not\")"
   ]
  },
  {
   "cell_type": "code",
   "execution_count": 9,
   "id": "ab6deaea-e53b-40a3-9c4b-5d426f864274",
   "metadata": {},
   "outputs": [
    {
     "ename": "ZeroDivisionError",
     "evalue": "division by zero",
     "output_type": "error",
     "traceback": [
      "\u001b[1;31m---------------------------------------------------------------------------\u001b[0m",
      "\u001b[1;31mZeroDivisionError\u001b[0m                         Traceback (most recent call last)",
      "Cell \u001b[1;32mIn[9], line 1\u001b[0m\n\u001b[1;32m----> 1\u001b[0m \u001b[38;5;241m5\u001b[39m\u001b[38;5;241m/\u001b[39m\u001b[38;5;241m0\u001b[39m\n",
      "\u001b[1;31mZeroDivisionError\u001b[0m: division by zero"
     ]
    }
   ],
   "source": [
    "5/0"
   ]
  },
  {
   "cell_type": "code",
   "execution_count": 12,
   "id": "4831f281-f687-458a-a0fb-92f8e03ac142",
   "metadata": {},
   "outputs": [
    {
     "name": "stdout",
     "output_type": "stream",
     "text": [
      "hii\n",
      "error ha\n",
      "it always run when try block run or not\n"
     ]
    }
   ],
   "source": [
    "try:\n",
    "    print(\"hii\")\n",
    "    print(int(\"karunesh\"))\n",
    "    print(\"hello\")\n",
    "except ZeroDivisionError:\n",
    "    print(\"ZeroDivisionError aya hai\")\n",
    "except:\n",
    "    print(\"error ha\")\n",
    "else:\n",
    "    print(\"when try block complete run then else run otherwise not run\")\n",
    "finally:\n",
    "    print(\"it always run when try block run or not\")"
   ]
  },
  {
   "cell_type": "code",
   "execution_count": 16,
   "id": "887bec91-fa6a-4eef-a038-c6ffe4d2624a",
   "metadata": {},
   "outputs": [
    {
     "name": "stdout",
     "output_type": "stream",
     "text": [
      "hii\n",
      "division by zero\n",
      "it always run when try block run or not\n"
     ]
    }
   ],
   "source": [
    "#syntax error not included\n",
    "try:\n",
    "    print(\"hii\")\n",
    "    print(5/0)\n",
    "    print(\"hello\")\n",
    "except ZeroDivisionError as e:\n",
    "    print(e)\n",
    "except:\n",
    "    print(\"error hai\")\n",
    "else:\n",
    "    print(\"when try block complete run then else run otherwise not run\")\n",
    "finally:\n",
    "    print(\"it always run when try block run or not\")"
   ]
  },
  {
   "cell_type": "code",
   "execution_count": 18,
   "id": "a58dd7e7-fa9c-4ca5-a2da-e8237ffb902a",
   "metadata": {},
   "outputs": [
    {
     "name": "stdin",
     "output_type": "stream",
     "text": [
      " kae\n"
     ]
    },
    {
     "name": "stdout",
     "output_type": "stream",
     "text": [
      "invalid literal for int() with base 10: 'kae'\n",
      "close connection\n"
     ]
    }
   ],
   "source": [
    "try:\n",
    "    a = 500\n",
    "    b = int(input())\n",
    "    c = a/b\n",
    "    print(c)\n",
    "except ValueError as v:\n",
    "    print(v)\n",
    "except ZeroDivisionError as z:\n",
    "    print(z)\n",
    "except:\n",
    "    print(\"check something\")\n",
    "else:\n",
    "    print(\"everything worked fine\")\n",
    "finally:\n",
    "    print(\"close connection\")"
   ]
  },
  {
   "cell_type": "code",
   "execution_count": null,
   "id": "2e380262-5e56-4f61-aabb-e6fbb956b471",
   "metadata": {},
   "outputs": [],
   "source": []
  }
 ],
 "metadata": {
  "kernelspec": {
   "display_name": "Python [conda env:base] *",
   "language": "python",
   "name": "conda-base-py"
  },
  "language_info": {
   "codemirror_mode": {
    "name": "ipython",
    "version": 3
   },
   "file_extension": ".py",
   "mimetype": "text/x-python",
   "name": "python",
   "nbconvert_exporter": "python",
   "pygments_lexer": "ipython3",
   "version": "3.13.5"
  }
 },
 "nbformat": 4,
 "nbformat_minor": 5
}
