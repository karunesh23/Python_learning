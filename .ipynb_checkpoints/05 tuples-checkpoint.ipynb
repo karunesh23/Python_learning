{
 "cells": [
  {
   "cell_type": "code",
   "execution_count": 1,
   "id": "b528c657-f4ba-4e61-b08d-03e3a7059deb",
   "metadata": {},
   "outputs": [],
   "source": [
    "# store multiple values\n",
    "dogs = (\"tom\", \"jerry\", \"doggy\")"
   ]
  },
  {
   "cell_type": "code",
   "execution_count": 2,
   "id": "3440a713-e080-4d39-ac92-e0fc886df499",
   "metadata": {},
   "outputs": [
    {
     "data": {
      "text/plain": [
       "('tom', 'jerry', 'doggy')"
      ]
     },
     "execution_count": 2,
     "metadata": {},
     "output_type": "execute_result"
    }
   ],
   "source": [
    "dogs"
   ]
  },
  {
   "cell_type": "code",
   "execution_count": 3,
   "id": "0134a4d5-852f-41fe-966c-6a87df389881",
   "metadata": {},
   "outputs": [
    {
     "data": {
      "text/plain": [
       "(2, 8, 3)"
      ]
     },
     "execution_count": 3,
     "metadata": {},
     "output_type": "execute_result"
    }
   ],
   "source": [
    "# komma values bhi tuple hi consider hogi\n",
    "2, 8,3"
   ]
  },
  {
   "cell_type": "code",
   "execution_count": 4,
   "id": "a072adf7-9384-4bd1-a04a-07af8eec0508",
   "metadata": {},
   "outputs": [
    {
     "data": {
      "text/plain": [
       "(('tom', 'jerry', 'doggy'), 8, 10)"
      ]
     },
     "execution_count": 4,
     "metadata": {},
     "output_type": "execute_result"
    }
   ],
   "source": [
    "dogs, 8, 10"
   ]
  },
  {
   "cell_type": "markdown",
   "id": "8c7818b7-90ab-4795-8637-11b86f578f38",
   "metadata": {},
   "source": [
    "# tuple unpacking"
   ]
  },
  {
   "cell_type": "code",
   "execution_count": 5,
   "id": "3c34a7c9-51ee-49b5-a50c-0382490ca12c",
   "metadata": {},
   "outputs": [],
   "source": [
    "a, b = 5,8"
   ]
  },
  {
   "cell_type": "code",
   "execution_count": 6,
   "id": "641c6e87-b26a-4e2d-aa7b-02da1f0f7a3b",
   "metadata": {},
   "outputs": [
    {
     "data": {
      "text/plain": [
       "5"
      ]
     },
     "execution_count": 6,
     "metadata": {},
     "output_type": "execute_result"
    }
   ],
   "source": [
    "a"
   ]
  },
  {
   "cell_type": "code",
   "execution_count": 7,
   "id": "5743fe72-0650-4abb-8420-683b07a8c810",
   "metadata": {},
   "outputs": [
    {
     "data": {
      "text/plain": [
       "8"
      ]
     },
     "execution_count": 7,
     "metadata": {},
     "output_type": "execute_result"
    }
   ],
   "source": [
    "b"
   ]
  },
  {
   "cell_type": "markdown",
   "id": "f658102b-d30d-4188-afff-36c3d72c44b6",
   "metadata": {},
   "source": [
    "# swapping"
   ]
  },
  {
   "cell_type": "code",
   "execution_count": 8,
   "id": "eb1e0497-7509-43c4-bdaa-77892e798a50",
   "metadata": {},
   "outputs": [],
   "source": [
    "a,b = b,a"
   ]
  },
  {
   "cell_type": "code",
   "execution_count": 9,
   "id": "c819c09e-70d5-4399-a2aa-a7ec937f1c37",
   "metadata": {},
   "outputs": [
    {
     "data": {
      "text/plain": [
       "8"
      ]
     },
     "execution_count": 9,
     "metadata": {},
     "output_type": "execute_result"
    }
   ],
   "source": [
    "a"
   ]
  },
  {
   "cell_type": "code",
   "execution_count": 10,
   "id": "5e1d79cd-92d6-413e-9a23-59ada0f61c58",
   "metadata": {},
   "outputs": [
    {
     "data": {
      "text/plain": [
       "5"
      ]
     },
     "execution_count": 10,
     "metadata": {},
     "output_type": "execute_result"
    }
   ],
   "source": [
    "b"
   ]
  },
  {
   "cell_type": "markdown",
   "id": "a2f63733-53cc-4b7e-ba25-ef6ea03f9639",
   "metadata": {},
   "source": [
    "## tuple understanding\n",
    "### tuples are ordered sequence(index, slicing)"
   ]
  },
  {
   "cell_type": "code",
   "execution_count": 11,
   "id": "3f3976d6-1d94-40d2-812a-494eed53541a",
   "metadata": {},
   "outputs": [
    {
     "data": {
      "text/plain": [
       "('tom', 'jerry', 'doggy')"
      ]
     },
     "execution_count": 11,
     "metadata": {},
     "output_type": "execute_result"
    }
   ],
   "source": [
    "dogs"
   ]
  },
  {
   "cell_type": "code",
   "execution_count": 12,
   "id": "f3fc7031-09ab-420a-be6e-01e226aa710c",
   "metadata": {},
   "outputs": [
    {
     "data": {
      "text/plain": [
       "'jerry'"
      ]
     },
     "execution_count": 12,
     "metadata": {},
     "output_type": "execute_result"
    }
   ],
   "source": [
    "dogs[1]"
   ]
  },
  {
   "cell_type": "code",
   "execution_count": 13,
   "id": "c73c88b4-1628-4dff-b5d9-58f8e7a2dfe0",
   "metadata": {},
   "outputs": [
    {
     "data": {
      "text/plain": [
       "'doggy'"
      ]
     },
     "execution_count": 13,
     "metadata": {},
     "output_type": "execute_result"
    }
   ],
   "source": [
    "dogs[2]"
   ]
  },
  {
   "cell_type": "code",
   "execution_count": 15,
   "id": "e8f2c863-8ed2-4d84-b906-45b64a9f9878",
   "metadata": {},
   "outputs": [
    {
     "data": {
      "text/plain": [
       "'tom'"
      ]
     },
     "execution_count": 15,
     "metadata": {},
     "output_type": "execute_result"
    }
   ],
   "source": [
    "dogs[0]"
   ]
  },
  {
   "cell_type": "code",
   "execution_count": 17,
   "id": "54cb6393-8506-425b-bb9f-d6136fef6959",
   "metadata": {},
   "outputs": [
    {
     "data": {
      "text/plain": [
       "'jerry'"
      ]
     },
     "execution_count": 17,
     "metadata": {},
     "output_type": "execute_result"
    }
   ],
   "source": [
    "# string inside index\n",
    "dogs[1][:]"
   ]
  },
  {
   "cell_type": "code",
   "execution_count": 20,
   "id": "cbaab6a1-d8ba-4562-a219-ddecb59908cd",
   "metadata": {},
   "outputs": [
    {
     "data": {
      "text/plain": [
       "'g'"
      ]
     },
     "execution_count": 20,
     "metadata": {},
     "output_type": "execute_result"
    }
   ],
   "source": [
    "dogs[2][3]"
   ]
  },
  {
   "cell_type": "code",
   "execution_count": 21,
   "id": "6dfd85ff-5155-4b66-8800-317d0a7b917b",
   "metadata": {},
   "outputs": [],
   "source": [
    "# tuples, strings and list is ordered sequence"
   ]
  },
  {
   "cell_type": "code",
   "execution_count": 22,
   "id": "9b60de28-0621-4ab7-86af-3cda243fbf41",
   "metadata": {},
   "outputs": [],
   "source": [
    "# tuples meine item change ni hoti and string meine bhi items change ni hoti but list meine items change hoti hai"
   ]
  },
  {
   "cell_type": "code",
   "execution_count": 23,
   "id": "bac34e93-0bf9-4a4d-b6a5-5e02982a49cc",
   "metadata": {},
   "outputs": [
    {
     "ename": "TypeError",
     "evalue": "'tuple' object does not support item assignment",
     "output_type": "error",
     "traceback": [
      "\u001b[1;31m---------------------------------------------------------------------------\u001b[0m",
      "\u001b[1;31mTypeError\u001b[0m                                 Traceback (most recent call last)",
      "Cell \u001b[1;32mIn[23], line 1\u001b[0m\n\u001b[1;32m----> 1\u001b[0m dogs[\u001b[38;5;241m0\u001b[39m]\u001b[38;5;241m=\u001b[39m \u001b[38;5;124m\"\u001b[39m\u001b[38;5;124mbilli\u001b[39m\u001b[38;5;124m\"\u001b[39m\n",
      "\u001b[1;31mTypeError\u001b[0m: 'tuple' object does not support item assignment"
     ]
    }
   ],
   "source": [
    "# tuple example\n",
    "dogs[0]= \"billi\""
   ]
  },
  {
   "cell_type": "code",
   "execution_count": 24,
   "id": "23076298-7c65-4480-b35c-ede1f4fb5f76",
   "metadata": {},
   "outputs": [
    {
     "ename": "TypeError",
     "evalue": "'str' object does not support item assignment",
     "output_type": "error",
     "traceback": [
      "\u001b[1;31m---------------------------------------------------------------------------\u001b[0m",
      "\u001b[1;31mTypeError\u001b[0m                                 Traceback (most recent call last)",
      "Cell \u001b[1;32mIn[24], line 1\u001b[0m\n\u001b[1;32m----> 1\u001b[0m \u001b[38;5;124m\"\u001b[39m\u001b[38;5;124mkarunesh\u001b[39m\u001b[38;5;124m\"\u001b[39m[\u001b[38;5;241m0\u001b[39m] \u001b[38;5;241m=\u001b[39m \u001b[38;5;124m\"\u001b[39m\u001b[38;5;124ma\u001b[39m\u001b[38;5;124m\"\u001b[39m\n",
      "\u001b[1;31mTypeError\u001b[0m: 'str' object does not support item assignment"
     ]
    }
   ],
   "source": [
    "# string example\n",
    "\"karunesh\"[0] = \"a\""
   ]
  },
  {
   "cell_type": "code",
   "execution_count": 25,
   "id": "dfd81057-ad27-476e-a0f4-d44b71b3bdee",
   "metadata": {},
   "outputs": [],
   "source": [
    "# list example\n",
    "li = [1,2,3]"
   ]
  },
  {
   "cell_type": "code",
   "execution_count": 26,
   "id": "0033d528-2d94-4f87-bedd-57c0c79bda49",
   "metadata": {},
   "outputs": [],
   "source": [
    "li[0]= 2"
   ]
  },
  {
   "cell_type": "code",
   "execution_count": 27,
   "id": "b8b62faf-f7da-4dd2-a52f-862099d96f82",
   "metadata": {},
   "outputs": [
    {
     "data": {
      "text/plain": [
       "[2, 2, 3]"
      ]
     },
     "execution_count": 27,
     "metadata": {},
     "output_type": "execute_result"
    }
   ],
   "source": [
    "li"
   ]
  },
  {
   "cell_type": "markdown",
   "id": "6c7ad62a-fc4e-4cc9-b71b-13b59bd348fe",
   "metadata": {},
   "source": [
    "# tuple method"
   ]
  },
  {
   "cell_type": "code",
   "execution_count": 32,
   "id": "fc5e3d12-6a82-4c63-b58f-50c84a6ce409",
   "metadata": {},
   "outputs": [],
   "source": [
    "# we can count tuple\n",
    "tu = (1,2,3,3,1,1,1,2,3,4,5,5)"
   ]
  },
  {
   "cell_type": "code",
   "execution_count": 33,
   "id": "6122a663-76b6-4ce8-9f6e-1f3610d129cd",
   "metadata": {},
   "outputs": [
    {
     "data": {
      "text/plain": [
       "4"
      ]
     },
     "execution_count": 33,
     "metadata": {},
     "output_type": "execute_result"
    }
   ],
   "source": [
    "tu.count(1)"
   ]
  },
  {
   "cell_type": "code",
   "execution_count": 34,
   "id": "e7d0f67b-990c-4a14-9acb-a40647b32bb4",
   "metadata": {},
   "outputs": [
    {
     "data": {
      "text/plain": [
       "2"
      ]
     },
     "execution_count": 34,
     "metadata": {},
     "output_type": "execute_result"
    }
   ],
   "source": [
    "# duplicate values doesnot matter \n",
    "tu.index(3)"
   ]
  },
  {
   "cell_type": "markdown",
   "id": "a4f51c89-95aa-4544-bf3a-37c227dff153",
   "metadata": {},
   "source": [
    "# indexing, slicing"
   ]
  },
  {
   "cell_type": "code",
   "execution_count": 35,
   "id": "9de65c78-09e4-4d69-8356-817988cccf8a",
   "metadata": {},
   "outputs": [
    {
     "data": {
      "text/plain": [
       "(1, 1, 1, 2)"
      ]
     },
     "execution_count": 35,
     "metadata": {},
     "output_type": "execute_result"
    }
   ],
   "source": [
    "tu[4:8]"
   ]
  },
  {
   "cell_type": "code",
   "execution_count": 36,
   "id": "eec98893-7ef9-4380-85a1-88fb26f14132",
   "metadata": {},
   "outputs": [],
   "source": [
    "# we can't change item we can create new tuple\n",
    "tu = tu[4:8]"
   ]
  },
  {
   "cell_type": "code",
   "execution_count": 37,
   "id": "e0cc0e65-6197-4281-85d2-670e76fc9efa",
   "metadata": {},
   "outputs": [
    {
     "data": {
      "text/plain": [
       "(1, 1, 1, 2)"
      ]
     },
     "execution_count": 37,
     "metadata": {},
     "output_type": "execute_result"
    }
   ],
   "source": [
    "tu"
   ]
  },
  {
   "cell_type": "code",
   "execution_count": 38,
   "id": "2c402db5-67e0-4ca8-a3f1-f4ffcf48a09c",
   "metadata": {},
   "outputs": [],
   "source": [
    "# if we want to fix value we use tuple\n",
    "dice = (1,2,3,4,5)"
   ]
  },
  {
   "cell_type": "code",
   "execution_count": 39,
   "id": "770f09c5-5911-4b4c-9fe8-6596c64c778e",
   "metadata": {},
   "outputs": [
    {
     "data": {
      "text/plain": [
       "(1, 2, 3, 4, 5)"
      ]
     },
     "execution_count": 39,
     "metadata": {},
     "output_type": "execute_result"
    }
   ],
   "source": [
    "dice"
   ]
  },
  {
   "cell_type": "code",
   "execution_count": 40,
   "id": "c4b278c6-3a86-4a03-82ef-d95fe835676f",
   "metadata": {},
   "outputs": [],
   "source": [
    "# in slicing starting index include not ending index include"
   ]
  },
  {
   "cell_type": "code",
   "execution_count": 41,
   "id": "b8e61108-78be-43ce-a037-37e058944769",
   "metadata": {},
   "outputs": [],
   "source": [
    "#slicing se tuple output ati hai but index se item ati hai \n"
   ]
  },
  {
   "cell_type": "code",
   "execution_count": 42,
   "id": "c2853831-44a0-44af-992c-b08d9de583c8",
   "metadata": {},
   "outputs": [
    {
     "data": {
      "text/plain": [
       "'jerry'"
      ]
     },
     "execution_count": 42,
     "metadata": {},
     "output_type": "execute_result"
    }
   ],
   "source": [
    "# exa\n",
    "dogs[1]"
   ]
  },
  {
   "cell_type": "code",
   "execution_count": 43,
   "id": "02b9a12b-bc21-45de-868a-79aaa63932a6",
   "metadata": {},
   "outputs": [
    {
     "data": {
      "text/plain": [
       "('jerry',)"
      ]
     },
     "execution_count": 43,
     "metadata": {},
     "output_type": "execute_result"
    }
   ],
   "source": [
    "dogs[1:2]"
   ]
  },
  {
   "cell_type": "code",
   "execution_count": 44,
   "id": "305e6bef-fb0b-4dce-91de-51f447a891b8",
   "metadata": {},
   "outputs": [
    {
     "data": {
      "text/plain": [
       "('tom', 'jerry', 'doggy')"
      ]
     },
     "execution_count": 44,
     "metadata": {},
     "output_type": "execute_result"
    }
   ],
   "source": [
    "dogs"
   ]
  },
  {
   "cell_type": "code",
   "execution_count": null,
   "id": "63940b53-9f6d-4e70-8eeb-83e100be9d6d",
   "metadata": {},
   "outputs": [],
   "source": []
  }
 ],
 "metadata": {
  "kernelspec": {
   "display_name": "Python [conda env:base] *",
   "language": "python",
   "name": "conda-base-py"
  },
  "language_info": {
   "codemirror_mode": {
    "name": "ipython",
    "version": 3
   },
   "file_extension": ".py",
   "mimetype": "text/x-python",
   "name": "python",
   "nbconvert_exporter": "python",
   "pygments_lexer": "ipython3",
   "version": "3.13.5"
  }
 },
 "nbformat": 4,
 "nbformat_minor": 5
}
