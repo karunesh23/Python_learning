{
 "cells": [
  {
   "cell_type": "code",
   "execution_count": 1,
   "id": "92db8ba6-9521-4f08-8383-dae6e93321e9",
   "metadata": {},
   "outputs": [],
   "source": [
    "name = \"karunesh\""
   ]
  },
  {
   "cell_type": "code",
   "execution_count": 2,
   "id": "a65a56d1-1bf4-4cb7-a912-80290b628d2b",
   "metadata": {},
   "outputs": [
    {
     "data": {
      "text/plain": [
       "'karunesh'"
      ]
     },
     "execution_count": 2,
     "metadata": {},
     "output_type": "execute_result"
    }
   ],
   "source": [
    "name"
   ]
  },
  {
   "cell_type": "code",
   "execution_count": 3,
   "id": "036f1d73-5e57-4f1d-98ff-1cdcbb0cb4ac",
   "metadata": {},
   "outputs": [
    {
     "data": {
      "text/plain": [
       "8"
      ]
     },
     "execution_count": 3,
     "metadata": {},
     "output_type": "execute_result"
    }
   ],
   "source": [
    "len(name)"
   ]
  },
  {
   "cell_type": "code",
   "execution_count": 4,
   "id": "179dc3d9-9c7e-42e3-b394-fd9d74f4ef11",
   "metadata": {},
   "outputs": [
    {
     "data": {
      "text/plain": [
       "'k'"
      ]
     },
     "execution_count": 4,
     "metadata": {},
     "output_type": "execute_result"
    }
   ],
   "source": [
    "name[0]"
   ]
  },
  {
   "cell_type": "code",
   "execution_count": 5,
   "id": "d2b4dfee-4986-4b73-810c-16d27037419e",
   "metadata": {},
   "outputs": [
    {
     "data": {
      "text/plain": [
       "'h'"
      ]
     },
     "execution_count": 5,
     "metadata": {},
     "output_type": "execute_result"
    }
   ],
   "source": [
    "name[7]"
   ]
  },
  {
   "cell_type": "code",
   "execution_count": 6,
   "id": "7108de82-000e-4c38-8a36-1505cbefc36a",
   "metadata": {},
   "outputs": [
    {
     "name": "stdout",
     "output_type": "stream",
     "text": [
      "k\n",
      "a\n",
      "r\n",
      "u\n",
      "n\n",
      "e\n",
      "s\n",
      "h\n"
     ]
    }
   ],
   "source": [
    "i = 0\n",
    "n = len(name)\n",
    "while i<n:\n",
    "    print(name[i])\n",
    "    i+=1"
   ]
  },
  {
   "cell_type": "code",
   "execution_count": 7,
   "id": "cdbd798a-d06b-4805-836c-b63dc9359086",
   "metadata": {},
   "outputs": [],
   "source": [
    "d = {\"name\": \"karunesh\",\"age\": 19, \"educationn\":\"bca\"}"
   ]
  },
  {
   "cell_type": "code",
   "execution_count": 8,
   "id": "d7c8e4c0-3009-488f-a8e9-b60e99bb1fab",
   "metadata": {},
   "outputs": [
    {
     "data": {
      "text/plain": [
       "'name'"
      ]
     },
     "execution_count": 8,
     "metadata": {},
     "output_type": "execute_result"
    }
   ],
   "source": [
    "list(d.keys())[0]"
   ]
  },
  {
   "cell_type": "code",
   "execution_count": 9,
   "id": "0f8d9382-0c69-44fb-bb9c-b5f72af2f3b2",
   "metadata": {},
   "outputs": [
    {
     "name": "stdout",
     "output_type": "stream",
     "text": [
      "karunesh\n",
      "19\n",
      "bca\n"
     ]
    }
   ],
   "source": [
    "d = {\"name\": \"karunesh\",\"age\": 19, \"educationn\":\"bca\"}\n",
    "i = 0\n",
    "n = len(d)\n",
    "k = list(d.keys())\n",
    "while i < n:\n",
    "    print(d[k[i]])\n",
    "    i +=1"
   ]
  },
  {
   "cell_type": "code",
   "execution_count": 10,
   "id": "d2328bd4-5841-4448-9743-7d0484997297",
   "metadata": {},
   "outputs": [
    {
     "name": "stdout",
     "output_type": "stream",
     "text": [
      "karunesh\n",
      "19\n",
      "bca\n"
     ]
    }
   ],
   "source": [
    "# another way\n",
    "d = {\"name\": \"karunesh\",\"age\": 19, \"educationn\":\"bca\"}\n",
    "i = 0\n",
    "n = len(d)\n",
    "k = list(d.keys())\n",
    "while i < n:\n",
    "    key = k[i]\n",
    "    print(d[key])\n",
    "    i +=1"
   ]
  },
  {
   "cell_type": "code",
   "execution_count": 11,
   "id": "8430b506-2309-425a-9b22-5af244761e46",
   "metadata": {},
   "outputs": [
    {
     "name": "stdout",
     "output_type": "stream",
     "text": [
      "karunesh\n",
      "19\n",
      "bca\n"
     ]
    }
   ],
   "source": [
    "# another way\n",
    "d = {\"name\": \"karunesh\",\"age\": 19, \"educationn\":\"bca\"}\n",
    "i = 0\n",
    "n = len(d)\n",
    "k = list(d.values())\n",
    "while i < n:\n",
    "    value = k[i]\n",
    "    print(value)\n",
    "    i +=1"
   ]
  },
  {
   "cell_type": "code",
   "execution_count": 12,
   "id": "fdeac0b5-751a-480c-9c09-e05201dc303e",
   "metadata": {},
   "outputs": [],
   "source": [
    "l = [2,5,7,3,9,1,5]"
   ]
  },
  {
   "cell_type": "code",
   "execution_count": 13,
   "id": "b77b8f2b-e3e4-43cb-b497-82ecf08ca421",
   "metadata": {},
   "outputs": [
    {
     "data": {
      "text/plain": [
       "[2, 5, 7, 3, 9, 1, 5]"
      ]
     },
     "execution_count": 13,
     "metadata": {},
     "output_type": "execute_result"
    }
   ],
   "source": [
    "l"
   ]
  },
  {
   "cell_type": "code",
   "execution_count": 14,
   "id": "c9eba2b2-ce3e-4711-9580-ebc59dfe0c89",
   "metadata": {},
   "outputs": [
    {
     "name": "stdout",
     "output_type": "stream",
     "text": [
      "4 9\n"
     ]
    }
   ],
   "source": [
    "# maximum element at index\n",
    "i = 0\n",
    "n = len(l)\n",
    "a = 0\n",
    "while i <n:\n",
    "    if l[i]>l[a]:\n",
    "        a = i\n",
    "    i +=1\n",
    "print(a, l[a])    \n",
    "    "
   ]
  },
  {
   "cell_type": "code",
   "execution_count": 15,
   "id": "da97e8c2-902b-4d24-b1c5-c69697dd58fa",
   "metadata": {},
   "outputs": [],
   "source": [
    "li = [5,6,4,8]"
   ]
  },
  {
   "cell_type": "code",
   "execution_count": 16,
   "id": "a1487a08-9735-4c4e-a210-697c4192f514",
   "metadata": {},
   "outputs": [
    {
     "data": {
      "text/plain": [
       "[5, 6, 4, 8]"
      ]
     },
     "execution_count": 16,
     "metadata": {},
     "output_type": "execute_result"
    }
   ],
   "source": [
    "li\n"
   ]
  },
  {
   "cell_type": "code",
   "execution_count": 17,
   "id": "d8cac667-82ad-4513-9a34-9435295b120a",
   "metadata": {},
   "outputs": [
    {
     "name": "stdout",
     "output_type": "stream",
     "text": [
      "4 2\n"
     ]
    }
   ],
   "source": [
    "# smallest element\n",
    "i = 0  # current index\n",
    "n = len(li)\n",
    "a = 0   # minimum index\n",
    "while i <n:\n",
    "    \n",
    "    if li[i]<li[a]:\n",
    "        a = i\n",
    "    i +=1\n",
    "print(li[a], a)   # a is used for index "
   ]
  },
  {
   "cell_type": "code",
   "execution_count": 18,
   "id": "996f3e5d-f762-44d0-a53b-ec616b420dde",
   "metadata": {},
   "outputs": [
    {
     "data": {
      "text/plain": [
       "[5, 6, 4, 8]"
      ]
     },
     "execution_count": 18,
     "metadata": {},
     "output_type": "execute_result"
    }
   ],
   "source": [
    "li"
   ]
  },
  {
   "cell_type": "code",
   "execution_count": 19,
   "id": "1ba57b39-b1b1-4b98-a898-5ad20b7f9b05",
   "metadata": {},
   "outputs": [
    {
     "name": "stdout",
     "output_type": "stream",
     "text": [
      "1 6 0 5\n",
      "0 5 1 6\n",
      "0 5 2 4\n",
      "2 4 3 8\n",
      "2 4\n"
     ]
    }
   ],
   "source": [
    "# another way\n",
    "i = 0\n",
    "n = len(li)\n",
    "a = 1\n",
    "while i <n:\n",
    "    print(a, li[a], i, li[i])\n",
    "    if li[i]<= li[a]:\n",
    "        a = i\n",
    "    i +=1\n",
    "print(a, li[a])    "
   ]
  },
  {
   "cell_type": "code",
   "execution_count": 20,
   "id": "22aba586-ed60-4b5d-9725-bb6513a6d7ce",
   "metadata": {},
   "outputs": [
    {
     "name": "stdout",
     "output_type": "stream",
     "text": [
      "21\n"
     ]
    }
   ],
   "source": [
    "i = 0\n",
    "n = len(l)\n",
    "sum = 0\n",
    "while i<n:\n",
    "    sum +=i\n",
    "    i +=1\n",
    "print(sum)    \n",
    "    "
   ]
  },
  {
   "cell_type": "code",
   "execution_count": 21,
   "id": "49a6eaa4-5a45-4525-ac83-b9e8c85b5594",
   "metadata": {},
   "outputs": [
    {
     "data": {
      "text/plain": [
       "[2, 5, 7, 3, 9, 1, 5]"
      ]
     },
     "execution_count": 21,
     "metadata": {},
     "output_type": "execute_result"
    }
   ],
   "source": [
    "l"
   ]
  },
  {
   "cell_type": "code",
   "execution_count": 22,
   "id": "5976fe35-bfe3-42c6-8244-9a734a106912",
   "metadata": {},
   "outputs": [
    {
     "name": "stdout",
     "output_type": "stream",
     "text": [
      "2 2\n",
      "5 2\n",
      "7 2\n",
      "3 2\n",
      "9 2\n",
      "1 2\n",
      "5 2\n",
      "32\n"
     ]
    }
   ],
   "source": [
    "# another way \n",
    "i = 0\n",
    "n = len(l)\n",
    "sum = 0\n",
    "while i<n:\n",
    "    sum +=l[i]\n",
    "    print(l[i], a)\n",
    "    i +=1\n",
    "print(sum)    "
   ]
  },
  {
   "cell_type": "code",
   "execution_count": 23,
   "id": "e9fdfc02-e031-4ce4-8cc1-a960ec3d38fd",
   "metadata": {},
   "outputs": [],
   "source": [
    "# middle item\n",
    "l.sort()"
   ]
  },
  {
   "cell_type": "code",
   "execution_count": 24,
   "id": "15d0c28e-c955-4025-885a-30205ec8be96",
   "metadata": {},
   "outputs": [
    {
     "data": {
      "text/plain": [
       "[1, 2, 3, 5, 5, 7, 9]"
      ]
     },
     "execution_count": 24,
     "metadata": {},
     "output_type": "execute_result"
    }
   ],
   "source": [
    "l"
   ]
  },
  {
   "cell_type": "code",
   "execution_count": 25,
   "id": "babcaf43-3228-475b-817e-ee708dd74ca2",
   "metadata": {},
   "outputs": [
    {
     "data": {
      "text/plain": [
       "3"
      ]
     },
     "execution_count": 25,
     "metadata": {},
     "output_type": "execute_result"
    }
   ],
   "source": [
    "len(l)//2 # index value"
   ]
  },
  {
   "cell_type": "code",
   "execution_count": 26,
   "id": "d7b219af-140c-4b7b-bfd3-d75360874bd7",
   "metadata": {},
   "outputs": [
    {
     "data": {
      "text/plain": [
       "5"
      ]
     },
     "execution_count": 26,
     "metadata": {},
     "output_type": "execute_result"
    }
   ],
   "source": [
    "l[len(l)//2] # element value"
   ]
  },
  {
   "cell_type": "code",
   "execution_count": 2,
   "id": "cabcb046-6edc-4524-a05f-4ca5b5c4faa7",
   "metadata": {},
   "outputs": [
    {
     "name": "stdin",
     "output_type": "stream",
     "text": [
      "enter number: 22\n"
     ]
    },
    {
     "name": "stdout",
     "output_type": "stream",
     "text": [
      "22 is not a prime number\n"
     ]
    }
   ],
   "source": [
    "# check number prime or not\n",
    "n = int(input(\"enter number:\"))\n",
    "prime = True\n",
    "i = 2\n",
    "while i < n:\n",
    "    # print(i) optional\n",
    "    if n % i ==0:\n",
    "        prime = False\n",
    "        break\n",
    "    i += 1\n",
    "if prime:\n",
    "    print(f\"{n} is a prime number\")\n",
    "else:\n",
    "    print(f\"{n} is not a prime number\")"
   ]
  },
  {
   "cell_type": "code",
   "execution_count": null,
   "id": "5cb12138-98d8-44cd-b0bb-bafae1dc4b6c",
   "metadata": {},
   "outputs": [],
   "source": [
    "l = [3,5,7,4,1,9]"
   ]
  },
  {
   "cell_type": "code",
   "execution_count": null,
   "id": "607b4aee-111b-4eac-95d2-f6c81711eca1",
   "metadata": {},
   "outputs": [],
   "source": [
    "l"
   ]
  },
  {
   "cell_type": "code",
   "execution_count": null,
   "id": "f3fafa6f-507c-420e-9c29-0adf6024bb35",
   "metadata": {},
   "outputs": [],
   "source": [
    "# second largest number\n",
    "i = 0\n",
    "n = len(l)\n",
    "a = 0\n",
    "while i <n:\n",
    "    if l[i]>l[a] and l[i]<9:\n",
    "        a = i\n",
    "    i +=1\n",
    "print(l[a])    "
   ]
  },
  {
   "cell_type": "code",
   "execution_count": null,
   "id": "e207fdb5-1755-4bcd-83f4-44833b178a36",
   "metadata": {},
   "outputs": [],
   "source": [
    "# third largest number\n",
    "i = 0\n",
    "n = len(l)\n",
    "a = 0\n",
    "while i <n:\n",
    "    if l[i]>l[a] and l[i]<7:\n",
    "        a = i\n",
    "    i +=1\n",
    "print(l[a], a)    "
   ]
  },
  {
   "cell_type": "code",
   "execution_count": 5,
   "id": "1ea1bbf9-e65e-4a09-92ab-586eacd8b56a",
   "metadata": {},
   "outputs": [
    {
     "name": "stdin",
     "output_type": "stream",
     "text": [
      "enter number: 24\n"
     ]
    },
    {
     "name": "stdout",
     "output_type": "stream",
     "text": [
      "1\n",
      "2\n",
      "3\n",
      "4\n",
      "6\n",
      "8\n",
      "12\n"
     ]
    }
   ],
   "source": [
    "# factors \n",
    "i = 1\n",
    "num = int(input(\"enter number:\"))\n",
    "while i < num:\n",
    "    if num % i ==0:\n",
    "        print(i)\n",
    "    i +=1"
   ]
  },
  {
   "cell_type": "code",
   "execution_count": 9,
   "id": "83eb80bb-c8d8-4fb7-8388-03cc12514a86",
   "metadata": {},
   "outputs": [
    {
     "name": "stdin",
     "output_type": "stream",
     "text": [
      "enter number: 24\n"
     ]
    },
    {
     "name": "stdout",
     "output_type": "stream",
     "text": [
      "[1, 2, 3, 4, 6, 8, 12, 24]\n"
     ]
    }
   ],
   "source": [
    "# another way of factors\n",
    "i = 1\n",
    "n = int(input(\"enter number:\"))\n",
    "factors = []\n",
    "while i<=n:\n",
    "    if n % i ==0:\n",
    "        factors.append(i)\n",
    "    i +=1   \n",
    "print(factors)    "
   ]
  },
  {
   "cell_type": "code",
   "execution_count": 10,
   "id": "d175de15-2a65-49a0-8db1-4e864d43c19c",
   "metadata": {},
   "outputs": [
    {
     "data": {
      "text/plain": [
       "[1, 2, 3, 4, 6, 8, 12, 24]"
      ]
     },
     "execution_count": 10,
     "metadata": {},
     "output_type": "execute_result"
    }
   ],
   "source": [
    "factors"
   ]
  },
  {
   "cell_type": "code",
   "execution_count": 17,
   "id": "cede7959-9346-4999-86c7-0d0a8001202d",
   "metadata": {},
   "outputs": [
    {
     "name": "stdin",
     "output_type": "stream",
     "text": [
      "enter number: 24\n"
     ]
    },
    {
     "name": "stdout",
     "output_type": "stream",
     "text": [
      "[1, 24, 2, 12, 3, 8, 4, 6]\n"
     ]
    }
   ],
   "source": [
    "# prime numbers \n",
    "i = 1\n",
    "n = int(input(\"enter number:\"))\n",
    "factors = []\n",
    "while i<=n**(1/2):\n",
    "    if n % i ==0:\n",
    "        factors.append(i)\n",
    "        factors.append(n//i)\n",
    "    i +=1   \n",
    "print(factors)    \n",
    "if len(factors) ==2:\n",
    "    print(n, 'is a prime number')"
   ]
  },
  {
   "cell_type": "code",
   "execution_count": 16,
   "id": "e4ac0eba-c7f0-429a-a9fa-a547cdf39a5c",
   "metadata": {},
   "outputs": [
    {
     "name": "stdout",
     "output_type": "stream",
     "text": [
      "10 9\n"
     ]
    }
   ],
   "source": [
    "# another way to find largest second\n",
    "a =[2,5,6,9,4,3,7,10,8]\n",
    "l = a[0]\n",
    "s = a[0]\n",
    "i = 0\n",
    "n = len(a)\n",
    "while i <n:\n",
    "    #print(i)\n",
    "    if a[i]>l:\n",
    "        s = l\n",
    "        l = a[i]\n",
    "\n",
    "    elif a[i]>s:\n",
    "        s = a[i]\n",
    "    i+=1\n",
    "\n",
    "print(l,s)"
   ]
  },
  {
   "cell_type": "code",
   "execution_count": null,
   "id": "6571aaf3-e2c0-402a-ad0b-b427afae76b5",
   "metadata": {},
   "outputs": [],
   "source": [
    "# dic meine items kitne baar aye hai hw"
   ]
  }
 ],
 "metadata": {
  "kernelspec": {
   "display_name": "Python [conda env:base] *",
   "language": "python",
   "name": "conda-base-py"
  },
  "language_info": {
   "codemirror_mode": {
    "name": "ipython",
    "version": 3
   },
   "file_extension": ".py",
   "mimetype": "text/x-python",
   "name": "python",
   "nbconvert_exporter": "python",
   "pygments_lexer": "ipython3",
   "version": "3.13.5"
  }
 },
 "nbformat": 4,
 "nbformat_minor": 5
}
